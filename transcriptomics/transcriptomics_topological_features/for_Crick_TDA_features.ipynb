{
 "cells": [
  {
   "attachments": {},
   "cell_type": "markdown",
   "metadata": {},
   "source": [
    "This notebook explains the TDA features.\n",
    "\n",
    "### Data\n",
    "* 62 ROIs in `TMA PSRH LUAD - Threshold images (230)` \n",
    "* Components studied: ECM, cancer cells, leukocytes\n",
    "\n",
    "### 1st level features: topological features - persistence diagrams (PD)\n",
    "* These are the first output of a standard TDA method.\n",
    "* Given an ROI and a component (ECM, cancer, leukocytes), we generate two TDA features, namely, PD0 and PD1.\n",
    "    * PD0: dimension-0 persistence diagram.  \n",
    "    * PD1: dimension-1 persistence diagram. \n",
    "* Given an ROI and a pair of components (ECM, cancer, leukocytes), we generate two Dowker TDA features. These are labeled DPD0 and DPD1.\n",
    "    * DPD0: dimension-0 Dowker persistence diagram.\n",
    "    * DPD1: dimension-1 Dowker persistence diagram. \n",
    "* Each persistence diagram is a collection of points on a line (PD0) or a plane (PD1, DPD0, DPD1). \n",
    "* There are 12 total persistence diagrams:\n",
    "    * ECM PD0, PD1\n",
    "    * cancer PD0, PD1\n",
    "    * leukocytes PD0, PD1\n",
    "    * (ECM, cancer) DPD0, DPD1,\n",
    "    * (ECM, leukocytes) DPD0, DPD1,\n",
    "    * (cancer, leukocytes) DPD0, DPD1. \n",
    "\n",
    "### 2nd level features: topological features - persistence images (PI)\n",
    "* Each persistence diagram is converted to a persistence image (PI), which sumamrizes the distribution of points in the persistence diagram via an image. \n",
    "    * PI0: dimension-0 persistence image. Computed from PD0. Vector of length 20\n",
    "    * PI1: dimension-1 persistence image. Computed from PD1. Array of size 20 x 20.\n",
    "    * DPI0: dimension-0 Dowker persistence image. Computed from DPD0. Array of size 20 x 20.\n",
    "    * DPI1: dimension-1 Dowker persistence image. Computed from DPD1. Array of size 20 x 20.\n",
    "* There are 12 total persistence images, one from each PD listed above.\n",
    "\n",
    "### 3nd level features \n",
    "* These are probably the most useful features to analyze.\n",
    "* From the topological features (1st and 2nd level), we extract the following features:\n",
    "    1. UMAP coordinates (2-dimensional)\n",
    "        * This is computed from the persistence images (PI).\n",
    "        * Any persistence image that is an array of size 20 x 20 is first flattened to a vector of length 400. \n",
    "    2. PCA coordinates (2-dimensional)\n",
    "        * This is computed from the persistence images (PI).\n",
    "        * Any persistence image that is an array of size 20 x 20 is first flattened to a vector of length 400. \n",
    "    3.  Entropy (1-dimensional)\n",
    "        * This is computed from the persistence diagrams (PD). Entropy (randomness) of points in a persistence diagram.\n",
    "    4. number of points (1-dimensional)\n",
    "        * This is computed from the persistence diagrams (PD). Number of points in a persistence diagram. \n",
    "\n",
    "* The 3rd level features are saved in `features/`\n",
    "    * note that each feature (for all ROIs) are saved in a csv format. The first column of the CSV indicates the ROIs. Note that the row index of different csv files are not necessarily the same. (That is, row 1 in one CSV file and row 1 in another CSV file are not necessarily the same ROI.) One needs to check that the ROIs match up before merging dataframes / CSV files.\n",
    "    * Note that the number of rows of CSV files may also vary. This is because I removed any ROI that had an empty persistence diagram. \n",
    "    * The 3rd (Entropy) and 4th (number of points) features are saved in one CSV file.\n",
    "    * The very bottom cell shows how you load the CSV file that contains ALL features. Corresponds to `features/all_features.csv` "
   ]
  },
  {
   "cell_type": "code",
   "execution_count": 2,
   "metadata": {},
   "outputs": [],
   "source": [
    "import h5py\n",
    "import csv\n",
    "import os\n",
    "import numpy as np\n",
    "import matplotlib\n",
    "import matplotlib.pyplot as plt\n",
    "import pandas as pd"
   ]
  },
  {
   "cell_type": "code",
   "execution_count": 3,
   "metadata": {},
   "outputs": [],
   "source": [
    "def plot_PD(barcode, \n",
    "             lw = 10,\n",
    "             color = \"slategrey\",\n",
    "             ax = None,\n",
    "             highlight = None,\n",
    "             title = \"\",\n",
    "             titlefontsize = 12,\n",
    "             alpha = 0.5,\n",
    "             pd_min = None,\n",
    "             pd_max = None,\n",
    "             tickfontsize = 9,\n",
    "             threshold_lw = 3,\n",
    "             diagonal_lw = 1,\n",
    "             *args,\n",
    "             **kwargs):\n",
    "    \"\"\"plots PD\"\"\"\n",
    "    \n",
    "    m = np.nanmax(barcode[barcode != np.inf])\n",
    "    ax = ax or plt.gca()\n",
    "            \n",
    "    ax.set_aspect('equal', 'box')\n",
    "    if pd_max == None:\n",
    "        ax.set_xlim((0, m * 1.1))\n",
    "        ax.set_ylim((0, m * 1.1))\n",
    "        ax.plot([0, m * 1.1], [0, m * 1.1], c = \"black\", linewidth = diagonal_lw, zorder = 1)\n",
    "        \n",
    "        \n",
    "    else:\n",
    "        ax.set_xlim((pd_min, pd_max))\n",
    "        ax.set_ylim((pd_min, pd_max))\n",
    "        ax.plot([0, pd_max], [0, pd_max], c = \"black\", linewidth = diagonal_lw, zorder = 1)\n",
    "        \n",
    "        \n",
    "    ax.scatter(barcode[:,0], barcode[:,1], c = color, alpha = alpha, *args, **kwargs, zorder = 2)\n",
    "        # if \"highlight\" is provided, color the selected points in specific colors\n",
    "    if highlight != None:\n",
    "        for (p_color, point) in highlight.items():\n",
    "            ax.scatter(barcode[point, 0], barcode[point, 1], c = p_color, *args, **kwargs, zorder = 2)\n",
    "    ax.tick_params(labelsize=tickfontsize)\n",
    "    #ax.set_xticklabels([])\n",
    "    #ax.set_yticklabels([])\n",
    "    ax.set_title(title, fontsize = titlefontsize)\n",
    "\n",
    "    return ax\n",
    "    "
   ]
  },
  {
   "attachments": {},
   "cell_type": "markdown",
   "metadata": {},
   "source": [
    "# Visualize example persistence diagram (PD), persistence image (PI) from ECM"
   ]
  },
  {
   "cell_type": "code",
   "execution_count": 4,
   "metadata": {},
   "outputs": [],
   "source": [
    "# These are parameters for plotting ECM PD and PI.\n",
    "max0 = 1309.1378842581862\n",
    "max1 = 1945.0\n",
    "\n",
    "PI0_xmin = 0.0\n",
    "PI0_xmax = 0.0\n",
    "PI0_ymin = 0.0\n",
    "PI0_ymax = 1440.0516726840049\n",
    "PI1_xmin = -155.62900510779394\n",
    "PI1_xmax = 1822.5535896732479\n",
    "PI1_ymin = 0.0\n",
    "PI1_ymax = 834.2364675664435"
   ]
  },
  {
   "cell_type": "code",
   "execution_count": 5,
   "metadata": {},
   "outputs": [],
   "source": [
    "# specify ROI\n",
    "ROI_name = \"CRUK0037_R5_ROI_2\"\n",
    "\n",
    "# load PD\n",
    "PD0 = np.genfromtxt(\"ECM_PD/PD0/\" + ROI_name + \".csv\", delimiter = \",\")\n",
    "PD1 = np.genfromtxt(\"ECM_PD/PD1/\" + ROI_name + \".csv\", delimiter = \",\")\n",
    "\n",
    "# load PI\n",
    "PI0 = np.genfromtxt(\"ECM_PD/PI0/\" + ROI_name + \".csv\", delimiter = \",\")\n",
    "PI1 = np.genfromtxt(\"ECM_PD/PI1/\" + ROI_name + \".csv\", delimiter = \",\")\n"
   ]
  },
  {
   "cell_type": "code",
   "execution_count": 6,
   "metadata": {},
   "outputs": [
    {
     "data": {
      "image/png": "[encoded data removed]",
      "text/plain": [
       "<Figure size 432x288 with 2 Axes>"
      ]
     },
     "metadata": {
      "needs_background": "light"
     },
     "output_type": "display_data"
    }
   ],
   "source": [
    "# plot persistence diagram in dimension 0\n",
    "fig, ax = plt.subplots(ncols = 2)\n",
    "plot_PD(PD0, ax = ax[0], title = \"PD0\", pd_max = max0)\n",
    "plot_PD(PD1, ax = ax[1], title = \"PD1\", pd_max = max1)\n",
    "plt.show()\n"
   ]
  },
  {
   "cell_type": "code",
   "execution_count": 7,
   "metadata": {},
   "outputs": [
    {
     "data": {
      "image/png": "[encoded data removed]",
      "text/plain": [
       "<Figure size 432x288 with 1 Axes>"
      ]
     },
     "metadata": {
      "needs_background": "light"
     },
     "output_type": "display_data"
    }
   ],
   "source": [
    "# plot persistence image in dimension 0\n",
    "plt.imshow(PI0.reshape(-1, 20))\n",
    "xtickvalues = [int(x) for x in np.arange(PI0_ymin, PI0_ymax, step = (PI0_ymax - PI0_ymin) / 4)]\n",
    "plt.xticks(np.arange(0, 20, step = 5), xtickvalues)\n",
    "plt.yticks([])\n",
    "plt.show()"
   ]
  },
  {
   "cell_type": "code",
   "execution_count": 8,
   "metadata": {},
   "outputs": [
    {
     "data": {
      "image/png": "[encoded data removed]",
      "text/plain": [
       "<Figure size 432x288 with 1 Axes>"
      ]
     },
     "metadata": {
      "needs_background": "light"
     },
     "output_type": "display_data"
    }
   ],
   "source": [
    "# plot persistence image in dimension 1\n",
    "fig, ax = plt.subplots()\n",
    "ax.imshow(PI1)\n",
    "\n",
    "# plt.imshow(PI1)\n",
    "xtickvalues = [int(x) for x in np.arange(PI1_xmin, PI1_xmax, step = (PI1_xmax - PI1_xmin) / 4)]\n",
    "ytickvalues = [int(x) for x in np.arange(PI1_ymin, PI1_ymax, step = (PI1_ymax - PI1_ymin) / 4)]\n",
    "plt.xticks(np.arange(0, 20, step = 5), xtickvalues)\n",
    "plt.yticks(np.arange(0, 20, step = 5), ytickvalues)\n",
    "plt.gca().invert_yaxis()\n",
    "plt.show()"
   ]
  },
  {
   "attachments": {},
   "cell_type": "markdown",
   "metadata": {},
   "source": [
    "# 3rd level features \n",
    "Load dataframes containing the 3rd level features \n",
    "* UMAP (1st and 2nd coordinates)\n",
    "* PCA (1st and 2nd coordinates)\n",
    "* entropy - one number, between 0 and 1\n",
    "* number of points - one number, >= 0"
   ]
  },
  {
   "cell_type": "code",
   "execution_count": 9,
   "metadata": {},
   "outputs": [],
   "source": [
    "### From ECM \n",
    "# UMAP coordinates \n",
    "df_ECM0_umap = pd.read_csv(\"features/ECM_dim0_umap.csv\")\n",
    "df_ECM1_umap = pd.read_csv(\"features/ECM_dim1_umap.csv\")\n",
    "\n",
    "# PCA coordinates \n",
    "df_ECM0_PCA = pd.read_csv(\"features/ECM_dim0_PCA.csv\")\n",
    "df_ECM1_PCA = pd.read_csv(\"features/ECM_dim1_PCA.csv\")\n",
    "\n",
    "# entropy & number of points\n",
    "df_ECM0_entropy_npoints = pd.read_csv(\"features/ECM_dim0_entropy_npoints.csv\")\n",
    "df_ECM1_entropy_npoints = pd.read_csv(\"features/ECM_dim1_entropy_npoints.csv\")\n",
    "\n",
    "\n",
    "### From cancer\n",
    "# UMAP coordinates\n",
    "df_cancer0_umap = pd.read_csv(\"features/cancer_dim0_umap.csv\")\n",
    "df_cancer1_umap = pd.read_csv(\"features/cancer_dim1_umap.csv\")\n",
    "\n",
    "# PCA coordinates \n",
    "df_cancer0_PCA = pd.read_csv(\"features/cancer_dim0_PCA.csv\")\n",
    "df_cancer1_PCA = pd.read_csv(\"features/cancer_dim1_PCA.csv\")\n",
    "\n",
    "# entropy & number of points\n",
    "df_cancer0_entropy_npoints = pd.read_csv(\"features/cancer_dim0_entropy_npoints.csv\")\n",
    "df_cancer1_entropy_npoints = pd.read_csv(\"features/cancer_dim1_entropy_npoints.csv\")\n",
    "\n",
    "\n",
    "### From leukocytes\n",
    "# UMAP coordinates \n",
    "df_leukocytes0_umap = pd.read_csv(\"features/leukocytes_dim0_umap.csv\")\n",
    "df_leukocytes1_umap = pd.read_csv(\"features/leukocytes_dim1_umap.csv\")\n",
    "\n",
    "# PCA coordinates \n",
    "df_leukocytes0_PCA = pd.read_csv(\"features/leukocytes_dim0_PCA.csv\")\n",
    "df_leukocytes1_PCA = pd.read_csv(\"features/leukocytes_dim1_PCA.csv\")\n",
    "\n",
    "# entropy & number of points\n",
    "df_leukocytes0_entropy_npoints = pd.read_csv(\"features/leukocytes_dim0_entropy_npoints.csv\")\n",
    "df_leukocytes1_entropy_npoints = pd.read_csv(\"features/leukocytes_dim1_entropy_npoints.csv\")\n",
    "\n",
    "\n",
    "### From (ECM, cancer)\n",
    "# UMAP coordinates \n",
    "df_ECM_cancer0_umap = pd.read_csv(\"features/ECM_cancer_dim0_umap.csv\")\n",
    "df_ECM_cancer1_umap = pd.read_csv(\"features/ECM_cancer_dim1_umap.csv\")\n",
    "\n",
    "# PCA coordinates \n",
    "df_ECM_cancer0_PCA = pd.read_csv(\"features/ECM_cancer_dim0_PCA.csv\")\n",
    "df_ECM_cancer1_PCA = pd.read_csv(\"features/ECM_cancer_dim1_PCA.csv\")\n",
    "\n",
    "# entropy & number of points\n",
    "df_ECM_cancer0_entropy_npoints = pd.read_csv(\"features/ECM_cancer_dim0_entropy_npoints.csv\")\n",
    "df_ECM_cancer1_entropy_npoints = pd.read_csv(\"features/ECM_cancer_dim1_entropy_npoints.csv\")\n",
    "\n",
    "\n",
    "### From (ECM, leukocytes)\n",
    "# UMAP coordinates \n",
    "df_ECM_leukocytes0_umap = pd.read_csv(\"features/ECM_leukocytes_dim0_umap.csv\")\n",
    "df_ECM_leukocytes1_umap = pd.read_csv(\"features/ECM_leukocytes_dim1_umap.csv\")\n",
    "\n",
    "# PCA coordinates \n",
    "df_ECM_leukocytes0_PCA = pd.read_csv(\"features/ECM_leukocytes_dim0_PCA.csv\")\n",
    "df_ECM_leukocytes1_PCA = pd.read_csv(\"features/ECM_leukocytes_dim1_PCA.csv\")\n",
    "\n",
    "# entropy & number of points\n",
    "df_ECM_leukocytes0_entropy_npoints = pd.read_csv(\"features/ECM_leukocytes_dim0_entropy_npoints.csv\")\n",
    "df_ECM_leukocytes1_entropy_npoints = pd.read_csv(\"features/ECM_leukocytes_dim1_entropy_npoints.csv\")\n",
    "\n",
    "\n",
    "### From (cancer, leukocytes)\n",
    "# UMAP coordinates \n",
    "df_cancer_leukocytes0_umap = pd.read_csv(\"features/cancer_leukocytes_dim0_umap.csv\")\n",
    "df_cancer_leukocytes1_umap = pd.read_csv(\"features/cancer_leukocytes_dim1_umap.csv\")\n",
    "\n",
    "# PCA coordinates \n",
    "df_cancer_leukocytes0_PCA = pd.read_csv(\"features/cancer_leukocytes_dim0_PCA.csv\")\n",
    "df_cancer_leukocytes1_PCA = pd.read_csv(\"features/cancer_leukocytes_dim1_PCA.csv\")\n",
    "\n",
    "# entropy & number of points\n",
    "df_cancer_leukocytes0_entropy_npoints = pd.read_csv(\"features/cancer_leukocytes_dim0_entropy_npoints.csv\")\n",
    "df_cancer_leukocytes1_entropy_npoints = pd.read_csv(\"features/cancer_leukocytes_dim1_entropy_npoints.csv\")\n",
    "\n",
    "\n",
    "### UMAP & PCA from combined PI (from all components, all dimensions) features\n",
    "df_combined_umap = pd.read_csv(\"features/combined_umap.csv\")\n",
    "df_combined_PCA = pd.read_csv(\"features/combined_PCA.csv\");"
   ]
  },
  {
   "attachments": {},
   "cell_type": "markdown",
   "metadata": {},
   "source": [
    "To load one dataframe that is a merged version of all dataframes above: "
   ]
  },
  {
   "cell_type": "code",
   "execution_count": 10,
   "metadata": {},
   "outputs": [],
   "source": [
    "df_merged = pd.read_csv(\"features/all_features.csv\", index_col =0)"
   ]
  },
  {
   "attachments": {},
   "cell_type": "markdown",
   "metadata": {},
   "source": [
    "* Note that there are some rows with NaN\n",
    "* This occurs in either of the two settings:\n",
    "    1. There were a few ROIs for which we had cell location information, but not the ECM. For such ROIs, any ECM-related features will be NaN.\n",
    "    2. For ROIs that have all ECM and cell location information, if a particular persistence diagram was empty, then any 3rd level features computed from persistence diagrams will appear as NaN."
   ]
  },
  {
   "attachments": {},
   "cell_type": "markdown",
   "metadata": {},
   "source": []
  }
 ],
 "metadata": {
  "@webio": {
   "lastCommId": "c78b3a09112143ba87ca0331689b7693",
   "lastKernelId": "c19225e6-312c-4024-bfd0-e277c0a1b6a4"
  },
  "kernelspec": {
   "display_name": "lung_ECM",
   "language": "python",
   "name": "python3"
  },
  "language_info": {
   "codemirror_mode": {
    "name": "ipython",
    "version": 3
   },
   "file_extension": ".py",
   "mimetype": "text/x-python",
   "name": "python",
   "nbconvert_exporter": "python",
   "pygments_lexer": "ipython3",
   "version": "3.9.11"
  }
 },
 "nbformat": 4,
 "nbformat_minor": 4
}
