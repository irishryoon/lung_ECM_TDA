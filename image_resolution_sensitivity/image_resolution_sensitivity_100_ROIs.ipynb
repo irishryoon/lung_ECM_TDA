{
 "cells": [
  {
   "attachments": {},
   "cell_type": "markdown",
   "id": "da88d4a9",
   "metadata": {},
   "source": [
    "# Image resolution sensitivity analysis"
   ]
  },
  {
   "cell_type": "code",
   "execution_count": 2,
   "id": "f16aba81",
   "metadata": {},
   "outputs": [],
   "source": [
    "include(\"../src/ECM_TDA.jl\")\n",
    "using .ECM_TDA\n",
    "\n",
    "using Images\n",
    "using CSV\n",
    "using Plots\n",
    "using JLD2\n",
    "using Random\n",
    "using StatsBase\n",
    "using Distributions\n",
    "using DataFrames\n",
    "using PersistenceDiagrams\n",
    "using LinearAlgebra\n",
    "using Measures\n",
    "using StatsPlots"
   ]
  },
  {
   "cell_type": "code",
   "execution_count": 3,
   "id": "bed5fd5b",
   "metadata": {},
   "outputs": [
    {
     "data": {
      "text/plain": [
       "\"#259ea1\""
      ]
     },
     "execution_count": 3,
     "metadata": {},
     "output_type": "execute_result"
    }
   ],
   "source": [
    "c_ECM = \"#259ea1\" "
   ]
  },
  {
   "cell_type": "markdown",
   "id": "846d8eb0",
   "metadata": {},
   "source": [
    "## Comparison: PI difference between two ROIs\n",
    "* To get an idea of what the PI difference means, we compute the difference in PI between two ROIs:\n",
    "* ROI1: LTX050_Da316_idx2\n",
    "* ROI2: LTX001_Da232_idx1"
   ]
  },
  {
   "cell_type": "code",
   "execution_count": null,
   "id": "8531e75a",
   "metadata": {},
   "outputs": [],
   "source": [
    "# load PD\n",
    "PD = load(\"../main_analysis/data/4000x4000_combined/ECM_PD/PD.jld2\")\n",
    "PD0 = PD[\"PD0_ECM\"]\n",
    "PD1 = PD[\"PD1_ECM\"]\n",
    "\n",
    "#recompute coarser PI\n",
    "PH0_dict = Dict(k => ECM_TDA.array_to_ripsererPD(v) for (k,v) in PD0 if v != nothing);\n",
    "PH1_dict = Dict(k => ECM_TDA.array_to_ripsererPD(v) for (k,v) in PD1 if v != nothing);\n",
    "\n",
    "PI0 = PersistenceImage([PH0_dict[k] for k in keys(PH0_dict)], sigma=50, size = 20)\n",
    "PI1 = PersistenceImage([PH1_dict[k] for k in keys(PH1_dict)], sigma=50, size = 20)\n",
    "\n",
    "\n",
    "ECM_PI0_original = Dict()\n",
    "for i in keys(PH0_dict)\n",
    "    ECM_PI0_original[i] = PI0(PH0_dict[i])\n",
    "end\n",
    "\n",
    "ECM_PI1_original = Dict()\n",
    "for i in keys(PH1_dict)\n",
    "    ECM_PI1_original[i] = PI1(PH1_dict[i])\n",
    "end\n"
   ]
  },
  {
   "cell_type": "code",
   "execution_count": null,
   "id": "214ba04c",
   "metadata": {},
   "outputs": [],
   "source": [
    "ex1 = \"LTX001_Da232_idx1\"\n",
    "ex2 = \"LTX050_Da316_idx2\"\n",
    "\n",
    "pi1 = ECM_PI1_original[\"LTX001_Da232_idx1\"]\n",
    "pi2 = ECM_PI1_original[\"LTX050_Da316_idx2\"];\n",
    "\n",
    "# load PD\n",
    "original_PD1 = load(\"../main_analysis/data/4000x4000_combined/ECM_PD/PD.jld2\")[\"PD1_ECM\"]\n",
    "\n",
    "ex1_pd1 = original_PD1[ex1]\n",
    "ex2_pd1 = original_PD1[ex2];"
   ]
  },
  {
   "cell_type": "code",
   "execution_count": null,
   "id": "c5f7df94",
   "metadata": {},
   "outputs": [],
   "source": [
    "# print the difference in PI between the two ROIs \n",
    "norm(pi1-pi2)"
   ]
  },
  {
   "attachments": {},
   "cell_type": "markdown",
   "id": "1a659aa4",
   "metadata": {},
   "source": [
    "# Run analysis for 100 randomly selected ECM images\n",
    "1. Compute the distancees for each factor\n",
    "2. Compute the average distance from different samples (as comparison)"
   ]
  },
  {
   "cell_type": "code",
   "execution_count": null,
   "id": "be40fd26",
   "metadata": {},
   "outputs": [],
   "source": [
    "# get all ROIs\n",
    "dir = \"../main_analysis/data/4000x4000_combined/ECM_sampled/points_CSV/\"\n",
    "csv_files = [item for item in walkdir(dir)][1][3:end][1]\n",
    "\n",
    "# randomly select 100 ROIs\n",
    "ROIs = sample(csv_files, 100; replace = false);\n",
    "\n",
    "# parameters for sampling points from ECM image\n",
    "low = 0.00063768\n",
    "high = 0.4025769\n",
    "min_sample = 100\n",
    "max_sample = 5000\n",
    "\n",
    "# directories\n",
    "ECM_directory = \"../main_analysis/data/4000x4000_combined/subregion_ECM/\"\n",
    "sample_CSV_directory = \"image_resolution_sensitivity/\";\n",
    "\n",
    "# factors to consider\n",
    "factors = vcat([1], collect(4:4:16));\n",
    "\n",
    "#save(\"100_ROIs.jld2\", \"ROI\", ROIs)"
   ]
  },
  {
   "cell_type": "code",
   "execution_count": 10,
   "id": "78804a25",
   "metadata": {},
   "outputs": [],
   "source": [
    "# load the 100 ROIs\n",
    "ROIs = load(\"100_ROIs.jld2\")[\"ROI\"];"
   ]
  },
  {
   "cell_type": "code",
   "execution_count": null,
   "id": "c604b47d",
   "metadata": {},
   "outputs": [],
   "source": [
    "# for each factor, create downsampled images & compute PD\n",
    "for i = 1:100\n",
    "    roi = ROIs[i]\n",
    "    filename = roi[1:end-4]\n",
    "\n",
    "    PD0_ECM = Dict()\n",
    "    PD1_ECM = Dict()\n",
    "    img = Array(Images.load(ECM_directory * filename * \".tif\"))\n",
    "\n",
    "    for f in factors\n",
    "        # get downsampled images\n",
    "        img_small = imresize(img, ratio=1/f)\n",
    "        img_re = imresize(img_small, size(img_small).*f)\n",
    "\n",
    "        # sample points\n",
    "        img_mean_inv = 1- mean(Float64.(img_re))\n",
    "\n",
    "        # compute number of points to sample\n",
    "        n_sample = Int64(round(ECM_TDA.n_ECM_samples(img_mean_inv, low, high, min_sample, max_sample)))\n",
    "        if n_sample != 0\n",
    "            # sample points\n",
    "            resampled, points, sampled, island_idx = sample_ECM_points(img_re, vicinity = 100, n_points = 5, n_samples = n_sample)\n",
    "\n",
    "            # save sampled points to CSV\n",
    "            df = DataFrame(resampled, [:x, :y])\n",
    "            # CSV.write(\"sampled_ECM/\" * filename *  \"_factor_\" * string(f) * \".csv\", df)\n",
    "\n",
    "            #df = CSV.read(\"sampled_ECM/\"* filename * \"_factor_\" * string(f) * \".csv\")\n",
    "            PD0, PD1 = run_PH(df)\n",
    "\n",
    "            PD0_ECM[f] = PD0;\n",
    "            PD1_ECM[f] = PD1;\n",
    "        else\n",
    "            PD0_ECM[f] = nothing;\n",
    "            PD1_ECM[f] = nothing;\n",
    "        end\n",
    "    end\n",
    "    # save\n",
    "    save(\"PD_PI/\" * filename * \"_PD.jld2\", \"PD0\", PD0_ECM, \"PD1\", PD1_ECM)\n",
    "end"
   ]
  },
  {
   "cell_type": "code",
   "execution_count": 36,
   "id": "d17080ea",
   "metadata": {},
   "outputs": [
    {
     "data": {
      "text/plain": [
       "KeySet for a Dict{Any, Any} with 5 entries. Keys:\n",
       "  4\n",
       "  16\n",
       "  12\n",
       "  8\n",
       "  1"
      ]
     },
     "execution_count": 36,
     "metadata": {},
     "output_type": "execute_result"
    }
   ],
   "source": [
    "# the PD here have factors as additional key\n",
    "example_PD = load(\"PD_PI/LTX001_Da256_idx1_PD.jld2\")\n",
    "keys(example_PD[\"PD1\"])"
   ]
  },
  {
   "attachments": {},
   "cell_type": "markdown",
   "id": "61421a3a",
   "metadata": {},
   "source": [
    "Compute persistence images for all 100 ROIs and their factors"
   ]
  },
  {
   "cell_type": "code",
   "execution_count": null,
   "id": "7aedb68d",
   "metadata": {},
   "outputs": [],
   "source": [
    "for roi in ROIs\n",
    "\n",
    "    PD =  load(\"PD_PI/\"* roi[1:end-4] * \"_PD.jld2\")\n",
    "    PD0 = PD[\"PD0\"]\n",
    "    PD1 = PD[\"PD1\"]\n",
    "    # add the PD used in the default analysis\n",
    "    PD0[\"default\"] = load(\"../main_analysis/data/4000x4000_combined/ECM_PD/PD.jld2\")[\"PD0_ECM\"][roi[1:end-4]]\n",
    "    PD1[\"default\"] = load(\"../main_analysis/data/4000x4000_combined/ECM_PD/PD.jld2\")[\"PD1_ECM\"][roi[1:end-4]]\n",
    "\n",
    "    # convert array to Ripserer PD\n",
    "    PH0 = Dict(k => ECM_TDA.array_to_ripsererPD(v) for (k,v) in PD0 if v != nothing)\n",
    "    PH1 = Dict(k => ECM_TDA.array_to_ripsererPD(v) for (k,v) in PD1 if v != nothing)\n",
    "\n",
    "    if (PH0 != Dict{}()) & (PH1 != Dict{}())\n",
    "\n",
    "\n",
    "        # compute PI (using the same parameters of PIs in the origin 400 ROIs)\n",
    "        PI0 = PersistenceImage((PI0_ymin, PI0_ymax),(PI0_xmin, PI0_xmax), sigma= 50, size = (20,1))\n",
    "        PI1 = PersistenceImage((PI1_ymin, PI1_ymax),(PI1_xmin, PI1_xmax), sigma= 50, size = (20,20))\n",
    "        \n",
    "\n",
    "        ECM_PI0 = Dict()\n",
    "        for i in keys(PH0)\n",
    "            ECM_PI0[i] = PI0(PH0[i])\n",
    "        end \n",
    "\n",
    "        ECM_PI1 = Dict()\n",
    "        for i in keys(PH1)\n",
    "            ECM_PI1[i] = PI1(PH1[i])\n",
    "        end\n",
    "\n",
    "        save(\"PD_PI/\" * roi[1:end-4] * \"_PI.jld2\", \"PI0\", ECM_PI0, \"PI1\", ECM_PI1)\n",
    "    else\n",
    "        save(\"PD_PI/\" * roi[1:end-4] * \"_PI.jld2\", \"PI0\", nothing, \"PI1\", nothing)\n",
    "    end\n",
    "\n",
    "\n",
    "    # add the PD used in the default analysis\n",
    "    \n",
    "    # compute PI\n",
    "    # if (PH0 != Dict{}()) & (PH1 != Dict{}())\n",
    "    #     PI0 = ECM_TDA.compute_PI(PH0);\n",
    "    #     PI1 = ECM_TDA.compute_PI(PH1);\n",
    "\n",
    "    #     save(sample_CSV_directory * roi[1:end-4] * \"_PI.jld2\", \n",
    "    #         \"PI0\", PI0,\n",
    "    #         \"PI1\", PI1)\n",
    "    # else\n",
    "    #     save(sample_CSV_directory * roi[1:end-4] * \"_PI.jld2\", \n",
    "    #         \"PI0\", nothing,\n",
    "    #         \"PI1\", nothing)\n",
    "    # end\n",
    "end"
   ]
  },
  {
   "attachments": {},
   "cell_type": "markdown",
   "id": "a57eef95",
   "metadata": {},
   "source": [
    "compute the difference in persistence images\n",
    "* Here, we compute the structure similarity (SSIM) and Frobenius norm between persistence images.\n",
    "* In Supp Fig, we report the differences via Frobenius norm"
   ]
  },
  {
   "cell_type": "code",
   "execution_count": null,
   "id": "dd3d405f",
   "metadata": {},
   "outputs": [],
   "source": [
    "df = DataFrame([[],[],[],[]], [:factor,:roi, :diff, :SSIM])\n",
    "for f in factors\n",
    "    for roi in ROIs\n",
    "        if roi ∉ [\"LTX097_Da113_idx2.csv\"] # outlier\n",
    "            PI1 = load(\"PD_PI/\"* roi[1:end-4] * \"_PI.jld2\")[\"PI1\"]\n",
    "            if (PI1 != nothing)  \n",
    "                if (f in keys(PI1))\n",
    "                    ssim = assess_ssim(PI1[\"default\"], PI1[f])\n",
    "                    push!(df, [f,roi[1:end-4], norm(PI1[\"default\"] - PI1[f]), ssim]) \n",
    "                end\n",
    "            end\n",
    "        end\n",
    "    end\n",
    "end"
   ]
  },
  {
   "cell_type": "code",
   "execution_count": null,
   "id": "331c463c",
   "metadata": {},
   "outputs": [],
   "source": [
    "# factors to consider\n",
    "factors = vcat([1], collect(4:4:128));"
   ]
  },
  {
   "cell_type": "code",
   "execution_count": null,
   "id": "6e02fcef",
   "metadata": {},
   "outputs": [],
   "source": [
    "factors"
   ]
  },
  {
   "cell_type": "code",
   "execution_count": null,
   "id": "dd850cc6",
   "metadata": {
    "scrolled": false
   },
   "outputs": [],
   "source": [
    "# print the average difference for each factor \n",
    "means = [mean(df[df.factor .== f, :diff]) for f in factors]"
   ]
  },
  {
   "cell_type": "code",
   "execution_count": null,
   "id": "e7f2aa40",
   "metadata": {},
   "outputs": [],
   "source": [
    "gr()\n",
    "df_sub = df[df[:factor] .< 60,:]\n",
    "@df df_sub boxplot(:factor, :diff, legend=false, \n",
    "                #ylims = [0, 0.005], \n",
    "                size = (900, 300),\n",
    "                frame = :box,\n",
    "                leftmargin = 5mm,\n",
    "                bottommargin = 5mm,\n",
    "                xlabel = \"1 / scale factor\",\n",
    "                ylabel = \"persistence image difference\",\n",
    "                c = \"lightgrey\")\n",
    "#plot!(factors, means, lw = 5, c = \"#FF007F\")\n",
    "#savefig(\"sensitivity_plot.png\")"
   ]
  }
 ],
 "metadata": {
  "@webio": {
   "lastCommId": "52aed5adcca749b28828072f14ae3558",
   "lastKernelId": "fb543cc0-bdda-4e57-9cb3-c298e5ed2583"
  },
  "kernelspec": {
   "display_name": "Julia 1.6.3",
   "language": "julia",
   "name": "julia-1.6"
  },
  "language_info": {
   "file_extension": ".jl",
   "mimetype": "application/julia",
   "name": "julia",
   "version": "1.6.3"
  }
 },
 "nbformat": 4,
 "nbformat_minor": 5
}
