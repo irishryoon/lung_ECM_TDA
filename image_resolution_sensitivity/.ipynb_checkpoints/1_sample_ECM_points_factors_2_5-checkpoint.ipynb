{
 "cells": [
  {
   "cell_type": "code",
   "execution_count": 1,
   "id": "785000c0",
   "metadata": {},
   "outputs": [
    {
     "data": {
      "application/vnd.webio.node+json": {
       "children": [],
       "instanceArgs": {
        "namespace": "html",
        "tag": "div"
       },
       "nodeType": "DOM",
       "props": {},
       "type": "node"
      },
      "text/html": [
       "<div style=\"padding: 1em; background-color: #f8d6da; border: 1px solid #f5c6cb; font-weight: bold;\">\n",
       "<p>The WebIO Jupyter extension was not detected. See the\n",
       "<a href=\"https://juliagizmos.github.io/WebIO.jl/latest/providers/ijulia/\" target=\"_blank\">\n",
       "    WebIO Jupyter integration documentation\n",
       "</a>\n",
       "for more information.\n",
       "</div>\n"
      ],
      "text/plain": [
       "WebIO._IJuliaInit()"
      ]
     },
     "metadata": {
      "application/vnd.webio.node+json": {
       "kernelId": "f9f0e236-433e-4dbf-8c22-5c9e0cd2c515"
      }
     },
     "output_type": "display_data"
    },
    {
     "name": "stderr",
     "output_type": "stream",
     "text": [
      "WARNING: could not import HDF5.Group into _hdf5_implementation\n",
      "WARNING: could not import HDF5.Dataset into _hdf5_implementation\n",
      "┌ Warning: Error requiring `HDF5` from `Plots`\n",
      "│   exception = (LoadError(\"/Users/irisyoon/.julia/packages/Plots/yJrrq/src/backends/hdf5.jl\", 36, UndefVarError(:Group)), Union{Ptr{Nothing}, Base.InterpreterIP}[Ptr{Nothing} @0x0000000109c9e2cf, Ptr{Nothing} @0x0000000109d33206, Ptr{Nothing} @0x0000000109d3423b, Ptr{Nothing} @0x0000000109d32b94, Ptr{Nothing} @0x0000000109d32f0c, Base.InterpreterIP in top-level CodeInfo for Plots._hdf5_implementation at statement 4, Ptr{Nothing} @0x0000000109d4d844, Ptr{Nothing} @0x0000000109d4cf65, Ptr{Nothing} @0x0000000109d4d604, Ptr{Nothing} @0x0000000109d4d604, Ptr{Nothing} @0x0000000109d4e134, Ptr{Nothing} @0x0000000121f454e7, Ptr{Nothing} @0x0000000109d1cfbf, Ptr{Nothing} @0x0000000121f96312, Ptr{Nothing} @0x0000000121bcca65, Ptr{Nothing} @0x0000000109d1cfbf, Ptr{Nothing} @0x0000000109d29839, Ptr{Nothing} @0x000000010b271f1e, Ptr{Nothing} @0x0000000109d1cfbf, Ptr{Nothing} @0x0000000109d3425f, Ptr{Nothing} @0x0000000109d32b94, Ptr{Nothing} @0x0000000109d32f0c, Base.InterpreterIP in top-level CodeInfo for Plots at statement 10, Ptr{Nothing} @0x0000000109d4d844, Ptr{Nothing} @0x0000000109d4e134, Ptr{Nothing} @0x000000010b271e46, Ptr{Nothing} @0x000000010b271e7d, Ptr{Nothing} @0x0000000109d1cfbf, Ptr{Nothing} @0x0000000109d3425f, Ptr{Nothing} @0x0000000109d32913, Ptr{Nothing} @0x0000000109d32dbe, Ptr{Nothing} @0x0000000109d3262c, Base.InterpreterIP in MethodInstance for err(::Any, ::Module, ::String, ::String, ::Any) at statement 8, Ptr{Nothing} @0x000000010b271d75, Ptr{Nothing} @0x000000010b271d9d, Ptr{Nothing} @0x0000000109d1cfbf, Ptr{Nothing} @0x0000000109d3425f, Ptr{Nothing} @0x0000000109d32913, Ptr{Nothing} @0x0000000109d32dbe, Ptr{Nothing} @0x0000000109d3262c, Base.InterpreterIP in MethodInstance for withpath(::Any, ::String) at statement 10, Ptr{Nothing} @0x000000010b271bf2, Ptr{Nothing} @0x000000010b271cbd, Ptr{Nothing} @0x0000000109d1cfbf, Ptr{Nothing} @0x0000000109d3425f, Ptr{Nothing} @0x0000000109d32b94, Ptr{Nothing} @0x0000000109d3262c, Base.InterpreterIP in MethodInstance for listenpkg(::Any, ::Base.PkgId) at statement 3, Ptr{Nothing} @0x000000010b26de39, Ptr{Nothing} @0x000000010b26efcd, Ptr{Nothing} @0x0000000109d1cfbf, Ptr{Nothing} @0x0000000109d4bae3, Ptr{Nothing} @0x0000000109d3d697, Ptr{Nothing} @0x000000010b22904b, Ptr{Nothing} @0x000000010b22a3c2, Ptr{Nothing} @0x000000010b22cb0e, Ptr{Nothing} @0x000000010b22f25a, Ptr{Nothing} @0x000000010b24ddc3, Ptr{Nothing} @0x0000000109d1cfbf, Ptr{Nothing} @0x0000000109d4df0c, Ptr{Nothing} @0x0000000109d4ccd3, Ptr{Nothing} @0x0000000109d4cf65, Ptr{Nothing} @0x0000000109d4d604, Ptr{Nothing} @0x0000000109d4d604, Ptr{Nothing} @0x0000000109d4e134, Ptr{Nothing} @0x0000000121f454e7, Ptr{Nothing} @0x0000000109d1cfbf, Ptr{Nothing} @0x0000000121f96312, Ptr{Nothing} @0x0000000121bcca65, Ptr{Nothing} @0x0000000109d1cfbf, Ptr{Nothing} @0x0000000109d29839, Ptr{Nothing} @0x000000010b1de866, Ptr{Nothing} @0x0000000109d1cfbf, Ptr{Nothing} @0x0000000109d3425f, Ptr{Nothing} @0x0000000109d32b94, Ptr{Nothing} @0x0000000109d32f0c, Base.InterpreterIP in top-level CodeInfo for Main.ECM_TDA at statement 0, Ptr{Nothing} @0x0000000109d4d844, Ptr{Nothing} @0x0000000109d4cf65, Ptr{Nothing} @0x0000000109d4d604, Ptr{Nothing} @0x0000000109d4e134, Ptr{Nothing} @0x0000000121f454e7, Ptr{Nothing} @0x0000000109d1cfbf, Ptr{Nothing} @0x0000000121f96312, Ptr{Nothing} @0x000000010b1de7fe, Ptr{Nothing} @0x0000000109d1cfbf, Ptr{Nothing} @0x0000000109d3425f, Ptr{Nothing} @0x0000000109d32b94, Ptr{Nothing} @0x0000000109d32f0c, Base.InterpreterIP in top-level CodeInfo for Main at statement 0, Ptr{Nothing} @0x0000000109d4d844, Ptr{Nothing} @0x0000000109d4d604, Ptr{Nothing} @0x0000000109d4e134, Ptr{Nothing} @0x000000010b1de32c, Ptr{Nothing} @0x000000010b1de789, Ptr{Nothing} @0x0000000109d1cfbf, Ptr{Nothing} @0x000000010b1da95c, Ptr{Nothing} @0x0000000109d1cfbf, Ptr{Nothing} @0x0000000109d29839, Ptr{Nothing} @0x000000010b1cf452, Ptr{Nothing} @0x000000010b1cf7c4, Ptr{Nothing} @0x000000010b1cf7dc, Ptr{Nothing} @0x0000000109d1cfbf, Ptr{Nothing} @0x0000000109d3859d])\n",
      "└ @ Requires /Users/irisyoon/.julia/packages/Requires/Z8rfN/src/require.jl:51\n",
      "┌ Info: For saving to png with the Plotly backend PlotlyBase has to be installed.\n",
      "└ @ Plots /Users/irisyoon/.julia/packages/Plots/yJrrq/src/backends.jl:317\n"
     ]
    }
   ],
   "source": [
    "include(\"../src/ECM_TDA.jl\")\n",
    "using .ECM_TDA\n",
    "\n",
    "using Images\n",
    "using CSV\n",
    "using Plots\n",
    "using JLD2\n",
    "using Random\n",
    "using StatsBase\n",
    "using Distributions\n",
    "using DataFrames\n",
    "using PersistenceDiagrams\n",
    "using LinearAlgebra\n",
    "using Measures\n",
    "using StatsPlots"
   ]
  },
  {
   "cell_type": "code",
   "execution_count": 2,
   "id": "ac0c642f",
   "metadata": {},
   "outputs": [
    {
     "data": {
      "text/plain": [
       "sample_points_from_downsampled_ECM (generic function with 1 method)"
      ]
     },
     "execution_count": 2,
     "metadata": {},
     "output_type": "execute_result"
    }
   ],
   "source": [
    "function sample_points_from_downsampled_ECM(ECM_directory, \n",
    "                                         factor,\n",
    "                                         min_sample, max_sample, low, high;\n",
    "                                         sample_CSV_directory = \"4000x4000_combined_factor_2/ECM_sampled/points_CSV/\")\n",
    "    files = [item for item in walkdir(ECM_directory)][1][3][2:end]\n",
    "    for filename in files\n",
    "        \n",
    "        img = Array(Images.load(ECM_directory * filename))\n",
    "        # downsample ECM image\n",
    "        img_small = imresize(img, ratio=1/factor)\n",
    "        img_re = imresize(img_small, size(img_small).*factor)\n",
    "        \n",
    "        # compute (inverted) mean pixel value of image\n",
    "        img_mean_inv = 1- mean(Float64.(img_re))\n",
    "\n",
    "        # compute number of points to sample\n",
    "        n_sample = Int64(round(ECM_TDA.n_ECM_samples(img_mean_inv, low, high, min_sample, max_sample)))\n",
    "\n",
    "        # sample points\n",
    "        resampled, points, sampled, island_idx = sample_ECM_points(img, vicinity = 100, n_points = 5, n_samples = n_sample)\n",
    "\n",
    "        # save sampled points to CSV\n",
    "        csv_file = split(filename, \".\")[1] * \".csv\"\n",
    "        df = DataFrame(resampled, [:x, :y])\n",
    "        CSV.write(sample_CSV_directory * csv_file, df)\n",
    "    end\n",
    "end\n"
   ]
  },
  {
   "cell_type": "code",
   "execution_count": 3,
   "id": "06228f38",
   "metadata": {},
   "outputs": [
    {
     "data": {
      "text/plain": [
       "5000"
      ]
     },
     "execution_count": 3,
     "metadata": {},
     "output_type": "execute_result"
    }
   ],
   "source": [
    "# parameters for sampling points from ECM image\n",
    "low = 0.00063768\n",
    "high = 0.4025769\n",
    "min_sample = 100\n",
    "max_sample = 5000\n"
   ]
  },
  {
   "cell_type": "markdown",
   "id": "6a17df2e",
   "metadata": {},
   "source": [
    "## Sample points from downsampled ECM (factor 2)"
   ]
  },
  {
   "cell_type": "code",
   "execution_count": 4,
   "id": "65f8fbbc",
   "metadata": {},
   "outputs": [],
   "source": [
    "ECM_directory = \"../data/4000x4000_combined/subregion_ECM/\"\n",
    "\n",
    "sample_points_from_downsampled_ECM(ECM_directory, 2, min_sample, max_sample, low, high;\n",
    "                                   sample_CSV_directory = \"4000x4000_combined_factor_2/ECM_sampled/points_CSV/\")"
   ]
  },
  {
   "cell_type": "markdown",
   "id": "109dda83",
   "metadata": {},
   "source": [
    "## Sample points from downsampled ECM (factor 5)"
   ]
  },
  {
   "cell_type": "code",
   "execution_count": 5,
   "id": "5f2fb5c3",
   "metadata": {},
   "outputs": [],
   "source": [
    "ECM_directory = \"../data/4000x4000_combined/subregion_ECM/\"\n",
    "\n",
    "sample_points_from_downsampled_ECM(ECM_directory, 5, min_sample, max_sample, low, high;\n",
    "                                   sample_CSV_directory = \"4000x4000_combined_factor_5/ECM_sampled/points_CSV/\")"
   ]
  },
  {
   "cell_type": "markdown",
   "id": "50a90b46",
   "metadata": {},
   "source": [
    "# Save example images"
   ]
  },
  {
   "cell_type": "code",
   "execution_count": 11,
   "id": "9c8219bc",
   "metadata": {},
   "outputs": [
    {
     "data": {
      "text/plain": [
       "\"../data/4000x4000_combined/subregion_ECM/\""
      ]
     },
     "execution_count": 11,
     "metadata": {},
     "output_type": "execute_result"
    }
   ],
   "source": [
    "# select image\n",
    "LTX = \"001\"\n",
    "Da = \"232\"\n",
    "idx = 1\n",
    "filename = \"LTX\" * LTX * \"_Da\" * Da * \"_idx\" * string(idx)\n",
    "\n",
    "low = 0.00063768\n",
    "high = 0.4025769\n",
    "min_sample = 100\n",
    "max_sample = 5000\n",
    "ECM_directory = \"../data/4000x4000_combined/subregion_ECM/\""
   ]
  },
  {
   "cell_type": "code",
   "execution_count": 18,
   "id": "d08cafb3",
   "metadata": {},
   "outputs": [],
   "source": [
    "img = Array(Images.load(ECM_directory * filename * \".tif\"))"
   ]
  },
  {
   "cell_type": "code",
   "execution_count": 19,
   "id": "bbac5418",
   "metadata": {},
   "outputs": [],
   "source": [
    "save(filename * \"_original.tiff\", img)"
   ]
  },
  {
   "cell_type": "code",
   "execution_count": 20,
   "id": "41a89da0",
   "metadata": {},
   "outputs": [],
   "source": [
    "\n",
    "# get downsampled images\n",
    "img_small = imresize(img, ratio=1/2)\n",
    "img_re = imresize(img_small, size(img_small).*2)\n",
    "\n",
    "save(filename * \"_factor_2.tiff\", img)\n",
    "\n",
    "# get downsampled images\n",
    "img_small = imresize(img, ratio=1/5)\n",
    "img_re = imresize(img_small, size(img_small).*5)\n",
    "\n",
    "save(filename * \"_factor_5.tiff\", img)"
   ]
  },
  {
   "cell_type": "code",
   "execution_count": null,
   "id": "a895fa08",
   "metadata": {},
   "outputs": [],
   "source": []
  }
 ],
 "metadata": {
  "@webio": {
   "lastCommId": "3833718c8e144fd894c49cef336ff3d1",
   "lastKernelId": "f9f0e236-433e-4dbf-8c22-5c9e0cd2c515"
  },
  "kernelspec": {
   "display_name": "Julia 1.6.3",
   "language": "julia",
   "name": "julia-1.6"
  },
  "language_info": {
   "file_extension": ".jl",
   "mimetype": "application/julia",
   "name": "julia",
   "version": "1.6.3"
  }
 },
 "nbformat": 4,
 "nbformat_minor": 5
}
