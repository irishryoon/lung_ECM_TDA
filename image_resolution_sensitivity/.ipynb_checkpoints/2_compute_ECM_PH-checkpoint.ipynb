{
 "cells": [
  {
   "cell_type": "code",
   "execution_count": 1,
   "id": "ab413be3",
   "metadata": {
    "scrolled": true
   },
   "outputs": [
    {
     "data": {
      "application/vnd.webio.node+json": {
       "children": [],
       "instanceArgs": {
        "namespace": "html",
        "tag": "div"
       },
       "nodeType": "DOM",
       "props": {},
       "type": "node"
      },
      "text/html": [
       "<div style=\"padding: 1em; background-color: #f8d6da; border: 1px solid #f5c6cb; font-weight: bold;\">\n",
       "<p>The WebIO Jupyter extension was not detected. See the\n",
       "<a href=\"https://juliagizmos.github.io/WebIO.jl/latest/providers/ijulia/\" target=\"_blank\">\n",
       "    WebIO Jupyter integration documentation\n",
       "</a>\n",
       "for more information.\n",
       "</div>\n"
      ],
      "text/plain": [
       "WebIO._IJuliaInit()"
      ]
     },
     "metadata": {
      "application/vnd.webio.node+json": {
       "kernelId": "92b7f7fb-1333-4f36-8df7-506cb1559c04"
      }
     },
     "output_type": "display_data"
    },
    {
     "name": "stderr",
     "output_type": "stream",
     "text": [
      "WARNING: could not import HDF5.Group into _hdf5_implementation\n",
      "WARNING: could not import HDF5.Dataset into _hdf5_implementation\n",
      "┌ Warning: Error requiring `HDF5` from `Plots`\n",
      "│   exception = (LoadError(\"/Users/irisyoon/.julia/packages/Plots/yJrrq/src/backends/hdf5.jl\", 36, UndefVarError(:Group)), Union{Ptr{Nothing}, Base.InterpreterIP}[Ptr{Nothing} @0x000000010bd9e2cf, Ptr{Nothing} @0x000000010be33206, Ptr{Nothing} @0x000000010be3423b, Ptr{Nothing} @0x000000010be32b94, Ptr{Nothing} @0x000000010be32f0c, Base.InterpreterIP in top-level CodeInfo for Plots._hdf5_implementation at statement 4, Ptr{Nothing} @0x000000010be4d844, Ptr{Nothing} @0x000000010be4cf65, Ptr{Nothing} @0x000000010be4d604, Ptr{Nothing} @0x000000010be4d604, Ptr{Nothing} @0x000000010be4e134, Ptr{Nothing} @0x000000011fc634e7, Ptr{Nothing} @0x000000010be1cfbf, Ptr{Nothing} @0x000000011fcb4312, Ptr{Nothing} @0x000000011f8eaa65, Ptr{Nothing} @0x000000010be1cfbf, Ptr{Nothing} @0x000000010be29839, Ptr{Nothing} @0x000000010d37086e, Ptr{Nothing} @0x000000010be1cfbf, Ptr{Nothing} @0x000000010be3425f, Ptr{Nothing} @0x000000010be32b94, Ptr{Nothing} @0x000000010be32f0c, Base.InterpreterIP in top-level CodeInfo for Plots at statement 10, Ptr{Nothing} @0x000000010be4d844, Ptr{Nothing} @0x000000010be4e134, Ptr{Nothing} @0x000000010d370796, Ptr{Nothing} @0x000000010d3707cd, Ptr{Nothing} @0x000000010be1cfbf, Ptr{Nothing} @0x000000010be3425f, Ptr{Nothing} @0x000000010be32913, Ptr{Nothing} @0x000000010be32dbe, Ptr{Nothing} @0x000000010be3262c, Base.InterpreterIP in MethodInstance for err(::Any, ::Module, ::String, ::String, ::Any) at statement 8, Ptr{Nothing} @0x000000010d3706c5, Ptr{Nothing} @0x000000010d3706ed, Ptr{Nothing} @0x000000010be1cfbf, Ptr{Nothing} @0x000000010be3425f, Ptr{Nothing} @0x000000010be32913, Ptr{Nothing} @0x000000010be32dbe, Ptr{Nothing} @0x000000010be3262c, Base.InterpreterIP in MethodInstance for withpath(::Any, ::String) at statement 10, Ptr{Nothing} @0x000000010d370542, Ptr{Nothing} @0x000000010d37060d, Ptr{Nothing} @0x000000010be1cfbf, Ptr{Nothing} @0x000000010be3425f, Ptr{Nothing} @0x000000010be32b94, Ptr{Nothing} @0x000000010be3262c, Base.InterpreterIP in MethodInstance for listenpkg(::Any, ::Base.PkgId) at statement 3, Ptr{Nothing} @0x000000010d36c789, Ptr{Nothing} @0x000000010d36d91d, Ptr{Nothing} @0x000000010be1cfbf, Ptr{Nothing} @0x000000010be4bae3, Ptr{Nothing} @0x000000010be3d697, Ptr{Nothing} @0x000000010d32799b, Ptr{Nothing} @0x000000010d328d12, Ptr{Nothing} @0x000000010d32b45e, Ptr{Nothing} @0x000000010d32dbaa, Ptr{Nothing} @0x000000010d34c713, Ptr{Nothing} @0x000000010be1cfbf, Ptr{Nothing} @0x000000010be4df0c, Ptr{Nothing} @0x000000010be4ccd3, Ptr{Nothing} @0x000000010be4cf65, Ptr{Nothing} @0x000000010be4d604, Ptr{Nothing} @0x000000010be4d604, Ptr{Nothing} @0x000000010be4e134, Ptr{Nothing} @0x000000011fc634e7, Ptr{Nothing} @0x000000010be1cfbf, Ptr{Nothing} @0x000000011fcb4312, Ptr{Nothing} @0x000000011f8eaa65, Ptr{Nothing} @0x000000010be1cfbf, Ptr{Nothing} @0x000000010be29839, Ptr{Nothing} @0x000000010d2dd1e6, Ptr{Nothing} @0x000000010be1cfbf, Ptr{Nothing} @0x000000010be3425f, Ptr{Nothing} @0x000000010be32b94, Ptr{Nothing} @0x000000010be32f0c, Base.InterpreterIP in top-level CodeInfo for Main.ECM_TDA at statement 0, Ptr{Nothing} @0x000000010be4d844, Ptr{Nothing} @0x000000010be4cf65, Ptr{Nothing} @0x000000010be4d604, Ptr{Nothing} @0x000000010be4e134, Ptr{Nothing} @0x000000011fc634e7, Ptr{Nothing} @0x000000010be1cfbf, Ptr{Nothing} @0x000000011fcb4312, Ptr{Nothing} @0x000000010d2dd17e, Ptr{Nothing} @0x000000010be1cfbf, Ptr{Nothing} @0x000000010be3425f, Ptr{Nothing} @0x000000010be32b94, Ptr{Nothing} @0x000000010be32f0c, Base.InterpreterIP in top-level CodeInfo for Main at statement 0, Ptr{Nothing} @0x000000010be4d844, Ptr{Nothing} @0x000000010be4d604, Ptr{Nothing} @0x000000010be4e134, Ptr{Nothing} @0x000000010d2dccac, Ptr{Nothing} @0x000000010d2dd109, Ptr{Nothing} @0x000000010be1cfbf, Ptr{Nothing} @0x000000010d2d92dc, Ptr{Nothing} @0x000000010be1cfbf, Ptr{Nothing} @0x000000010be29839, Ptr{Nothing} @0x000000010d2cf452, Ptr{Nothing} @0x000000010d2cf7c4, Ptr{Nothing} @0x000000010d2cf7dc, Ptr{Nothing} @0x000000010be1cfbf, Ptr{Nothing} @0x000000010be3859d])\n",
      "└ @ Requires /Users/irisyoon/.julia/packages/Requires/Z8rfN/src/require.jl:51\n",
      "┌ Info: For saving to png with the Plotly backend PlotlyBase has to be installed.\n",
      "└ @ Plots /Users/irisyoon/.julia/packages/Plots/yJrrq/src/backends.jl:317\n"
     ]
    }
   ],
   "source": [
    "include(\"../src/ECM_TDA.jl\")\n",
    "using .ECM_TDA\n",
    "\n",
    "using CSV\n",
    "using DelimitedFiles\n"
   ]
  },
  {
   "cell_type": "code",
   "execution_count": 7,
   "id": "e23e9003",
   "metadata": {},
   "outputs": [],
   "source": [
    "using JLD2\n",
    "using FileIO"
   ]
  },
  {
   "cell_type": "markdown",
   "id": "1bf7585a",
   "metadata": {},
   "source": [
    "Compute PD"
   ]
  },
  {
   "cell_type": "code",
   "execution_count": 2,
   "id": "32de65a7",
   "metadata": {},
   "outputs": [],
   "source": [
    "dir = \"4000x4000_combined_factor_2/ECM_sampled/points_CSV/\"\n",
    "csv_files = [item for item in walkdir(dir)][1][3:end][1];\n",
    "\n",
    "PD0_ECM = Dict()\n",
    "PD1_ECM = Dict()\n",
    "\n",
    "for file in csv_files\n",
    "    filename = split(file, \".\")[1]\n",
    "\n",
    "    df = CSV.read(dir * file)\n",
    "    if size(df,1) != 0\n",
    "        PD0, PD1 = run_PH(df)\n",
    "    \n",
    "        # save\n",
    "        writedlm(\"4000x4000_combined_factor_2/ECM_PD/PD0/\" * filename * \".csv\", PD0, \",\")\n",
    "        writedlm(\"4000x4000_combined_factor_2/ECM_PD/PD1/\" * filename * \".csv\", PD1, \",\")\n",
    "        \n",
    "        # combine to dictionary\n",
    "        PD0_ECM[filename] = PD0\n",
    "        PD1_ECM[filename] = PD1\n",
    "    else\n",
    "        PD0 = nothing\n",
    "        PD1 = nothing\n",
    "        \n",
    "        writedlm(\"4000x4000_combined_factor_2/ECM_PD/PD0/\" * filename * \".csv\", zeros(), \",\")\n",
    "        writedlm(\"4000x4000_combined_factor_2/ECM_PD/PD1/\" * filename * \".csv\", zeros(), \",\")\n",
    "        # combine to dictionary\n",
    "        PD0_ECM[filename] = PD0\n",
    "        PD1_ECM[filename] = PD1\n",
    "    end\n",
    "\n",
    "end"
   ]
  },
  {
   "cell_type": "code",
   "execution_count": 46,
   "id": "7010a874",
   "metadata": {},
   "outputs": [],
   "source": [
    "dir = \"4000x4000_combined_factor_2/ECM_sampled/points_CSV/\"\n",
    "csv_files = [item for item in walkdir(dir)][1][3:end][1];\n",
    "\n",
    "PD0_ECM = Dict()\n",
    "PD1_ECM = Dict()\n",
    "\n",
    "for file in csv_files\n",
    "    filename = split(file, \".\")[1]\n",
    "    # pd0\n",
    "    pd_csv = readdlm(\"4000x4000_combined_factor_2/ECM_PD/PD0/\" * filename * \".csv\")\n",
    "    if pd_csv != hcat(0.0)\n",
    "        n = length(pd_csv)\n",
    "\n",
    "        pd0_matrix = zeros((n, 2))\n",
    "        for i = 1:n\n",
    "            pd0_matrix[i,1] = parse(Float64, split(pd_csv[1], \",\")[1])\n",
    "            pd0_matrix[i,2] = parse(Float64, split(pd_csv[1], \",\")[2])\n",
    "        end\n",
    "\n",
    "        PD0_ECM[filename] = pd0_matrix\n",
    "\n",
    "        # pd1\n",
    "        pd_csv = readdlm(\"4000x4000_combined_factor_2/ECM_PD/PD1/\" * filename * \".csv\")\n",
    "        n = length(pd_csv)\n",
    "\n",
    "        pd1_matrix = zeros((n, 2))\n",
    "        for i = 1:n\n",
    "            pd1_matrix[i,1] = parse(Float64, split(pd_csv[1], \",\")[1])\n",
    "            pd1_matrix[i,2] = parse(Float64, split(pd_csv[1], \",\")[2])\n",
    "        end\n",
    "\n",
    "        PD1_ECM[filename] = pd1_matrix\n",
    "    end\n",
    "    \n",
    "end"
   ]
  },
  {
   "cell_type": "code",
   "execution_count": 47,
   "id": "aa32e4a7",
   "metadata": {},
   "outputs": [],
   "source": [
    "save(\"4000x4000_combined_factor_2/ECM_PD/PD.jld2\", \n",
    "    \"PD0_ECM\", PD0_ECM,\n",
    "    \"PD1_ECM\", PD1_ECM)"
   ]
  },
  {
   "cell_type": "code",
   "execution_count": 3,
   "id": "950eb90a",
   "metadata": {},
   "outputs": [],
   "source": [
    "dir = \"4000x4000_combined_factor_5/ECM_sampled/points_CSV/\"\n",
    "csv_files = [item for item in walkdir(dir)][1][3:end][1];\n",
    "\n",
    "PD0_ECM = Dict()\n",
    "PD1_ECM = Dict()\n",
    "\n",
    "for file in csv_files\n",
    "    filename = split(file, \".\")[1]\n",
    "\n",
    "    df = CSV.read(dir * file)\n",
    "    if size(df,1) != 0\n",
    "        PD0, PD1 = run_PH(df)\n",
    "    \n",
    "        # save\n",
    "        writedlm(\"4000x4000_combined_factor_5/ECM_PD/PD0/\" * filename * \".csv\", PD0, \",\")\n",
    "        writedlm(\"4000x4000_combined_factor_5/ECM_PD/PD1/\" * filename * \".csv\", PD1, \",\")\n",
    "        \n",
    "        # combine to dictionary\n",
    "        PD0_ECM[filename] = PD0\n",
    "        PD1_ECM[filename] = PD1\n",
    "    else\n",
    "        PD0 = nothing\n",
    "        PD1 = nothing\n",
    "        \n",
    "        writedlm(\"4000x4000_combined_factor_5/ECM_PD/PD0/\" * filename * \".csv\", zeros(), \",\")\n",
    "        writedlm(\"4000x4000_combined_factor_5/ECM_PD/PD1/\" * filename * \".csv\", zeros(), \",\")\n",
    "        # combine to dictionary\n",
    "        PD0_ECM[filename] = PD0\n",
    "        PD1_ECM[filename] = PD1\n",
    "    end\n",
    "\n",
    "end"
   ]
  },
  {
   "cell_type": "code",
   "execution_count": 8,
   "id": "d2cd9e5d",
   "metadata": {},
   "outputs": [],
   "source": [
    "save(\"4000x4000_combined_factor_5/ECM_PD/PD.jld2\", \n",
    "    \"PD0_ECM\", PD0_ECM,\n",
    "    \"PD1_ECM\", PD1_ECM)"
   ]
  },
  {
   "cell_type": "markdown",
   "id": "f5729562",
   "metadata": {},
   "source": [
    "Compute PI - factor 2"
   ]
  },
  {
   "cell_type": "code",
   "execution_count": 49,
   "id": "bc608ef4",
   "metadata": {},
   "outputs": [],
   "source": [
    "PD0_ECM = load(\"4000x4000_combined_factor_2/ECM_PD/PD.jld2\")[\"PD0_ECM\"]\n",
    "PD1_ECM = load(\"4000x4000_combined_factor_2/ECM_PD/PD.jld2\")[\"PD1_ECM\"];"
   ]
  },
  {
   "cell_type": "code",
   "execution_count": 50,
   "id": "75c2223f",
   "metadata": {},
   "outputs": [],
   "source": [
    "# convert array to Ripserer PD\n",
    "PH0 = Dict(k => ECM_TDA.array_to_ripsererPD(v) for (k,v) in PD0_ECM if v != nothing)\n",
    "PH1 = Dict(k => ECM_TDA.array_to_ripsererPD(v) for (k,v) in PD1_ECM if v != nothing)\n",
    "\n",
    "# compute PI\n",
    "PI0 = ECM_TDA.compute_PI(PH0);\n",
    "PI1 = ECM_TDA.compute_PI(PH1);"
   ]
  },
  {
   "cell_type": "code",
   "execution_count": 51,
   "id": "8d446451",
   "metadata": {},
   "outputs": [],
   "source": [
    "# save PI\n",
    "save(\"4000x4000_combined_factor_2/ECM_PD/PI.jld2\", \n",
    "    \"PI0\", PI0,\n",
    "    \"PI1\", PI1)"
   ]
  },
  {
   "cell_type": "markdown",
   "id": "c38513b6",
   "metadata": {},
   "source": [
    "Compute PI - factor 5"
   ]
  },
  {
   "cell_type": "code",
   "execution_count": 52,
   "id": "730859e5",
   "metadata": {},
   "outputs": [],
   "source": [
    "PD0_ECM = load(\"4000x4000_combined_factor_5/ECM_PD/PD.jld2\")[\"PD0_ECM\"]\n",
    "PD1_ECM = load(\"4000x4000_combined_factor_5/ECM_PD/PD.jld2\")[\"PD1_ECM\"];"
   ]
  },
  {
   "cell_type": "code",
   "execution_count": 53,
   "id": "c0629038",
   "metadata": {},
   "outputs": [],
   "source": [
    "# convert array to Ripserer PD\n",
    "PH0 = Dict(k => ECM_TDA.array_to_ripsererPD(v) for (k,v) in PD0_ECM if v != nothing)\n",
    "PH1 = Dict(k => ECM_TDA.array_to_ripsererPD(v) for (k,v) in PD1_ECM if v != nothing)\n",
    "\n",
    "# compute PI\n",
    "PI0 = ECM_TDA.compute_PI(PH0);\n",
    "PI1 = ECM_TDA.compute_PI(PH1);"
   ]
  },
  {
   "cell_type": "code",
   "execution_count": 54,
   "id": "66bd0cbe",
   "metadata": {},
   "outputs": [],
   "source": [
    "# save PI\n",
    "save(\"4000x4000_combined_factor_5/ECM_PD/PI.jld2\", \n",
    "    \"PI0\", PI0,\n",
    "    \"PI1\", PI1)"
   ]
  },
  {
   "cell_type": "code",
   "execution_count": null,
   "id": "2323189c",
   "metadata": {},
   "outputs": [],
   "source": []
  }
 ],
 "metadata": {
  "@webio": {
   "lastCommId": "ea8e2452a4f042389f8c793b8b48a65f",
   "lastKernelId": "92b7f7fb-1333-4f36-8df7-506cb1559c04"
  },
  "kernelspec": {
   "display_name": "Julia 1.6.3",
   "language": "julia",
   "name": "julia-1.6"
  },
  "language_info": {
   "file_extension": ".jl",
   "mimetype": "application/julia",
   "name": "julia",
   "version": "1.6.3"
  }
 },
 "nbformat": 4,
 "nbformat_minor": 5
}
