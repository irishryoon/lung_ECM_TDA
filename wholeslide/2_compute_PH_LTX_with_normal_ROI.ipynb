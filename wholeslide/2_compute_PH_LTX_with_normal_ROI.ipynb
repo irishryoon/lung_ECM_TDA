{
 "cells": [
  {
   "attachments": {},
   "cell_type": "markdown",
   "metadata": {},
   "source": [
    "Regions with normal tissues  \n",
    "very normal: 029, 075, 115, 221  \n",
    "some normal: LTX 001, 021, 092, 143. "
   ]
  },
  {
   "cell_type": "code",
   "execution_count": 1,
   "metadata": {},
   "outputs": [
    {
     "data": {
      "application/vnd.webio.node+json": {
       "children": [],
       "instanceArgs": {
        "namespace": "html",
        "tag": "div"
       },
       "nodeType": "DOM",
       "props": {},
       "type": "node"
      },
      "text/html": [
       "<div style=\"padding: 1em; background-color: #f8d6da; border: 1px solid #f5c6cb; font-weight: bold;\">\n",
       "<p>The WebIO Jupyter extension was not detected. See the\n",
       "<a href=\"https://juliagizmos.github.io/WebIO.jl/latest/providers/ijulia/\" target=\"_blank\">\n",
       "    WebIO Jupyter integration documentation\n",
       "</a>\n",
       "for more information.\n",
       "</div>\n"
      ],
      "text/plain": [
       "WebIO._IJuliaInit()"
      ]
     },
     "metadata": {},
     "output_type": "display_data"
    },
    {
     "name": "stderr",
     "output_type": "stream",
     "text": [
      "WARNING: could not import HDF5.Group into _hdf5_implementation\n",
      "WARNING: could not import HDF5.Dataset into _hdf5_implementation\n",
      "┌ Warning: Error requiring `HDF5` from `Plots`\n",
      "│   exception = (LoadError(\"/Users/irisyoon/.julia/packages/Plots/yJrrq/src/backends/hdf5.jl\", 36, UndefVarError(:Group)), Union{Ptr{Nothing}, Base.InterpreterIP}[Ptr{Nothing} @0x0000000105b862cf, Ptr{Nothing} @0x0000000105c1b206, Ptr{Nothing} @0x0000000105c1c23b, Ptr{Nothing} @0x0000000105c1ab94, Ptr{Nothing} @0x0000000105c1af0c, Base.InterpreterIP in top-level CodeInfo for Plots._hdf5_implementation at statement 4, Ptr{Nothing} @0x0000000105c35844, Ptr{Nothing} @0x0000000105c34f65, Ptr{Nothing} @0x0000000105c35604, Ptr{Nothing} @0x0000000105c35604, Ptr{Nothing} @0x0000000105c36134, Ptr{Nothing} @0x00000001182884e7, Ptr{Nothing} @0x0000000105c04fbf, Ptr{Nothing} @0x00000001182d9312, Ptr{Nothing} @0x0000000117f0fa65, Ptr{Nothing} @0x0000000105c04fbf, Ptr{Nothing} @0x0000000105c11839, Ptr{Nothing} @0x0000000107155ade, Ptr{Nothing} @0x0000000105c04fbf, Ptr{Nothing} @0x0000000105c1c25f, Ptr{Nothing} @0x0000000105c1ab94, Ptr{Nothing} @0x0000000105c1af0c, Base.InterpreterIP in top-level CodeInfo for Plots at statement 10, Ptr{Nothing} @0x0000000105c35844, Ptr{Nothing} @0x0000000105c36134, Ptr{Nothing} @0x0000000107155a06, Ptr{Nothing} @0x0000000107155a3d, Ptr{Nothing} @0x0000000105c04fbf, Ptr{Nothing} @0x0000000105c1c25f, Ptr{Nothing} @0x0000000105c1a913, Ptr{Nothing} @0x0000000105c1adbe, Ptr{Nothing} @0x0000000105c1a62c, Base.InterpreterIP in MethodInstance for err(::Any, ::Module, ::String, ::String, ::Any) at statement 8, Ptr{Nothing} @0x0000000107155935, Ptr{Nothing} @0x000000010715595d, Ptr{Nothing} @0x0000000105c04fbf, Ptr{Nothing} @0x0000000105c1c25f, Ptr{Nothing} @0x0000000105c1a913, Ptr{Nothing} @0x0000000105c1adbe, Ptr{Nothing} @0x0000000105c1a62c, Base.InterpreterIP in MethodInstance for withpath(::Any, ::String) at statement 10, Ptr{Nothing} @0x00000001071557b2, Ptr{Nothing} @0x000000010715587d, Ptr{Nothing} @0x0000000105c04fbf, Ptr{Nothing} @0x0000000105c1c25f, Ptr{Nothing} @0x0000000105c1ab94, Ptr{Nothing} @0x0000000105c1a62c, Base.InterpreterIP in MethodInstance for listenpkg(::Any, ::Base.PkgId) at statement 3, Ptr{Nothing} @0x00000001071519f9, Ptr{Nothing} @0x0000000107152b8d, Ptr{Nothing} @0x0000000105c04fbf, Ptr{Nothing} @0x0000000105c33ae3, Ptr{Nothing} @0x0000000105c25697, Ptr{Nothing} @0x000000010710cc9b, Ptr{Nothing} @0x000000010710e012, Ptr{Nothing} @0x000000010711075e, Ptr{Nothing} @0x0000000107112eaa, Ptr{Nothing} @0x0000000107131a13, Ptr{Nothing} @0x0000000105c04fbf, Ptr{Nothing} @0x0000000105c35f0c, Ptr{Nothing} @0x0000000105c34cd3, Ptr{Nothing} @0x0000000105c34f65, Ptr{Nothing} @0x0000000105c35604, Ptr{Nothing} @0x0000000105c35604, Ptr{Nothing} @0x0000000105c36134, Ptr{Nothing} @0x00000001182884e7, Ptr{Nothing} @0x0000000105c04fbf, Ptr{Nothing} @0x00000001182d9312, Ptr{Nothing} @0x0000000117f0fa65, Ptr{Nothing} @0x0000000105c04fbf, Ptr{Nothing} @0x0000000105c11839, Ptr{Nothing} @0x00000001070c1ee6, Ptr{Nothing} @0x0000000105c04fbf, Ptr{Nothing} @0x0000000105c1c25f, Ptr{Nothing} @0x0000000105c1ab94, Ptr{Nothing} @0x0000000105c1af0c, Base.InterpreterIP in top-level CodeInfo for Main.wholeslide_helper.ECM_TDA at statement 0, Ptr{Nothing} @0x0000000105c35844, Ptr{Nothing} @0x0000000105c34f65, Ptr{Nothing} @0x0000000105c35604, Ptr{Nothing} @0x0000000105c36134, Ptr{Nothing} @0x00000001182884e7, Ptr{Nothing} @0x0000000105c04fbf, Ptr{Nothing} @0x00000001182d9312, Ptr{Nothing} @0x0000000117f0fa65, Ptr{Nothing} @0x0000000105c04fbf, Ptr{Nothing} @0x0000000105c11839, Ptr{Nothing} @0x00000001070c1e86, Ptr{Nothing} @0x0000000105c04fbf, Ptr{Nothing} @0x0000000105c1c25f, Ptr{Nothing} @0x0000000105c1ab94, Ptr{Nothing} @0x0000000105c1af0c, Base.InterpreterIP in top-level CodeInfo for Main.wholeslide_helper at statement 0, Ptr{Nothing} @0x0000000105c35844, Ptr{Nothing} @0x0000000105c34f65, Ptr{Nothing} @0x0000000105c35604, Ptr{Nothing} @0x0000000105c36134, Ptr{Nothing} @0x00000001182884e7, Ptr{Nothing} @0x0000000105c04fbf, Ptr{Nothing} @0x00000001182d9312, Ptr{Nothing} @0x00000001070c1e1e, Ptr{Nothing} @0x0000000105c04fbf, Ptr{Nothing} @0x0000000105c1c25f, Ptr{Nothing} @0x0000000105c1ab94, Ptr{Nothing} @0x0000000105c1af0c, Base.InterpreterIP in top-level CodeInfo for Main at statement 0, Ptr{Nothing} @0x0000000105c35844, Ptr{Nothing} @0x0000000105c35604, Ptr{Nothing} @0x0000000105c36134, Ptr{Nothing} @0x00000001070c194c, Ptr{Nothing} @0x00000001070c1da9, Ptr{Nothing} @0x0000000105c04fbf, Ptr{Nothing} @0x00000001070bdf7c, Ptr{Nothing} @0x0000000105c04fbf, Ptr{Nothing} @0x0000000105c11839, Ptr{Nothing} @0x00000001070b7322, Ptr{Nothing} @0x00000001070b7694, Ptr{Nothing} @0x00000001070b76ac, Ptr{Nothing} @0x0000000105c04fbf, Ptr{Nothing} @0x0000000105c2059d])\n",
      "└ @ Requires /Users/irisyoon/.julia/packages/Requires/Z8rfN/src/require.jl:51\n",
      "┌ Info: For saving to png with the Plotly backend PlotlyBase has to be installed.\n",
      "└ @ Plots /Users/irisyoon/.julia/packages/Plots/yJrrq/src/backends.jl:317\n"
     ]
    },
    {
     "data": {
      "text/plain": [
       "Plots.GRBackend()"
      ]
     },
     "execution_count": 1,
     "metadata": {},
     "output_type": "execute_result"
    }
   ],
   "source": [
    "\n",
    "include(\"wholeslide_helper.jl\")\n",
    "using .wholeslide_helper\n",
    "\n",
    "using Plots\n",
    "using CSV\n",
    "gr()"
   ]
  },
  {
   "cell_type": "code",
   "execution_count": 2,
   "metadata": {},
   "outputs": [],
   "source": [
    "include(\"../src/ECM_TDA.jl\")\n",
    "using .ECM_TDA"
   ]
  },
  {
   "cell_type": "code",
   "execution_count": 50,
   "metadata": {},
   "outputs": [
    {
     "data": {
      "text/plain": [
       "plot_wholeslide_points_highlight_ROI (generic function with 1 method)"
      ]
     },
     "execution_count": 50,
     "metadata": {},
     "output_type": "execute_result"
    }
   ],
   "source": [
    "function plot_wholeslide_points_highlight_ROI(LTX, row_highlight, col_highlight)\n",
    "    # plot the (stitched) points\n",
    "    p = plot()\n",
    "    c = :grey\n",
    "    highlight_c = :deeppink\n",
    "    sample_CSV_directory = \"/Volumes/My Passport/wholeslide_sampled_points/\" * LTX * \"/points_CSV/\"\n",
    "    for f in [item for item in walkdir(sample_CSV_directory)][1][3]\n",
    "        s = split(f, \".\")[1]\n",
    "        row, col = split(s, \"_\")\n",
    "        row = parse(Int32, row)\n",
    "        col = parse(Int32, col)\n",
    "\n",
    "        row_adjust = row * 4000\n",
    "        col_adjust = col * 4000\n",
    "\n",
    "        if (row in row_highlight) & (col in col_highlight )\n",
    "            c = :deeppink\n",
    "        else\n",
    "            c = :grey\n",
    "        end\n",
    "        # load points\n",
    "        df = CSV.read(sample_CSV_directory * s * \".csv\")\n",
    "        scatter!(p, df[:,:x] .+ col_adjust, df[:,:y] .+ row_adjust,\n",
    "                yflip = :true,\n",
    "                label = \"\", markersize = 1, markerstrokewidth = 0,\n",
    "                c = c)\n",
    "    end\n",
    "\n",
    "    plot(p, aspect_ratio = :equal, size = (3000, 3000))\n",
    "    # create paths\n",
    "    ispath(\"data_TDA/LTX\" * LTX) || mkpath(\"data_TDA/LTX\" * LTX)\n",
    "    savefig(\"data_TDA/LTX\" * LTX * \"/sampled_points_whole.png\")\n",
    "end"
   ]
  },
  {
   "cell_type": "code",
   "execution_count": 99,
   "metadata": {},
   "outputs": [
    {
     "data": {
      "text/plain": [
       "\"#249EA0\""
      ]
     },
     "execution_count": 99,
     "metadata": {},
     "output_type": "execute_result"
    }
   ],
   "source": [
    "# select LTX\n",
    "LTX = \"143\"\n",
    "\n",
    "dir_2000 = \"/Volumes/My Passport/iris_data/LTX\" * LTX * \"/tile_size_2000/whole_slide/PSR/deconvolutions/ScanRegion0/psr/inverted_grayscale/\"\n",
    "dir_4000 = \"/Volumes/My Passport/iris_data/LTX\" * LTX * \"/tile_size_4000/\"\n",
    "c = \"#249EA0\" # teal"
   ]
  },
  {
   "cell_type": "code",
   "execution_count": 46,
   "metadata": {},
   "outputs": [],
   "source": [
    "#stitch 2000 x 2000 tiles to create tiles of size 4000 x 4000\n",
    "row_lim, col_lim = get_row_col_lim(dir_2000)\n",
    "stitch_2000_tiles_to_4000(dir_2000, dir_4000, row_lim, col_lim)"
   ]
  },
  {
   "cell_type": "code",
   "execution_count": 47,
   "metadata": {},
   "outputs": [],
   "source": [
    "### sample points from ECM_dir\n",
    "gr()\n",
    "# sampling parameters\n",
    "low = 0.0006376811274509953\n",
    "high = 0.4025769968137255\n",
    "min_sample = 100 \n",
    "max_sample = 5000\n",
    "\n",
    "### sample points ###\n",
    "sample_plot_directory = \"/Volumes/My Passport/wholeslide_sampled_points/\" * LTX * \"/sampled_points/\"\n",
    "sample_CSV_directory = \"/Volumes/My Passport/wholeslide_sampled_points/\" * LTX * \"/points_CSV/\"\n",
    "\n",
    "# create paths\n",
    "ispath(sample_plot_directory) || mkpath(sample_plot_directory)\n",
    "ispath(sample_CSV_directory) || mkpath(sample_CSV_directory)\n",
    "\n",
    "sample_points_from_ECM_directory(dir_4000, min_sample, max_sample, low, high, c;\n",
    "                                invert = false,\n",
    "                                sample_plot_directory = sample_plot_directory,\n",
    "                                sample_CSV_directory = sample_CSV_directory)"
   ]
  },
  {
   "cell_type": "code",
   "execution_count": 11,
   "metadata": {},
   "outputs": [
    {
     "data": {
      "text/plain": [
       "plot_wholeslide_points (generic function with 1 method)"
      ]
     },
     "execution_count": 11,
     "metadata": {},
     "output_type": "execute_result"
    }
   ],
   "source": [
    "function plot_wholeslide_points(LTX)\n",
    "    # plot the (stitched) points\n",
    "    p = plot()\n",
    "\n",
    "    sample_CSV_directory = \"/Volumes/My Passport/wholeslide_sampled_points/\" * LTX * \"/points_CSV/\"\n",
    "    for f in [item for item in walkdir(sample_CSV_directory)][1][3]\n",
    "        s = split(f, \".\")[1]\n",
    "        row, col = split(s, \"_\")\n",
    "        row = parse(Int32, row)\n",
    "        col = parse(Int32, col)\n",
    "\n",
    "        row_adjust = row * 4000\n",
    "        col_adjust = col * 4000\n",
    "        # load points\n",
    "        df = CSV.read(sample_CSV_directory * s * \".csv\")\n",
    "        scatter!(p, df[:,:x] .+ col_adjust, df[:,:y] .+ row_adjust,\n",
    "                yflip = :true,\n",
    "                label = \"\", markersize = 1, markerstrokewidth = 0,\n",
    "                c = c)\n",
    "    end\n",
    "\n",
    "    plot(p, aspect_ratio = :equal, size = (3000, 3000))\n",
    "    # create paths\n",
    "    ispath(\"data_TDA/LTX\" * LTX) || mkpath(\"data_TDA/LTX\" * LTX)\n",
    "    savefig(\"data_TDA/LTX\" * LTX * \"/sampled_points_whole.png\")\n",
    "end"
   ]
  },
  {
   "cell_type": "code",
   "execution_count": 100,
   "metadata": {},
   "outputs": [],
   "source": [
    "# stitch together the sampled points\n",
    "plot_wholeslide_points(LTX)"
   ]
  },
  {
   "cell_type": "code",
   "execution_count": 106,
   "metadata": {},
   "outputs": [],
   "source": [
    "plot_wholeslide_points_highlight_ROI(LTX, collect(22:24), collect(23:25))"
   ]
  },
  {
   "attachments": {},
   "cell_type": "markdown",
   "metadata": {},
   "source": [
    "Coordinates\n",
    "* rows: first numbers in a file. y-coordinate (top:0, bottom: high)\n",
    "* cols: second numbers in a file. x-coordinate (left:0, right: high)\n",
    "\n",
    "### Very normal\n",
    "* 029: rows 12 - 13, cols 4- 6\n",
    "* 075: rows 6-7, cols 25- 28\n",
    "* 115: rows 16 - 18, cols 23 - 28\n",
    "* 221: region 1:  rows 8 -11, cols 5 - 9\n",
    "    region 2: rows 18 - 22, cols 6 - 7\n",
    "\n",
    "### normal\n",
    "* 001: row 17 - 17, cols 24 - 25\n",
    "* 021: row 15 - 16, cols 1 - 2\n",
    "* 092: row 21 - 22, col 13 - 14\n",
    "* 143: region 1: row 2 -4, col 5 - 10, \n",
    "    region 2: row 22 - 24, col 23 - 25\n"
   ]
  },
  {
   "cell_type": "code",
   "execution_count": 6,
   "metadata": {},
   "outputs": [],
   "source": [
    "normal_ROIs = Dict(\"029\" => (collect(12:13), collect(4:6)),\n",
    "                   \"075\" => (collect(6:7), collect(25:28)),\n",
    "                   \"115\" => (collect(16:18), collect(23:28)),\n",
    "                   \"221\" => (collect(8:11), collect(5:9)),\n",
    "                   \"001\" => (collect(17:17), collect(24:25)),\n",
    "                   \"021\" => (collect(15:16), collect(1:2)),\n",
    "                   \"092\" => (collect(21:22), collect(13:14)),\n",
    "                   \"143\" => (collect(2:4), collect(5:10)))\n",
    "\n",
    "normal_ROIs2 = Dict(\"221\" => (collect(18:22), collect(6:7)),\n",
    "                    \"143\" => (collect(22:24), collect(23:25)));"
   ]
  },
  {
   "attachments": {},
   "cell_type": "markdown",
   "metadata": {},
   "source": [
    "# Compute PD"
   ]
  },
  {
   "cell_type": "code",
   "execution_count": 16,
   "metadata": {},
   "outputs": [],
   "source": [
    "using DelimitedFiles\n",
    "using FileIO \n"
   ]
  },
  {
   "cell_type": "code",
   "execution_count": 18,
   "metadata": {},
   "outputs": [],
   "source": [
    "for (LTX, v) in normal_ROIs\n",
    "    rows, cols = v\n",
    "    sample_CSV_directory = \"/Volumes/My Passport/wholeslide_sampled_points/\" * LTX * \"/points_CSV/\"\n",
    "\n",
    "    PD0_ECM = Dict()\n",
    "    PD1_ECM = Dict()\n",
    "    \n",
    "    # create PD paths\n",
    "    PD0_dir = \"data_TDA/normal_LTX\" * LTX * \"/PD0/\"\n",
    "    PD1_dir = \"data_TDA/normal_LTX\" * LTX * \"/PD1/\"\n",
    "    ispath(PD0_dir) || mkpath(PD0_dir)\n",
    "    ispath(PD1_dir) || mkpath(PD1_dir)\n",
    "\n",
    "    for (r,c) in Iterators.product(rows, cols)\n",
    "        CSV_filename = lpad(r, 5, \"0\") * \"_\" * lpad(c, 5, \"0\") * \"_psr.csv\"\n",
    "        df = CSV.read(sample_CSV_directory * CSV_filename)\n",
    "        name = lpad(r, 5, \"0\") * \"_\" * lpad(c, 5, \"0\") \n",
    "        if size(df,1) != 0\n",
    "            PD0, PD1 = run_PH(df)\n",
    "\n",
    "            # save\n",
    "            writedlm(PD0_dir * name * \".csv\", PD0, \",\")\n",
    "            writedlm(PD1_dir * name * \".csv\", PD1, \",\")\n",
    "\n",
    "            # combine to dictionary\n",
    "            PD0_ECM[name] = PD0\n",
    "            PD1_ECM[name] = PD1\n",
    "        else\n",
    "            PD0 = nothing\n",
    "            PD1 = nothing\n",
    "\n",
    "            writedlm(PD0_dir * name * \".csv\", zeros(), \",\")\n",
    "            writedlm(PD1_dir * name * \".csv\", zeros(), \",\")\n",
    "            # combine to dictionary\n",
    "            PD0_ECM[name] = PD0\n",
    "            PD1_ECM[name] = PD1\n",
    "        end\n",
    "    end\n",
    "\n",
    "    # check second normal region\n",
    "    if LTX in keys(normal_ROIs2)\n",
    "        rows, cols = normal_ROIs2[LTX]\n",
    "        for (r,c) in Iterators.product(rows, cols)\n",
    "            CSV_filename = lpad(r, 5, \"0\") * \"_\" * lpad(c, 5, \"0\") * \"_psr.csv\"\n",
    "            name = lpad(r, 5, \"0\") * \"_\" * lpad(c, 5, \"0\") \n",
    "            df = CSV.read(sample_CSV_directory * CSV_filename)\n",
    "            if size(df,1) != 0\n",
    "                PD0, PD1 = run_PH(df)\n",
    "    \n",
    "                # save\n",
    "                writedlm(PD0_dir * name * \".csv\", PD0, \",\")\n",
    "                writedlm(PD1_dir * name * \".csv\", PD1, \",\")\n",
    "    \n",
    "                # combine to dictionary\n",
    "                PD0_ECM[name] = PD0\n",
    "                PD1_ECM[name] = PD1\n",
    "            else\n",
    "                PD0 = nothing\n",
    "                PD1 = nothing\n",
    "    \n",
    "                writedlm(PD0_dir * name * \".csv\", zeros(), \",\")\n",
    "                writedlm(PD1_dir * name * \".csv\", zeros(), \",\")\n",
    "                # combine to dictionary\n",
    "                PD0_ECM[name] = PD0\n",
    "                PD1_ECM[name] = PD1\n",
    "            end\n",
    "        end\n",
    "\n",
    "    end\n",
    "\n",
    "    # save PD\n",
    "    save(\"data_TDA/normal_LTX\" * LTX * \"/PD.jld2\", \"PD0\", PD0_ECM, \"PD1\", PD1_ECM)\n",
    "end"
   ]
  },
  {
   "cell_type": "code",
   "execution_count": null,
   "metadata": {},
   "outputs": [],
   "source": []
  }
 ],
 "metadata": {
  "kernelspec": {
   "display_name": "Julia 1.6.3",
   "language": "julia",
   "name": "julia-1.6"
  },
  "language_info": {
   "file_extension": ".jl",
   "mimetype": "application/julia",
   "name": "julia",
   "version": "1.6.3"
  },
  "orig_nbformat": 4
 },
 "nbformat": 4,
 "nbformat_minor": 2
}
