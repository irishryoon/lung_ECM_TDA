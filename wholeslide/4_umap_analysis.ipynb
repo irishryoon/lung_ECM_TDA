{
 "cells": [
  {
   "cell_type": "code",
   "execution_count": null,
   "metadata": {},
   "outputs": [],
   "source": [
    "include(\"../src/ECM_TDA.jl\")\n",
    "using .ECM_TDA\n",
    "using Eirene\n",
    "using Ripserer\n",
    "using CSV\n",
    "using TiffImages\n",
    "using Images\n",
    "using NPZ\n",
    "using Plots\n",
    "using Distances\n",
    "using Clustering\n",
    "using PersistenceDiagrams\n",
    "using Measures\n",
    "using Distributions\n",
    "using MultivariateStats\n",
    "using LinearAlgebra\n",
    "using Random\n",
    "using StatsBase\n",
    "using JLD2\n",
    "using FileIO\n",
    "using PersistenceDiagrams\n",
    "using DelimitedFiles\n",
    "using DataFrames\n",
    "using UMAP"
   ]
  },
  {
   "cell_type": "code",
   "execution_count": null,
   "metadata": {},
   "outputs": [],
   "source": [
    "function plot_ECM(group_selected,\n",
    "    idx_files,\n",
    "    save_name;\n",
    "    grid_layout = nothing,\n",
    "    size = nothing,\n",
    "    right_margin = 4mm,\n",
    "    left_margin = -7mm,\n",
    "    bottom_margin = 0mm)\n",
    "    \n",
    "    plot_array = []\n",
    "    n_group = length(group_selected)\n",
    "    n_ROI = length(group_selected[1])\n",
    "\n",
    "\n",
    "    for i=1:n_group\n",
    "        R = group_selected[i]\n",
    "        for idx in R\n",
    "            f = idx_files[idx]\n",
    "            LTX, row, col, _ = split(f, \"_\")\n",
    "            LTX = LTX[4:end]\n",
    "            ECM_path = \"/Volumes/My Passport/iris_data/LTX\" * LTX * \"/tile_size_4000/\" * row * \"_\" * col * \"_psr.tif\"\n",
    "            points_path = \"/Volumes/My Passport/wholeslide_sampled_points/\" * LTX * \"/points_CSV/\" * row * \"_\" * col * \"_psr.csv\"\n",
    "\n",
    "            p_ECM = Images.load(ECM_path)\n",
    "            push!(plot_array, plot(p_ECM, ticks = [], frame = :box))\n",
    "\n",
    "            df = CSV.read(points_path)\n",
    "            p2 = scatter(df[:,:x], df[:,:y],\n",
    "                yflip = :true,\n",
    "                label = \"\", markersize = 1, markerstrokewidth = 0)\n",
    "\n",
    "            push!(plot_array, p2)\n",
    "        end\n",
    "    end\n",
    "    #return plot_array\n",
    "    if grid_layout == nothing\n",
    "        grid_layout = grid(n_group, n_ROI * 2)\n",
    "    end\n",
    "\n",
    "    if size == nothing\n",
    "        size = (250 * n_ROI * 2, 250 * n_group)\n",
    "    end\n",
    "    p = plot(plot_array..., layout = grid_layout, size = size)\n",
    "    savefig(save_name)\n",
    "end"
   ]
  },
  {
   "cell_type": "code",
   "execution_count": null,
   "metadata": {},
   "outputs": [],
   "source": [
    "# color palettes\n",
    "c1 = \"#fd5184\" # pink\n",
    "c2 = \"#ffb602\" # yellow\n",
    "c3 = \"#3ec0c9\" # blue / teal \n",
    "c4 = \"#926EAE\" # light purple\n",
    "c5 = \"#49a849\" # green\n",
    "c6 = \"#F28522\" # orange\n",
    "c7 = \"#265BF5\" # dark blue \n",
    "c8 = \"#AEF359\" # lime green\n",
    "c9 = \"#FF1DCE\" # purple \n",
    "\n",
    "gr()"
   ]
  },
  {
   "cell_type": "markdown",
   "metadata": {},
   "source": [
    "## Perform UMAP"
   ]
  },
  {
   "cell_type": "code",
   "execution_count": null,
   "metadata": {},
   "outputs": [],
   "source": [
    "# load all PD \n",
    "LTXs = [\"001\",\"013\", \"021\", \"034\", \"041\", \"050\", \"051\", \"073\", \"079\",\n",
    "        \"092\", \"100\", \"108\", \"115\", \"142\", \"143\", \"145\", \"185\", \"206\", \"210\", \"221\"]\n",
    "\n",
    "all_PD0 = Dict()\n",
    "all_PD1 = Dict()\n",
    "\n",
    "# load PD\n",
    "for LTX in LTXs\n",
    "    PD = load(\"data_TDA/LTX\" *  LTX * \"/PD.jld2\")\n",
    "    PD0 = PD[\"PD0\"]\n",
    "    PD1 = PD[\"PD1\"];\n",
    "   \n",
    "    for (k,v) in PD0\n",
    "        all_PD0[\"LTX\" * LTX * \"_\" * k] = v\n",
    "    end\n",
    "\n",
    "    for (k,v) in PD1\n",
    "        all_PD1[\"LTX\" * LTX * \"_\" * k] = v\n",
    "    end\n",
    "end\n",
    "\n",
    "# append from normal slides too\n",
    "normal_LTXs = [\"001\", \"021\", \"029\", \"075\", \"092\", \"115\", \"143\"]\n",
    "\n",
    "for LTX in normal_LTXs\n",
    "     PD = load(\"data_TDA/normal_LTX\" * LTX * \"/PD.jld2\")\n",
    "     PD0 = PD[\"PD0\"]\n",
    "     PD1 = PD[\"PD1\"]\n",
    "\n",
    "     for (k,v) in PD0\n",
    "         all_PD0[\"normal_LTX\" * LTX * \"_\" * k] = v\n",
    "     end\n",
    "\n",
    "     for (k,v) in PD1\n",
    "         all_PD1[\"normal_LTX\" * LTX * \"_\" * k] = v\n",
    "     end\n",
    "end "
   ]
  },
  {
   "cell_type": "code",
   "execution_count": null,
   "metadata": {},
   "outputs": [],
   "source": [
    "# recompute coarser PI\n",
    "PH0_dict = Dict(k => ECM_TDA.array_to_ripsererPD(v) for (k,v) in all_PD0 if v != nothing);\n",
    "PH1_dict = Dict(k => ECM_TDA.array_to_ripsererPD(v) for (k,v) in all_PD1 if v != nothing);\n",
    "\n",
    "PI0 = PersistenceImage([PH0_dict[k] for k in keys(PH0_dict)], sigma=50, size = 20)\n",
    "PI1 = PersistenceImage([PH1_dict[k] for k in keys(PH1_dict)], sigma=50, size = 20)\n",
    "\n",
    "\n",
    "ECM_PI0 = Dict()\n",
    "for i in keys(PH0_dict)\n",
    "    ECM_PI0[i] = PI0(PH0_dict[i])\n",
    "end\n",
    "\n",
    "ECM_PI1 = Dict()\n",
    "for i in keys(PH1_dict)\n",
    "    ECM_PI1[i] = PI1(PH1_dict[i])\n",
    "end\n"
   ]
  },
  {
   "cell_type": "code",
   "execution_count": null,
   "metadata": {},
   "outputs": [],
   "source": [
    "# combine features\n",
    "features = Dict()\n",
    "for f in keys(ECM_PI0)\n",
    "    # check that f is a key in all dictionaries\n",
    "    if f in keys(ECM_PI1)\n",
    "        combined = vcat(ECM_PI0[f], vec(ECM_PI1[f]))\n",
    "        features[f] = combined\n",
    "    end\n",
    "end"
   ]
  },
  {
   "cell_type": "code",
   "execution_count": null,
   "metadata": {},
   "outputs": [],
   "source": [
    "# save as dataframe\n",
    "empty_cols = [[] for i = 1:421];\n",
    "col_names = vcat([\"ROI\"],[\"coord_\" * string(i) for i = 1:420]);\n",
    "\n",
    "df = DataFrame(empty_cols, [Symbol(i) for i in col_names])\n",
    "for f in keys(features)\n",
    "    push!(df, vcat([f], features[f]))\n",
    "end;\n",
    "\n",
    "#CSV.write(\"wholeslide_tda_features.csv\", df)"
   ]
  },
  {
   "cell_type": "code",
   "execution_count": null,
   "metadata": {},
   "outputs": [],
   "source": [
    "# index and ROIs \n",
    "#ROIs = collect(keys(features))\n",
    "#idx_ROI = Dict(i => roi for (i, roi) in enumerate(ROIs));\n",
    "\n",
    "#save(\"analysis_TDA/dim_red/idx_ROI.jld2\", \"idx_ROI\", idx_ROI)\n",
    "idx_ROI = load(\"analysis_TDA/dim_red/idx_ROI.jld2\")[\"idx_ROI\"];"
   ]
  },
  {
   "cell_type": "code",
   "execution_count": null,
   "metadata": {},
   "outputs": [],
   "source": [
    "# for saving idx_ROI as numpy \n",
    "ROIs = []\n",
    "for i = 1:9382\n",
    "    push!(ROIs, idx_ROI[i])\n",
    "end\n",
    "\n",
    "using PyCall\n",
    "np = pyimport(\"numpy\")\n",
    "np.save(\"idx_ROI.npy\", ROIs)"
   ]
  },
  {
   "cell_type": "code",
   "execution_count": null,
   "metadata": {},
   "outputs": [],
   "source": [
    "# prepare features array\n",
    "n = length(idx_ROI)\n",
    "features_array = hcat([features[idx_ROI[i]] for i = 1:n]...)\n",
    "println(\"features array shape: \", size(features_array))\n",
    "\n",
    "features_centered = features_array .- mean(features_array, dims = 2);"
   ]
  },
  {
   "cell_type": "code",
   "execution_count": null,
   "metadata": {},
   "outputs": [],
   "source": [
    "# compute UMAP & save\n",
    "#embedding = umap(features_centered, 2; n_neighbors = 5);\n",
    "#writedlm(\"analysis_TDA/dim_red/umap.csv\", embedding, \",\")\n",
    "\n",
    "# load UMAP\n",
    "embedding = Array(CSV.read(\"analysis_TDA/dim_red/umap.csv\", header = false))"
   ]
  },
  {
   "cell_type": "code",
   "execution_count": null,
   "metadata": {},
   "outputs": [],
   "source": [
    "gr()\n",
    "n = size(embedding, 2)\n",
    "p = scatter(embedding[1,:], embedding[2,:], \n",
    "        markercolor = \"slategrey\",\n",
    "        markersize = 1, \n",
    "        label = \"\", \n",
    "        xticks = [], \n",
    "        yticks = [], \n",
    "        framestyle = :box,  \n",
    "        xlabel = \"UMAP-1\",\n",
    "        ylabel = \"UMAP-2\",\n",
    "        guidefontsize = 15,\n",
    "        leftmargin = 5mm,\n",
    "        size = (450, 350),\n",
    "        hover = 1:n,\n",
    "        legend = :topright)\n",
    "#savefig(\"analysis_TDA/dim_red/UMAP.pdf\")"
   ]
  },
  {
   "attachments": {},
   "cell_type": "markdown",
   "metadata": {},
   "source": [
    "## Plot example regions in UMAP"
   ]
  },
  {
   "cell_type": "code",
   "execution_count": null,
   "metadata": {},
   "outputs": [],
   "source": [
    "plotly()\n",
    "n = size(embedding, 2)\n",
    "p = scatter(embedding[1,:], embedding[2,:], \n",
    "        markercolor = \"slategrey\",\n",
    "        markersize = 1, \n",
    "        label = \"\", \n",
    "        xticks = [], \n",
    "        yticks = [], \n",
    "        framestyle = :box,  \n",
    "        xlabel = \"UMAP-1\",\n",
    "        ylabel = \"UMAP-2\",\n",
    "        guidefontsize = 15,\n",
    "        leftmargin = 5mm,\n",
    "        size = (450, 350),\n",
    "        hover = 1:n,\n",
    "        legend = :topright)"
   ]
  },
  {
   "cell_type": "code",
   "execution_count": null,
   "metadata": {},
   "outputs": [],
   "source": [
    "R1 = [7637, 9170, 396, 6406]\n",
    "R2 = [7047, 8489, 141, 858]\n",
    "R3 = [9092, 9053, 9001, 9193]\n",
    "R4 = [8080, 7729, 7948, 9008]\n",
    "R5 = [8652, 8899, 8835, 8610]\n",
    "R6 = [9215, 8792, 9303, 8341]\n",
    "R7 = [9299, 9321, 7361, 8783];"
   ]
  },
  {
   "cell_type": "code",
   "execution_count": null,
   "metadata": {},
   "outputs": [],
   "source": [
    "y = embedding\n",
    "p = scatter(embedding[1,:], embedding[2,:], \n",
    "        markercolor = \"slategrey\",\n",
    "        markersize = 1, \n",
    "        label = \"\", \n",
    "        xticks = [], \n",
    "        yticks = [], \n",
    "        framestyle = :box,  \n",
    "        xlabel = \"UMAP-1\",\n",
    "        ylabel = \"UMAP-2\",\n",
    "        guidefontsize = 15,\n",
    "        leftmargin = 5mm,\n",
    "        size = (450, 350),\n",
    "        hover = 1:n,\n",
    "        legend = :topright)\n",
    "\n",
    "\n",
    "scatter!(p, y[1,R1], y[2,R1], label = \"\", markersize = 5,  markercolor = c1, labels = \"R1\", legendfontsize = 4)\n",
    "scatter!(p, y[1,R2], y[2, R2], label = \"\", markersize = 5,  markercolor = c2, labels = \"R2\")\n",
    "scatter!(p, y[1,R3], y[2, R3], label = \"\", markersize = 5,  markercolor = c3, labels = \"R3\")\n",
    "scatter!(p, y[1,R4], y[2, R4], label = \"\", markersize = 5,  markercolor = c4, labels = \"R4\")\n",
    "scatter!(p, y[1,R5], y[2, R5], label = \"\", markersize = 5,  markercolor = c5, labels = \"R5\")\n",
    "scatter!(p, y[1,R6], y[2, R6], label = \"\", markersize = 5,  markercolor = c6, labels = \"R6\")\n",
    "scatter!(p, y[1,R7], y[2, R7], label = \"\", markersize = 5,  markercolor = c7, labels = \"R7\")\n"
   ]
  },
  {
   "cell_type": "code",
   "execution_count": null,
   "metadata": {},
   "outputs": [],
   "source": [
    "R1"
   ]
  },
  {
   "cell_type": "code",
   "execution_count": null,
   "metadata": {},
   "outputs": [],
   "source": [
    "LTX, row, col, _ = split(idx_ROI[7637], \"_\")"
   ]
  },
  {
   "cell_type": "code",
   "execution_count": null,
   "metadata": {},
   "outputs": [],
   "source": [
    "R = Dict(1 => [7637, 9170, 396, 6406],\n",
    "2 => [7047, 8489, 141, 858],\n",
    "3 => [9092, 9053, 9001, 9193],\n",
    "4 => [8080, 7729, 7948, 9008],\n",
    "5 => [8652, 8899, 8835, 8610],\n",
    "6 => [9215, 8792, 9303, 8341],\n",
    "7 => [9299, 9321, 7361, 8783])"
   ]
  },
  {
   "cell_type": "code",
   "execution_count": null,
   "metadata": {},
   "outputs": [],
   "source": [
    "gr()\n",
    "plot_ECM(R, idx_ROI, \"analysis_TDA/dim_red/example_regions.png\")"
   ]
  },
  {
   "cell_type": "code",
   "execution_count": null,
   "metadata": {},
   "outputs": [],
   "source": [
    "gr()\n",
    "plot(p1..., layout = grid(1,8))\n",
    "savefig(\"analysis_TDA/dim_red/example_regions.png\")"
   ]
  },
  {
   "attachments": {},
   "cell_type": "markdown",
   "metadata": {},
   "source": [
    "## Highlight normal ROIs"
   ]
  },
  {
   "cell_type": "code",
   "execution_count": null,
   "metadata": {},
   "outputs": [],
   "source": [
    "normal_idx = []\n",
    "for (k,v) in idx_ROI\n",
    "    if v[1:3] == \"nor\"\n",
    "        append!(normal_idx, k)\n",
    "    end\n",
    "end"
   ]
  },
  {
   "cell_type": "code",
   "execution_count": null,
   "metadata": {},
   "outputs": [],
   "source": [
    "gr()\n",
    "n = size(embedding, 2)\n",
    "p = scatter(embedding[1,:], embedding[2,:], \n",
    "        markercolor = \"slategrey\",\n",
    "        alpha = 0.8,\n",
    "        markersize = 1, \n",
    "        label = \"\", \n",
    "        xticks = [], \n",
    "        yticks = [], \n",
    "        framestyle = :box,  \n",
    "        xlabel = \"UMAP-1\",\n",
    "        ylabel = \"UMAP-2\",\n",
    "        guidefontsize = 15,\n",
    "        leftmargin = 5mm,\n",
    "        size = (450, 350),\n",
    "        legend = :topright)\n",
    "scatter!(embedding[1, normal_idx], embedding[2, normal_idx], \n",
    "        markercolor = :deeppink, label = \"\")\n",
    "#savefig(\"analysis_TDA/dim_red/UMAP_with_normal.svg\")"
   ]
  },
  {
   "attachments": {},
   "cell_type": "markdown",
   "metadata": {},
   "source": [
    "# Color UMAP by each LTX"
   ]
  },
  {
   "cell_type": "code",
   "execution_count": null,
   "metadata": {},
   "outputs": [],
   "source": [
    "function find_indices_of_LTX(idx_ROI, LTX)\n",
    "    indices = []\n",
    "    for (idx, ROI) in idx_ROI\n",
    "        if ROI[4:6] == LTX \n",
    "            append!(indices, idx)\n",
    "        end\n",
    "    end\n",
    "    return indices\n",
    "end"
   ]
  },
  {
   "cell_type": "code",
   "execution_count": null,
   "metadata": {},
   "outputs": [],
   "source": [
    "# all LTX\n",
    "LTXs = [\"001\",\"013\", \"021\", \"034\", \"041\", \"050\", \"051\", \"073\", \"079\",\n",
    "        \"092\", \"100\", \"108\", \"115\", \"142\", \"143\", \"145\", \"185\", \"206\", \"210\", \"221\"]"
   ]
  },
  {
   "cell_type": "code",
   "execution_count": null,
   "metadata": {},
   "outputs": [],
   "source": [
    "LTX = \"001\"\n",
    "indices = find_indices_of_LTX(idx_ROI, LTX);\n",
    "gr()\n",
    "n = size(embedding, 2)\n",
    "p = scatter(embedding[1,:], embedding[2,:], \n",
    "        markercolor = \"slategrey\",\n",
    "        markersize = 1, \n",
    "        label = \"\", \n",
    "        xticks = [], \n",
    "        yticks = [], \n",
    "        framestyle = :box,  \n",
    "        xlabel = \"UMAP-1\",\n",
    "        ylabel = \"UMAP-2\",\n",
    "        guidefontsize = 15,\n",
    "        leftmargin = 5mm,\n",
    "        size = (450, 350),\n",
    "        hover = 1:n,\n",
    "        legend = :topright)\n",
    "scatter!(embedding[1, indices], embedding[2, indices], markersize = 2,\n",
    "        markercolor = :deeppink, label = LTX)\n",
    "savefig(\"analysis_TDA/dim_red/UMAP_\" * LTX * \".pdf\")"
   ]
  },
  {
   "cell_type": "code",
   "execution_count": null,
   "metadata": {},
   "outputs": [],
   "source": [
    "for LTX in LTXs\n",
    "    indices = find_indices_of_LTX(idx_ROI, LTX);\n",
    "    gr()\n",
    "    n = size(embedding, 2)\n",
    "    p = scatter(embedding[1,:], embedding[2,:], \n",
    "            markercolor = \"slategrey\",\n",
    "            markersize = 1, \n",
    "            label = \"\", \n",
    "            xticks = [], \n",
    "            yticks = [], \n",
    "            framestyle = :box,  \n",
    "            xlabel = \"UMAP-1\",\n",
    "            ylabel = \"UMAP-2\",\n",
    "            guidefontsize = 15,\n",
    "            leftmargin = 5mm,\n",
    "            size = (450, 350),\n",
    "            hover = 1:n,\n",
    "            legend = :topright)\n",
    "    scatter!(embedding[1, indices], embedding[2, indices], markersize = 2,\n",
    "            markercolor = :deeppink, label = LTX)\n",
    "    savefig(\"analysis_TDA/dim_red/UMAP_\" * LTX * \".svg\")\n",
    "end\n"
   ]
  },
  {
   "attachments": {},
   "cell_type": "markdown",
   "metadata": {},
   "source": [
    "# Color dim-reduced UMAP with the assigned clusters"
   ]
  },
  {
   "cell_type": "code",
   "execution_count": null,
   "metadata": {},
   "outputs": [],
   "source": [
    "gr()"
   ]
  },
  {
   "cell_type": "code",
   "execution_count": null,
   "metadata": {},
   "outputs": [],
   "source": [
    "idx_ROI = load(\"analysis_TDA/dim_red/idx_ROI.jld2\")[\"idx_ROI\"];\n",
    "# load\n",
    "embedding = Array(CSV.read(\"analysis_TDA/dim_red/umap.csv\", header = false));"
   ]
  },
  {
   "cell_type": "code",
   "execution_count": null,
   "metadata": {},
   "outputs": [],
   "source": [
    "gr()\n",
    "n = size(embedding, 2)\n",
    "p = scatter(embedding[1,:], embedding[2,:], \n",
    "        markercolor = \"slategrey\",\n",
    "        markersize = 1, \n",
    "        label = \"\", \n",
    "        xticks = [], \n",
    "        yticks = [], \n",
    "        framestyle = :box,  \n",
    "        xlabel = \"UMAP-1\",\n",
    "        ylabel = \"UMAP-2\",\n",
    "        guidefontsize = 15,\n",
    "        leftmargin = 5mm,\n",
    "        size = (450, 350),\n",
    "        legend = :topright)\n",
    "savefig(\"analysis_TDA/dim_red/umap.svg\")"
   ]
  },
  {
   "cell_type": "code",
   "execution_count": null,
   "metadata": {},
   "outputs": [],
   "source": [
    "clusters_all_ROIs= Dict(-1 => [],\n",
    "0 => [],\n",
    "1 => [],\n",
    "2 => [],\n",
    "3 => [],\n",
    "4 => [],\n",
    "5 => [],\n",
    "6 => [],\n",
    "7 => []);\n",
    "\n",
    "\n",
    "ROI_idx = Dict(v => k for (k,v) in idx_ROI);\n",
    "\n",
    "LTXs = [\"001\",\"013\", \"021\", \"034\", \"041\", \"050\", \"051\", \"073\", \"079\",\n",
    "        \"092\", \"100\", \"108\", \"115\", \"142\", \"143\", \"145\", \"185\", \"206\", \"210\", \"221\"]\n",
    "\n",
    "for LTX in LTXs\n",
    "\n",
    "    # load assigned cluster\n",
    "    df_LTX = DataFrame(CSV.File(\"analysis_TDA/LTX\" * string(LTX) * \"/assigned_clusters.csv\"))\n",
    "    n = size(df_LTX, 1)\n",
    "    for i = 1:n\n",
    "        coord, c = df_LTX[i,:]\n",
    "        ROI = \"LTX\" * LTX * \"_\" * coord * \"_psr\"\n",
    "        idx = ROI_idx[ROI]\n",
    "        push!(clusters_all_ROIs[c], idx)\n",
    "    end\n",
    "end\n"
   ]
  },
  {
   "cell_type": "code",
   "execution_count": null,
   "metadata": {},
   "outputs": [],
   "source": [
    "function plot_clusters(embedding, clusters_all_ROIs, cluster)\n",
    "    # specify colors\n",
    "    colors = Dict(\n",
    "        -1 => \"gray44\",\n",
    "        0 => \"#780000\", \n",
    "        1=> \"#cb334c\", \n",
    "        2 => \"#f89981\",\n",
    "        3 => \"#ffbd00\",\n",
    "        4 => \"#02c39a\",\n",
    "        5 => \"#429bb4\",\n",
    "        6 => \"#7851A9\",\n",
    "        7 => \"#32174D\"\n",
    "        )\n",
    "    gr()\n",
    "    n = size(embedding, 2)\n",
    "    p = scatter(embedding[1,:], embedding[2,:], \n",
    "            markercolor = \"seashell3\",\n",
    "            alpha = 0.5,\n",
    "            markersize = 1.5,\n",
    "            markerstrokewidth = 0.1,\n",
    "            label = \"\", \n",
    "            xticks = [], \n",
    "            yticks = [], \n",
    "            framestyle = :box,  \n",
    "            #xlabel = \"UMAP-1\",\n",
    "            #ylabel = \"UMAP-2\",\n",
    "            guidefontsize = 15,\n",
    "            leftmargin = 5mm,\n",
    "            markerstrokecolor = \"white\",\n",
    "            size = (450, 350),\n",
    "            legend = :topright)\n",
    "    scatter!(embedding[1,clusters_all_ROIs[cluster]], embedding[2, clusters_all_ROIs[cluster]], \n",
    "            markercolor = colors[cluster], label = cluster, markersize = 1.5, markerstrokewidth = 0.1,\n",
    "            markerstrokecolor = \"white\")\n",
    "    plot(p)\n",
    "\n",
    "end"
   ]
  },
  {
   "cell_type": "code",
   "execution_count": null,
   "metadata": {},
   "outputs": [],
   "source": [
    "p_unassigned = plot_clusters(embedding, clusters_all_ROIs, -1)\n",
    "savefig(\"analysis_TDA/dim_red/cluster_unassigned.svg\")\n",
    "p0 = plot_clusters(embedding, clusters_all_ROIs, 0)\n",
    "savefig(\"analysis_TDA/dim_red/cluster_0.svg\")\n",
    "p1 = plot_clusters(embedding, clusters_all_ROIs, 1)\n",
    "savefig(\"analysis_TDA/dim_red/cluster_1.svg\")\n",
    "p2 = plot_clusters(embedding, clusters_all_ROIs, 2)\n",
    "savefig(\"analysis_TDA/dim_red/cluster_2.svg\")\n",
    "p3 = plot_clusters(embedding, clusters_all_ROIs, 3)\n",
    "savefig(\"analysis_TDA/dim_red/cluster_3.svg\")\n",
    "p4 = plot_clusters(embedding, clusters_all_ROIs, 4)\n",
    "savefig(\"analysis_TDA/dim_red/cluster_4.svg\")\n",
    "p5 = plot_clusters(embedding, clusters_all_ROIs, 5)\n",
    "savefig(\"analysis_TDA/dim_red/cluster_5.svg\")\n",
    "p6 = plot_clusters(embedding, clusters_all_ROIs, 6)\n",
    "savefig(\"analysis_TDA/dim_red/cluster_6.svg\")\n",
    "p7 = plot_clusters(embedding, clusters_all_ROIs, 7)\n",
    "savefig(\"analysis_TDA/dim_red/cluster_7.svg\")\n",
    "\n",
    "Plots.plot(p_unassigned, p0, p1, p2, p3, p4, p5, p6, p7, layout = grid(3,3), size = (1200, 1000))\n",
    "savefig(\"analysis_TDA/dim_red/color_by_assigned_clusters.svg\")"
   ]
  },
  {
   "cell_type": "code",
   "execution_count": null,
   "metadata": {},
   "outputs": [],
   "source": [
    "# in one plot \n",
    "\n",
    "\n",
    "# specify colors\n",
    "colors = Dict(\n",
    "    -1 => \"gray44\",\n",
    "    0 => \"#780000\", \n",
    "    1=> \"#cb334c\", \n",
    "    2 => \"#f89981\",\n",
    "    3 => \"#ffbd00\",\n",
    "    4 => \"#02c39a\",\n",
    "    5 => \"#429bb4\",\n",
    "    6 => \"#7851A9\",\n",
    "    7 => \"#32174D\"\n",
    "    )\n",
    "gr()\n",
    "n = size(embedding, 2)\n",
    "p = scatter(embedding[1,:], embedding[2,:], \n",
    "        markercolor = \"seashell3\",\n",
    "        alpha = 0.5,\n",
    "        markersize = 1.5,\n",
    "        markerstrokewidth = 0.1,\n",
    "        label = \"\",  \n",
    "        xlims = (-8, 14),\n",
    "        xticks = [],\n",
    "        yticks = [],\n",
    "        #ylims = (-12, 18),\n",
    "        #yticks = [], \n",
    "        framestyle = :box,  \n",
    "        #xlabel = \"UMAP-1\",\n",
    "        #ylabel = \"UMAP-2\",\n",
    "        guidefontsize = 15,\n",
    "        leftmargin = 5mm,\n",
    "        markerstrokecolor = \"white\",\n",
    "        size = (450, 350),\n",
    "        legend = :topright)\n",
    "\n",
    "for cluster = -1:7\n",
    "    scatter!(embedding[1,clusters_all_ROIs[cluster]], embedding[2, clusters_all_ROIs[cluster]], \n",
    "        markercolor = colors[cluster], label = cluster, markersize = 1.5, markerstrokewidth = 0.1,\n",
    "        markerstrokecolor = \"white\")\n",
    "end\n",
    "plot(p)\n",
    "savefig(\"analysis_TDA/dim_red/assigned_colors.pdf\")"
   ]
  }
 ],
 "metadata": {
  "kernelspec": {
   "display_name": "Julia 1.6.3",
   "language": "julia",
   "name": "julia-1.6"
  },
  "language_info": {
   "file_extension": ".jl",
   "mimetype": "application/julia",
   "name": "julia",
   "version": "1.6.3"
  },
  "orig_nbformat": 4
 },
 "nbformat": 4,
 "nbformat_minor": 2
}
