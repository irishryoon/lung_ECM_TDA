{
 "cells": [
  {
   "cell_type": "markdown",
   "id": "210fca8d",
   "metadata": {},
   "source": [
    "# Assign closest cluster\n",
    "* For each tile of wholeslide image, assign the closest cluster.\n",
    "* The clusters are computed from the 400 ROIs"
   ]
  },
  {
   "cell_type": "code",
   "execution_count": 1,
   "id": "a97353d8",
   "metadata": {},
   "outputs": [
    {
     "data": {
      "application/vnd.webio.node+json": {
       "children": [],
       "instanceArgs": {
        "namespace": "html",
        "tag": "div"
       },
       "nodeType": "DOM",
       "props": {},
       "type": "node"
      },
      "text/html": [
       "<div style=\"padding: 1em; background-color: #f8d6da; border: 1px solid #f5c6cb; font-weight: bold;\">\n",
       "<p>The WebIO Jupyter extension was not detected. See the\n",
       "<a href=\"https://juliagizmos.github.io/WebIO.jl/latest/providers/ijulia/\" target=\"_blank\">\n",
       "    WebIO Jupyter integration documentation\n",
       "</a>\n",
       "for more information.\n",
       "</div>\n"
      ],
      "text/plain": [
       "WebIO._IJuliaInit()"
      ]
     },
     "metadata": {},
     "output_type": "display_data"
    },
    {
     "name": "stderr",
     "output_type": "stream",
     "text": [
      "WARNING: could not import HDF5.Group into _hdf5_implementation\n",
      "WARNING: could not import HDF5.Dataset into _hdf5_implementation\n",
      "┌ Warning: Error requiring `HDF5` from `Plots`\n",
      "│   exception = (LoadError(\"/Users/irisyoon/.julia/packages/Plots/yJrrq/src/backends/hdf5.jl\", 36, UndefVarError(:Group)), Union{Ptr{Nothing}, Base.InterpreterIP}[Ptr{Nothing} @0x00000001012872cf, Ptr{Nothing} @0x000000010131c206, Ptr{Nothing} @0x000000010131d23b, Ptr{Nothing} @0x000000010131bb94, Ptr{Nothing} @0x000000010131bf0c, Base.InterpreterIP in top-level CodeInfo for Plots._hdf5_implementation at statement 4, Ptr{Nothing} @0x0000000101336844, Ptr{Nothing} @0x0000000101335f65, Ptr{Nothing} @0x0000000101336604, Ptr{Nothing} @0x0000000101336604, Ptr{Nothing} @0x0000000101337134, Ptr{Nothing} @0x0000000114d104e7, Ptr{Nothing} @0x0000000101305fbf, Ptr{Nothing} @0x0000000114d61312, Ptr{Nothing} @0x0000000114997a65, Ptr{Nothing} @0x0000000101305fbf, Ptr{Nothing} @0x0000000101312839, Ptr{Nothing} @0x000000010685aa9e, Ptr{Nothing} @0x0000000101305fbf, Ptr{Nothing} @0x000000010131d25f, Ptr{Nothing} @0x000000010131bb94, Ptr{Nothing} @0x000000010131bf0c, Base.InterpreterIP in top-level CodeInfo for Plots at statement 10, Ptr{Nothing} @0x0000000101336844, Ptr{Nothing} @0x0000000101337134, Ptr{Nothing} @0x000000010685a9c6, Ptr{Nothing} @0x000000010685a9fd, Ptr{Nothing} @0x0000000101305fbf, Ptr{Nothing} @0x000000010131d25f, Ptr{Nothing} @0x000000010131b913, Ptr{Nothing} @0x000000010131bdbe, Ptr{Nothing} @0x000000010131b62c, Base.InterpreterIP in MethodInstance for err(::Any, ::Module, ::String, ::String, ::Any) at statement 8, Ptr{Nothing} @0x000000010685a8f5, Ptr{Nothing} @0x000000010685a91d, Ptr{Nothing} @0x0000000101305fbf, Ptr{Nothing} @0x000000010131d25f, Ptr{Nothing} @0x000000010131b913, Ptr{Nothing} @0x000000010131bdbe, Ptr{Nothing} @0x000000010131b62c, Base.InterpreterIP in MethodInstance for withpath(::Any, ::String) at statement 10, Ptr{Nothing} @0x000000010685a772, Ptr{Nothing} @0x000000010685a83d, Ptr{Nothing} @0x0000000101305fbf, Ptr{Nothing} @0x000000010131d25f, Ptr{Nothing} @0x000000010131bb94, Ptr{Nothing} @0x000000010131b62c, Base.InterpreterIP in MethodInstance for listenpkg(::Any, ::Base.PkgId) at statement 3, Ptr{Nothing} @0x00000001068569b9, Ptr{Nothing} @0x0000000106857b4d, Ptr{Nothing} @0x0000000101305fbf, Ptr{Nothing} @0x0000000101334ae3, Ptr{Nothing} @0x0000000101326697, Ptr{Nothing} @0x0000000106811c5b, Ptr{Nothing} @0x0000000106812fd2, Ptr{Nothing} @0x000000010681571e, Ptr{Nothing} @0x0000000106817e6a, Ptr{Nothing} @0x00000001068369d3, Ptr{Nothing} @0x0000000101305fbf, Ptr{Nothing} @0x0000000101336f0c, Ptr{Nothing} @0x0000000101335cd3, Ptr{Nothing} @0x0000000101335f65, Ptr{Nothing} @0x0000000101336604, Ptr{Nothing} @0x0000000101336604, Ptr{Nothing} @0x0000000101337134, Ptr{Nothing} @0x0000000114d104e7, Ptr{Nothing} @0x0000000101305fbf, Ptr{Nothing} @0x0000000114d61312, Ptr{Nothing} @0x0000000114997a65, Ptr{Nothing} @0x0000000101305fbf, Ptr{Nothing} @0x0000000101312839, Ptr{Nothing} @0x00000001067c6e76, Ptr{Nothing} @0x0000000101305fbf, Ptr{Nothing} @0x000000010131d25f, Ptr{Nothing} @0x000000010131bb94, Ptr{Nothing} @0x000000010131bf0c, Base.InterpreterIP in top-level CodeInfo for Main.ECM_TDA at statement 0, Ptr{Nothing} @0x0000000101336844, Ptr{Nothing} @0x0000000101335f65, Ptr{Nothing} @0x0000000101336604, Ptr{Nothing} @0x0000000101337134, Ptr{Nothing} @0x0000000114d104e7, Ptr{Nothing} @0x0000000101305fbf, Ptr{Nothing} @0x0000000114d61312, Ptr{Nothing} @0x00000001067c6e0e, Ptr{Nothing} @0x0000000101305fbf, Ptr{Nothing} @0x000000010131d25f, Ptr{Nothing} @0x000000010131bb94, Ptr{Nothing} @0x000000010131bf0c, Base.InterpreterIP in top-level CodeInfo for Main at statement 0, Ptr{Nothing} @0x0000000101336844, Ptr{Nothing} @0x0000000101336604, Ptr{Nothing} @0x0000000101337134, Ptr{Nothing} @0x00000001067c693c, Ptr{Nothing} @0x00000001067c6d99, Ptr{Nothing} @0x0000000101305fbf, Ptr{Nothing} @0x00000001067c2f6c, Ptr{Nothing} @0x0000000101305fbf, Ptr{Nothing} @0x0000000101312839, Ptr{Nothing} @0x00000001067bc312, Ptr{Nothing} @0x00000001067bc684, Ptr{Nothing} @0x00000001067bc69c, Ptr{Nothing} @0x0000000101305fbf, Ptr{Nothing} @0x000000010132159d])\n",
      "└ @ Requires /Users/irisyoon/.julia/packages/Requires/Z8rfN/src/require.jl:51\n",
      "┌ Info: For saving to png with the Plotly backend PlotlyBase has to be installed.\n",
      "└ @ Plots /Users/irisyoon/.julia/packages/Plots/yJrrq/src/backends.jl:317\n"
     ]
    }
   ],
   "source": [
    "include(\"../src/ECM_TDA.jl\")\n",
    "using .ECM_TDA\n",
    "include(\"wholeslide_helper.jl\")\n",
    "using .wholeslide_helper\n",
    "using Eirene\n",
    "using Ripserer\n",
    "using CSV\n",
    "using TiffImages\n",
    "using Images\n",
    "using NPZ\n",
    "using Plots\n",
    "using PersistenceDiagrams\n",
    "using Measures\n",
    "using DataFrames\n",
    "using Distances\n",
    "using Distributions\n",
    "using MultivariateStats\n",
    "using LinearAlgebra\n",
    "using Random\n",
    "using StatsBase\n",
    "using JLD2\n",
    "using FileIO\n",
    "using PersistenceDiagrams\n",
    "using DelimitedFiles\n",
    "using UMAP"
   ]
  },
  {
   "cell_type": "code",
   "execution_count": 2,
   "id": "b94a234b",
   "metadata": {},
   "outputs": [
    {
     "data": {
      "text/plain": [
       "Plots.GRBackend()"
      ]
     },
     "execution_count": 2,
     "metadata": {},
     "output_type": "execute_result"
    }
   ],
   "source": [
    "gr()"
   ]
  },
  {
   "attachments": {},
   "cell_type": "markdown",
   "id": "6828d17d",
   "metadata": {},
   "source": [
    "# Color patches of wholeslide images according to closest clusters, multiple LTX"
   ]
  },
  {
   "cell_type": "code",
   "execution_count": 55,
   "id": "f4d0846c",
   "metadata": {},
   "outputs": [
    {
     "name": "stdout",
     "output_type": "stream",
     "text": [
      "001\n",
      "013\n",
      "021\n",
      "034\n",
      "041\n",
      "050\n",
      "051\n",
      "073\n",
      "079\n",
      "092\n",
      "100\n",
      "108\n",
      "115\n",
      "142\n",
      "143\n",
      "145\n",
      "185\n",
      "206\n",
      "210\n",
      "221\n"
     ]
    }
   ],
   "source": [
    "LTXs = [\"001\",\"013\", \"021\", \"034\", \"041\", \"050\", \"051\", \"073\", \"079\",\n",
    "        \"092\", \"100\", \"108\", \"115\", \"142\", \"143\", \"145\", \"185\", \"206\", \"210\", \"221\"]\n",
    "\n",
    "gr()\n",
    "\n",
    "\n",
    "# load ECM features from original ROIs (dataset 1)\n",
    "idx_ROI_original = load(\"../data/4000x4000_combined/ECM_PI01_idx_files.jld2\")[\"idx_files\"]\n",
    "features_original = load(\"../analysis/ECM/combined/features.jld2\")[\"features\"]\n",
    "\n",
    "# load the cluster index (new clusters)\n",
    "df = DataFrame(CSV.read(\"cluster_labels_python.csv\", header = false ))\n",
    "clusters_original = Dict(-1 => [], 0 => [], 1 => [], 2 => [], 3 => [], 4 => [], 5 =>[], 6 => [], 7 => [])\n",
    "for i = 1:size(df,1)\n",
    "    cluster = Int(df[i, :Column1])\n",
    "    push!(clusters_original[cluster], i)\n",
    "end\n",
    "idx_clusters_original = Dict(j => k for (k,v) in clusters_original for j in v);\n",
    "\n",
    "\n",
    "# load the PI used in the 400 ROIs (need to use the same limits when computing PI)\n",
    "PI_ranges = load(\"../data/4000x4000_combined/ECM_PD/PI_ranges.jld2\")\n",
    "\n",
    "PI0_xmin = PI_ranges[\"PI0_xmin\"]\n",
    "PI0_xmax = PI_ranges[\"PI0_xmax\"]\n",
    "PI0_ymin = PI_ranges[\"PI0_ymin\"]\n",
    "PI0_ymax = PI_ranges[\"PI0_ymax\"]\n",
    "PI1_xmin = PI_ranges[\"PI1_xmin\"]\n",
    "PI1_xmax = PI_ranges[\"PI1_xmax\"]\n",
    "PI1_ymin = PI_ranges[\"PI1_ymin\"]\n",
    "PI1_ymax = PI_ranges[\"PI1_ymax\"];\n",
    "\n",
    "for LTX in LTXs\n",
    "    println(LTX)\n",
    "    # create directory (if it doesn't already exist)\n",
    "    isdir(\"analysis_TDA/LTX\" * string(LTX)) || mkdir(\"analysis_TDA/LTX\" * string(LTX))\n",
    "   \n",
    "    # load PD\n",
    "    PD = load(\"data_TDA/LTX\" * LTX * \"/PD.jld2\")\n",
    "    PD0 = PD[\"PD0\"]\n",
    "    PD1 = PD[\"PD1\"]\n",
    "\n",
    "    # compute PI\n",
    "    PH0 = Dict(k => ECM_TDA.array_to_ripsererPD(v) for (k,v) in PD0 if v != nothing)\n",
    "    PH1 = Dict(k => ECM_TDA.array_to_ripsererPD(v) for (k,v) in PD1 if v != nothing)\n",
    "\n",
    "    PI0 = PersistenceImage((PI0_ymin, PI0_ymax),(PI0_xmin, PI0_xmax), sigma= 50, size = (20,1))\n",
    "    PI1 = PersistenceImage((PI1_ymin, PI1_ymax),(PI1_xmin, PI1_xmax), sigma= 50, size = (20,20))\n",
    "\n",
    "    ECM_PI0 = Dict()\n",
    "    for i in keys(PH0)\n",
    "        ECM_PI0[i] = PI0(PH0[i])\n",
    "    end\n",
    "\n",
    "    ECM_PI1 = Dict()\n",
    "    for i in keys(PH1)\n",
    "        ECM_PI1[i] = PI1(PH1[i])\n",
    "    end\n",
    "\n",
    "    # combine PI (dim 0, dim 1) features\n",
    "    features_dict = combine_dim01_PIs(ECM_PI0, ECM_PI1)\n",
    "\n",
    "    # get idx_ROI dict (of wholeslide data)\n",
    "    ROIs = collect(keys(features_dict))\n",
    "    idx_ROI = Dict(i => roi for (i, roi) in enumerate(ROIs));\n",
    "    ROI_idx = Dict(v => k for (k,v) in idx_ROI)\n",
    "\n",
    "    # get features array\n",
    "    n = length(idx_ROI)\n",
    "    features = hcat([features_dict[idx_ROI[i]] for i = 1:n]...);\n",
    "    \n",
    "    # compute distances between original features (data v1) and new features (wholeslide data) \n",
    "    D = Distances.pairwise(Euclidean(), features, features_original, dims = 2);\n",
    "\n",
    "    # compute average features of each cluster\n",
    "    avg_features_by_clusters = Dict(i => mean(features_original[:,clusters_original[i]], dims = 2) for i in keys(clusters_original))\n",
    "\n",
    "    # for each tile (of wholeslide image), find closest cluster (according to averaged PI)\n",
    "    assigned_clusters = find_closest_cluster_for_wholeslide_tiles(features, avg_features_by_clusters)\n",
    "\n",
    "    # create dictionary of cluster => tile index\n",
    "    assigned_clusters_rev = Dict(i => [j for j in keys(assigned_clusters) if assigned_clusters[j] == i] for i in keys(clusters_original));\n",
    "\n",
    "\n",
    "    # save the dictionary of assigned clusters\n",
    "    df = DataFrame([[],[]], [:coordinates, :cluster])\n",
    "    for i = 1:length(ROI_idx)\n",
    "        push!(df, [idx_ROI[i][1:end-4], assigned_clusters[i]])\n",
    "    end\n",
    "    CSV.write(\"analysis_TDA/LTX\" * string(LTX) * \"/assigned_clusters.csv\", df)\n",
    "\n",
    "    # plot points sampled from wholeslide, colored by closest cluster\n",
    "    CSV_directory =  \"/Volumes/My Passport/wholeslide_sampled_points/\" * string(LTX) * \"/points_CSV/\"\n",
    "    filename = \"analysis_TDA/LTX\" * string(LTX) *  \"/LTX\" * string(LTX) * \"_colored_by_clusters.png\"\n",
    "    plot_wholeslide_points_colored_by_clusters2(assigned_clusters, ROI_idx; CSV_directory = CSV_directory, filename = filename, markersize = 3, size = (7000, 7000))\n",
    "end"
   ]
  }
 ],
 "metadata": {
  "@webio": {
   "lastCommId": "84c2ac03e0ef4b678c7997f4b6db7c7c",
   "lastKernelId": "cf68ee2f-505b-4565-ad92-7ff7e98283d1"
  },
  "kernelspec": {
   "display_name": "Julia 1.6.3",
   "language": "julia",
   "name": "julia-1.6"
  },
  "language_info": {
   "file_extension": ".jl",
   "mimetype": "application/julia",
   "name": "julia",
   "version": "1.6.3"
  }
 },
 "nbformat": 4,
 "nbformat_minor": 5
}
