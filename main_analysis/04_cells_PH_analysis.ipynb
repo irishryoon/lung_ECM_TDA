{
 "cells": [
  {
   "cell_type": "markdown",
   "metadata": {},
   "source": [
    "# Cells PH analysis\n",
    "\n",
    "This notebook performs dimensionality reduction on PH features from cells (cancer cells, leukocytes)"
   ]
  },
  {
   "cell_type": "code",
   "execution_count": null,
   "metadata": {},
   "outputs": [],
   "source": [
    "include(\"../src/ECM_TDA.jl\")\n",
    "using .ECM_TDA\n",
    "using Eirene\n",
    "using Ripserer\n",
    "using CSV\n",
    "using TiffImages\n",
    "using Images\n",
    "using NPZ\n",
    "using Plots\n",
    "using PersistenceDiagrams\n",
    "using Measures\n",
    "using Distributions\n",
    "using MultivariateStats\n",
    "using LinearAlgebra\n",
    "using Random\n",
    "using StatsBase\n",
    "using JLD2\n",
    "using FileIO\n",
    "using PersistenceDiagrams\n",
    "using DelimitedFiles\n",
    "using UMAP\n",
    "using DataFrames"
   ]
  },
  {
   "cell_type": "code",
   "execution_count": null,
   "metadata": {},
   "outputs": [],
   "source": [
    "# get indices with large and small i-th coordinates\n",
    "function get_coordinate_min_max_examples(transformed, i; n =4)\n",
    "\n",
    "    sorted = sortperm(transformed[i,:])\n",
    "    min_indices = sorted[1:n]\n",
    "    max_indices = sorted[end-n+1:end]\n",
    "    return min_indices, max_indices\n",
    "end\n",
    "\n",
    "function plot_low_high_PC_cancer_PSRH(min_indices, max_indices, idx_files, save_filename)\n",
    "    gr()\n",
    "    plot_array = []\n",
    "    n = length(min_indices)\n",
    "    \n",
    "    for indices in [max_indices, min_indices]\n",
    "        for idx in indices\n",
    "            f = idx_files[idx]\n",
    "        \n",
    "             \n",
    "            # get cells\n",
    "            df = CSV.read(\"data/4000x4000_combined/subregion_cells/\" * idx_files[idx] * \".csv\")\n",
    "\n",
    "            # plot cancer\n",
    "            df_cell = df[df.class .== \"cancer\", :]\n",
    "            p = scatter(df_cell.x, df_cell.y,\n",
    "                             markersize = 1.5,\n",
    "                             yflip = true,\n",
    "                             label = \"\",\n",
    "                             markerstrokewidth = 0.2,\n",
    "                             frame = :box,\n",
    "                             ticks = [],\n",
    "                            aspect_ratio = :equal,\n",
    "                            size = (150,150),\n",
    "                            background_color=:transparent, foreground_color=:black, \n",
    "                             c = c_cancer,\n",
    "                            right_margin = -5mm) \n",
    "\n",
    "            push!(plot_array, p)\n",
    "\n",
    "\n",
    "            p_PSRH = Images.load(\"data/4000x4000_combined/PSRH/\" * f * \".tif\")\n",
    "            push!(plot_array, plot(p_PSRH, ticks = [], frame = :box, bottom_margin = -3mm, right_margin = 5mm))\n",
    "        end\n",
    "    end\n",
    "    p = plot(plot_array..., layout = grid(2, n * 2), size = (250 * n * 2, 250 * 2))\n",
    "    savefig(save_filename)   \n",
    "end\n",
    "\n",
    "\n",
    "function plot_low_high_PC_leukocytes_PSRH(min_indices, max_indices, idx_files, save_filename)\n",
    "    gr()\n",
    "    plot_array = []\n",
    "    n = length(min_indices)\n",
    "    \n",
    "    for indices in [max_indices, min_indices]\n",
    "        for idx in indices\n",
    "            f = idx_files[idx]\n",
    "        \n",
    "             \n",
    "            # get cells\n",
    "            df = CSV.read(\"data/4000x4000_combined/subregion_cells/\" * idx_files[idx] * \".csv\")\n",
    "\n",
    "            # plot cancer\n",
    "            df_cell = df[df.class .== \"leukocytes\", :]\n",
    "            p = scatter(df_cell.x, df_cell.y,\n",
    "                             markersize = 1.5,\n",
    "                             yflip = true,\n",
    "                             label = \"\",\n",
    "                             markerstrokewidth = 0.2,\n",
    "                             frame = :box,\n",
    "                             ticks = [],\n",
    "                            aspect_ratio = :equal,\n",
    "                            size = (150,150),\n",
    "                            background_color=:transparent, foreground_color=:black, \n",
    "                             c = c_leukocytes,\n",
    "                            right_margin = -5mm) \n",
    "\n",
    "            push!(plot_array, p)\n",
    "\n",
    "\n",
    "            p_PSRH = Images.load(\"data/4000x4000_combined/PSRH/\" * f * \".tif\")\n",
    "            push!(plot_array, plot(p_PSRH, ticks = [], frame = :box, bottom_margin = -3mm, right_margin = 5mm))\n",
    "        end\n",
    "    end\n",
    "    p = plot(plot_array..., layout = grid(2, n * 2), size = (250 * n * 2, 250 * 2))\n",
    "    savefig(save_filename)   \n",
    "end\n",
    "\n",
    "function get_small_large_coordinate_examples(transformed, i, thresholds; n_coordinates = nothing, lim = 4)\n",
    "    if n_coordinates == nothing\n",
    "        n = size(transformed,1)\n",
    "    else\n",
    "        n = n_coordinates\n",
    "    end\n",
    "    \n",
    "    \n",
    "    ### get index of large coordinates\n",
    "    example_idx = reverse(sortperm(transformed[i,:]))\n",
    "\n",
    "    # select indices only if i is the largest coordinate\n",
    "    example_idx = [k for k in example_idx if i == findmax(transformed[:,k])[2]]\n",
    "\n",
    "    # select indices only if the remaining coordinates are small enough\n",
    "    large_idx = []\n",
    "    other_coords = [j for j=1:n if j != i]\n",
    "    for k in example_idx\n",
    "        append_bool = true\n",
    "        for j in other_coords\n",
    "            if abs(transformed[j,k]) > thresholds[j]\n",
    "                append_bool = false\n",
    "            end\n",
    "        end\n",
    "        \n",
    "        if append_bool == true\n",
    "            append!(large_idx, k) \n",
    "        end\n",
    "    end\n",
    "    \n",
    "    ### get index of small coordinates\n",
    "    example_idx = sortperm(transformed[i,:])\n",
    "\n",
    "    # select indices only if i is the largest coordinate\n",
    "    example_idx = [k for k in example_idx if i == findmin(transformed[:,k])[2]]\n",
    "    \n",
    "    # select indices only if the remaining coordinates are small enough\n",
    "    small_idx = []\n",
    "    other_coords = [j for j=1:n if j != i]\n",
    "    for k in example_idx\n",
    "        append_bool = true\n",
    "        for j in other_coords\n",
    "            if abs(transformed[j,k]) > thresholds[j]\n",
    "                append_bool = false\n",
    "            end\n",
    "        end\n",
    "        \n",
    "        if append_bool == true\n",
    "            append!(small_idx, k) \n",
    "        end\n",
    "    end\n",
    "    \n",
    "    return small_idx[1:lim], large_idx[1:lim]\n",
    "end\n",
    "\n",
    "function center_PI(PI)\n",
    "    n = length(PI)\n",
    "    PI_array =  hcat([vec(PI[i]) for i =1:n]...)\n",
    "    PI_centered = PI_array .- mean(PI_array, dims = 2)\n",
    "    return PI_centered\n",
    "end\n",
    "\n",
    "function compute_PI2(PD; sigma = 50, size = 20)\n",
    "    PH_dict = Dict(k => ECM_TDA.array_to_ripsererPD(v) for (k,v) in PD if v != nothing);\n",
    "\n",
    "    PI = PersistenceImage([PH_dict[k] for k in keys(PH_dict)], sigma=sigma, size = size)\n",
    "    PH_PI = Dict()\n",
    "    for i in keys(PH_dict)\n",
    "        PH_PI[i] = PI(PH_dict[i])\n",
    "    end\n",
    "    return PH_PI\n",
    "end"
   ]
  },
  {
   "cell_type": "code",
   "execution_count": null,
   "metadata": {},
   "outputs": [],
   "source": [
    "# color palettes\n",
    "c_ECM = \"#249EA0\" # teal\n",
    "c_cancer = \"#592693\" # purple\n",
    "c_leukocytes = \"#FAAB36\" # orange\n",
    "\n",
    "celltype_colors = Dict(\"cancer\" => c_cancer, \n",
    "                        \"leukocytes\"=> c_leukocytes);\n",
    "\n",
    "\n",
    "c1 = \"#fd5184\" # pink\n",
    "c2 = \"#ffb602\" # orange\n",
    "c3 = \"#3ec0c9\" # blue / teal \n",
    "c4 = \"#926EAE\" # purple\n",
    "c5 = \"#49a849\"  # green\n",
    "c6 = \"#F28522\"\n",
    "c7 = \"#265BF5\"\n",
    "c8 = \"#AEF359\" # lime green\n",
    "c9 = \"#FF1DCE\"\n",
    "\n",
    "\n",
    "# plotting parameters\n",
    "c_highlight = :deeppink2\n",
    "\n",
    "### for point cloud\n",
    "p_markersize = 5\n",
    "p_markerstrokewidth = 0.1\n",
    "p_imagesize = (300, 300)\n",
    "\n",
    "### for PD\n",
    "diagonal_lw = 2\n",
    "pd_markersize = 15\n",
    "tickfontsize = 25\n",
    "PD_size = (500, 500)\n",
    "inf_markerstrokewidth = 6"
   ]
  },
  {
   "attachments": {},
   "cell_type": "markdown",
   "metadata": {},
   "source": [
    "Load data"
   ]
  },
  {
   "cell_type": "code",
   "execution_count": null,
   "metadata": {},
   "outputs": [],
   "source": [
    "# load PI\n",
    "#PI = load(\"data/4000x4000_combined/cells_PD/PI.jld2\")\n",
    "# PI0_cancer = PI[\"PI0_cancer\"]\n",
    "# PI1_cancer = PI[\"PI1_cancer\"]\n",
    "# PI0_leukocytes = PI[\"PI0_leukocytes\"]\n",
    "# PI1_leukocytes = PI[\"PI1_leukocytes\"]\n",
    "\n",
    "# load PD\n",
    "PD = load(\"data/4000x4000_combined/cells_PD/PD.jld2\")\n",
    "PD0_cancer = PD[\"PD0_cancer\"]\n",
    "PD1_cancer = PD[\"PD1_cancer\"]\n",
    "PD0_leukocytes = PD[\"PD0_leukocytes\"]\n",
    "PD1_leukocytes = PD[\"PD1_leukocytes\"]\n",
    "\n",
    "# compute PI (with smaller size)\n",
    "PI0_cancer = compute_PI2(PD0_cancer)\n",
    "PI1_cancer = compute_PI2(PD1_cancer)\n",
    "PI0_leukocytes = compute_PI2(PD0_leukocytes)\n",
    "PI1_leukocytes = compute_PI2(PD1_leukocytes)\n",
    "\n",
    "# load PD_max\n",
    "PD_max = load(\"data/4000x4000_combined/cells_PD/PD_max.jld2\")\n",
    "cancer0_max = PD_max[\"cancer0_max\"]\n",
    "cancer1_max = PD_max[\"cancer1_max\"]\n",
    "leukocytes0_max = PD_max[\"leukocytes0_max\"]\n",
    "leukocytes1_max = PD_max[\"leukocytes1_max\"];"
   ]
  },
  {
   "cell_type": "code",
   "execution_count": null,
   "metadata": {},
   "outputs": [],
   "source": [
    "# save(\"data/4000x4000_combined/cells_PD/PI.jld2\",\n",
    "#     \"PI0_cancer\", PI0_cancer,\n",
    "#     \"PI1_cancer\", PI1_cancer,\n",
    "#     \"PI0_leukocytes\", PI0_leukocytes,\n",
    "#     \"PI1_leukocytes\", PI1_leukocytes)"
   ]
  },
  {
   "cell_type": "code",
   "execution_count": null,
   "metadata": {},
   "outputs": [],
   "source": [
    "# load cancer & leukocyte features\n",
    "PI = load(\"data/4000x4000_combined/cells_PD/PI.jld2\")\n",
    "cancer_PI0 = PI[\"PI0_cancer\"]\n",
    "cancer_PI1 = PI[\"PI1_cancer\"]\n",
    "leukocytes_PI0 = PI[\"PI0_leukocytes\"]\n",
    "leukocytes_PI1 = PI[\"PI1_leukocytes\"];"
   ]
  },
  {
   "cell_type": "code",
   "execution_count": null,
   "metadata": {},
   "outputs": [],
   "source": [
    "# recompute coarser PI \n",
    "PD0 = PD0_cancer\n",
    "PD1 = PD1_cancer\n",
    "\n",
    "PH0_dict = Dict(k => ECM_TDA.array_to_ripsererPD(v) for (k,v) in PD0 if v != nothing);\n",
    "PH1_dict = Dict(k => ECM_TDA.array_to_ripsererPD(v) for (k,v) in PD1 if v != nothing);\n",
    "\n",
    "pi0 = PersistenceImage([PH0_dict[k] for k in keys(PH0_dict)], sigma=50, size = 20)\n",
    "pi1 = PersistenceImage([PH1_dict[k] for k in keys(PH1_dict)], sigma=50, size = 20)\n",
    "\n",
    "\n",
    "PI0 = Dict()\n",
    "for i in keys(PH0_dict)\n",
    "    PI0[i] = pi0(PH0_dict[i])\n",
    "end\n",
    "\n",
    "PI1 = Dict()\n",
    "for i in keys(PH1_dict)\n",
    "    PI1[i] = pi1(PH1_dict[i])\n",
    "end\n"
   ]
  },
  {
   "cell_type": "code",
   "execution_count": null,
   "metadata": {},
   "outputs": [],
   "source": [
    "# save the min, max coordinates of PDs (useful for plotting)\n",
    "PI0_xmin = pi0.xs[1]\n",
    "PI0_xmax = pi0.xs[end]\n",
    "PI0_ymin = pi0.ys[1]\n",
    "PI0_ymax = pi0.ys[end]\n",
    "\n",
    "PI1_xmin = pi1.xs[1]\n",
    "PI1_xmax = pi1.xs[end]\n",
    "PI1_ymin = pi1.ys[1]\n",
    "PI1_ymax = pi1.ys[end]\n",
    "\n",
    "save(\"data/4000x4000_combined/cells_PD/cancer_PI_ranges.jld2\",\n",
    "    \"PI0_xmin\", PI0_xmin,\n",
    "    \"PI0_xmax\", PI0_xmax,\n",
    "    \"PI0_ymin\", PI0_ymin,\n",
    "    \"PI0_ymax\", PI0_ymax,\n",
    "    \"PI1_xmin\", PI1_xmin,\n",
    "    \"PI1_xmax\", PI1_xmax,\n",
    "    \"PI1_ymin\", PI1_ymin,\n",
    "    \"PI1_ymax\", PI1_ymax)"
   ]
  },
  {
   "cell_type": "code",
   "execution_count": null,
   "metadata": {},
   "outputs": [],
   "source": [
    "# recompute coarser PI \n",
    "PD0 = PD0_leukocytes\n",
    "PD1 = PD1_leukocytes\n",
    "\n",
    "PH0_dict = Dict(k => ECM_TDA.array_to_ripsererPD(v) for (k,v) in PD0 if v != nothing);\n",
    "PH1_dict = Dict(k => ECM_TDA.array_to_ripsererPD(v) for (k,v) in PD1 if v != nothing);\n",
    "\n",
    "pi0 = PersistenceImage([PH0_dict[k] for k in keys(PH0_dict)], sigma=50, size = 20)\n",
    "pi1 = PersistenceImage([PH1_dict[k] for k in keys(PH1_dict)], sigma=50, size = 20)\n",
    "\n",
    "\n",
    "PI0 = Dict()\n",
    "for i in keys(PH0_dict)\n",
    "    PI0[i] = pi0(PH0_dict[i])\n",
    "end\n",
    "\n",
    "PI1 = Dict()\n",
    "for i in keys(PH1_dict)\n",
    "    PI1[i] = pi1(PH1_dict[i])\n",
    "end\n",
    "\n",
    "# save the min, max coordinates of PDs (useful for plotting)\n",
    "PI0_xmin = pi0.xs[1]\n",
    "PI0_xmax = pi0.xs[end]\n",
    "PI0_ymin = pi0.ys[1]\n",
    "PI0_ymax = pi0.ys[end]\n",
    "\n",
    "PI1_xmin = pi1.xs[1]\n",
    "PI1_xmax = pi1.xs[end]\n",
    "PI1_ymin = pi1.ys[1]\n",
    "PI1_ymax = pi1.ys[end]\n",
    "\n",
    "save(\"data/4000x4000_combined/cells_PD/leukocytes_PI_ranges.jld2\",\n",
    "    \"PI0_xmin\", PI0_xmin,\n",
    "    \"PI0_xmax\", PI0_xmax,\n",
    "    \"PI0_ymin\", PI0_ymin,\n",
    "    \"PI0_ymax\", PI0_ymax,\n",
    "    \"PI1_xmin\", PI1_xmin,\n",
    "    \"PI1_xmax\", PI1_xmax,\n",
    "    \"PI1_ymin\", PI1_ymin,\n",
    "    \"PI1_ymax\", PI1_ymax)\n"
   ]
  },
  {
   "attachments": {},
   "cell_type": "markdown",
   "metadata": {
    "heading_collapsed": true
   },
   "source": [
    "# cancer, dimension 0"
   ]
  },
  {
   "cell_type": "code",
   "execution_count": null,
   "metadata": {
    "hidden": true
   },
   "outputs": [],
   "source": [
    "# create indices\n",
    "#files = collect(keys(PI0_cancer))\n",
    "#idx_files = Dict(i => files[i] for i=1:length(files));\n",
    "\n",
    "#save(\"analysis/cancer/cancer_PI0_idx_files.jld2\", \"idx_files\", idx_files)\n",
    "idx_files = load(\"analysis/cancer/cancer_PI0_idx_files.jld2\")[\"idx_files\"];\n",
    "file_idx = Dict(v => k for (k,v) in idx_files);"
   ]
  },
  {
   "cell_type": "code",
   "execution_count": null,
   "metadata": {
    "hidden": true
   },
   "outputs": [],
   "source": [
    "PI0_new = Dict(i => PI0_cancer[idx_files[i]] for i = 1:length(file_idx));"
   ]
  },
  {
   "attachments": {},
   "cell_type": "markdown",
   "metadata": {
    "heading_collapsed": true,
    "hidden": true
   },
   "source": [
    "## UMAP"
   ]
  },
  {
   "cell_type": "code",
   "execution_count": null,
   "metadata": {
    "hidden": true
   },
   "outputs": [],
   "source": [
    "Random.seed!(10)\n",
    "PI_centered = center_PI(PI0_new);\n",
    "embedding = umap(PI_centered, 2; n_neighbors = 5);"
   ]
  },
  {
   "cell_type": "code",
   "execution_count": null,
   "metadata": {
    "hidden": true
   },
   "outputs": [],
   "source": [
    "#writedlm(\"analysis/cancer/dim_0/umap.csv\", embedding, \",\")\n",
    "y = embedding = readdlm(\"analysis/cancer/dim_0/umap.csv\", ',');"
   ]
  },
  {
   "cell_type": "code",
   "execution_count": null,
   "metadata": {
    "hidden": true
   },
   "outputs": [],
   "source": [
    "gr()\n",
    "n = size(embedding, 2)\n",
    "p = scatter(embedding[1,:], embedding[2,:], \n",
    "        markercolor = \"slategrey\",\n",
    "        markersize = 5, \n",
    "        label = \"\", \n",
    "        xticks = [], \n",
    "        yticks = [], \n",
    "        framestyle = :box,  \n",
    "        xlabel = \"UMAP-1\",\n",
    "        ylabel = \"UMAP-2\",\n",
    "        guidefontsize = 15,\n",
    "        leftmargin = 5mm,\n",
    "        size = (450, 350),\n",
    "        hover = 1:n,\n",
    "        legend = :topright)\n",
    "savefig(\"analysis/cancer/dim_0/umap.pdf\")\n",
    "plot(p)"
   ]
  },
  {
   "attachments": {},
   "cell_type": "markdown",
   "metadata": {},
   "source": [
    "The following cells are from larger PI (PI size 100 x 100)"
   ]
  },
  {
   "cell_type": "code",
   "execution_count": null,
   "metadata": {
    "hidden": true
   },
   "outputs": [],
   "source": [
    "U1 = [401, 390, 172]\n",
    "U2 = [289, 313, 378]\n",
    "U3 = [400, 344, 353]\n",
    "U4 = [315, 379, 203]\n",
    "U5 = [322, 106, 283]\n",
    "U6 = [382, 369, 181]"
   ]
  },
  {
   "cell_type": "code",
   "execution_count": null,
   "metadata": {
    "hidden": true
   },
   "outputs": [],
   "source": [
    "# plot with regions\n",
    "gr()\n",
    "\n",
    "# load PCA\n",
    "y = readdlm(\"analysis/cancer/dim_0/umap.csv\", ',');\n",
    "\n",
    "markersize = 3\n",
    "legendfontsize = 5\n",
    "n = size(y, 2)\n",
    "annotated = vcat(U1, U2, U3, U4)\n",
    "nonannotated = [i for i = 1:size(y, 2) if i ∉ annotated]\n",
    "p = scatter(y[1,nonannotated], y[2,nonannotated], \n",
    "        markercolor = \"lightgray\",\n",
    "        alpha = 0.6,\n",
    "        markersize = markersize, \n",
    "        markerstrokewidth = 0.1,\n",
    "        label = \"\", \n",
    "        xaxis = \"UMAP-1\",\n",
    "        yaxis = \"UMAP-2\",\n",
    "        #xtickfontsize = 15,\n",
    "        #ytickfontsize = 15,\n",
    "        #xrotation = 45,\n",
    "        ticks = [],\n",
    "        xlims = (-15, 11),\n",
    "        #ylims = (-8, 8),\n",
    "        guidefontsize = 7,\n",
    "        framestyle = :box,\n",
    "        size = (200, 150),\n",
    "        #leftmargin = 2mm,\n",
    "        legend = :bottomleft,\n",
    "        #background_color=:transparent, foreground_color=:black,\n",
    "        )\n",
    "scatter!(y[1,U1], y[2,U1], markersize = markersize, markershape = :rect, markercolor = c1, labels = \"U1\", legendfontsize = legendfontsize)\n",
    "scatter!(y[1,U2], y[2,U2], markersize = markersize, markershape = :utriangle, markercolor = c2, labels = \"U2\")\n",
    "scatter!(y[1,U3], y[2,U3], markersize = markersize, markershape = :star, markercolor = c3, labels = \"U3\")\n",
    "scatter!(y[1,U4], y[2,U4], markersize = markersize, markershape = :diamond, markercolor = c4, labels = \"U4\")\n",
    "scatter!(y[1,U5], y[2,U5], markersize = markersize, markershape = :pentagon, markercolor = c5, labels = \"U5\")\n",
    "scatter!(y[1,U6], y[2,U6], markersize = markersize, markershape = :dtriangle, markercolor = c6, labels = \"U6\")\n",
    "savefig(\"analysis/cancer/dim_0/umap.pdf\")\n",
    "plot(p)"
   ]
  },
  {
   "cell_type": "code",
   "execution_count": null,
   "metadata": {
    "hidden": true
   },
   "outputs": [],
   "source": [
    "# plot ECM & PSRH images\n",
    "regions = Dict(1 => U1, 2=> U2, 3=> U3, 4=> U4, 5 => U5, 6 => U6)\n",
    "gr()\n",
    "plot_array = []\n",
    "n = length(regions)\n",
    "for i=1:n\n",
    "    R = regions[i]\n",
    "    for idx in R\n",
    "        f = idx_files[idx]\n",
    "        # get cells\n",
    "        df = CSV.read(\"data/4000x4000_combined/subregion_cells/\" * idx_files[idx] * \".csv\")\n",
    "        \n",
    "        # plot cancer\n",
    "        df_cell = df[df.class .== \"cancer\", :]\n",
    "        p = scatter(df_cell.x, df_cell.y,\n",
    "                         markersize = 1.5,\n",
    "                         yflip = true,\n",
    "                         label = \"\",\n",
    "                         markerstrokewidth = 0.2,\n",
    "                         frame = :box,\n",
    "                         ticks = [],\n",
    "                        aspect_ratio = :equal,\n",
    "                        size = (150,150),\n",
    "                        background_color=:transparent, foreground_color=:black, \n",
    "                         c = c_cancer,\n",
    "                        right_margin = -5mm) \n",
    "        \n",
    "        push!(plot_array, p)\n",
    "        \n",
    "        \n",
    "        \n",
    "        p_PSRH = Images.load(\"data/4000x4000_combined/PSRH/\" * f * \".tif\")\n",
    "        push!(plot_array, plot(p_PSRH, ticks = [], frame = :box, bottom_margin = -3mm, right_margin = 5mm))\n",
    "        \n",
    "    end\n",
    "end"
   ]
  },
  {
   "cell_type": "code",
   "execution_count": null,
   "metadata": {
    "hidden": true
   },
   "outputs": [],
   "source": [
    "p = plot(plot_array..., layout = grid(6, 6), size = (250 * 6, 250 * 6))\n",
    "savefig(\"analysis/cancer/dim_0/UMAP_examples.png\")"
   ]
  },
  {
   "attachments": {},
   "cell_type": "markdown",
   "metadata": {
    "heading_collapsed": true,
    "hidden": true
   },
   "source": [
    "## PCA"
   ]
  },
  {
   "cell_type": "code",
   "execution_count": null,
   "metadata": {
    "hidden": true,
    "scrolled": true
   },
   "outputs": [],
   "source": [
    "transformed, eigenvectors, variance_1, variance_2, _ = PI0_to_PCA(PI0_new; pratio = 0.99)\n",
    "\n",
    "\n",
    "save(\"analysis/cancer/dim_0/PCA.jld2\",\n",
    "    \"transformed\", transformed,\n",
    "    \"eigenvectors\", eigenvectors,\n",
    "    \"variance_1\", variance_1,\n",
    "    \"variance_2\", variance_2)\n",
    "\n",
    "println(\"number of components: \", length(eigenvectors))\n",
    "println(\"variance explained by 1 eigenvectors: \", variance_1)\n",
    "println(\"variance explained by 2 eigenvectors: \", variance_2)\n",
    "println(\"variance difference between 2 and 1:\", variance_2 - variance_1)"
   ]
  },
  {
   "cell_type": "code",
   "execution_count": null,
   "metadata": {
    "hidden": true
   },
   "outputs": [],
   "source": [
    "# load\n",
    "data = load(\"analysis/cancer/dim_0/PCA.jld2\")\n",
    "transformed = data[\"transformed\"]\n",
    "eigenvectors = data[\"eigenvectors\"];"
   ]
  },
  {
   "cell_type": "code",
   "execution_count": null,
   "metadata": {
    "hidden": true
   },
   "outputs": [],
   "source": [
    "plotly()\n",
    "y = transformed\n",
    "n = size(y, 2)\n",
    "p = scatter(y[1,:], y[2,:], \n",
    "        markercolor = \"slategrey\",\n",
    "        markersize = 5, \n",
    "        label = \"\", \n",
    "        xticks = [], \n",
    "        yticks = [], \n",
    "        framestyle = :box,  \n",
    "        guidefontsize = 15,\n",
    "        leftmargin = 5mm,\n",
    "        size = (450, 350),\n",
    "        hover = 1:n,\n",
    "        legend = :topright)"
   ]
  },
  {
   "cell_type": "code",
   "execution_count": null,
   "metadata": {
    "hidden": true
   },
   "outputs": [],
   "source": [
    "R1 = [141, 297, 195]\n",
    "R2 = [319, 55, 66]\n",
    "R3 = [279, 400, 228]\n",
    "R4 = [42, 315, 107]"
   ]
  },
  {
   "cell_type": "code",
   "execution_count": null,
   "metadata": {
    "hidden": true
   },
   "outputs": [],
   "source": [
    "# plot with regions\n",
    "gr()\n",
    "\n",
    "# load PCA\n",
    "y = load(\"analysis/cancer/dim_0/PCA.jld2\")[\"transformed\"]\n",
    "\n",
    "markersize = 3\n",
    "legendfontsize = 5\n",
    "n = size(y, 2)\n",
    "annotated = vcat(R1, R2, R3, R4)\n",
    "nonannotated = [i for i = 1:size(y, 2) if i ∉ annotated]\n",
    "p = scatter(y[1,nonannotated], y[2,nonannotated], \n",
    "        markercolor = \"lightgray\",\n",
    "        alpha = 0.6,\n",
    "        markersize = markersize, \n",
    "        markerstrokewidth = 0.1,\n",
    "        label = \"\", \n",
    "        xaxis = \"PC1 (95%)\",\n",
    "        yaxis = \"PC2 (4%)\",\n",
    "        #xtickfontsize = 15,\n",
    "        #ytickfontsize = 15,\n",
    "        #xrotation = 45,\n",
    "        xticks = (0, 0),\n",
    "        yticks = (0,0),\n",
    "        guidefontsize = 7,\n",
    "        framestyle = :box,\n",
    "        size = (200, 150),\n",
    "        #leftmargin = 2mm,\n",
    "        legend = :topright\n",
    "        #background_color=:transparent, foreground_color=:black,\n",
    "        )\n",
    "scatter!(y[1,R1], y[2,R1], label = \"\", markersize = markersize, markershape = :rect, markercolor = c1, labels = \"R1\", legendfontsize = legendfontsize)\n",
    "scatter!(y[1,R2], y[2,R2], label = \"\", markersize = markersize, markershape = :utriangle, markercolor = c2, labels = \"R2\")\n",
    "scatter!(y[1,R3], y[2,R3], label = \"\", markersize = markersize, markershape = :star, markercolor = c3, labels = \"R3\")\n",
    "scatter!(y[1,R4], y[2,R4], label = \"\", markersize = markersize, markershape = :diamond, markercolor = c4, labels = \"R4\")\n",
    "savefig(\"analysis/cancer/dim_0/pca.pdf\")\n",
    "plot(p)"
   ]
  },
  {
   "cell_type": "code",
   "execution_count": null,
   "metadata": {
    "hidden": true
   },
   "outputs": [],
   "source": [
    "# plot ECM & PSRH images\n",
    "regions = Dict(1 => R1, 2=> R2, 3=> R3, 4=> R4)\n",
    "gr()\n",
    "plot_array = []\n",
    "n = length(regions)\n",
    "for i=1:n\n",
    "    R = regions[i]\n",
    "    for idx in R\n",
    "        f = idx_files[idx]\n",
    "        # get cells\n",
    "        df = CSV.read(\"data/4000x4000_combined/subregion_cells/\" * idx_files[idx] * \".csv\")\n",
    "        \n",
    "        # plot cancer\n",
    "        df_cell = df[df.class .== \"cancer\", :]\n",
    "        p = scatter(df_cell.x, df_cell.y,\n",
    "                         markersize = 1.5,\n",
    "                         yflip = true,\n",
    "                         label = \"\",\n",
    "                         markerstrokewidth = 0.2,\n",
    "                         frame = :box,\n",
    "                         ticks = [],\n",
    "                        aspect_ratio = :equal,\n",
    "                        size = (150,150),\n",
    "                        background_color=:transparent, foreground_color=:black, \n",
    "                         c = c_cancer,\n",
    "                        right_margin = -5mm) \n",
    "        \n",
    "        push!(plot_array, p)\n",
    "        \n",
    "        \n",
    "        p_PSRH = Images.load(\"data/4000x4000_combined/PSRH/\" * f * \".tif\")\n",
    "        push!(plot_array, plot(p_PSRH, ticks = [], frame = :box, bottom_margin = -3mm, right_margin = 5mm))\n",
    "        \n",
    "    end\n",
    "end"
   ]
  },
  {
   "cell_type": "code",
   "execution_count": null,
   "metadata": {
    "hidden": true
   },
   "outputs": [],
   "source": [
    "p = plot(plot_array..., layout = grid(4, 6), size = (250 * 6, 250 * 4))\n",
    "savefig(\"analysis/cancer/dim_0/PCA_examples.png\")"
   ]
  },
  {
   "attachments": {},
   "cell_type": "markdown",
   "metadata": {},
   "source": [
    "# Cancer dim 1"
   ]
  },
  {
   "cell_type": "code",
   "execution_count": null,
   "metadata": {},
   "outputs": [],
   "source": [
    "# create indices\n",
    "#files = collect(keys(PI1_cancer))\n",
    "#idx_files = Dict(i => files[i] for i=1:length(files));\n",
    "\n",
    "#save(\"analysis/cancer/cancer_PI1_idx_files.jld2\", \"idx_files\", idx_files)\n",
    "idx_files = load(\"analysis/cancer/cancer_PI1_idx_files.jld2\")[\"idx_files\"];\n",
    "file_idx = Dict(v => k for (k,v) in idx_files);\n",
    "\n",
    "PI1_new = Dict(i => PI1_cancer[idx_files[i]] for i = 1:length(file_idx));"
   ]
  },
  {
   "attachments": {},
   "cell_type": "markdown",
   "metadata": {
    "heading_collapsed": true
   },
   "source": [
    "## UMAP"
   ]
  },
  {
   "cell_type": "code",
   "execution_count": null,
   "metadata": {},
   "outputs": [],
   "source": [
    "Random.seed!(10)\n",
    "PI_centered = center_PI(PI1_new);\n",
    "embedding = umap(PI_centered, 2; n_neighbors = 5);"
   ]
  },
  {
   "cell_type": "code",
   "execution_count": null,
   "metadata": {},
   "outputs": [],
   "source": [
    "#writedlm(\"analysis/cancer/dim_1/umap.csv\", embedding, \",\")\n",
    "y = embedding = readdlm(\"analysis/cancer/dim_1/umap.csv\", ',');"
   ]
  },
  {
   "cell_type": "code",
   "execution_count": null,
   "metadata": {},
   "outputs": [],
   "source": [
    "gr()\n",
    "n = size(embedding, 2)\n",
    "p = scatter(embedding[1,:], embedding[2,:], \n",
    "        markercolor = \"slategrey\",\n",
    "        markersize = 5, \n",
    "        label = \"\", \n",
    "        xticks = [], \n",
    "        yticks = [], \n",
    "        framestyle = :box,  \n",
    "        xlabel = \"UMAP-1\",\n",
    "        ylabel = \"UMAP-2\",\n",
    "        guidefontsize = 15,\n",
    "        leftmargin = 5mm,\n",
    "        size = (450, 350),\n",
    "        hover = 1:n,\n",
    "        legend = :topright)\n",
    "savefig(\"analysis/cancer/dim_1/umap.pdf\")\n",
    "plot(p)"
   ]
  },
  {
   "attachments": {},
   "cell_type": "markdown",
   "metadata": {},
   "source": [
    "The following is from old PI (larger PI with size 100 x 100)"
   ]
  },
  {
   "cell_type": "code",
   "execution_count": null,
   "metadata": {
    "hidden": true
   },
   "outputs": [],
   "source": [
    "plotly()\n",
    "n = size(embedding, 2)\n",
    "p = scatter(embedding[1,:], embedding[2,:], \n",
    "        markercolor = \"slategrey\",\n",
    "        markersize = 5, \n",
    "        label = \"\", \n",
    "        xticks = [], \n",
    "        yticks = [], \n",
    "        framestyle = :box,  \n",
    "        xlabel = \"UMAP-1\",\n",
    "        ylabel = \"UMAP-2\",\n",
    "        guidefontsize = 15,\n",
    "        leftmargin = 5mm,\n",
    "        size = (450, 350),\n",
    "        hover = 1:n,\n",
    "        legend = :topright)"
   ]
  },
  {
   "cell_type": "code",
   "execution_count": null,
   "metadata": {
    "hidden": true
   },
   "outputs": [],
   "source": [
    "U1 = [190, 88, 91]\n",
    "U2 = [327, 371, 322]\n",
    "U3 = [185, 274, 234]\n",
    "U4 = [50, 282, 38]\n",
    "U5 = [306, 120, 317]\n",
    "U6 = [319, 308, 9]"
   ]
  },
  {
   "cell_type": "code",
   "execution_count": null,
   "metadata": {
    "hidden": true
   },
   "outputs": [],
   "source": [
    "# plot with regions\n",
    "gr()\n",
    "\n",
    "# load PCA\n",
    "y = readdlm(\"analysis/cancer/dim_1/umap.csv\", ',');\n",
    "\n",
    "markersize = 3\n",
    "legendfontsize = 5\n",
    "n = size(y, 2)\n",
    "annotated = vcat(U1, U2, U3, U4, U5, U6)\n",
    "nonannotated = [i for i = 1:size(y, 2) if i ∉ annotated]\n",
    "p = scatter(y[1,nonannotated], y[2,nonannotated], \n",
    "        markercolor = \"lightgray\",\n",
    "        alpha = 0.6,\n",
    "        markersize = markersize, \n",
    "        markerstrokewidth = 0.1,\n",
    "        label = \"\", \n",
    "        xaxis = \"UMAP-1\",\n",
    "        yaxis = \"UMAP-2\",\n",
    "        #xtickfontsize = 15,\n",
    "        #ytickfontsize = 15,\n",
    "        #xrotation = 45,\n",
    "        ticks = [],\n",
    "        xlims = (-11, 13),\n",
    "        guidefontsize = 7,\n",
    "        framestyle = :box,\n",
    "        size = (200, 150),\n",
    "        #leftmargin = 2mm,\n",
    "        legend = :bottomright,\n",
    "        #background_color=:transparent, foreground_color=:black,\n",
    "        )\n",
    "scatter!(y[1,U1], y[2,U1], markersize = markersize, markershape = :rect, markercolor = c1, labels = \"U1\", legendfontsize = legendfontsize)\n",
    "scatter!(y[1,U2], y[2,U2], markersize = markersize, markershape = :utriangle, markercolor = c2, labels = \"U2\")\n",
    "scatter!(y[1,U3], y[2,U3], markersize = markersize, markershape = :star, markercolor = c3, labels = \"U3\")\n",
    "scatter!(y[1,U4], y[2,U4], markersize = markersize, markershape = :diamond, markercolor = c4, labels = \"U4\")\n",
    "scatter!(y[1,U5], y[2,U5], markersize = markersize, markershape = :pentagon, markercolor = c5, labels = \"U5\")\n",
    "scatter!(y[1,U6], y[2,U6], markersize = markersize, markershape = :dtriangle, markercolor = c6, labels = \"U6\")\n",
    "savefig(\"analysis/cancer/dim_1/umap.pdf\")\n",
    "plot(p)"
   ]
  },
  {
   "cell_type": "code",
   "execution_count": null,
   "metadata": {
    "hidden": true
   },
   "outputs": [],
   "source": [
    "# plot ECM & PSRH images\n",
    "regions = Dict(1 => U1, 2=> U2, 3=> U3, 4=> U4, 5 => U5, 6 => U6)\n",
    "gr()\n",
    "plot_array = []\n",
    "n = length(regions)\n",
    "for i=1:n\n",
    "    R = regions[i]\n",
    "    for idx in R\n",
    "        f = idx_files[idx]\n",
    "        # get cells\n",
    "        df = CSV.read(\"data/4000x4000_combined/subregion_cells/\" * idx_files[idx] * \".csv\")\n",
    "        \n",
    "        # plot cancer\n",
    "        df_cell = df[df.class .== \"cancer\", :]\n",
    "        p = scatter(df_cell.x, df_cell.y,\n",
    "                         markersize = 1.5,\n",
    "                         yflip = true,\n",
    "                         label = \"\",\n",
    "                         markerstrokewidth = 0.2,\n",
    "                         frame = :box,\n",
    "                         ticks = [],\n",
    "                        aspect_ratio = :equal,\n",
    "                        size = (150,150),\n",
    "                        background_color=:transparent, foreground_color=:black, \n",
    "                         c = c_cancer,\n",
    "                         right_margin = -5mm) \n",
    "        \n",
    "        push!(plot_array, p)\n",
    "        \n",
    "        \n",
    "        \n",
    "        p_PSRH = Images.load(\"data/4000x4000_combined/PSRH/\" * f * \".tif\")\n",
    "        push!(plot_array, plot(p_PSRH, ticks = [], frame = :box, bottom_margin = -3mm, right_margin = 5mm))\n",
    "        \n",
    "    end\n",
    "end"
   ]
  },
  {
   "cell_type": "code",
   "execution_count": null,
   "metadata": {
    "hidden": true
   },
   "outputs": [],
   "source": [
    "p = plot(plot_array..., layout = grid(6, 6), size = (250 * 6, 250 * 6))\n",
    "savefig(\"analysis/cancer/dim_1/UMAP_examples.png\")"
   ]
  },
  {
   "attachments": {},
   "cell_type": "markdown",
   "metadata": {},
   "source": [
    "## PCA"
   ]
  },
  {
   "cell_type": "code",
   "execution_count": null,
   "metadata": {
    "scrolled": true
   },
   "outputs": [],
   "source": [
    "transformed, eigenvectors, variance_1, variance_2, _ = PI_to_PCA(PI1_new; pratio = 0.99)\n",
    "\n",
    "\n",
    "#save(\"analysis/cancer/dim_1/PCA.jld2\",\n",
    "#    \"transformed\", transformed,\n",
    "#    \"eigenvectors\", eigenvectors,\n",
    "#    \"variance_1\", variance_1,\n",
    "#    \"variance_2\", variance_2)\n",
    "\n",
    "println(\"number of components: \", length(eigenvectors))\n",
    "println(\"variance explained by 1 eigenvectors: \", variance_1)\n",
    "println(\"variance explained by 2 eigenvectors: \", variance_2)\n",
    "println(\"variance difference between 2 and 1:\", variance_2 - variance_1)"
   ]
  },
  {
   "cell_type": "code",
   "execution_count": null,
   "metadata": {},
   "outputs": [],
   "source": [
    "# load\n",
    "data = load(\"analysis/cancer/dim_1/PCA.jld2\")\n",
    "transformed = data[\"transformed\"]\n",
    "eigenvectors = data[\"eigenvectors\"];"
   ]
  },
  {
   "cell_type": "code",
   "execution_count": null,
   "metadata": {},
   "outputs": [],
   "source": [
    "plotly()\n",
    "y = transformed\n",
    "n = size(y, 2)\n",
    "p = scatter(y[1,:], y[2,:], \n",
    "        markercolor = \"slategrey\",\n",
    "        markersize = 5, \n",
    "        label = \"\", \n",
    "        xticks = (0,0), \n",
    "        yticks = (0,0), \n",
    "        framestyle = :box,  \n",
    "        guidefontsize = 15,\n",
    "        leftmargin = 5mm,\n",
    "        size = (450, 350),\n",
    "        hover = 1:n,\n",
    "        legend = :topright)"
   ]
  },
  {
   "cell_type": "code",
   "execution_count": null,
   "metadata": {},
   "outputs": [],
   "source": [
    "R1 = [345, 240, 143]\n",
    "R2 = [181, 363, 33]\n",
    "R3 = [170, 57, 342]\n",
    "R4 = [44, 105, 385]"
   ]
  },
  {
   "cell_type": "code",
   "execution_count": null,
   "metadata": {},
   "outputs": [],
   "source": [
    "# plot with regions\n",
    "gr()\n",
    "\n",
    "# load PCA\n",
    "y = load(\"analysis/cancer/dim_1/PCA.jld2\")[\"transformed\"]\n",
    "\n",
    "markersize = 3\n",
    "legendfontsize = 5\n",
    "n = size(y, 2)\n",
    "annotated = vcat(R1, R2, R3, R4)\n",
    "nonannotated = [i for i = 1:size(y, 2) if i ∉ annotated]\n",
    "p = scatter(y[1,nonannotated], y[2,nonannotated], \n",
    "        markercolor = \"lightgray\",\n",
    "        alpha = 0.6,\n",
    "        markersize = markersize, \n",
    "        markerstrokewidth = 0.1,\n",
    "        label = \"\", \n",
    "        xaxis = \"PC1 (87%)\",\n",
    "        yaxis = \"PC2 (9%)\",\n",
    "        #xtickfontsize = 15,\n",
    "        #ytickfontsize = 15,\n",
    "        #xrotation = 45,\n",
    "        xticks = (0, 0),\n",
    "        yticks = (0,0),\n",
    "        guidefontsize = 7,\n",
    "        framestyle = :box,\n",
    "        size = (200, 150),\n",
    "        #leftmargin = 2mm,\n",
    "        legend = :topleft\n",
    "        #background_color=:transparent, foreground_color=:black,\n",
    "        )\n",
    "scatter!(y[1,R1], y[2,R1], label = \"\", markersize = markersize, markershape = :rect, markercolor = c1, labels = \"R1\", legendfontsize = legendfontsize)\n",
    "scatter!(y[1,R2], y[2,R2], label = \"\", markersize = markersize, markershape = :utriangle, markercolor = c2, labels = \"R2\")\n",
    "scatter!(y[1,R3], y[2,R3], label = \"\", markersize = markersize, markershape = :star, markercolor = c3, labels = \"R3\")\n",
    "scatter!(y[1,R4], y[2,R4], label = \"\", markersize = markersize, markershape = :diamond, markercolor = c4, labels = \"R4\")\n",
    "savefig(\"analysis/cancer/dim_1/pca.pdf\")\n",
    "plot(p)"
   ]
  },
  {
   "cell_type": "code",
   "execution_count": null,
   "metadata": {},
   "outputs": [],
   "source": [
    "# plot ECM & PSRH images\n",
    "regions = Dict(1 => R1, 2=> R2, 3=> R3, 4=> R4)\n",
    "gr()\n",
    "plot_array = []\n",
    "n = length(regions)\n",
    "for i=1:n\n",
    "    R = regions[i]\n",
    "    for idx in R\n",
    "        f = idx_files[idx]\n",
    "        # get cells\n",
    "        df = CSV.read(\"data/4000x4000_combined/subregion_cells/\" * idx_files[idx] * \".csv\")\n",
    "        \n",
    "        # plot cancer\n",
    "        df_cell = df[df.class .== \"cancer\", :]\n",
    "        p = scatter(df_cell.x, df_cell.y,\n",
    "                         markersize = 1.5,\n",
    "                         yflip = true,\n",
    "                         label = \"\",\n",
    "                         markerstrokewidth = 0.2,\n",
    "                         frame = :box,\n",
    "                         ticks = [],\n",
    "                        aspect_ratio = :equal,\n",
    "                        size = (150,150),\n",
    "                        background_color=:transparent, foreground_color=:black, \n",
    "                         c = c_cancer,\n",
    "                        right_margin = -5mm) \n",
    "        \n",
    "        push!(plot_array, p)\n",
    "        \n",
    "        \n",
    "        p_PSRH = Images.load(\"data/4000x4000_combined/PSRH/\" * f * \".tif\")\n",
    "        push!(plot_array, plot(p_PSRH, ticks = [], frame = :box, bottom_margin = -3mm, right_margin = 5mm))\n",
    "        \n",
    "    end\n",
    "end"
   ]
  },
  {
   "cell_type": "code",
   "execution_count": null,
   "metadata": {},
   "outputs": [],
   "source": [
    "p = plot(plot_array..., layout = grid(4, 6), size = (250 * 6, 250 * 4))\n",
    "savefig(\"analysis/cancer/dim_1/PCA_examples.png\")"
   ]
  },
  {
   "attachments": {},
   "cell_type": "markdown",
   "metadata": {},
   "source": [
    "## PCA coordinates"
   ]
  },
  {
   "cell_type": "code",
   "execution_count": null,
   "metadata": {},
   "outputs": [],
   "source": [
    "for i = 1:4\n",
    "    min_indices, max_indices = get_coordinate_min_max_examples(transformed, i)\n",
    "    plot_low_high_PC_cancer_PSRH(min_indices, max_indices, idx_files, \"analysis/cancer/dim_1/PCA_coordinates/PC\" * string(i) * \"_examples.png\")\n",
    "end"
   ]
  },
  {
   "attachments": {},
   "cell_type": "markdown",
   "metadata": {},
   "source": [
    "Plot example ROIs with high and low PC with \"close to 0\" coordinates for other PC"
   ]
  },
  {
   "cell_type": "code",
   "execution_count": null,
   "metadata": {},
   "outputs": [],
   "source": [
    "plot_array = []\n",
    "for i = 1:4\n",
    "    p = histogram(transformed[i,:], label = \"\", title = \"PC \" * string(i))\n",
    "    push!(plot_array, p)\n",
    "end\n",
    "plot(plot_array..., layout = grid(2,2), size = (800, 500))"
   ]
  },
  {
   "cell_type": "code",
   "execution_count": null,
   "metadata": {},
   "outputs": [],
   "source": [
    "thresholds = [0.002, 0.0003, 0.00005, 0.00009]\n",
    "small_1, large_1 = get_small_large_coordinate_examples(transformed, 1, thresholds; n_coordinates = 4 )\n",
    "small_2, large_2 = get_small_large_coordinate_examples(transformed, 2, thresholds; n_coordinates = 4 )\n",
    "small_3, large_3 = get_small_large_coordinate_examples(transformed, 3, thresholds; n_coordinates = 4 )\n",
    "small_4, large_4 = get_small_large_coordinate_examples(transformed, 4, thresholds; n_coordinates = 4 );"
   ]
  },
  {
   "cell_type": "code",
   "execution_count": null,
   "metadata": {},
   "outputs": [],
   "source": [
    "plot_low_high_PC_cancer_PSRH(small_1, large_1, idx_files, \"analysis/cancer/dim_1/PCA_coordinates/PC1_examples_controlled.png\")\n",
    "plot_low_high_PC_cancer_PSRH(small_2, large_2, idx_files, \"analysis/cancer/dim_1/PCA_coordinates/PC2_examples_controlled.png\")\n",
    "plot_low_high_PC_cancer_PSRH(small_3, large_3, idx_files, \"analysis/cancer/dim_1/PCA_coordinates/PC3_examples_controlled.png\")\n",
    "plot_low_high_PC_cancer_PSRH(small_4, large_4, idx_files, \"analysis/cancer/dim_1/PCA_coordinates/PC4_examples_controlled.png\")"
   ]
  },
  {
   "attachments": {},
   "cell_type": "markdown",
   "metadata": {},
   "source": [
    "# Cancer, combined dimension 0 and 1"
   ]
  },
  {
   "cell_type": "code",
   "execution_count": null,
   "metadata": {},
   "outputs": [],
   "source": [
    "# select dictionaries\n",
    "dicts = [PI0_cancer,\n",
    "        PI1_cancer\n",
    "        ];\n",
    "\n",
    "# get keys that are present in all dictionaries\n",
    "all_keys = []\n",
    "for k in keys(dicts[1])\n",
    "    present = 0\n",
    "    for j = 2:length(dicts)\n",
    "        if k in keys(dicts[j])\n",
    "            present += 1\n",
    "        end\n",
    "    end\n",
    "\n",
    "    if present == length(dicts) - 1\n",
    "        push!(all_keys, k)\n",
    "    end\n",
    "end\n",
    "\n",
    "# combine all features\n",
    "features = Dict()\n",
    "for f in all_keys\n",
    "     combined = vcat(\n",
    "                    PI0_cancer[f], \n",
    "                    vec(PI1_cancer[f])\n",
    "                    )\n",
    "     features[f] = combined\n",
    "    \n",
    "end"
   ]
  },
  {
   "cell_type": "code",
   "execution_count": null,
   "metadata": {},
   "outputs": [],
   "source": [
    "ROIs = collect(keys(features))\n",
    "idx_ROI = Dict(i => roi for (i, roi) in enumerate(ROIs));\n",
    "\n",
    "#save(\"analysis/cancer/dim_01_combined/idx_ROI.jld2\", \"idx_ROI\", idx_ROI)\n",
    "#idx_ROI = load(\"analysis/cancer/dim_01_combined/idx_ROI.jld2\")[\"idx_ROI\"];\n",
    "#ROI_idx = Dict(v => k for (k,v) in idx_ROI);"
   ]
  },
  {
   "cell_type": "code",
   "execution_count": null,
   "metadata": {},
   "outputs": [],
   "source": [
    "# prepare features array\n",
    "n = length(ROIs)\n",
    "features_array = hcat([features[idx_ROI[i]] for i = 1:n]...)\n",
    "println(\"features array shape: \", size(features_array))\n",
    "\n",
    "features_centered = features_array .- mean(features_array, dims = 2);"
   ]
  },
  {
   "cell_type": "code",
   "execution_count": null,
   "metadata": {},
   "outputs": [],
   "source": [
    "embedding = umap(features_centered, 2; n_neighbors = 5);"
   ]
  },
  {
   "cell_type": "code",
   "execution_count": null,
   "metadata": {},
   "outputs": [],
   "source": [
    "writedlm(\"analysis/cancer/dim_01_combined/umap.csv\", embedding, \",\")\n",
    "#y = embedding = readdlm(\"analysis/cancer/dim_01_combined/umap.csv\", ',');"
   ]
  },
  {
   "cell_type": "code",
   "execution_count": null,
   "metadata": {},
   "outputs": [],
   "source": [
    "n = size(embedding, 2)\n",
    "p = scatter(embedding[1,:], embedding[2,:], \n",
    "        markercolor = \"slategrey\",\n",
    "        markersize = 5, \n",
    "        label = \"\", \n",
    "        xticks = [], \n",
    "        yticks = [], \n",
    "        framestyle = :box,  \n",
    "        xlabel = \"UMAP-1\",\n",
    "        ylabel = \"UMAP-2\",\n",
    "        guidefontsize = 15,\n",
    "        leftmargin = 5mm,\n",
    "        size = (450, 350),\n",
    "        hover = 1:n,\n",
    "        legend = :topright)"
   ]
  },
  {
   "attachments": {},
   "cell_type": "markdown",
   "metadata": {
    "heading_collapsed": true
   },
   "source": [
    "# Leukocyte, dimension 0"
   ]
  },
  {
   "cell_type": "code",
   "execution_count": null,
   "metadata": {
    "hidden": true
   },
   "outputs": [],
   "source": [
    "# create indices\n",
    "#files = collect(keys(PI0_leukocytes))\n",
    "#idx_files = Dict(i => files[i] for i=1:length(files));\n",
    "\n",
    "#save(\"analysis/leukocytes/leukocytes_PI0_idx_files.jld2\", \"idx_files\", idx_files)\n",
    "idx_files = load(\"analysis/leukocytes/leukocytes_PI0_idx_files.jld2\")[\"idx_files\"];\n",
    "file_idx = Dict(v => k for (k,v) in idx_files);"
   ]
  },
  {
   "cell_type": "code",
   "execution_count": null,
   "metadata": {
    "hidden": true
   },
   "outputs": [],
   "source": [
    "PI0_new = Dict(i => PI0_leukocytes[idx_files[i]] for i = 1:length(file_idx));"
   ]
  },
  {
   "attachments": {},
   "cell_type": "markdown",
   "metadata": {
    "heading_collapsed": true,
    "hidden": true
   },
   "source": [
    "## UMAP"
   ]
  },
  {
   "cell_type": "code",
   "execution_count": null,
   "metadata": {},
   "outputs": [],
   "source": [
    "Random.seed!(10)\n",
    "PI_centered = center_PI(PI0_new);\n",
    "embedding = umap(PI_centered, 2; n_neighbors = 5);"
   ]
  },
  {
   "cell_type": "code",
   "execution_count": null,
   "metadata": {},
   "outputs": [],
   "source": [
    "writedlm(\"analysis/leukocytes/dim_0/umap.csv\", embedding, \",\")\n",
    "y = embedding = readdlm(\"analysis/leukocytes/dim_0/umap.csv\", ',');"
   ]
  },
  {
   "cell_type": "code",
   "execution_count": null,
   "metadata": {},
   "outputs": [],
   "source": [
    "gr()\n",
    "n = size(embedding, 2)\n",
    "p = scatter(embedding[1,:], embedding[2,:], \n",
    "        markercolor = \"slategrey\",\n",
    "        markersize = 5, \n",
    "        label = \"\", \n",
    "        xticks = [], \n",
    "        yticks = [], \n",
    "        framestyle = :box,  \n",
    "        xlabel = \"UMAP-1\",\n",
    "        ylabel = \"UMAP-2\",\n",
    "        guidefontsize = 15,\n",
    "        leftmargin = 5mm,\n",
    "        size = (450, 350),\n",
    "        hover = 1:n,\n",
    "        legend = :topright)\n",
    "savefig(\"analysis/leukocytes/dim_0/umap.pdf\")\n",
    "plot(p)"
   ]
  },
  {
   "attachments": {},
   "cell_type": "markdown",
   "metadata": {},
   "source": [
    "The following is from old PI size (100 x 100)"
   ]
  },
  {
   "cell_type": "code",
   "execution_count": null,
   "metadata": {
    "hidden": true
   },
   "outputs": [],
   "source": [
    "plotly()\n",
    "n = size(embedding, 2)\n",
    "p = scatter(embedding[1,:], embedding[2,:], \n",
    "        markercolor = \"slategrey\",\n",
    "        markersize = 5, \n",
    "        label = \"\", \n",
    "        xticks = [], \n",
    "        yticks = [], \n",
    "        framestyle = :box,  \n",
    "        xlabel = \"UMAP-1\",\n",
    "        ylabel = \"UMAP-2\",\n",
    "        guidefontsize = 15,\n",
    "        leftmargin = 5mm,\n",
    "        size = (450, 350),\n",
    "        hover = 1:n,\n",
    "        legend = :topright)"
   ]
  },
  {
   "cell_type": "code",
   "execution_count": null,
   "metadata": {
    "hidden": true
   },
   "outputs": [],
   "source": [
    "U1 = [95, 137, 254]\n",
    "U2 = [329, 370, 347]\n",
    "U3 = [205, 392, 175]\n",
    "U4 = [269, 355, 363]\n",
    "U5 = [14, 393, 400]"
   ]
  },
  {
   "cell_type": "code",
   "execution_count": null,
   "metadata": {
    "hidden": true
   },
   "outputs": [],
   "source": [
    "# plot with regions\n",
    "gr()\n",
    "\n",
    "# load PCA\n",
    "y = readdlm(\"analysis/leukocytes/dim_0/umap.csv\", ',');\n",
    "\n",
    "markersize = 3\n",
    "legendfontsize = 5\n",
    "n = size(y, 2)\n",
    "annotated = vcat(U1, U2, U3)\n",
    "nonannotated = [i for i = 1:size(y, 2) if i ∉ annotated]\n",
    "p = scatter(y[1,nonannotated], y[2,nonannotated], \n",
    "        markercolor = \"lightgray\",\n",
    "        alpha = 0.6,\n",
    "        markersize = markersize, \n",
    "        markerstrokewidth = 0.1,\n",
    "        label = \"\", \n",
    "        xaxis = \"UMAP-1\",\n",
    "        yaxis = \"UMAP-2\",\n",
    "        ticks = [],\n",
    "        guidefontsize = 7,\n",
    "        framestyle = :box,\n",
    "        size = (200, 150),\n",
    "        legend = :bottomleft,\n",
    "        )\n",
    "scatter!(y[1,U1], y[2,U1], markersize = markersize, markershape = :rect, markercolor = c1, labels = \"U1\", legendfontsize = legendfontsize)\n",
    "scatter!(y[1,U2], y[2,U2], markersize = markersize, markershape = :utriangle, markercolor = c2, labels = \"U2\")\n",
    "scatter!(y[1,U3], y[2,U3], markersize = markersize, markershape = :star, markercolor = c3, labels = \"U3\")\n",
    "scatter!(y[1,U4], y[2,U4], markersize = markersize, markershape = :diamond, markercolor = c4, labels = \"U4\")\n",
    "scatter!(y[1,U5], y[2,U5], markersize = markersize, markershape = :pentagon, markercolor = c5, labels = \"U5\")\n",
    "#scatter!(y[1,U6], y[2,U6], markersize = markersize, markershape = :dtriangle, markercolor = c6, labels = \"U6\")\n",
    "savefig(\"analysis/leukocytes/dim_0/umap.pdf\")\n",
    "plot(p)"
   ]
  },
  {
   "cell_type": "code",
   "execution_count": null,
   "metadata": {
    "hidden": true
   },
   "outputs": [],
   "source": [
    "# plot ECM & PSRH images\n",
    "regions = Dict(1 => U1, 2=> U2, 3=> U3, 4 => U4, 5 => U5)\n",
    "gr()\n",
    "plot_array = []\n",
    "n = length(regions)\n",
    "for i=1:n\n",
    "    R = regions[i]\n",
    "    for idx in R\n",
    "        f = idx_files[idx]\n",
    "        # get cells\n",
    "        df = CSV.read(\"data/4000x4000_combined/subregion_cells/\" * idx_files[idx] * \".csv\")\n",
    "        \n",
    "        # plot cancer\n",
    "        df_cell = df[df.class .== \"leukocytes\", :]\n",
    "        p = scatter(df_cell.x, df_cell.y,\n",
    "                         markersize = 1.5,\n",
    "                         yflip = true,\n",
    "                         label = \"\",\n",
    "                         markerstrokewidth = 0.2,\n",
    "                         frame = :box,\n",
    "                         ticks = [],\n",
    "                        aspect_ratio = :equal,\n",
    "                        size = (150,150),\n",
    "                        background_color=:transparent, foreground_color=:black, \n",
    "                         c = c_leukocytes,\n",
    "                        right_margin = -5mm) \n",
    "        \n",
    "        push!(plot_array, p)\n",
    "        \n",
    "        \n",
    "        \n",
    "        p_PSRH = Images.load(\"data/4000x4000_combined/PSRH/\" * f * \".tif\")\n",
    "        push!(plot_array, plot(p_PSRH, ticks = [], frame = :box, bottom_margin = -3mm, right_margin = 5mm))\n",
    "        \n",
    "    end\n",
    "end"
   ]
  },
  {
   "cell_type": "code",
   "execution_count": null,
   "metadata": {
    "hidden": true
   },
   "outputs": [],
   "source": [
    "p = plot(plot_array..., layout = grid(5, 6), size = (250 * 6, 250 * 5))\n",
    "savefig(\"analysis/leukocytes/dim_0/UMAP_examples.png\")"
   ]
  },
  {
   "attachments": {},
   "cell_type": "markdown",
   "metadata": {
    "heading_collapsed": true,
    "hidden": true
   },
   "source": [
    "## PCA"
   ]
  },
  {
   "cell_type": "code",
   "execution_count": null,
   "metadata": {
    "hidden": true,
    "scrolled": true
   },
   "outputs": [],
   "source": [
    "transformed, eigenvectors, variance_1, variance_2, _ = PI0_to_PCA(PI0_new; pratio = 0.99)\n",
    "\n",
    "\n",
    "save(\"analysis/leukocytes/dim_0/PCA.jld2\",\n",
    "    \"transformed\", transformed,\n",
    "    \"eigenvectors\", eigenvectors,\n",
    "    \"variance_1\", variance_1,\n",
    "    \"variance_2\", variance_2)\n",
    "\n",
    "println(\"number of components: \", length(eigenvectors))\n",
    "println(\"variance explained by 1 eigenvectors: \", variance_1)\n",
    "println(\"variance explained by 2 eigenvectors: \", variance_2)\n",
    "println(\"variance difference between 2 and 1:\", variance_2 - variance_1)"
   ]
  },
  {
   "cell_type": "code",
   "execution_count": null,
   "metadata": {
    "hidden": true
   },
   "outputs": [],
   "source": [
    "# load\n",
    "data = load(\"analysis/leukocytes/dim_0/PCA.jld2\")\n",
    "transformed = data[\"transformed\"]\n",
    "eigenvectors = data[\"eigenvectors\"];"
   ]
  },
  {
   "cell_type": "code",
   "execution_count": null,
   "metadata": {
    "hidden": true
   },
   "outputs": [],
   "source": [
    "plotly()\n",
    "y = transformed\n",
    "n = size(y, 2)\n",
    "p = scatter(y[1,:], y[2,:], \n",
    "        markercolor = \"slategrey\",\n",
    "        markersize = 5, \n",
    "        label = \"\", \n",
    "        xticks = (0,0), \n",
    "        yticks = (0,0), \n",
    "        framestyle = :box,  \n",
    "        guidefontsize = 15,\n",
    "        leftmargin = 5mm,\n",
    "        size = (450, 350),\n",
    "        hover = 1:n,\n",
    "        legend = :topright)"
   ]
  },
  {
   "cell_type": "code",
   "execution_count": null,
   "metadata": {
    "hidden": true
   },
   "outputs": [],
   "source": [
    "R1 = [35, 295, 128]\n",
    "R2 = [361, 311, 355]\n",
    "R3 = [36, 96, 100]\n",
    "R4 = [315, 42, 356]"
   ]
  },
  {
   "cell_type": "code",
   "execution_count": null,
   "metadata": {
    "hidden": true
   },
   "outputs": [],
   "source": [
    "# plot with regions\n",
    "gr()\n",
    "\n",
    "# load PCA\n",
    "y = load(\"analysis/leukocytes/dim_0/PCA.jld2\")[\"transformed\"]\n",
    "\n",
    "markersize = 3\n",
    "legendfontsize = 5\n",
    "n = size(y, 2)\n",
    "annotated = vcat(R1, R2, R3, R4)\n",
    "nonannotated = [i for i = 1:size(y, 2) if i ∉ annotated]\n",
    "p = scatter(y[1,nonannotated], y[2,nonannotated], \n",
    "        markercolor = \"lightgray\",\n",
    "        alpha = 0.6,\n",
    "        markersize = markersize, \n",
    "        markerstrokewidth = 0.1,\n",
    "        label = \"\", \n",
    "        xaxis = \"PC1 (92%)\",\n",
    "        yaxis = \"PC2 (7%)\",\n",
    "        xticks = (0, 0),\n",
    "        yticks = (0,0),\n",
    "        guidefontsize = 7,\n",
    "        framestyle = :box,\n",
    "        size = (200, 150),\n",
    "        legend = :topright\n",
    "        )\n",
    "scatter!(y[1,R1], y[2,R1], label = \"\", markersize = markersize, markershape = :rect, markercolor = c1, labels = \"R1\", legendfontsize = legendfontsize)\n",
    "scatter!(y[1,R2], y[2,R2], label = \"\", markersize = markersize, markershape = :utriangle, markercolor = c2, labels = \"R2\")\n",
    "scatter!(y[1,R3], y[2,R3], label = \"\", markersize = markersize, markershape = :star, markercolor = c3, labels = \"R3\")\n",
    "scatter!(y[1,R4], y[2,R4], label = \"\", markersize = markersize, markershape = :diamond, markercolor = c4, labels = \"R4\")\n",
    "savefig(\"analysis/leukocytes/dim_0/pca.pdf\")\n",
    "plot(p)"
   ]
  },
  {
   "cell_type": "code",
   "execution_count": null,
   "metadata": {
    "hidden": true
   },
   "outputs": [],
   "source": [
    "# plot ECM & PSRH images\n",
    "regions = Dict(1 => R1, 2=> R2, 3=> R3, 4=> R4)\n",
    "gr()\n",
    "plot_array = []\n",
    "n = length(regions)\n",
    "for i=1:n\n",
    "    R = regions[i]\n",
    "    for idx in R\n",
    "        f = idx_files[idx]\n",
    "        # get cells\n",
    "        df = CSV.read(\"data/4000x4000_combined/subregion_cells/\" * idx_files[idx] * \".csv\")\n",
    "        \n",
    "        # plot cancer\n",
    "        df_cell = df[df.class .== \"leukocytes\", :]\n",
    "        p = scatter(df_cell.x, df_cell.y,\n",
    "                         markersize = 1.5,\n",
    "                         yflip = true,\n",
    "                         label = \"\",\n",
    "                         markerstrokewidth = 0.2,\n",
    "                         frame = :box,\n",
    "                         ticks = [],\n",
    "                        aspect_ratio = :equal,\n",
    "                        size = (150,150),\n",
    "                        background_color=:transparent, foreground_color=:black, \n",
    "                         c = c_leukocytes,\n",
    "                        right_margin = -5mm) \n",
    "        \n",
    "        push!(plot_array, p)\n",
    "        \n",
    "        \n",
    "        p_PSRH = Images.load(\"data/4000x4000_combined/PSRH/\" * f * \".tif\")\n",
    "        push!(plot_array, plot(p_PSRH, ticks = [], frame = :box, bottom_margin = -3mm, right_margin = 5mm))\n",
    "        \n",
    "    end\n",
    "end"
   ]
  },
  {
   "cell_type": "code",
   "execution_count": null,
   "metadata": {
    "hidden": true
   },
   "outputs": [],
   "source": [
    "p = plot(plot_array..., layout = grid(4, 6), size = (250 * 6, 250 * 4))\n",
    "savefig(\"analysis/leukocytes/dim_0/PCA_examples.png\")"
   ]
  },
  {
   "attachments": {},
   "cell_type": "markdown",
   "metadata": {},
   "source": [
    "# Leukocyte, dim 1"
   ]
  },
  {
   "cell_type": "code",
   "execution_count": null,
   "metadata": {},
   "outputs": [],
   "source": [
    "# create indices\n",
    "#files = collect(keys(PI1_leukocytes))\n",
    "#idx_files = Dict(i => files[i] for i=1:length(files));\n",
    "\n",
    "#save(\"analysis/leukocytes/leukocytes_PI1_idx_files.jld2\", \"idx_files\", idx_files)\n",
    "idx_files = load(\"analysis/leukocytes/leukocytes_PI1_idx_files.jld2\")[\"idx_files\"];\n",
    "file_idx = Dict(v => k for (k,v) in idx_files);\n",
    "\n",
    "PI1_new = Dict(i => PI1_leukocytes[idx_files[i]] for i = 1:length(file_idx));"
   ]
  },
  {
   "attachments": {},
   "cell_type": "markdown",
   "metadata": {
    "heading_collapsed": true
   },
   "source": [
    "## UMAP"
   ]
  },
  {
   "cell_type": "code",
   "execution_count": null,
   "metadata": {},
   "outputs": [],
   "source": [
    "Random.seed!(10)\n",
    "PI_centered = center_PI(PI1_new);\n",
    "embedding = umap(PI_centered, 2; n_neighbors = 5);"
   ]
  },
  {
   "cell_type": "code",
   "execution_count": null,
   "metadata": {},
   "outputs": [],
   "source": [
    "writedlm(\"analysis/leukocytes/dim_1/umap.csv\", embedding, \",\")\n",
    "y = embedding = readdlm(\"analysis/leukocytes/dim_1/umap.csv\", ',');"
   ]
  },
  {
   "cell_type": "code",
   "execution_count": null,
   "metadata": {},
   "outputs": [],
   "source": [
    "gr()\n",
    "n = size(embedding, 2)\n",
    "p = scatter(embedding[1,:], embedding[2,:], \n",
    "        markercolor = \"slategrey\",\n",
    "        markersize = 5, \n",
    "        label = \"\", \n",
    "        xticks = [], \n",
    "        yticks = [], \n",
    "        framestyle = :box,  \n",
    "        xlabel = \"UMAP-1\",\n",
    "        ylabel = \"UMAP-2\",\n",
    "        guidefontsize = 15,\n",
    "        leftmargin = 5mm,\n",
    "        size = (450, 350),\n",
    "        hover = 1:n,\n",
    "        legend = :topright)\n",
    "savefig(\"analysis/leukocytes/dim_1/umap.pdf\")\n",
    "plot(p)"
   ]
  },
  {
   "attachments": {},
   "cell_type": "markdown",
   "metadata": {},
   "source": [
    "The following plots are from old PI size (100 x 100)"
   ]
  },
  {
   "cell_type": "code",
   "execution_count": null,
   "metadata": {
    "hidden": true
   },
   "outputs": [],
   "source": [
    "plotly()\n",
    "n = size(embedding, 2)\n",
    "p = scatter(embedding[1,:], embedding[2,:], \n",
    "        markercolor = \"slategrey\",\n",
    "        markersize = 5, \n",
    "        label = \"\", \n",
    "        xticks = [], \n",
    "        yticks = [], \n",
    "        framestyle = :box,  \n",
    "        xlabel = \"UMAP-1\",\n",
    "        ylabel = \"UMAP-2\",\n",
    "        guidefontsize = 15,\n",
    "        leftmargin = 5mm,\n",
    "        size = (450, 350),\n",
    "        hover = 1:n,\n",
    "        legend = :topright)"
   ]
  },
  {
   "cell_type": "code",
   "execution_count": null,
   "metadata": {
    "hidden": true
   },
   "outputs": [],
   "source": [
    "U1 = [389, 144, 231]\n",
    "U2 = [316, 348, 372]\n",
    "U3 = [103, 183, 396]\n",
    "U4 = [305, 395, 150]"
   ]
  },
  {
   "cell_type": "code",
   "execution_count": null,
   "metadata": {
    "hidden": true
   },
   "outputs": [],
   "source": [
    "# plot with regions\n",
    "gr()\n",
    "\n",
    "# load PCA\n",
    "y = readdlm(\"analysis/leukocytes/dim_1/umap.csv\", ',');\n",
    "\n",
    "markersize = 3\n",
    "legendfontsize = 5\n",
    "n = size(y, 2)\n",
    "annotated = vcat(U1, U2, U3, U4)\n",
    "nonannotated = [i for i = 1:size(y, 2) if i ∉ annotated]\n",
    "p = scatter(y[1,nonannotated], y[2,nonannotated], \n",
    "        markercolor = \"lightgray\",\n",
    "        alpha = 0.6,\n",
    "        markersize = markersize, \n",
    "        markerstrokewidth = 0.1,\n",
    "        label = \"\", \n",
    "        xaxis = \"UMAP-1\",\n",
    "        yaxis = \"UMAP-2\",\n",
    "        ticks = [],\n",
    "       \n",
    "        guidefontsize = 7,\n",
    "        framestyle = :box,\n",
    "        size = (200, 150),\n",
    "        legend = :topright,\n",
    "        )\n",
    "scatter!(y[1,U1], y[2,U1], markersize = markersize, markershape = :rect, markercolor = c1, labels = \"U1\", legendfontsize = legendfontsize)\n",
    "scatter!(y[1,U2], y[2,U2], markersize = markersize, markershape = :utriangle, markercolor = c2, labels = \"U2\")\n",
    "scatter!(y[1,U3], y[2,U3], markersize = markersize, markershape = :star, markercolor = c3, labels = \"U3\")\n",
    "scatter!(y[1,U4], y[2,U4], markersize = markersize, markershape = :diamond, markercolor = c4, labels = \"U4\")\n",
    "savefig(\"analysis/leukocytes/dim_1/umap.pdf\")\n",
    "plot(p)"
   ]
  },
  {
   "cell_type": "code",
   "execution_count": null,
   "metadata": {
    "hidden": true
   },
   "outputs": [],
   "source": [
    "# plot ECM & PSRH images\n",
    "regions = Dict(1 => U1, 2=> U2, 3=> U3, 4=> U4\n",
    ")\n",
    "gr()\n",
    "plot_array = []\n",
    "n = length(regions)\n",
    "for i=1:n\n",
    "    R = regions[i]\n",
    "    for idx in R\n",
    "        f = idx_files[idx]\n",
    "        # get cells\n",
    "        df = CSV.read(\"data/4000x4000_combined/subregion_cells/\" * idx_files[idx] * \".csv\")\n",
    "        \n",
    "        # plot cancer\n",
    "        df_cell = df[df.class .== \"leukocytes\", :]\n",
    "        p = scatter(df_cell.x, df_cell.y,\n",
    "                         markersize = 1.5,\n",
    "                         yflip = true,\n",
    "                         label = \"\",\n",
    "                         markerstrokewidth = 0.2,\n",
    "                         frame = :box,\n",
    "                         ticks = [],\n",
    "                        aspect_ratio = :equal,\n",
    "                        size = (150,150),\n",
    "                        background_color=:transparent, foreground_color=:black, \n",
    "                         c = c_leukocytes,\n",
    "                         right_margin = -5mm) \n",
    "        \n",
    "        push!(plot_array, p)\n",
    "        \n",
    "        \n",
    "        \n",
    "        p_PSRH = Images.load(\"data/4000x4000_combined/PSRH/\" * f * \".tif\")\n",
    "        push!(plot_array, plot(p_PSRH, ticks = [], frame = :box, bottom_margin = -3mm, right_margin = 5mm))\n",
    "        \n",
    "    end\n",
    "end"
   ]
  },
  {
   "cell_type": "code",
   "execution_count": null,
   "metadata": {
    "hidden": true
   },
   "outputs": [],
   "source": [
    "p = plot(plot_array..., layout = grid(4, 6), size = (250 * 6, 250 * 4))\n",
    "savefig(\"analysis/leukocytes/dim_1/UMAP_examples.png\")"
   ]
  },
  {
   "attachments": {},
   "cell_type": "markdown",
   "metadata": {
    "heading_collapsed": true
   },
   "source": [
    "## PCA"
   ]
  },
  {
   "cell_type": "code",
   "execution_count": null,
   "metadata": {
    "hidden": true,
    "scrolled": true
   },
   "outputs": [],
   "source": [
    "transformed, eigenvectors, variance_1, variance_2, _ = PI_to_PCA(PI1_new; pratio = 0.99)\n",
    "\n",
    "\n",
    "#save(\"analysis/leukocytes/dim_1/PCA.jld2\",\n",
    "#    \"transformed\", transformed,\n",
    "#    \"eigenvectors\", eigenvectors,\n",
    "#    \"variance_1\", variance_1,\n",
    "#    \"variance_2\", variance_2)\n",
    "\n",
    "println(\"number of components: \", length(eigenvectors))\n",
    "println(\"variance explained by 1 eigenvectors: \", variance_1)\n",
    "println(\"variance explained by 2 eigenvectors: \", variance_2)\n",
    "println(\"variance difference between 2 and 1:\", variance_2 - variance_1)"
   ]
  },
  {
   "cell_type": "code",
   "execution_count": null,
   "metadata": {
    "hidden": true
   },
   "outputs": [],
   "source": [
    "# load\n",
    "data = load(\"analysis/leukocytes/dim_1/PCA.jld2\")\n",
    "transformed = data[\"transformed\"]\n",
    "eigenvectors = data[\"eigenvectors\"];"
   ]
  },
  {
   "cell_type": "code",
   "execution_count": null,
   "metadata": {
    "hidden": true
   },
   "outputs": [],
   "source": [
    "plotly()\n",
    "y = transformed\n",
    "n = size(y, 2)\n",
    "p = scatter(y[1,:], y[2,:], \n",
    "        markercolor = \"slategrey\",\n",
    "        markersize = 5, \n",
    "        label = \"\", \n",
    "        xticks = (0,0), \n",
    "        yticks = (0,0), \n",
    "        framestyle = :box,  \n",
    "        guidefontsize = 15,\n",
    "        leftmargin = 5mm,\n",
    "        size = (450, 350),\n",
    "        hover = 1:n,\n",
    "        legend = :topright)"
   ]
  },
  {
   "cell_type": "code",
   "execution_count": null,
   "metadata": {
    "hidden": true
   },
   "outputs": [],
   "source": [
    "R1 = [160, 400, 125]\n",
    "R2 = [128, 389, 35]\n",
    "R3 = [239, 182, 102]\n",
    "R4 = [83, 259, 127]"
   ]
  },
  {
   "cell_type": "code",
   "execution_count": null,
   "metadata": {
    "hidden": true
   },
   "outputs": [],
   "source": [
    "# plot with regions\n",
    "gr()\n",
    "\n",
    "# load PCA\n",
    "y = load(\"analysis/leukocytes/dim_1/PCA.jld2\")[\"transformed\"]\n",
    "\n",
    "markersize = 3\n",
    "legendfontsize = 5\n",
    "n = size(y, 2)\n",
    "annotated = vcat(R1, R2, R3, R4)\n",
    "nonannotated = [i for i = 1:size(y, 2) if i ∉ annotated]\n",
    "p = scatter(y[1,nonannotated], y[2,nonannotated], \n",
    "        markercolor = \"lightgray\",\n",
    "        alpha = 0.6,\n",
    "        markersize = markersize, \n",
    "        markerstrokewidth = 0.1,\n",
    "        label = \"\", \n",
    "        xaxis = \"PC1 (75%)\",\n",
    "        yaxis = \"PC2 (14%)\",\n",
    "        xticks = (0, 0),\n",
    "        yticks = (0,0),\n",
    "        guidefontsize = 7,\n",
    "        framestyle = :box,\n",
    "        size = (200, 150),\n",
    "        legend = :topleft\n",
    "        )\n",
    "scatter!(y[1,R1], y[2,R1], label = \"\", markersize = markersize, markershape = :rect, markercolor = c1, labels = \"R1\", legendfontsize = legendfontsize)\n",
    "scatter!(y[1,R2], y[2,R2], label = \"\", markersize = markersize, markershape = :utriangle, markercolor = c2, labels = \"R2\")\n",
    "scatter!(y[1,R3], y[2,R3], label = \"\", markersize = markersize, markershape = :star, markercolor = c3, labels = \"R3\")\n",
    "scatter!(y[1,R4], y[2,R4], label = \"\", markersize = markersize, markershape = :diamond, markercolor = c4, labels = \"R4\")\n",
    "savefig(\"analysis/leukocytes/dim_1/pca.pdf\")\n",
    "plot(p)"
   ]
  },
  {
   "cell_type": "code",
   "execution_count": null,
   "metadata": {
    "hidden": true
   },
   "outputs": [],
   "source": [
    "# plot ECM & PSRH images\n",
    "regions = Dict(1 => R1, 2=> R2, 3=> R3, 4=> R4)\n",
    "gr()\n",
    "plot_array = []\n",
    "n = length(regions)\n",
    "for i=1:n\n",
    "    R = regions[i]\n",
    "    for idx in R\n",
    "        f = idx_files[idx]\n",
    "        # get cells\n",
    "        df = CSV.read(\"data/4000x4000_combined/subregion_cells/\" * idx_files[idx] * \".csv\")\n",
    "        \n",
    "        # plot cancer\n",
    "        df_cell = df[df.class .== \"leukocytes\", :]\n",
    "        p = scatter(df_cell.x, df_cell.y,\n",
    "                         markersize = 1.5,\n",
    "                         yflip = true,\n",
    "                         label = \"\",\n",
    "                         markerstrokewidth = 0.2,\n",
    "                         frame = :box,\n",
    "                         ticks = [],\n",
    "                        aspect_ratio = :equal,\n",
    "                        size = (150,150),\n",
    "                        background_color=:transparent, foreground_color=:black, \n",
    "                         c = c_leukocytes,\n",
    "                        right_margin = -5mm) \n",
    "        \n",
    "        push!(plot_array, p)\n",
    "        \n",
    "        \n",
    "        p_PSRH = Images.load(\"data/4000x4000_combined/PSRH/\" * f * \".tif\")\n",
    "        push!(plot_array, plot(p_PSRH, ticks = [], frame = :box, bottom_margin = -3mm, right_margin = 5mm))\n",
    "        \n",
    "    end\n",
    "end"
   ]
  },
  {
   "cell_type": "code",
   "execution_count": null,
   "metadata": {
    "hidden": true
   },
   "outputs": [],
   "source": [
    "p = plot(plot_array..., layout = grid(4, 6), size = (250 * 6, 250 * 4))\n",
    "savefig(\"analysis/leukocytes/dim_1/PCA_examples.png\")"
   ]
  },
  {
   "attachments": {},
   "cell_type": "markdown",
   "metadata": {
    "heading_collapsed": true
   },
   "source": [
    "## Plot example ROIs with high and low PC"
   ]
  },
  {
   "cell_type": "code",
   "execution_count": null,
   "metadata": {
    "hidden": true
   },
   "outputs": [],
   "source": [
    "for i = 1:4\n",
    "    min_indices, max_indices = get_coordinate_min_max_examples(transformed, i)\n",
    "    plot_low_high_PC_leukocytes_PSRH(min_indices, max_indices, idx_files, \"analysis/leukocytes/dim_1/PCA_coordinates/PC\" * string(i) * \"_examples.png\")\n",
    "end"
   ]
  },
  {
   "attachments": {},
   "cell_type": "markdown",
   "metadata": {
    "hidden": true
   },
   "source": [
    "Plot example ROIs with high and low PC with \"close to 0\" coordinates for other PC"
   ]
  },
  {
   "cell_type": "code",
   "execution_count": null,
   "metadata": {
    "hidden": true
   },
   "outputs": [],
   "source": [
    "plot_array = []\n",
    "for i = 1:4\n",
    "    p = histogram(transformed[i,:], label = \"\", title = \"PC \" * string(i))\n",
    "    push!(plot_array, p)\n",
    "end\n",
    "plot(plot_array..., layout = grid(2,2), size = (800, 500))"
   ]
  },
  {
   "cell_type": "code",
   "execution_count": null,
   "metadata": {
    "hidden": true
   },
   "outputs": [],
   "source": [
    "thresholds = [0.005, 0.001, 0.001, 0.0001]\n",
    "small_1, large_1 = get_small_large_coordinate_examples(transformed, 1, thresholds; n_coordinates = 4 )\n",
    "small_2, large_2 = get_small_large_coordinate_examples(transformed, 2, thresholds; n_coordinates = 4 )\n",
    "small_3, large_3 = get_small_large_coordinate_examples(transformed, 3, thresholds; n_coordinates = 4 )\n",
    "small_4, large_4 = get_small_large_coordinate_examples(transformed, 4, thresholds; n_coordinates = 4 );"
   ]
  },
  {
   "cell_type": "code",
   "execution_count": null,
   "metadata": {
    "hidden": true
   },
   "outputs": [],
   "source": [
    "plot_low_high_PC_leukocytes_PSRH(small_1, large_1, idx_files, \"analysis/leukocytes/dim_1/PCA_coordinates/PC1_examples_controlled.png\")\n",
    "plot_low_high_PC_leukocytes_PSRH(small_2, large_2, idx_files, \"analysis/leukocytes/dim_1/PCA_coordinates/PC2_examples_controlled.png\")\n",
    "plot_low_high_PC_leukocytes_PSRH(small_3, large_3, idx_files, \"analysis/leukocytes/dim_1/PCA_coordinates/PC3_examples_controlled.png\")\n",
    "plot_low_high_PC_leukocytes_PSRH(small_4, large_4, idx_files, \"analysis/leukocytes/dim_1/PCA_coordinates/PC4_examples_controlled.png\")"
   ]
  },
  {
   "attachments": {},
   "cell_type": "markdown",
   "metadata": {},
   "source": [
    "# Leukocyte, combined dimension 0 and 1 "
   ]
  },
  {
   "cell_type": "code",
   "execution_count": null,
   "metadata": {},
   "outputs": [],
   "source": [
    "# load PD\n",
    "PD = load(\"data/4000x4000_combined/cells_PD/PD.jld2\")\n",
    "PD0_leukocytes = PD[\"PD0_leukocytes\"]\n",
    "PD1_leukocytes = PD[\"PD1_leukocytes\"]\n",
    "\n",
    "# compute PI (with smaller size)\n",
    "PI0_leukocytes = compute_PI2(PD0_leukocytes)\n",
    "PI1_leukocytes = compute_PI2(PD1_leukocytes)\n",
    "\n",
    "# load PD_max\n",
    "PD_max = load(\"data/4000x4000_combined/cells_PD/PD_max.jld2\")\n",
    "leukocytes0_max = PD_max[\"leukocytes0_max\"]\n",
    "leukocytes1_max = PD_max[\"leukocytes1_max\"];"
   ]
  },
  {
   "cell_type": "code",
   "execution_count": null,
   "metadata": {},
   "outputs": [],
   "source": [
    "# select dictionaries\n",
    "dicts = [PI0_leukocytes,\n",
    "        PI1_leukocytes\n",
    "        ];\n",
    "\n",
    "# get keys that are present in all dictionaries\n",
    "all_keys = []\n",
    "for k in keys(dicts[1])\n",
    "    present = 0\n",
    "    for j = 2:length(dicts)\n",
    "        if k in keys(dicts[j])\n",
    "            present += 1\n",
    "        end\n",
    "    end\n",
    "\n",
    "    if present == length(dicts) - 1\n",
    "        push!(all_keys, k)\n",
    "    end\n",
    "end\n",
    "\n",
    "# combine all features\n",
    "features = Dict()\n",
    "for f in all_keys\n",
    "     combined = vcat(\n",
    "                    PI0_leukocytes[f], \n",
    "                    vec(PI1_leukocytes[f])\n",
    "                    )\n",
    "     features[f] = combined\n",
    "end"
   ]
  },
  {
   "cell_type": "code",
   "execution_count": null,
   "metadata": {},
   "outputs": [],
   "source": [
    "#ROIs = collect(keys(features))\n",
    "#idx_ROI = Dict(i => roi for (i, roi) in enumerate(ROIs));\n",
    "\n",
    "#save(\"analysis/leukocytes/dim_01_combined/idx_ROI.jld2\", \"idx_ROI\", idx_ROI)\n",
    "idx_ROI = load(\"analysis/leukocytes/dim_01_combined/idx_ROI.jld2\")[\"idx_ROI\"];\n",
    "ROI_idx = Dict(v => k for (k,v) in idx_ROI);"
   ]
  },
  {
   "cell_type": "code",
   "execution_count": null,
   "metadata": {},
   "outputs": [],
   "source": [
    "# prepare features array\n",
    "n = length(idx_ROI)\n",
    "features_array = hcat([features[idx_ROI[i]] for i = 1:n]...)\n",
    "println(\"features array shape: \", size(features_array))\n",
    "\n",
    "features_centered = features_array .- mean(features_array, dims = 2);"
   ]
  },
  {
   "cell_type": "code",
   "execution_count": null,
   "metadata": {},
   "outputs": [],
   "source": [
    "embedding = umap(features_centered, 2; n_neighbors = 5);"
   ]
  },
  {
   "cell_type": "code",
   "execution_count": null,
   "metadata": {},
   "outputs": [],
   "source": [
    "writedlm(\"analysis/leukocytes/dim_01_combined/umap.csv\", embedding, \",\")\n",
    "#y = embedding = readdlm(\"analysis/leukocytes/dim_01_combined/umap.csv\", ',');"
   ]
  },
  {
   "cell_type": "code",
   "execution_count": null,
   "metadata": {},
   "outputs": [],
   "source": [
    "gr()\n",
    "n = size(embedding, 2)\n",
    "p = scatter(embedding[1,:], embedding[2,:], \n",
    "        markercolor = \"slategrey\",\n",
    "        markersize = 5, \n",
    "        label = \"\", \n",
    "        xticks = [], \n",
    "        yticks = [], \n",
    "        framestyle = :box,  \n",
    "        xlabel = \"UMAP-1\",\n",
    "        ylabel = \"UMAP-2\",\n",
    "        guidefontsize = 15,\n",
    "        leftmargin = 5mm,\n",
    "        size = (450, 350),\n",
    "        #hover = 1:n,\n",
    "        legend = :topright)\n",
    "#savefig(\"analysis/leukocytes/dim_01_combined/umap.svg\")"
   ]
  },
  {
   "attachments": {},
   "cell_type": "markdown",
   "metadata": {},
   "source": [
    "# Combination - cancer, leukocytes, dim 0, dim 1"
   ]
  },
  {
   "cell_type": "code",
   "execution_count": null,
   "metadata": {},
   "outputs": [],
   "source": [
    "# load cancer & leukocyte features\n",
    "PI = load(\"data/4000x4000_combined/cells_PD/PI.jld2\")\n",
    "cancer_PI0 = PI[\"PI0_cancer\"]\n",
    "cancer_PI1 = PI[\"PI1_cancer\"]\n",
    "leukocytes_PI0 = PI[\"PI0_leukocytes\"]\n",
    "leukocytes_PI1 = PI[\"PI1_leukocytes\"];"
   ]
  },
  {
   "cell_type": "code",
   "execution_count": null,
   "metadata": {},
   "outputs": [],
   "source": [
    "# select dictionaries\n",
    "dicts = [cancer_PI0,\n",
    "        cancer_PI1,\n",
    "        leukocytes_PI0,\n",
    "        leukocytes_PI1,\n",
    "        ];\n",
    "\n",
    "# get keys that are present in all dictionaries\n",
    "all_keys = []\n",
    "for k in keys(dicts[1])\n",
    "    present = 0\n",
    "    for j = 2:length(dicts)\n",
    "        if k in keys(dicts[j])\n",
    "            present += 1\n",
    "        end\n",
    "    end\n",
    "\n",
    "    if present == length(dicts) - 1\n",
    "        push!(all_keys, k)\n",
    "    end\n",
    "end\n",
    "\n",
    "# combine all features\n",
    "features = Dict()\n",
    "for f in all_keys\n",
    "     combined = vcat(\n",
    "                    cancer_PI0[f], \n",
    "                    leukocytes_PI0[f], \n",
    "                    vec(cancer_PI1[f]),\n",
    "                    vec(leukocytes_PI1[f])\n",
    "                    )\n",
    "     features[f] = combined\n",
    "    \n",
    "end"
   ]
  },
  {
   "cell_type": "code",
   "execution_count": null,
   "metadata": {},
   "outputs": [],
   "source": [
    "ROIs = collect(keys(features))\n",
    "idx_ROI = Dict(i => roi for (i, roi) in enumerate(ROIs));"
   ]
  },
  {
   "cell_type": "code",
   "execution_count": null,
   "metadata": {},
   "outputs": [],
   "source": [
    "#save(\"analysis/combined_cancer_leukocytes/idx_ROI.jld2\", \"idx_ROI\", idx_ROI)\n",
    "idx_files = load(\"analysis/combined_cancer_leukocytes/idx_ROI.jld2\")[\"idx_ROI\"];\n",
    "file_idx = Dict(v => k for (k,v) in idx_files);"
   ]
  },
  {
   "cell_type": "code",
   "execution_count": null,
   "metadata": {},
   "outputs": [],
   "source": [
    "# prepare features array\n",
    "n = length(idx_files)\n",
    "features_array = hcat([features[idx_files[i]] for i = 1:n]...)\n",
    "println(\"features array shape: \", size(features_array))\n",
    "\n",
    "features_centered = features_array .- mean(features_array, dims = 2);"
   ]
  },
  {
   "cell_type": "code",
   "execution_count": null,
   "metadata": {},
   "outputs": [],
   "source": [
    "# save features_array\n",
    "#save(\"analysis/combined_cancer_leukocytes/features.jld2\", \"features\", features_array)\n",
    "features_array = load(\"analysis/combined_cancer_leukocytes/features.jld2\")[\"features\"];"
   ]
  },
  {
   "attachments": {},
   "cell_type": "markdown",
   "metadata": {},
   "source": [
    "## UMAP"
   ]
  },
  {
   "cell_type": "code",
   "execution_count": null,
   "metadata": {},
   "outputs": [],
   "source": [
    "embedding = umap(features_centered, 2; n_neighbors = 5);"
   ]
  },
  {
   "cell_type": "code",
   "execution_count": null,
   "metadata": {},
   "outputs": [],
   "source": [
    "#writedlm(\"analysis/combined_cancer_leukocytes/umap.csv\", embedding, \",\")\n",
    "y = embedding = readdlm(\"analysis/combined_cancer_leukocytes/umap.csv\", ',');"
   ]
  },
  {
   "cell_type": "code",
   "execution_count": null,
   "metadata": {},
   "outputs": [],
   "source": [
    "gr()\n",
    "n = size(embedding, 2)\n",
    "p = scatter(embedding[1,:], embedding[2,:], \n",
    "        markercolor = \"slategrey\",\n",
    "        markersize = 5, \n",
    "        label = \"\", \n",
    "        xticks = [], \n",
    "        yticks = [], \n",
    "        framestyle = :box,  \n",
    "        xlabel = \"UMAP-1\",\n",
    "        ylabel = \"UMAP-2\",\n",
    "        guidefontsize = 15,\n",
    "        leftmargin = 5mm,\n",
    "        size = (450, 350),\n",
    "        hover = 1:n,\n",
    "        legend = :topright)\n",
    "savefig(\"analysis/combined_cancer_leukocytes/umap.svg\")"
   ]
  },
  {
   "cell_type": "code",
   "execution_count": null,
   "metadata": {},
   "outputs": [],
   "source": [
    "U1 = [384, 281, 24]\n",
    "U2 = [231, 288, 254]\n",
    "U3 = [189, 385, 347]\n",
    "U4 = [357, 115, 308]\n",
    "U5 = [133, 299, 170]\n",
    "U6 = [171, 87, 215]\n",
    "#U6 = [54, 123, 131]\n",
    "U7 = [150, 101, 274]\n",
    "U8 = [237, 346, 275]\n",
    "U9 = [341, 370, 152]\n"
   ]
  },
  {
   "cell_type": "code",
   "execution_count": null,
   "metadata": {},
   "outputs": [],
   "source": [
    "\n",
    "gr()\n",
    "\n",
    "n = size(embedding, 2)\n",
    "\n",
    "markersize = 3\n",
    "legendfontsize = 5\n",
    "n = size(y, 2)\n",
    "annotated = vcat(U1, U2, U3, U4, U5, U6, U7, U8)\n",
    "nonannotated = [i for i = 1:size(y, 2) if i ∉ annotated]\n",
    "p = scatter(y[1,nonannotated], y[2,nonannotated], \n",
    "        markercolor = \"lightgray\",\n",
    "        alpha = 0.6,\n",
    "        markersize = markersize, \n",
    "        markerstrokewidth = 3,\n",
    "        label = \"\", \n",
    "        xaxis = \"UMAP-1\",\n",
    "        yaxis = \"UMAP-2\",\n",
    "        ticks = [],\n",
    "        guidefontsize = 7,\n",
    "        framestyle = :box,\n",
    "        size = (200, 150),\n",
    "        legend = :bottomleft,\n",
    "        background_color=:transparent, foreground_color=:black,\n",
    "        )\n",
    "scatter!(y[1,U1], y[2,U1], markersize = markersize, markershape = :rect, markercolor = c1, labels = \"U1\", legendfontsize = legendfontsize)\n",
    "scatter!(y[1,U2], y[2,U2], markersize = markersize, markershape = :utriangle, markercolor = c2, labels = \"U2\")\n",
    "scatter!(y[1,U3], y[2,U3], markersize = markersize, markershape = :star, markercolor = c3, labels = \"U3\")\n",
    "scatter!(y[1,U4], y[2,U4], markersize = markersize, markershape = :pentagon, markercolor = c4, labels = \"U4\")\n",
    "scatter!(y[1,U5], y[2,U5], markersize = markersize, markershape = :diamond, markercolor = c5, labels = \"U5\")\n",
    "scatter!(y[1,U6], y[2,U6], markersize = markersize, markershape = :dtriangle, markercolor = c6, labels = \"U6\")\n",
    "scatter!(y[1,U7], y[2,U7], markersize = markersize, markershape = :star8, markercolor = c7, labels = \"U7\")\n",
    "scatter!(y[1,U8], y[2,U8], markersize = markersize, markershape = :octagon, markercolor = c8, labels = \"U8\")\n",
    "scatter!(y[1,U9], y[2,U9], markersize = markersize, markershape = :star4, markercolor = c9, labels = \"U9\")\n",
    "savefig(\"analysis/combined_cancer_leukocytes/umap.svg\")\n",
    "plot(p)"
   ]
  },
  {
   "cell_type": "code",
   "execution_count": null,
   "metadata": {},
   "outputs": [],
   "source": [
    "# plot cancer, leukocytes, & PSRH images\n",
    "regions = Dict(1 => U1, 2=> U2, 3=> U3, 4=> U4, 5 => U5, 6 => U6, 7 => U7, 8 => U8, 9 => U9)\n",
    "gr()\n",
    "plot_array = []\n",
    "n = length(regions)\n",
    "for i=1:n\n",
    "    R = regions[i]\n",
    "    for idx in R\n",
    "        f = idx_files[idx]\n",
    "        \n",
    "        # get cells\n",
    "        df = CSV.read(\"data/4000x4000_combined/subregion_cells/\" * idx_files[idx] * \".csv\")\n",
    "        \n",
    "        # plot cancer\n",
    "        df_cell = df[df.class .== \"cancer\", :]\n",
    "        p = scatter(df_cell.x, df_cell.y,\n",
    "                         markersize = 1.5,\n",
    "                         yflip = true,\n",
    "                         label = \"\",\n",
    "                         markerstrokewidth = 0.2,\n",
    "                         frame = :box,\n",
    "                         ticks = [],\n",
    "                        aspect_ratio = :equal,\n",
    "                        size = (150,150),\n",
    "                        background_color=:transparent, foreground_color=:black, \n",
    "                         c = c_cancer,\n",
    "                        right_margin = -5mm) \n",
    "        push!(plot_array, p)\n",
    "        \n",
    "        # plot leukocytes\n",
    "        df_cell = df[df.class .== \"leukocytes\", :]\n",
    "        p = scatter(df_cell.x, df_cell.y,\n",
    "                         markersize = 1.5,\n",
    "                         yflip = true,\n",
    "                         label = \"\",\n",
    "                         markerstrokewidth = 0.2,\n",
    "                         frame = :box,\n",
    "                         ticks = [],\n",
    "                        aspect_ratio = :equal,\n",
    "                        size = (150,150),\n",
    "                        background_color=:transparent, foreground_color=:black, \n",
    "                         c = c_leukocytes,\n",
    "                        right_margin = -5mm) \n",
    "        push!(plot_array, p)\n",
    "        \n",
    "        # plot PSRH\n",
    "        p_PSRH = Images.load(\"data/4000x4000_combined/PSRH/\" * f * \".tif\")  \n",
    "        push!(plot_array, plot(p_PSRH, ticks = [], frame = :box, bottom_margin = -3mm, right_margin = 5mm))\n",
    "    end\n",
    "end\n"
   ]
  },
  {
   "cell_type": "code",
   "execution_count": null,
   "metadata": {},
   "outputs": [],
   "source": [
    "p = plot(plot_array..., layout = grid(n, 3 * 3), size = (250 * 3 * 3, 250 * n))\n",
    "savefig(\"analysis/combined_cancer_leukocytes/UMAP_examples.png\")"
   ]
  },
  {
   "attachments": {},
   "cell_type": "markdown",
   "metadata": {},
   "source": [
    "## PCA"
   ]
  },
  {
   "cell_type": "code",
   "execution_count": null,
   "metadata": {},
   "outputs": [],
   "source": [
    "# prepare features array\n",
    "n = length(idx_files)\n",
    "#features_array = hcat([features[idx_files[i]] for i = 1:n]...)\n",
    "#println(\"features array shape: \", size(features_array))\n",
    "features_array = load(\"analysis/combined_cancer_leukocytes/features.jld2\")[\"features\"];\n",
    "\n",
    "features_centered = features_array .- mean(features_array, dims = 2);"
   ]
  },
  {
   "cell_type": "code",
   "execution_count": null,
   "metadata": {},
   "outputs": [],
   "source": [
    "# variance explained with 1 component\n",
    "M = fit(PCA, features_centered, maxoutdim = 1)\n",
    "transformed = MultivariateStats.transform(M, features_centered)\n",
    "variance_1 = principalratio(M)\n",
    "\n",
    "# variance explained with 2 components\n",
    "M = fit(PCA, features_centered, maxoutdim = 2)\n",
    "transformed = MultivariateStats.transform(M, features_centered)\n",
    "variance_2 = principalratio(M)\n",
    "\n",
    "# variance explained with 4 components\n",
    "M = fit(PCA, features_centered, maxoutdim = 4)\n",
    "transformed = MultivariateStats.transform(M, features_centered)\n",
    "variance_4 = principalratio(M)\n",
    "\n",
    "# perform PCA\n",
    "M = fit(PCA, features_centered, pratio = 0.99)\n",
    "transformed = MultivariateStats.transform(M, features_centered)"
   ]
  },
  {
   "cell_type": "code",
   "execution_count": null,
   "metadata": {},
   "outputs": [],
   "source": [
    "save(\"analysis/combined_cancer_leukocytes/PCA.jld2\",\n",
    "    \"transformed\", transformed,\n",
    "    \"variance_1\", variance_1,\n",
    "    \"variance_2\", variance_2)\n",
    "\n",
    "println(\"variance explained by 1 eigenvectors: \", variance_1)\n",
    "println(\"variance explained by 2 eigenvectors: \", variance_2)\n",
    "println(\"variance difference between 2 and 1:\", variance_2 - variance_1)"
   ]
  },
  {
   "cell_type": "code",
   "execution_count": null,
   "metadata": {},
   "outputs": [],
   "source": [
    "y = load(\"analysis/combined_cancer_leukocytes/PCA.jld2\")[\"transformed\"];"
   ]
  },
  {
   "cell_type": "code",
   "execution_count": null,
   "metadata": {},
   "outputs": [],
   "source": [
    "# save to csv for plotting\n",
    "df_pca1 = convert(DataFrame, Array(Transpose(y)))\n",
    "col_names = [\"pca_coord_\" * string(i) for i = 1:5];\n",
    "idx_ROI_list = [idx_files[i] for i = 1:401];\n",
    "rename!(df_pca1, col_names)\n",
    "df_pca1[:, :idx_ROI] = idx_ROI_list;\n",
    "#CSV.write(\"analysis/combined_cancer_leukocytes/PCA.csv\", df_pca1)"
   ]
  },
  {
   "cell_type": "code",
   "execution_count": null,
   "metadata": {},
   "outputs": [],
   "source": [
    "plotly()\n",
    "n = size(y, 2)\n",
    "\n",
    "p = scatter(y[1,:], y[2,:], \n",
    "        markercolor = \"slategrey\",\n",
    "        markersize = 5, \n",
    "        label = \"\", \n",
    "        xticks = [], \n",
    "        yticks = [], \n",
    "        framestyle = :box,  \n",
    "        xlabel = \"UMAP-1\",\n",
    "        ylabel = \"UMAP-2\",\n",
    "        guidefontsize = 15,\n",
    "        leftmargin = 5mm,\n",
    "        size = (450, 350),\n",
    "        hover = 1:n,\n",
    "        legend = :topright)"
   ]
  },
  {
   "cell_type": "code",
   "execution_count": null,
   "metadata": {},
   "outputs": [],
   "source": [
    "R1 = [384, 211, 239]\n",
    "R2 = [363, 15, 221]\n",
    "R3 = [67, 298, 12]\n",
    "R4 = [172, 143, 134]"
   ]
  },
  {
   "cell_type": "code",
   "execution_count": null,
   "metadata": {},
   "outputs": [],
   "source": [
    "for R in [R1, R2, R3, R4]\n",
    "    println(string(R))\n",
    "    for f in R\n",
    "        println(idx_files[f])\n",
    "    end\n",
    "end"
   ]
  },
  {
   "cell_type": "code",
   "execution_count": null,
   "metadata": {},
   "outputs": [],
   "source": [
    "# plot with regions\n",
    "gr()\n",
    "\n",
    "\n",
    "markersize = 3\n",
    "legendfontsize = 5\n",
    "n = size(y, 2)\n",
    "annotated = vcat(R1, R2, R3, R4)\n",
    "nonannotated = [i for i = 1:size(y, 2) if i ∉ annotated]\n",
    "p = scatter(y[1,nonannotated], y[2,nonannotated], \n",
    "        markercolor = \"lightgray\",\n",
    "        alpha = 0.6,\n",
    "        markersize = markersize, \n",
    "        markerstrokewidth = 1,\n",
    "        label = \"\", \n",
    "        xaxis = \"PC1 (60%)\",\n",
    "        yaxis = \"PC2 (34%)\",\n",
    "        #xtickfontsize = 15,\n",
    "        #ytickfontsize = 15,\n",
    "        #xrotation = 45,     \n",
    "        xticks = (0, 0),\n",
    "        yticks = (0,0),\n",
    "        guidefontsize = 7,\n",
    "        framestyle = :box,\n",
    "        size = (200, 150),\n",
    "        #leftmargin = 2mm,\n",
    "        legend = :bottomleft,\n",
    "        #background_color=:transparent, foreground_color=:black,\n",
    "        )\n",
    "scatter!(y[1,R1], y[2,R1], label = \"\", markersize = markersize, markercolor = c1, labels = \"R1\", legendfontsize = legendfontsize)\n",
    "scatter!(y[1,R2], y[2,R2], label = \"\", markersize = markersize, markercolor = c2, labels = \"R2\")\n",
    "scatter!(y[1,R3], y[2,R3], label = \"\", markersize = markersize, markercolor = c3, labels = \"R3\")\n",
    "scatter!(y[1,R4], y[2,R4], label = \"\", markersize = markersize, markercolor = c4, labels = \"R4\")\n",
    "#savefig(\"analysis/combined_cancer_leukocytes/pca.svg\")\n",
    "plot(p)"
   ]
  },
  {
   "cell_type": "code",
   "execution_count": null,
   "metadata": {},
   "outputs": [],
   "source": [
    "# plot cancer, leukocytes, & PSRH images\n",
    "regions = Dict(1 => R1, 2=> R2, 3=> R3, 4=> R4)\n",
    "gr()\n",
    "plot_array = []\n",
    "n = length(regions)\n",
    "for i=1:n\n",
    "    R = regions[i]\n",
    "    for idx in R\n",
    "        f = idx_files[idx]\n",
    "        \n",
    "        # get cells\n",
    "        df = CSV.read(\"data/4000x4000_combined/subregion_cells/\" * idx_files[idx] * \".csv\")\n",
    "        \n",
    "        # plot cancer\n",
    "        df_cell = df[df.class .== \"cancer\", :]\n",
    "        p = scatter(df_cell.x, df_cell.y,\n",
    "                         markersize = 1.5,\n",
    "                         yflip = true,\n",
    "                         label = \"\",\n",
    "                         markerstrokewidth = 0.2,\n",
    "                         frame = :box,\n",
    "                         ticks = [],\n",
    "                        aspect_ratio = :equal,\n",
    "                        size = (150,150),\n",
    "                        background_color=:transparent, foreground_color=:black, \n",
    "                         c = c_cancer,\n",
    "                        right_margin = -5mm) \n",
    "        push!(plot_array, p)\n",
    "        \n",
    "        # plot leukocytes\n",
    "        df_cell = df[df.class .== \"leukocytes\", :]\n",
    "        p = scatter(df_cell.x, df_cell.y,\n",
    "                         markersize = 1.5,\n",
    "                         yflip = true,\n",
    "                         label = \"\",\n",
    "                         markerstrokewidth = 0.2,\n",
    "                         frame = :box,\n",
    "                         ticks = [],\n",
    "                        aspect_ratio = :equal,\n",
    "                        size = (150,150),\n",
    "                        background_color=:transparent, foreground_color=:black, \n",
    "                         c = c_leukocytes,\n",
    "                        right_margin = -5mm) \n",
    "        push!(plot_array, p)\n",
    "        \n",
    "        # plot PSRH\n",
    "        p_PSRH = Images.load(\"data/4000x4000_combined/PSRH/\" * f * \".tif\")  \n",
    "        push!(plot_array, plot(p_PSRH, ticks = [], frame = :box, bottom_margin = -3mm, right_margin = 5mm))\n",
    "    end\n",
    "end\n"
   ]
  },
  {
   "cell_type": "code",
   "execution_count": null,
   "metadata": {},
   "outputs": [],
   "source": [
    "p = plot(plot_array..., layout = grid(n, 3 * 3), size = (250 * 3 * 3, 250 * n))\n",
    "savefig(\"analysis/combined_cancer_leukocytes/PCA_examples.png\")"
   ]
  },
  {
   "cell_type": "code",
   "execution_count": null,
   "metadata": {},
   "outputs": [],
   "source": []
  }
 ],
 "metadata": {
  "@webio": {
   "lastCommId": "3315627900b541dd80e92837caa79b05",
   "lastKernelId": "53c52589-f4ab-4f41-aafc-128a80cd9a58"
  },
  "kernelspec": {
   "display_name": "Julia 1.6.3",
   "language": "julia",
   "name": "julia-1.6"
  },
  "language_info": {
   "file_extension": ".jl",
   "mimetype": "application/julia",
   "name": "julia",
   "version": "1.6.3"
  }
 },
 "nbformat": 4,
 "nbformat_minor": 4
}
