{
 "cells": [
  {
   "cell_type": "markdown",
   "id": "76a76f1e",
   "metadata": {},
   "source": [
    "# Sample ROIs\n",
    "This notebook performs the following:\n",
    "* fixes the resolution / scale issue between ECM and cell location by doubling the index of cell locations.\n",
    "* samples regions of size 4,000 by 4,000 from ROIs.\n",
    "* link to polyscope: https://docs.google.com/spreadsheets/d/1CXmBIhaI2vvPFNOqSaxXDzO1_3G4RQqc/edit#gid=1637067803"
   ]
  },
  {
   "cell_type": "code",
   "execution_count": 1,
   "id": "59232765",
   "metadata": {},
   "outputs": [
    {
     "data": {
      "application/vnd.webio.node+json": {
       "children": [],
       "instanceArgs": {
        "namespace": "html",
        "tag": "div"
       },
       "nodeType": "DOM",
       "props": {},
       "type": "node"
      },
      "text/html": [
       "<div style=\"padding: 1em; background-color: #f8d6da; border: 1px solid #f5c6cb; font-weight: bold;\">\n",
       "<p>The WebIO Jupyter extension was not detected. See the\n",
       "<a href=\"https://juliagizmos.github.io/WebIO.jl/latest/providers/ijulia/\" target=\"_blank\">\n",
       "    WebIO Jupyter integration documentation\n",
       "</a>\n",
       "for more information.\n",
       "</div>\n"
      ],
      "text/plain": [
       "WebIO._IJuliaInit()"
      ]
     },
     "metadata": {
      "application/vnd.webio.node+json": {
       "kernelId": "7bd1b072-9800-41bc-b6ef-0dc30d4040d5"
      }
     },
     "output_type": "display_data"
    },
    {
     "name": "stderr",
     "output_type": "stream",
     "text": [
      "WARNING: could not import HDF5.Group into _hdf5_implementation\n",
      "WARNING: could not import HDF5.Dataset into _hdf5_implementation\n",
      "┌ Warning: Error requiring `HDF5` from `Plots`\n",
      "│   exception = (LoadError(\"/Users/irisyoon/.julia/packages/Plots/yJrrq/src/backends/hdf5.jl\", 36, UndefVarError(:Group)), Union{Ptr{Nothing}, Base.InterpreterIP}[Ptr{Nothing} @0x000000010de222cf, Ptr{Nothing} @0x000000010deb7206, Ptr{Nothing} @0x000000010deb823b, Ptr{Nothing} @0x000000010deb6b94, Ptr{Nothing} @0x000000010deb6f0c, Base.InterpreterIP in top-level CodeInfo for Plots._hdf5_implementation at statement 4, Ptr{Nothing} @0x000000010ded1844, Ptr{Nothing} @0x000000010ded0f65, Ptr{Nothing} @0x000000010ded1604, Ptr{Nothing} @0x000000010ded1604, Ptr{Nothing} @0x000000010ded2134, Ptr{Nothing} @0x000000011f9414e7, Ptr{Nothing} @0x000000010dea0fbf, Ptr{Nothing} @0x000000011f992312, Ptr{Nothing} @0x000000011f5c8a65, Ptr{Nothing} @0x000000010dea0fbf, Ptr{Nothing} @0x000000010dead839, Ptr{Nothing} @0x000000010f3f1bae, Ptr{Nothing} @0x000000010dea0fbf, Ptr{Nothing} @0x000000010deb825f, Ptr{Nothing} @0x000000010deb6b94, Ptr{Nothing} @0x000000010deb6f0c, Base.InterpreterIP in top-level CodeInfo for Plots at statement 10, Ptr{Nothing} @0x000000010ded1844, Ptr{Nothing} @0x000000010ded2134, Ptr{Nothing} @0x000000010f3f1ad6, Ptr{Nothing} @0x000000010f3f1b0d, Ptr{Nothing} @0x000000010dea0fbf, Ptr{Nothing} @0x000000010deb825f, Ptr{Nothing} @0x000000010deb6913, Ptr{Nothing} @0x000000010deb6dbe, Ptr{Nothing} @0x000000010deb662c, Base.InterpreterIP in MethodInstance for err(::Any, ::Module, ::String, ::String, ::Any) at statement 8, Ptr{Nothing} @0x000000010f3f1a05, Ptr{Nothing} @0x000000010f3f1a2d, Ptr{Nothing} @0x000000010dea0fbf, Ptr{Nothing} @0x000000010deb825f, Ptr{Nothing} @0x000000010deb6913, Ptr{Nothing} @0x000000010deb6dbe, Ptr{Nothing} @0x000000010deb662c, Base.InterpreterIP in MethodInstance for withpath(::Any, ::String) at statement 10, Ptr{Nothing} @0x000000010f3f1882, Ptr{Nothing} @0x000000010f3f194d, Ptr{Nothing} @0x000000010dea0fbf, Ptr{Nothing} @0x000000010deb825f, Ptr{Nothing} @0x000000010deb6b94, Ptr{Nothing} @0x000000010deb662c, Base.InterpreterIP in MethodInstance for listenpkg(::Any, ::Base.PkgId) at statement 3, Ptr{Nothing} @0x000000010f3edac9, Ptr{Nothing} @0x000000010f3eec5d, Ptr{Nothing} @0x000000010dea0fbf, Ptr{Nothing} @0x000000010decfae3, Ptr{Nothing} @0x000000010dec1697, Ptr{Nothing} @0x000000010f3a8d6b, Ptr{Nothing} @0x000000010f3aa0e2, Ptr{Nothing} @0x000000010f3ac82e, Ptr{Nothing} @0x000000010f3aef7a, Ptr{Nothing} @0x000000010f3cdae3, Ptr{Nothing} @0x000000010dea0fbf, Ptr{Nothing} @0x000000010ded1f0c, Ptr{Nothing} @0x000000010ded0cd3, Ptr{Nothing} @0x000000010ded0f65, Ptr{Nothing} @0x000000010ded1604, Ptr{Nothing} @0x000000010ded1604, Ptr{Nothing} @0x000000010ded2134, Ptr{Nothing} @0x000000011f9414e7, Ptr{Nothing} @0x000000010dea0fbf, Ptr{Nothing} @0x000000011f992312, Ptr{Nothing} @0x000000011f5c8a65, Ptr{Nothing} @0x000000010dea0fbf, Ptr{Nothing} @0x000000010dead839, Ptr{Nothing} @0x000000010f35dfb6, Ptr{Nothing} @0x000000010dea0fbf, Ptr{Nothing} @0x000000010deb825f, Ptr{Nothing} @0x000000010deb6b94, Ptr{Nothing} @0x000000010deb6f0c, Base.InterpreterIP in top-level CodeInfo for Main.ECM_TDA at statement 0, Ptr{Nothing} @0x000000010ded1844, Ptr{Nothing} @0x000000010ded0f65, Ptr{Nothing} @0x000000010ded1604, Ptr{Nothing} @0x000000010ded2134, Ptr{Nothing} @0x000000011f9414e7, Ptr{Nothing} @0x000000010dea0fbf, Ptr{Nothing} @0x000000011f992312, Ptr{Nothing} @0x000000010f35df4e, Ptr{Nothing} @0x000000010dea0fbf, Ptr{Nothing} @0x000000010deb825f, Ptr{Nothing} @0x000000010deb6b94, Ptr{Nothing} @0x000000010deb6f0c, Base.InterpreterIP in top-level CodeInfo for Main at statement 0, Ptr{Nothing} @0x000000010ded1844, Ptr{Nothing} @0x000000010ded1604, Ptr{Nothing} @0x000000010ded2134, Ptr{Nothing} @0x000000010f35da7c, Ptr{Nothing} @0x000000010f35ded9, Ptr{Nothing} @0x000000010dea0fbf, Ptr{Nothing} @0x000000010f35a0ac, Ptr{Nothing} @0x000000010dea0fbf, Ptr{Nothing} @0x000000010dead839, Ptr{Nothing} @0x000000010f353452, Ptr{Nothing} @0x000000010f3537c4, Ptr{Nothing} @0x000000010f3537dc, Ptr{Nothing} @0x000000010dea0fbf, Ptr{Nothing} @0x000000010debc59d])\n",
      "└ @ Requires /Users/irisyoon/.julia/packages/Requires/Z8rfN/src/require.jl:51\n",
      "┌ Info: For saving to png with the Plotly backend PlotlyBase has to be installed.\n",
      "└ @ Plots /Users/irisyoon/.julia/packages/Plots/yJrrq/src/backends.jl:317\n"
     ]
    }
   ],
   "source": [
    "include(\"../src/ECM_TDA.jl\")\n",
    "using .ECM_TDA\n",
    "\n",
    "using Images\n",
    "using CSV\n",
    "using Plots\n",
    "using JLD2\n",
    "using Random\n",
    "using StatsBase\n"
   ]
  },
  {
   "cell_type": "markdown",
   "id": "ec5b61b5",
   "metadata": {
    "heading_collapsed": true
   },
   "source": [
    "# 1. Load all (LTX, Da)"
   ]
  },
  {
   "cell_type": "markdown",
   "id": "c26f4685",
   "metadata": {
    "hidden": true
   },
   "source": [
    "ROIs in two batches\n",
    "1. `data/ROI`\n",
    "    * combined folder from the first three batch of ROIs\n",
    "2. `ROI_ES_201222` \n",
    "    * added in early 2023\n",
    "    * further split into `green` and `purple`"
   ]
  },
  {
   "cell_type": "markdown",
   "id": "43081690",
   "metadata": {
    "heading_collapsed": true,
    "hidden": true
   },
   "source": [
    "## 1(a) Load all LTX_Da"
   ]
  },
  {
   "cell_type": "code",
   "execution_count": null,
   "id": "217934aa",
   "metadata": {
    "hidden": true
   },
   "outputs": [],
   "source": [
    "### get LTX_Da from first ROIs\n",
    "csv_dir = \"data/ROI/region_csv/\"\n",
    "csv_files = [item for item in walkdir(csv_dir)]\n",
    "csv_files = csv_files[2:end]\n",
    "\n",
    "# organize file structures\n",
    "LTX_Da = Dict()\n",
    "for file in csv_files\n",
    "    dir_name = file[1]\n",
    "    LTX = split(split(dir_name,\".\")[1], \"/\")[end][4:6]\n",
    "    Da_all = [String(split(item,\".\")[1][3:end]) for item in file[3]]\n",
    "\n",
    "    if Da_all != []\n",
    "        LTX_Da[LTX] = Da_all\n",
    "    end\n",
    "end\n",
    "\n",
    "print(\"Total number of ROIs: \", length(LTX_Da))\n",
    "\n",
    "# save \n",
    "#save(\"data/ROI/LTX_Da_dict.jld2\", \"LTX_Da\", LTX_Da)"
   ]
  },
  {
   "cell_type": "code",
   "execution_count": 31,
   "id": "d5c8a928",
   "metadata": {
    "hidden": true
   },
   "outputs": [],
   "source": [
    "### get LTX_Da from the second ROIs\n",
    "csv_dir = \"data/ROI_ES_201222/deconvolved/stitch_region_40x_green/\"\n",
    "csv_files = [item for item in walkdir(csv_dir)]\n",
    "csv_files = csv_files[2:end]\n",
    "\n",
    "LTX_Da_green = Dict{Any, Any}()\n",
    "for file in csv_files\n",
    "    dir_name = file[1]\n",
    "    LTX = split(split(dir_name,\".\")[1], \"/\")[end][4:6]\n",
    "    Da_all = String.([split(item, \"_\")[2][3:end] for item in file[3]])\n",
    "\n",
    "    if Da_all != []\n",
    "        LTX_Da_green[LTX] = Da_all\n",
    "    end\n",
    "end\n",
    "\n",
    "# save \n",
    "#save(\"data/ROI_ES_201222/deconvolved/LTX_Da_green_dict.jld2\", \"LTX_Da_green\", LTX_Da_green)"
   ]
  },
  {
   "cell_type": "code",
   "execution_count": 34,
   "id": "ee2d4d14",
   "metadata": {
    "hidden": true
   },
   "outputs": [],
   "source": [
    "### get LTX_Da from the second ROIs\n",
    "csv_dir = \"data/ROI_ES_201222/deconvolved/stitch_region_40x_purple/\"\n",
    "csv_files = [item for item in walkdir(csv_dir)]\n",
    "csv_files = csv_files[2:end]\n",
    "\n",
    "LTX_Da_purple = Dict{Any, Any}()\n",
    "for file in csv_files\n",
    "    dir_name = file[1]\n",
    "    LTX = split(split(dir_name,\".\")[1], \"/\")[end][4:6]\n",
    "    Da_all = String.([split(item, \"_\")[2][3:end] for item in file[3]])\n",
    "\n",
    "    if Da_all != []\n",
    "        LTX_Da_purple[LTX] = Da_all\n",
    "    end\n",
    "end\n",
    "\n",
    "# save \n",
    "#save(\"data/ROI_ES_201222/deconvolved/LTX_Da_purple_dict.jld2\", \"LTX_Da_purple\", LTX_Da_purple)"
   ]
  },
  {
   "cell_type": "code",
   "execution_count": 35,
   "id": "7a1a0acf",
   "metadata": {
    "hidden": true
   },
   "outputs": [],
   "source": [
    "# load all LTX_Da\n",
    "LTX_Da = load(\"data/ROI/LTX_Da_dict.jld2\")[\"LTX_Da\"]\n",
    "LTX_Da_green = load(\"data/ROI_ES_201222/deconvolved/LTX_Da_green_dict.jld2\")[\"LTX_Da_green\"]\n",
    "LTX_Da_purple = load(\"data/ROI_ES_201222/deconvolved/LTX_Da_purple_dict.jld2\")[\"LTX_Da_purple\"];"
   ]
  },
  {
   "cell_type": "markdown",
   "id": "8aba645c",
   "metadata": {
    "heading_collapsed": true,
    "hidden": true
   },
   "source": [
    "## 1(b) Check that images have similar scales across the first and second batch "
   ]
  },
  {
   "cell_type": "code",
   "execution_count": null,
   "id": "87d49dc6",
   "metadata": {
    "hidden": true
   },
   "outputs": [],
   "source": [
    "# load all LTX_Da\n",
    "LTX_Da = load(\"data/ROI/LTX_Da_dict.jld2\")[\"LTX_Da\"]\n",
    "LTX_Da_green = load(\"data/ROI_ES_201222/deconvolved/LTX_Da_green_dict.jld2\")[\"LTX_Da_green\"]\n",
    "LTX_Da_purple = load(\"data/ROI_ES_201222/deconvolved/LTX_Da_purple_dict.jld2\")[\"LTX_Da_purple\"];"
   ]
  },
  {
   "cell_type": "code",
   "execution_count": 41,
   "id": "33f0be8b",
   "metadata": {
    "hidden": true
   },
   "outputs": [
    {
     "name": "stdout",
     "output_type": "stream",
     "text": [
      "intersecting ROIs: \n",
      "Set(Any[\"210\", \"021\", \"100\", \"051\", \"097\", \"049\", \"050\"])"
     ]
    }
   ],
   "source": [
    "# check if there are overlapping keys\n",
    "println(\"intersecting ROIs: \")\n",
    "print(intersect(keys(LTX_Da), keys(LTX_Da_green), keys(LTX_Da_purple)))"
   ]
  },
  {
   "cell_type": "code",
   "execution_count": 62,
   "id": "327ac3eb",
   "metadata": {
    "hidden": true
   },
   "outputs": [
    {
     "name": "stdout",
     "output_type": "stream",
     "text": [
      "size: (12000, 8000)\n"
     ]
    }
   ],
   "source": [
    "# Box 62\n",
    "img = load_ECM_image(\"021\", \"110\")\n",
    "println(\"size: \", size(img))"
   ]
  },
  {
   "cell_type": "code",
   "execution_count": 66,
   "id": "c46e1585",
   "metadata": {
    "hidden": true
   },
   "outputs": [
    {
     "name": "stdout",
     "output_type": "stream",
     "text": [
      "size: (8000, 8000)\n"
     ]
    }
   ],
   "source": [
    "# top green \n",
    "img_green = load_ECM_image(\"021\", \"106\"; green_purple = \"green\")\n",
    "println(\"size: \", size(img_green))"
   ]
  },
  {
   "cell_type": "markdown",
   "id": "1d22831a",
   "metadata": {
    "heading_collapsed": true
   },
   "source": [
    "# 2. Save cell location after doubling the index"
   ]
  },
  {
   "cell_type": "markdown",
   "id": "4e84d332",
   "metadata": {
    "hidden": true
   },
   "source": [
    "* For images in `data/ROI`: For each CSV file in `region_csv`, double the index location and save in `region_csv_scale_corrected`."
   ]
  },
  {
   "cell_type": "code",
   "execution_count": 34,
   "id": "afe1e71a",
   "metadata": {
    "hidden": true
   },
   "outputs": [],
   "source": [
    "for (LTX, Da_list) in LTX_Da\n",
    "    for Da in Da_list\n",
    "        old_path = \"data/ROI/region_csv/LTX\" * LTX * \"PSR_20X.czi/Da\" * Da * \".csv\"\n",
    "        \n",
    "        # load cell locations, double the index\n",
    "        cells = CSV.read(old_path)\n",
    "        cells.x = cells.x * 2\n",
    "        cells.y = cells.y *2\n",
    "        \n",
    "        # save\n",
    "        new_dir = \"data/ROI/region_csv_scale_corrected/LTX\" * LTX * \"PSR_20X.czi\"\n",
    "        new_path = new_dir * \"/Da\" * Da * \".csv\"\n",
    "        mkpath(new_dir)\n",
    "        CSV.write(new_path, cells)\n",
    "    end\n",
    "end"
   ]
  },
  {
   "cell_type": "markdown",
   "id": "5c82d787",
   "metadata": {
    "heading_collapsed": true
   },
   "source": [
    "# 3. Check the scale of deconvolved images and cell locations"
   ]
  },
  {
   "cell_type": "code",
   "execution_count": 17,
   "id": "d503156f",
   "metadata": {
    "hidden": true
   },
   "outputs": [],
   "source": [
    "# load all LTX_Da\n",
    "LTX_Da = load(\"data/ROI/LTX_Da_dict.jld2\")[\"LTX_Da\"]\n",
    "LTX_Da_green = load(\"data/ROI_ES_201222/deconvolved/LTX_Da_green_dict.jld2\")[\"LTX_Da_green\"]\n",
    "LTX_Da_purple = load(\"data/ROI_ES_201222/deconvolved/LTX_Da_purple_dict.jld2\")[\"LTX_Da_purple\"];"
   ]
  },
  {
   "cell_type": "markdown",
   "id": "94485da8",
   "metadata": {
    "hidden": true
   },
   "source": [
    "Example image in `data/ROI`"
   ]
  },
  {
   "cell_type": "code",
   "execution_count": 7,
   "id": "e473c8f4",
   "metadata": {
    "hidden": true
   },
   "outputs": [],
   "source": [
    "LTX = \"124\"\n",
    "Da = \"104\"\n",
    "\n",
    "# load cell & img\n",
    "cells = load_cells(LTX, Da)\n",
    "img = load_ECM_image(LTX, Da)\n",
    "\n",
    "# get leukocyte locations\n",
    "leukocytes_loc = cells[cells.class .== \"leukocytes\", :];"
   ]
  },
  {
   "cell_type": "code",
   "execution_count": null,
   "id": "109de99b",
   "metadata": {
    "hidden": true
   },
   "outputs": [],
   "source": [
    "# check that leukocytes and ECM are aligned\n",
    "gr()\n",
    "p = plot(Gray.(img), frame = :box, ticks = [])\n",
    "p1 = plot(Gray.(img), frame = :box, ticks = [])\n",
    "p2 = scatter(leukocytes_loc.x, leukocytes_loc.y, markersize= 2, label = \"leukocytes\", yflip = true, markerstrokewidth = 0.5)\n",
    "p3 = scatter!(p, leukocytes_loc.x, leukocytes_loc.y, markersize= 2, label = \"leukocytes\", yflip = true, markerstrokewidth = 0.5)\n",
    "plot(p1, p2, p3, layout = grid(1,3), size = (800,200))"
   ]
  },
  {
   "cell_type": "markdown",
   "id": "f03ed099",
   "metadata": {
    "hidden": true
   },
   "source": [
    "Example image in `data/ROI_ES_201222`, green"
   ]
  },
  {
   "cell_type": "code",
   "execution_count": 21,
   "id": "95094457",
   "metadata": {
    "hidden": true
   },
   "outputs": [],
   "source": [
    "LTX = \"021\"\n",
    "Da = \"106\"\n",
    "\n",
    "# load cell & img\n",
    "cells = load_cells(LTX, Da; green_purple = \"green\")\n",
    "img = load_ECM_image(LTX, Da; green_purple = \"green\")\n",
    "\n",
    "# get leukocyte locations\n",
    "leukocytes_loc = cells[cells.class .== \"leukocytes\", :];"
   ]
  },
  {
   "cell_type": "code",
   "execution_count": null,
   "id": "e79eb4e7",
   "metadata": {
    "hidden": true
   },
   "outputs": [],
   "source": [
    "# check that leukocytes and ECM are aligned\n",
    "gr()\n",
    "p = plot(Gray.(img), frame = :box, ticks = [])\n",
    "p1 = plot(Gray.(img), frame = :box, ticks = [])\n",
    "p2 = scatter(leukocytes_loc.x, leukocytes_loc.y, markersize= 2, label = \"leukocytes\", yflip = true, markerstrokewidth = 0.5)\n",
    "p3 = scatter!(p, leukocytes_loc.x, leukocytes_loc.y, markersize= 2, label = \"leukocytes\", yflip = true, markerstrokewidth = 0.5)\n",
    "plot(p1, p2, p3, layout = grid(1,3), size = (800,200))"
   ]
  },
  {
   "cell_type": "markdown",
   "id": "d1076d24",
   "metadata": {
    "hidden": true
   },
   "source": [
    "Example image in `data/ROI_ES_201222`, purple"
   ]
  },
  {
   "cell_type": "code",
   "execution_count": 27,
   "id": "81dcbcc0",
   "metadata": {
    "hidden": true
   },
   "outputs": [],
   "source": [
    "LTX = \"021\"\n",
    "Da = \"608\"\n",
    "\n",
    "# load cell & img\n",
    "cells = load_cells(LTX, Da; green_purple = \"purple\")\n",
    "img = load_ECM_image(LTX, Da; green_purple = \"purple\")\n",
    "\n",
    "# get leukocyte locations\n",
    "leukocytes_loc = cells[cells.class .== \"leukocytes\", :];"
   ]
  },
  {
   "cell_type": "code",
   "execution_count": null,
   "id": "8529b08d",
   "metadata": {
    "hidden": true
   },
   "outputs": [],
   "source": [
    "# check that leukocytes and ECM are aligned\n",
    "gr()\n",
    "p = plot(Gray.(img), frame = :box, ticks = [])\n",
    "p1 = plot(Gray.(img), frame = :box, ticks = [])\n",
    "p2 = scatter(leukocytes_loc.x, leukocytes_loc.y, markersize= 2, label = \"leukocytes\", yflip = true, markerstrokewidth = 0.5)\n",
    "p3 = scatter!(p, leukocytes_loc.x, leukocytes_loc.y, markersize= 2, label = \"leukocytes\", yflip = true, markerstrokewidth = 0.5)\n",
    "plot(p1, p2, p3, layout = grid(1,3), size = (800,200))"
   ]
  },
  {
   "cell_type": "markdown",
   "id": "39edef9f",
   "metadata": {},
   "source": [
    "# 4. Sample regions of size 4,000 x 4,000"
   ]
  },
  {
   "cell_type": "markdown",
   "id": "75c5a915",
   "metadata": {},
   "source": [
    "Sample sub-regions from the images.\n",
    "* Since we have a few images with width 4000 or height 4000, we'll sample sub-regions of size 4,000 by 4,000\n",
    "* Let `m` denote the minimum of width and height\n",
    "* If `m < 4000` we don't sample any\n",
    "* If `m == 4000` sample one\n",
    "* If `4000 < m <= 8000`, sample two\n",
    "* If `8000 < m <= 12000`, sample three\n",
    "* If `12000 < m `, sample four\n",
    "\n",
    "* We require that the centers of subregions be at least 2000 pixels apart. "
   ]
  },
  {
   "cell_type": "code",
   "execution_count": 2,
   "id": "3b687e28",
   "metadata": {},
   "outputs": [],
   "source": [
    "# load all LTX_Da\n",
    "LTX_Da = load(\"data/ROI/LTX_Da_dict.jld2\")[\"LTX_Da\"]\n",
    "LTX_Da_green = load(\"data/ROI_ES_201222/deconvolved/LTX_Da_green_dict.jld2\")[\"LTX_Da_green\"]\n",
    "LTX_Da_purple = load(\"data/ROI_ES_201222/deconvolved/LTX_Da_purple_dict.jld2\")[\"LTX_Da_purple\"];"
   ]
  },
  {
   "cell_type": "markdown",
   "id": "27805cda",
   "metadata": {},
   "source": [
    "## 4(a) for `data/ROI`"
   ]
  },
  {
   "cell_type": "code",
   "execution_count": 8,
   "id": "a11e3f54",
   "metadata": {},
   "outputs": [
    {
     "name": "stdout",
     "output_type": "stream",
     "text": [
      "size of image LTX 091 Da 268: (12000, 8000)\n",
      "size of image LTX 091 Da 355: (8000, 12000)\n",
      "size of image LTX 109 Da 530: (8000, 12000)\n",
      "size of image LTX 109 Da 621: (12000, 8000)\n",
      "size of image LTX 156 Da 195: (8000, 16000)\n",
      "size of image LTX 156 Da 353: (8000, 12000)\n",
      "size of image LTX 221 Da 505: (12000, 16000)\n"
     ]
    },
    {
     "name": "stderr",
     "output_type": "stream",
     "text": [
      "┌ Info: Precompiling JpegTurbo [b835a17e-a41a-41e7-81f0-2f016b05efe0]\n",
      "└ @ Base loading.jl:1342\n"
     ]
    },
    {
     "name": "stdout",
     "output_type": "stream",
     "text": [
      "size of image LTX 092 Da 104: (8000, 12000)\n",
      "size of image LTX 092 Da 130: (8000, 12000)\n",
      "size of image LTX 092 Da 252: (16000, 20000)\n",
      "size of image LTX 092 Da 370: (8000, 16000)\n",
      "size of image LTX 092 Da 378: (16000, 20000)\n",
      "size of image LTX 092 Da 379: (12000, 16000)\n",
      "size of image LTX 092 Da 440: (8000, 12000)\n",
      "size of image LTX 092 Da 498: (8000, 8000)\n",
      "size of image LTX 092 Da 523: (12000, 16000)\n",
      "size of image LTX 092 Da 524: (8000, 8000)\n",
      "size of image LTX 055 Da 409: (8000, 12000)\n",
      "size of image LTX 055 Da 541: (12000, 16000)\n",
      "size of image LTX 013 Da 148: (12000, 12000)\n",
      "size of image LTX 013 Da 153: (12000, 12000)\n",
      "size of image LTX 013 Da 154: (12000, 12000)\n",
      "size of image LTX 013 Da 155: (12000, 12000)\n",
      "size of image LTX 013 Da 168: (8000, 12000)\n",
      "size of image LTX 013 Da 271: (12000, 12000)\n",
      "size of image LTX 079 Da 105: (8000, 12000)\n",
      "size of image LTX 079 Da 108: (8000, 8000)\n",
      "size of image LTX 079 Da 50: (8000, 8000)\n",
      "size of image LTX 142 Da 169: (8000, 8000)\n",
      "size of image LTX 142 Da 201: (8000, 12000)\n",
      "size of image LTX 142 Da 222: (12000, 12000)\n",
      "size of image LTX 144 Da 246: (8000, 16000)\n",
      "size of image LTX 160 Da 242: (20000, 24000)\n",
      "size of image LTX 160 Da 454: (12000, 16000)\n",
      "size of image LTX 183 Da 203: (12000, 12000)\n",
      "size of image LTX 183 Da 295: (8000, 12000)\n",
      "size of image LTX 210 Da 508: (12000, 16000)\n",
      "size of image LTX 210 Da 555: (12000, 16000)\n",
      "size of image LTX 210 Da 691: (12000, 12000)\n",
      "size of image LTX 001 Da 107: (8000, 4000)\n",
      "size of image LTX 001 Da 163: (12000, 12000)\n",
      "size of image LTX 001 Da 227: (8000, 8000)\n",
      "size of image LTX 001 Da 232: (8000, 8000)\n",
      "size of image LTX 001 Da 254: (12000, 12000)\n",
      "size of image LTX 001 Da 256: (16000, 16000)\n",
      "size of image LTX 001 Da 373: (12000, 16000)\n",
      "size of image LTX 001 Da 374: (8000, 8000)\n",
      "size of image LTX 021 Da 110: (12000, 8000)\n",
      "size of image LTX 021 Da 211: (12000, 16000)\n",
      "size of image LTX 124 Da 104: (8000, 12000)\n",
      "size of image LTX 193 Da 153: (8000, 12000)\n",
      "size of image LTX 193 Da 297: (8000, 12000)\n",
      "size of image LTX 185 Da 363: (12000, 16000)\n",
      "size of image LTX 206 Da 250: (12000, 12000)\n",
      "size of image LTX 206 Da 394: (12000, 16000)\n",
      "size of image LTX 108 Da 343: (4000, 8000)\n",
      "size of image LTX 108 Da 346: (8000, 8000)\n",
      "size of image LTX 100 Da 336: (12000, 16000)\n",
      "size of image LTX 100 Da 89: (12000, 12000)\n",
      "size of image LTX 029 Da 372: (12000, 12000)\n",
      "size of image LTX 051 Da 328: (12000, 12000)\n",
      "size of image LTX 051 Da 435: (12000, 20000)\n",
      "size of image LTX 143 Da 372: (8000, 8000)\n",
      "size of image LTX 073 Da 196: (8000, 12000)\n",
      "size of image LTX 097 Da 113: (12000, 12000)\n",
      "size of image LTX 115 Da 164: (12000, 16000)\n",
      "size of image LTX 115 Da 177: (12000, 16000)\n",
      "size of image LTX 049 Da 134: (8000, 12000)\n",
      "size of image LTX 049 Da 292: (8000, 12000)\n",
      "size of image LTX 049 Da 334: (8000, 12000)\n",
      "size of image LTX 062 Da 130: (8000, 12000)\n",
      "size of image LTX 062 Da 225: (8000, 12000)\n",
      "size of image LTX 062 Da 313: (12000, 12000)\n",
      "size of image LTX 062 Da 390: (12000, 12000)\n",
      "size of image LTX 145 Da 211: (12000, 12000)\n",
      "size of image LTX 145 Da 318: (12000, 16000)\n",
      "size of image LTX 145 Da 513: (12000, 16000)\n",
      "size of image LTX 050 Da 261: (8000, 12000)\n",
      "size of image LTX 050 Da 316: (8000, 12000)\n",
      "size of image LTX 082 Da 161: (8000, 12000)\n",
      "size of image LTX 082 Da 287: (12000, 12000)\n",
      "size of image LTX 102 Da 610: (8000, 16000)\n",
      "size of image LTX 102 Da 632: (8000, 12000)\n",
      "size of image LTX 102 Da 672: (12000, 8000)\n"
     ]
    }
   ],
   "source": [
    "# get the size of all ROIs\n",
    "ROI_size = Dict()\n",
    "for (LTX, Da_list) in LTX_Da\n",
    "    for Da in Da_list\n",
    "        img = load_ECM_image(LTX, Da)\n",
    "        ROI_size[(LTX, Da)] = size(img)\n",
    "        println(\"size of image LTX \", LTX, \" Da \", Da, \": \", size(img))\n",
    "    end\n",
    "end\n",
    "\n",
    "#save(\"data/ROI/ROI_size.jld2\", \"ROI_size\", ROI_size);"
   ]
  },
  {
   "cell_type": "code",
   "execution_count": 68,
   "id": "9f419ec8",
   "metadata": {},
   "outputs": [],
   "source": [
    "subregion_centers = Dict()\n",
    "subregion_size = 4000\n",
    "distance_required = 3000\n",
    "\n",
    "for (key, val) in ROI_size\n",
    "    LTX, Da = key\n",
    "    img_w, img_h = val\n",
    "    if (img_w == 4000) | (img_h == 4000)\n",
    "        if img_w == 4000\n",
    "            sampled  = sample(Int(subregion_size//2): Int(img_h - subregion_size//2), 1)[1]\n",
    "            sampled_loc = [[2000, sampled]]\n",
    "        end\n",
    "    \n",
    "        if img_h == 4000\n",
    "            sampled  = sample(Int(subregion_size//2): Int(img_w - subregion_size//2), 1)[1]\n",
    "            sampled_loc = [[sampled, 2000]]\n",
    "        end  \n",
    "    else\n",
    "        max_length = maximum([img_w, img_h])\n",
    "        n_samples = floor.(Int,max_length / subregion_size)\n",
    "        sampled_loc = sample_regions(img_w, img_h, subregion_size, distance_required; n_samples = n_samples)\n",
    "    end\n",
    "    subregion_centers[(LTX, Da)] = sampled_loc\n",
    "end"
   ]
  },
  {
   "cell_type": "code",
   "execution_count": 70,
   "id": "59f0a90c",
   "metadata": {},
   "outputs": [
    {
     "name": "stdout",
     "output_type": "stream",
     "text": [
      "total number of subregions: 268"
     ]
    }
   ],
   "source": [
    "print(\"total number of subregions: \", sum([length(v) for (_, v) in subregion_centers]))"
   ]
  },
  {
   "cell_type": "code",
   "execution_count": null,
   "id": "d4b42e19",
   "metadata": {},
   "outputs": [],
   "source": [
    "# plot example subregions\n",
    "LTX = \"124\"\n",
    "Da = \"104\"\n",
    "plot_subregion_boxes(LTX, Da, subregion_centers[(LTX, Da)])"
   ]
  },
  {
   "cell_type": "markdown",
   "id": "074efe5c",
   "metadata": {},
   "source": [
    "Save plots in `subregion_boxes`, `subregion_ECM`, and `sugregion_ECM_inverted`"
   ]
  },
  {
   "cell_type": "code",
   "execution_count": 2,
   "id": "095d947a",
   "metadata": {},
   "outputs": [],
   "source": [
    "# save subregion_centers\n",
    "#save(\"data/4000x4000/subregion_centers.jld2\", \"subregion_centers\", subregion_centers)\n",
    "\n",
    "# to load\n",
    "subregion_centers = load(\"data/4000x4000/subregion_centers.jld2\")[\"subregion_centers\"];"
   ]
  },
  {
   "cell_type": "code",
   "execution_count": 11,
   "id": "abf19f68",
   "metadata": {},
   "outputs": [],
   "source": [
    "\"\"\"\n",
    "# plot & save subregion center boxes\n",
    "for (k, v) in subregion_centers\n",
    "    LTX, Da = k\n",
    "    plot_subregion_boxes(LTX, Da, subregion_centers[(LTX, Da)])\n",
    "    savefig(\"data/4000x4000/subregion_boxes/LTX\" * LTX * \"_Da\" * Da * \".png\")\n",
    "end\n",
    "\"\"\"\n"
   ]
  },
  {
   "cell_type": "code",
   "execution_count": 402,
   "id": "fe58011c",
   "metadata": {},
   "outputs": [],
   "source": [
    "# save subregions\n",
    "\"\"\"\n",
    "subregion_size = 4000\n",
    "for (key, centers) in subregion_centers \n",
    "    if (key != (\"143\", \"372\"))\n",
    "        (LTX, Da) = key\n",
    "\n",
    "        # load ROI ECM \n",
    "        img = load_ECM_image(LTX, Da)\n",
    "        for (idx,c) in enumerate(centers)\n",
    "            # get subregion_ECM\n",
    "            img_sub = get_img_sub(img, c, subregion_size)\n",
    "            save(\"data/4000x4000/subregion_ECM/LTX\" * LTX * \"_Da\" * Da * \"_idx\" * string(idx) * \".tif\", img_sub)\n",
    "        end\n",
    "    end\n",
    "end\n",
    "\"\"\"\n"
   ]
  },
  {
   "cell_type": "code",
   "execution_count": null,
   "id": "23095b1e",
   "metadata": {},
   "outputs": [],
   "source": [
    "# save inverted version of small images \n",
    "\"\"\"\n",
    "subregion_size = 4000\n",
    "for (key, centers) in subregion_centers \n",
    "    if (key != (\"143\", \"372\"))\n",
    "        (LTX, Da) = key\n",
    "        # load ROI ECM \n",
    "        img = load_ECM_image(LTX, Da)\n",
    "        for (idx,c) in enumerate(centers)\n",
    "            # plot subregion ECM\n",
    "            img_sub = get_img_sub(img, c, subregion_size)\n",
    "            img_sub = 1 .- img_sub\n",
    "            save(\"data/4000x4000/subregion_ECM_inverted/LTX\" * LTX * \"_Da\" * Da * \"_idx\" * string(idx) * \".tif\", img_sub)\n",
    "        end\n",
    "    end\n",
    "end\n",
    "\"\"\""
   ]
  },
  {
   "cell_type": "code",
   "execution_count": null,
   "id": "d0e5d68d",
   "metadata": {},
   "outputs": [],
   "source": [
    "# save the PSRH subregion images (with cell annotations)\n",
    "subregion_size = 2000  # note: we halve the subegion size due to resolution issues\n",
    "for (key, centers) in subregion_centers\n",
    "    if (key != (\"143\", \"372\"))\n",
    "        (LTX, Da) = key\n",
    "        centers = subregion_centers[(LTX, Da)]\n",
    "        img = Images.load(\"/media/yoon/My Passport/data/ROI/region_annotate_full/\" *  \"LTX\" * LTX * \"PSR_20X.czi/Da\" * Da * \".jpg\")\n",
    "        \n",
    "        for (idx,c) in enumerate(centers)\n",
    "            # get subregion_ECM\n",
    "            img_sub = get_img_sub(img, [Int(round(i/2)) for i in c] , subregion_size)\n",
    "            save(\"data/4000x4000_combined/PSRH/LTX\" * LTX * \"_Da\" * Da * \"_idx\" * string(idx) * \".tif\", img_sub)\n",
    "        end\n",
    "    end\n",
    "end"
   ]
  },
  {
   "cell_type": "code",
   "execution_count": 3,
   "id": "e9f3f6ca",
   "metadata": {
    "scrolled": true
   },
   "outputs": [],
   "source": [
    "# save the PSRH subregion images \n",
    "subregion_size = 2000  # note: we halve the subregion size due to resolution issues\n",
    "for (key, centers) in subregion_centers\n",
    "    if (key != (\"143\", \"372\"))\n",
    "        (LTX, Da) = key\n",
    "        \n",
    "        centers = subregion_centers[(LTX, Da)]\n",
    "        img = Images.load(\"data/ROI/region_PSRH/\" *  \"LTX\" * LTX * \"PSR_20X.czi/Da\" * Da * \".jpg\")\n",
    "\n",
    "        for (idx,c) in enumerate(centers)\n",
    "            # get subregion_ECM\n",
    "            img_sub = get_img_sub(img, [Int(round(i/2)) for i in c] , subregion_size)\n",
    "            save(\"data/4000x4000_combined/PSRH/LTX\" * LTX * \"_Da\" * Da * \"_idx\" * string(idx) * \".tif\", img_sub)\n",
    "        end\n",
    "\n",
    "    end\n",
    "end"
   ]
  },
  {
   "cell_type": "markdown",
   "id": "a154f606",
   "metadata": {},
   "source": [
    "<font color = \"red\">After gettin (unannotated) PSRH images from Crick:</color>\n",
    "run the above again\n",
    "LTX001 Da: 163, 256, 373\n",
    "LTX013 Da: 148, 154, 271\n",
    "LTX092 Da: 252, 378, 523"
   ]
  },
  {
   "cell_type": "markdown",
   "id": "9e7e821d",
   "metadata": {},
   "source": [
    "### save cell locations in subregions"
   ]
  },
  {
   "cell_type": "code",
   "execution_count": 399,
   "id": "be3c0f52",
   "metadata": {},
   "outputs": [],
   "source": [
    "for (key, val) in subregion_centers\n",
    "    LTX, Da = key\n",
    "    for (idx, c) in enumerate(val)\n",
    "        center_x, center_y = c\n",
    "        xmin, xmax, ymin, ymax = get_subregion_boundaries(center_x, center_y, subregion_size)\n",
    "\n",
    "        cells = load_cells(LTX, Da)\n",
    "        cells_sub = cells[(xmin .<= cells.y .< xmax) .& ( ymin .<= cells.x .< ymax),:]\n",
    "        CSV.write(\"data/4000x4000/subregion_cells/LTX\" * LTX * \"_Da\" * Da * \"_idx\" * string(idx) * \".csv\", cells_sub)\n",
    "    end\n",
    "end"
   ]
  },
  {
   "cell_type": "markdown",
   "id": "f8fc1c70",
   "metadata": {},
   "source": [
    "## 4(b) For new batch `ROI_ES_201222`"
   ]
  },
  {
   "cell_type": "code",
   "execution_count": 30,
   "id": "cac00783",
   "metadata": {},
   "outputs": [
    {
     "name": "stdout",
     "output_type": "stream",
     "text": [
      "size of image LTX 091 Da 295: (8000, 10000)\n",
      "size of image LTX 091 Da 525: (8000, 8000)\n",
      "size of image LTX 091 Da 896: (8000, 8000)\n",
      "size of image LTX 109 Da 1225: (8000, 8000)\n",
      "size of image LTX 109 Da 1569: (10000, 8000)\n",
      "size of image LTX 156 Da 1195: (10000, 10000)\n",
      "size of image LTX 156 Da 1596: (10000, 10000)\n",
      "size of image LTX 156 Da 2042: (8000, 10000)\n",
      "size of image LTX 156 Da 715: (10000, 10000)\n",
      "size of image LTX 221 Da 1525: (10000, 10000)\n",
      "size of image LTX 221 Da 2892: (10000, 10000)\n",
      "size of image LTX 055 Da 1309: (10000, 12000)\n",
      "size of image LTX 055 Da 2158: (12000, 12000)\n",
      "size of image LTX 055 Da 738: (12000, 12000)\n",
      "size of image LTX 142 Da 1112: (6000, 6000)\n",
      "size of image LTX 142 Da 461: (6000, 8000)\n",
      "size of image LTX 144 Da 1763: (6000, 6000)\n",
      "size of image LTX 144 Da 2104: (8000, 8000)\n",
      "size of image LTX 144 Da 554: (6000, 6000)\n",
      "size of image LTX 210 Da 1477: (8000, 10000)\n",
      "size of image LTX 210 Da 2682: (6000, 6000)\n",
      "size of image LTX 160 Da 1980: (8000, 8000)\n",
      "size of image LTX 160 Da 328: (10000, 10000)\n",
      "size of image LTX 183 Da 1489: (8000, 8000)\n",
      "size of image LTX 183 Da 1794: (6000, 6000)\n",
      "size of image LTX 021 Da 106: (8000, 8000)\n",
      "size of image LTX 021 Da 385: (8000, 8000)\n",
      "size of image LTX 021 Da 565: (10000, 10000)\n",
      "size of image LTX 124 Da 258: (6000, 6000)\n",
      "size of image LTX 124 Da 750: (6000, 6000)\n",
      "size of image LTX 124 Da 955: (6000, 6000)\n",
      "size of image LTX 193 Da 1320: (10000, 10000)\n",
      "size of image LTX 193 Da 1548: (10000, 10000)\n",
      "size of image LTX 185 Da 1059: (6000, 6000)\n",
      "size of image LTX 185 Da 733: (10000, 12000)\n",
      "size of image LTX 206 Da 1049: (10000, 12000)\n",
      "size of image LTX 206 Da 2168: (12000, 12000)\n",
      "size of image LTX 108 Da 1561: (4000, 6000)\n",
      "size of image LTX 108 Da 637: (6000, 6000)\n",
      "size of image LTX 108 Da 808: (6000, 8000)\n",
      "size of image LTX 100 Da 1257: (12000, 10000)\n",
      "size of image LTX 100 Da 1388: (10000, 8000)\n",
      "size of image LTX 100 Da 2090: (8000, 8000)\n",
      "size of image LTX 029 Da 1092: (8000, 8000)\n",
      "size of image LTX 029 Da 1865: (6000, 10000)\n",
      "size of image LTX 029 Da 2340: (6000, 8000)\n",
      "size of image LTX 051 Da 1230: (8000, 8000)\n",
      "size of image LTX 051 Da 2067: (8000, 12000)\n",
      "size of image LTX 051 Da 294: (8000, 8000)\n",
      "size of image LTX 073 Da 1081: (6000, 6000)\n",
      "size of image LTX 073 Da 277: (8000, 6000)\n",
      "size of image LTX 073 Da 501: (8000, 8000)\n",
      "size of image LTX 097 Da 636: (8000, 6000)\n",
      "size of image LTX 115 Da 1137: (12000, 12000)\n",
      "size of image LTX 049 Da 1488: (10000, 10000)\n",
      "size of image LTX 145 Da 2441: (10000, 12000)\n",
      "size of image LTX 145 Da 357: (10000, 10000)\n",
      "size of image LTX 050 Da 1764: (8000, 8000)\n",
      "size of image LTX 050 Da 2137: (8000, 10000)\n",
      "size of image LTX 050 Da 680: (8000, 10000)\n",
      "size of image LTX 082 Da 1219: (8000, 8000)\n",
      "size of image LTX 082 Da 709: (6000, 8000)\n",
      "size of image LTX 082 Da 920: (8000, 10000)\n",
      "size of image LTX 102 Da 564: (10000, 10000)\n",
      "size of image LTX 102 Da 847: (10000, 10000)\n",
      "size of image LTX 050 Da 1433: (6000, 4000)\n",
      "size of image LTX 021 Da 608: (6000, 4000)\n",
      "size of image LTX 051 Da 1238: (4000, 2000)\n",
      "size of image LTX 051 Da 1347: (4000, 2000)\n",
      "size of image LTX 051 Da 1513: (4000, 4000)\n",
      "size of image LTX 097 Da 721: (4000, 4000)\n",
      "size of image LTX 210 Da 1832: (4000, 4000)\n",
      "size of image LTX 100 Da 913: (4000, 4000)\n",
      "size of image LTX 049 Da 1564: (4000, 6000)\n"
     ]
    }
   ],
   "source": [
    "# get the size of all ROIs\n",
    "ROI_green_size = Dict()\n",
    "for (LTX, Da_list) in LTX_Da_green\n",
    "    for Da in Da_list\n",
    "        img = load_ECM_image(LTX, Da; green_purple = \"green\")\n",
    "        ROI_green_size[(LTX, Da)] = size(img)\n",
    "        println(\"size of image LTX \", LTX, \" Da \", Da, \": \", size(img))\n",
    "    end\n",
    "end\n",
    "\n",
    "ROI_purple_size = Dict()\n",
    "for (LTX, Da_list) in LTX_Da_purple\n",
    "    for Da in Da_list\n",
    "        img = load_ECM_image(LTX, Da; green_purple = \"purple\")\n",
    "        ROI_purple_size[(LTX, Da)] = size(img)\n",
    "        println(\"size of image LTX \", LTX, \" Da \", Da, \": \", size(img))\n",
    "    end\n",
    "end\n",
    "\n",
    "save(\"data/ROI_ES_201222/deconvolved/ROI_size.jld2\", \n",
    "    \"ROI_green_size\", ROI_green_size,\n",
    "    \"ROI_purple_size\", ROI_purple_size);"
   ]
  },
  {
   "cell_type": "markdown",
   "id": "df159eee",
   "metadata": {},
   "source": [
    "#### Sample subregions for green"
   ]
  },
  {
   "cell_type": "code",
   "execution_count": 2,
   "id": "b4aed8cd",
   "metadata": {},
   "outputs": [
    {
     "data": {
      "text/plain": [
       "Dict{Any, Any} with 65 entries:\n",
       "  (\"051\", \"1230\") => Any[[2882, 4674], [5989, 4692]]\n",
       "  (\"124\", \"955\")  => Any[[3959, 2178]]\n",
       "  (\"193\", \"1320\") => Any[[3905, 4689], [5823, 7400]]\n",
       "  (\"073\", \"1081\") => Any[[3401, 2707]]\n",
       "  (\"156\", \"1596\") => Any[[3615, 7043], [5383, 4332]]\n",
       "  (\"185\", \"733\")  => Any[[5749, 3769], [6883, 8933], [3340, 9813]]\n",
       "  (\"100\", \"1257\") => Any[[3383, 2492], [4326, 6900], [8795, 3260]]\n",
       "  (\"049\", \"1488\") => Any[[6705, 4725], [2461, 6619]]\n",
       "  (\"050\", \"1764\") => Any[[3920, 3359], [2155, 5852]]\n",
       "  (\"050\", \"2137\") => Any[[5056, 4853], [4845, 7937]]\n",
       "  (\"108\", \"1561\") => [[2000, 2024]]\n",
       "  (\"206\", \"2168\") => Any[[3391, 9972], [7700, 7284], [5078, 2254]]\n",
       "  (\"091\", \"525\")  => Any[[4969, 4275], [2298, 2008]]\n",
       "  (\"221\", \"2892\") => Any[[2944, 4214], [6015, 7198]]\n",
       "  (\"021\", \"385\")  => Any[[4141, 3128], [5577, 5955]]\n",
       "  (\"108\", \"808\")  => Any[[2980, 2131], [3958, 5881]]\n",
       "  (\"100\", \"2090\") => Any[[5472, 5484], [2159, 3088]]\n",
       "  (\"082\", \"920\")  => Any[[3968, 6038], [5809, 2991]]\n",
       "  (\"183\", \"1489\") => Any[[5241, 5255], [2765, 3460]]\n",
       "  (\"145\", \"357\")  => Any[[7236, 3918], [2127, 6205]]\n",
       "  (\"029\", \"1092\") => Any[[3382, 3278], [5899, 5782]]\n",
       "  (\"144\", \"554\")  => Any[[3236, 2069]]\n",
       "  (\"206\", \"1049\") => Any[[5107, 7038], [2044, 9099], [7144, 2276]]\n",
       "  (\"021\", \"106\")  => Any[[2561, 5337], [5651, 2671]]\n",
       "  (\"073\", \"277\")  => Any[[2999, 3802], [5956, 3163]]\n",
       "  ⋮               => ⋮"
      ]
     },
     "execution_count": 2,
     "metadata": {},
     "output_type": "execute_result"
    }
   ],
   "source": [
    "# sample subregion center for greens\n",
    "ROI_size = load(\"data/ROI_ES_201222/deconvolved/ROI_size.jld2\")[\"ROI_green_size\"]\n",
    "subregion_centers_green = sample_subregion_centers(ROI_size, 4000, 3000)"
   ]
  },
  {
   "cell_type": "code",
   "execution_count": 5,
   "id": "f3f6d31b",
   "metadata": {},
   "outputs": [
    {
     "name": "stdout",
     "output_type": "stream",
     "text": [
      "total number of subregions: 128"
     ]
    }
   ],
   "source": [
    "print(\"total number of subregions: \", sum([length(v) for (_, v) in subregion_centers_green]))"
   ]
  },
  {
   "cell_type": "code",
   "execution_count": 3,
   "id": "28585d2c",
   "metadata": {},
   "outputs": [],
   "source": [
    "# save subregion_centers\n",
    "#save(\"data/4000x4000_201222/subregion_centers_green.jld2\", \"subregion_centers_green\", subregion_centers_green)\n",
    "\n",
    "# to load\n",
    "subregion_centers_green = load(\"data/4000x4000_201222/subregion_centers_green.jld2\")[\"subregion_centers_green\"];"
   ]
  },
  {
   "cell_type": "code",
   "execution_count": null,
   "id": "8d0b7020",
   "metadata": {},
   "outputs": [],
   "source": [
    "\n",
    "# plot & save subregion center boxes\n",
    "\"\"\"\n",
    "for (k, v) in subregion_centers_green\n",
    "    LTX, Da = k\n",
    "    plot_subregion_boxes(LTX, Da, subregion_centers_green[(LTX, Da)]; green_purple = \"green\")\n",
    "    savefig(\"data/4000x4000_201222/subregion_boxes_green/LTX\" * LTX * \"_Da\" * Da * \".png\")\n",
    "end\n",
    "\"\"\"\n"
   ]
  },
  {
   "cell_type": "code",
   "execution_count": 11,
   "id": "ad77c55a",
   "metadata": {},
   "outputs": [],
   "source": [
    "# save subregions\n",
    "subregion_size = 4000\n",
    "for (key, centers) in subregion_centers_green\n",
    "\n",
    "    (LTX, Da) = key\n",
    "\n",
    "    # load ROI ECM \n",
    "    img = load_ECM_image(LTX, Da; green_purple = \"green\")\n",
    "    for (idx,c) in enumerate(centers)\n",
    "        # get subregion_ECM\n",
    "        img_sub = get_img_sub(img, c, subregion_size)\n",
    "        #save(\"data/4000x4000_201222/subregion_ECM_green/LTX\" * LTX * \"_Da\" * Da * \"_idx\" * string(idx) * \".tif\", img_sub)\n",
    "        \n",
    "        # to save inverted version\n",
    "        img_sub = Float32.(1 .- img_sub)\n",
    "        save(\"data/4000x4000_combined/subregion_ECM_inverted_green_purple/LTX\" * LTX * \"_Da\" * Da * \"_idx\" * string(idx) * \".tif\", img_sub)\n",
    "    end\n",
    "end\n",
    "\n"
   ]
  },
  {
   "cell_type": "code",
   "execution_count": 6,
   "id": "e7023819",
   "metadata": {
    "scrolled": true
   },
   "outputs": [],
   "source": [
    "# save the PSRH subregion images \n",
    "subregion_size = 4000 \n",
    "    (LTX, Da) = key\n",
    "    img = Images.load(\"data/ES_201222/stitch_region_40x_green/region_cws/201222/LTX\" * LTX * \"PSR_20X.czi/Da\" * Da * \".jpg\")\n",
    "    for (idx,c) in enumerate(centers)\n",
    "        # get subregion_ECM\n",
    "        img_sub = get_img_sub(img, c , subregion_size)\n",
    "        save(\"data/4000x4000_201222/subregion_PSRH_green/LTX\" * LTX * \"_Da\" * Da * \"_idx\" * string(idx) * \".tif\", img_sub)\n",
    "    end\n",
    "\n",
    "end"
   ]
  },
  {
   "cell_type": "code",
   "execution_count": 4,
   "id": "a179701b",
   "metadata": {},
   "outputs": [],
   "source": [
    "# save cell locations\n",
    "subregion_size = 4000\n",
    "for (key, val) in subregion_centers_green\n",
    "    LTX, Da = key\n",
    "    for (idx, c) in enumerate(val)\n",
    "        center_x, center_y = c\n",
    "        xmin, xmax, ymin, ymax = get_subregion_boundaries(center_x, center_y, subregion_size)\n",
    "\n",
    "        cells = load_cells(LTX, Da; green_purple = \"green\")\n",
    "        cells_sub = cells[(xmin .<= cells.y .< xmax) .& ( ymin .<= cells.x .< ymax),:]\n",
    "        CSV.write(\"data/4000x4000_combined/subregion_cells/LTX\" * LTX * \"_Da\" * Da * \"_idx\" * string(idx) * \".csv\", cells_sub)\n",
    "    end\n",
    "end"
   ]
  },
  {
   "cell_type": "markdown",
   "id": "9561ded6",
   "metadata": {},
   "source": [
    "#### Sample subregions for purple"
   ]
  },
  {
   "cell_type": "code",
   "execution_count": 12,
   "id": "e5f30a76",
   "metadata": {},
   "outputs": [
    {
     "data": {
      "text/plain": [
       "Dict{Any, Any} with 7 entries:\n",
       "  (\"100\", \"913\")  => [[2000, 2000]]\n",
       "  (\"210\", \"1832\") => [[2000, 2000]]\n",
       "  (\"021\", \"608\")  => [[2097, 2000]]\n",
       "  (\"051\", \"1513\") => [[2000, 2000]]\n",
       "  (\"049\", \"1564\") => [[2000, 3974]]\n",
       "  (\"050\", \"1433\") => [[3097, 2000]]\n",
       "  (\"097\", \"721\")  => [[2000, 2000]]"
      ]
     },
     "execution_count": 12,
     "metadata": {},
     "output_type": "execute_result"
    }
   ],
   "source": [
    "# sample subregion center for greens\n",
    "ROI_size = load(\"data/ROI_ES_201222/deconvolved/ROI_size.jld2\")[\"ROI_purple_size\"]\n",
    "subregion_centers_purple = sample_subregion_centers(ROI_size, 4000, 3000)"
   ]
  },
  {
   "cell_type": "code",
   "execution_count": 13,
   "id": "20dd2abd",
   "metadata": {},
   "outputs": [
    {
     "name": "stdout",
     "output_type": "stream",
     "text": [
      "total number of subregions: 7"
     ]
    }
   ],
   "source": [
    "print(\"total number of subregions: \", sum([length(v) for (_, v) in subregion_centers_purple]))"
   ]
  },
  {
   "cell_type": "code",
   "execution_count": 14,
   "id": "16ec9de4",
   "metadata": {},
   "outputs": [],
   "source": [
    "# save subregion_centers\n",
    "#save(\"data/4000x4000_201222/subregion_centers_purple.jld2\", \"subregion_centers_purple\", subregion_centers_purple)\n",
    "\n",
    "# to load\n",
    "subregion_centers_purple = load(\"data/4000x4000_201222/subregion_centers_purple.jld2\")[\"subregion_centers_purple\"];"
   ]
  },
  {
   "cell_type": "code",
   "execution_count": null,
   "id": "47a29f82",
   "metadata": {},
   "outputs": [],
   "source": [
    "\n",
    "# plot & save subregion center boxes\n",
    "\"\"\"\n",
    "for (k, v) in subregion_centers_purple\n",
    "    LTX, Da = k\n",
    "    plot_subregion_boxes(LTX, Da, subregion_centers_purple[(LTX, Da)]; green_purple = \"purple\")\n",
    "    savefig(\"data/4000x4000_201222/subregion_boxes_purple/LTX\" * LTX * \"_Da\" * Da * \".png\")\n",
    "end\n",
    "\"\"\"\n"
   ]
  },
  {
   "cell_type": "code",
   "execution_count": 15,
   "id": "5016f37e",
   "metadata": {},
   "outputs": [],
   "source": [
    "# save subregions\n",
    "subregion_size = 4000\n",
    "for (key, centers) in subregion_centers_purple\n",
    "\n",
    "    (LTX, Da) = key\n",
    "\n",
    "    # load ROI ECM \n",
    "    img = load_ECM_image(LTX, Da; green_purple = \"purple\")\n",
    "    for (idx,c) in enumerate(centers)\n",
    "        # get subregion_ECM\n",
    "        img_sub = get_img_sub(img, c, subregion_size)\n",
    "        #save(\"data/4000x4000_201222/subregion_ECM_purple/LTX\" * LTX * \"_Da\" * Da * \"_idx\" * string(idx) * \".tif\", img_sub)\n",
    "        \n",
    "        # to save inverted version\n",
    "        img_sub = Float32.(1 .- img_sub)\n",
    "        save(\"data/4000x4000_combined/subregion_ECM_inverted_green_purple/LTX\" * LTX * \"_Da\" * Da * \"_idx\" * string(idx) * \".tif\", img_sub)\n",
    "    end\n",
    "end\n",
    "\n"
   ]
  },
  {
   "cell_type": "code",
   "execution_count": 11,
   "id": "3d5ea4f9",
   "metadata": {
    "scrolled": true
   },
   "outputs": [],
   "source": [
    "# save the PSRH subregion images \n",
    "subregion_size = 4000 \n",
    "for (key, centers) in subregion_centers_purple\n",
    "\n",
    "    (LTX, Da) = key\n",
    "    img = Images.load(\"data/ES_201222/stitch_region_40x_purple/region_cws/LTX\" * LTX * \"PSR_20X.czi/Da\" * Da * \".jpg\")\n",
    "    for (idx,c) in enumerate(centers)\n",
    "        # get subregion_ECM\n",
    "        img_sub = get_img_sub(img, c , subregion_size)\n",
    "        save(\"data/4000x4000_201222/subregion_PSRH_purple/LTX\" * LTX * \"_Da\" * Da * \"_idx\" * string(idx) * \".tif\", img_sub)\n",
    "    end\n",
    "end"
   ]
  },
  {
   "cell_type": "code",
   "execution_count": 6,
   "id": "b1749dd6",
   "metadata": {},
   "outputs": [],
   "source": [
    "# save cell locations\n",
    "subregion_size = 4000\n",
    "for (key, val) in subregion_centers_purple\n",
    "    LTX, Da = key\n",
    "    for (idx, c) in enumerate(val)\n",
    "        center_x, center_y = c\n",
    "        xmin, xmax, ymin, ymax = get_subregion_boundaries(center_x, center_y, subregion_size)\n",
    "\n",
    "        cells = load_cells(LTX, Da; green_purple = \"purple\")\n",
    "        cells_sub = cells[(xmin .<= cells.y .< xmax) .& ( ymin .<= cells.x .< ymax),:]\n",
    "        CSV.write(\"data/4000x4000_combined/subregion_cells/LTX\" * LTX * \"_Da\" * Da * \"_idx\" * string(idx) * \".csv\", cells_sub)\n",
    "    end\n",
    "end"
   ]
  },
  {
   "cell_type": "code",
   "execution_count": null,
   "id": "7d39c25e",
   "metadata": {},
   "outputs": [],
   "source": []
  }
 ],
 "metadata": {
  "@webio": {
   "lastCommId": "e1442256c2d24e8d99c62fcfd51f535c",
   "lastKernelId": "7bd1b072-9800-41bc-b6ef-0dc30d4040d5"
  },
  "kernelspec": {
   "display_name": "Julia 1.6.3",
   "language": "julia",
   "name": "julia-1.6"
  },
  "language_info": {
   "file_extension": ".jl",
   "mimetype": "application/julia",
   "name": "julia",
   "version": "1.6.3"
  }
 },
 "nbformat": 4,
 "nbformat_minor": 5
}
