{
 "cells": [
  {
   "attachments": {},
   "cell_type": "markdown",
   "metadata": {},
   "source": [
    "# ECM UMAP and clustering\n",
    "This notebook shows performs UMAP & clustering on PH features (combined from dim-0 and dim-1 PH) of ECM. This notebook uses Python.\n",
    "\n",
    "### Data\n",
    "* 401 ROIs.\n",
    "* We only include 396 ROIs whose TDA features were nontrivial.\n",
    "\n",
    "### Features\n",
    "* For each ECM image, we generate two TDA features, namely, PD0 and PD1.\n",
    "    * PD0: dimension-0 persistence diagram.  \n",
    "    * PD1: dimension-1 persistence diagram. \n",
    "* PD0 and PD1 are converted to PI0 and PI1.\n",
    "    * PI0: dimension-0 persistence image. Vector of length 20\n",
    "    * PI1: dimension-1 persistence image. Array of size 20 x 20.\n",
    "* We flatten PI1 into a vector of length 400 and concatenate with PI0. This results in a vector of length 420.\n",
    "* The features array (of size 396, 420) is saved in: `analysis/ECM/combined_UMAP_clusters/ECM_topological_features.csv`\n",
    "* The ROI that corresponds to each index is saved in `analysis/ECM/combined_UMAP_clusters/ECM_PI01_idx_ROI.csv`"
   ]
  },
  {
   "cell_type": "code",
   "execution_count": null,
   "metadata": {},
   "outputs": [],
   "source": [
    "import h5py\n",
    "import csv\n",
    "import pandas as pd\n",
    "import numpy as np\n",
    "import matplotlib\n",
    "import matplotlib.pyplot as plt\n",
    "import mplcursors\n",
    "import seaborn as sns\n",
    "import umap\n",
    "import hdbscan"
   ]
  },
  {
   "cell_type": "code",
   "execution_count": null,
   "metadata": {},
   "outputs": [],
   "source": [
    "%matplotlib widget"
   ]
  },
  {
   "attachments": {},
   "cell_type": "markdown",
   "metadata": {},
   "source": [
    "# 1. load data"
   ]
  },
  {
   "cell_type": "code",
   "execution_count": null,
   "metadata": {},
   "outputs": [],
   "source": [
    "# load umap coordinates\n",
    "umap_coord = np.genfromtxt(\"analysis/ECM/combined_UMAP_clusters/ECM_dim01_umap.csv\", delimiter = \",\")\n",
    "\n",
    "# load index_to_ROI\n",
    "idx_ROI = np.loadtxt(\"analysis/ECM/combined_UMAP_clusters/ECM_PI01_idx_ROI.csv\", delimiter = \",\", dtype = str)\n",
    "\n",
    "features_array = np.loadtxt(\"analysis/ECM/combined_UMAP_clusters/ECM_topological_features.csv\", delimiter=\",\")\n",
    "print(\"shape of features array: \", features_array.shape)\n",
    "\n",
    "# load all data (in dataframe)\n",
    "df = pd.read_csv(\"analysis/ECM/combined_UMAP_clusters/ECM_data.csv\", index_col = None)\n",
    "\n",
    "### generating `features_array` ###\n",
    "# load raw data\n",
    "# PD0 = dict()\n",
    "# PD1 = dict()\n",
    "# PI0 = dict()\n",
    "# PI1 = dict()\n",
    "\n",
    "# PD_dir = \"TDA_features/persistence_diagrams/ECM/\"\n",
    "# PI_dir = \"TDA_features/persistence_images/ECM/\"\n",
    "\n",
    "# for ROI in idx_ROI:\n",
    "#     pd0 = np.genfromtxt(PD_dir + \"PD0/\" + ROI + \".csv\", delimiter = \",\")\n",
    "#     pd1 = np.genfromtxt(PD_dir + \"PD1/\" + ROI + \".csv\", delimiter = \",\")    \n",
    "#     pi0 = np.genfromtxt(PI_dir + \"PI0/\" + ROI + \".csv\", delimiter = \",\")\n",
    "#     pi1 = np.genfromtxt(PI_dir + \"PI1/\" + ROI + \".csv\", delimiter = \",\")    \n",
    "    \n",
    "#     PD0[ROI] = pd0\n",
    "#     PD1[ROI] = pd1\n",
    "#     PI0[ROI] = pi0\n",
    "#     PI1[ROI] = pi1\n",
    "\n",
    "# prepare features array\n",
    "# features = {ROI:np.concatenate([PI0[ROI], PI1[ROI].T.flatten()]) for ROI in idx_ROI}\n",
    "# n_ROI = len(idx_ROI)\n",
    "# n_features = len(features[idx_ROI[0]])\n",
    "# features_array = np.empty((n_ROI, n_features))\n",
    "\n",
    "# for i in range(n_ROI):\n",
    "#     features_array[i,:] = features[idx_ROI[i]]\n",
    "# np.savetxt(\"analysis/ECM/combined_UMAP_clusters/ECM_topological_features.csv\", features_array, delimiter=\",\")\n",
    "\n",
    "### generating the dataframe ###\n",
    "# load cluster info from Iris's analysis\n",
    "#cluster_indices = dict()\n",
    "#with h5py.File(\"UMAP/ECM_cluster_indices.h5\", \"r\") as f:\n",
    "#    for k in f.keys():\n",
    "#        cluster_indices[int(k)] = f[k][()]\n",
    "\n",
    "# Above dataframe was prepared by:\n",
    "# columns = [\"umap1\", \"umap2\", \"cluster\", \"ROI\"]\n",
    "# df = pd.DataFrame(columns = columns)\n",
    "# for i in range(n_ROI):\n",
    "#     cluster = find_cluster(i, cluster_indices)\n",
    "#     df = pd.concat([df, pd.DataFrame([[umap_coord[0,i], umap_coord[1,i], cluster, idx_ROI[i]]], columns = columns)])\n",
    "# df.reset_index(inplace = True, drop = True)\n",
    "# df.to_csv('analysis/ECM/combined_UMAP_clusters/ECM_data.csv', index=False)"
   ]
  },
  {
   "cell_type": "code",
   "execution_count": null,
   "metadata": {},
   "outputs": [],
   "source": [
    "features_array_mean = features_array - np.mean(features_array, axis = 0)"
   ]
  },
  {
   "cell_type": "code",
   "execution_count": null,
   "metadata": {},
   "outputs": [],
   "source": [
    "# to find the ROI corresponding to a specific index, use idx_ROI\n",
    "idx = 10\n",
    "print(\"ROI corresponding to index \", idx, \": \", idx_ROI[10])"
   ]
  },
  {
   "attachments": {},
   "cell_type": "markdown",
   "metadata": {},
   "source": [
    "# 2. UMAP"
   ]
  },
  {
   "cell_type": "code",
   "execution_count": null,
   "metadata": {},
   "outputs": [],
   "source": [
    "### generating `features_array` ###\n",
    "# load raw data\n",
    "PD0 = dict()\n",
    "PD1 = dict()\n",
    "PI0 = dict()\n",
    "PI1 = dict()\n",
    "\n",
    "PD_dir = \"PH_features/persistence_diagrams/ECM/\"\n",
    "PI_dir = \"PH_features/persistence_images/ECM/\"\n",
    "\n",
    "for ROI in idx_ROI:\n",
    "    pd0 = np.genfromtxt(PD_dir + \"PD0/\" + ROI + \".csv\", delimiter = \",\")\n",
    "    pd1 = np.genfromtxt(PD_dir + \"PD1/\" + ROI + \".csv\", delimiter = \",\")    \n",
    "    pi0 = np.genfromtxt(PI_dir + \"PI0/\" + ROI + \".csv\", delimiter = \",\")\n",
    "    pi1 = np.genfromtxt(PI_dir + \"PI1/\" + ROI + \".csv\", delimiter = \",\")    \n",
    "    \n",
    "    PD0[ROI] = pd0\n",
    "    PD1[ROI] = pd1\n",
    "    PI0[ROI] = pi0\n",
    "    PI1[ROI] = pi1\n",
    "\n",
    "# prepare features array\n",
    "features = {ROI:np.concatenate([PI0[ROI], PI1[ROI].T.flatten()]) for ROI in idx_ROI}\n",
    "n_ROI = len(idx_ROI)\n",
    "n_features = len(features[idx_ROI[0]])\n",
    "features_array = np.empty((n_ROI, n_features))\n",
    "\n",
    "for i in range(n_ROI):\n",
    "    features_array[i,:] = features[idx_ROI[i]]\n",
    "\n",
    "print(features_array.shape)\n",
    "\n",
    "features_array_mean = features_array - np.mean(features_array, axis = 0)"
   ]
  },
  {
   "cell_type": "code",
   "execution_count": null,
   "metadata": {},
   "outputs": [],
   "source": [
    "# UMAP \n",
    "presentable_embedding = umap.UMAP(\n",
    "    n_neighbors=5,\n",
    "    n_components=2,\n",
    "    random_state=5,\n",
    ").fit_transform(features_array_mean)"
   ]
  },
  {
   "cell_type": "code",
   "execution_count": null,
   "metadata": {},
   "outputs": [],
   "source": [
    "x = presentable_embedding[:,0]\n",
    "y = presentable_embedding[:,1]\n",
    "names = idx_ROI\n",
    "\n",
    "norm = plt.Normalize(1,4)\n",
    "cmap = plt.cm.RdYlGn\n",
    "\n",
    "fig,ax = plt.subplots()\n",
    "sc = plt.scatter(x,y,#c=c, \n",
    "                 s=10, norm=norm)\n",
    "\n",
    "annot = ax.annotate(\"\", xy=(0,0), xytext=(20,20),textcoords=\"offset points\",\n",
    "                    bbox=dict(boxstyle=\"round\", fc=\"w\"),\n",
    "                    arrowprops=dict(arrowstyle=\"->\"))\n",
    "annot.set_visible(False)\n",
    "\n",
    "def update_annot(ind):\n",
    "    \n",
    "    pos = sc.get_offsets()[ind[\"ind\"][0]]\n",
    "    annot.xy = pos\n",
    "    text = \"{}\".format(\" \".join(list(map(str,ind[\"ind\"]))))\n",
    "    annot.set_text(text)\n",
    "    annot.get_bbox_patch().set_alpha(0.4)\n",
    "    \n",
    "\n",
    "def hover(event):\n",
    "    vis = annot.get_visible()\n",
    "    if event.inaxes == ax:\n",
    "        cont, ind = sc.contains(event)\n",
    "        if cont:\n",
    "            update_annot(ind)\n",
    "            annot.set_visible(True)\n",
    "            fig.canvas.draw_idle()\n",
    "        else:\n",
    "            if vis:\n",
    "                annot.set_visible(False)\n",
    "                fig.canvas.draw_idle()\n",
    "\n",
    "fig.canvas.mpl_connect(\"motion_notify_event\", hover)\n",
    "\n",
    "plt.show()"
   ]
  },
  {
   "attachments": {},
   "cell_type": "markdown",
   "metadata": {},
   "source": [
    "# 3. Clustering"
   ]
  },
  {
   "cell_type": "code",
   "execution_count": null,
   "metadata": {},
   "outputs": [],
   "source": [
    "# UMAP for clustering\n",
    "clusterable_embedding = umap.UMAP(\n",
    "    n_neighbors=10,\n",
    "    n_components=2,\n",
    "    min_dist=0.00001,\n",
    "    random_state=5,\n",
    ").fit_transform(features_array_mean)\n",
    "\n",
    "# HDBSCAN\n",
    "clusterer = hdbscan.HDBSCAN(min_cluster_size=8,min_samples=2,cluster_selection_epsilon=0.5)\n",
    "cluster_labels = clusterer.fit_predict(clusterable_embedding)"
   ]
  },
  {
   "cell_type": "code",
   "execution_count": null,
   "metadata": {},
   "outputs": [],
   "source": [
    "# relabeling for plotting purposes\n",
    "relabel = {-1 : -1,    # -1 is unassigned cluster. In the paper, we label it \"cluster 9\"\n",
    "            1 : 0,\n",
    "            3 : 1,\n",
    "            7 : 2,\n",
    "            6 : 3,\n",
    "            0 :4,\n",
    "            5 :5,\n",
    "            4: 6,\n",
    "            2: 7}\n",
    "cluster_labels2 = [relabel[i] for i in cluster_labels]"
   ]
  },
  {
   "cell_type": "code",
   "execution_count": null,
   "metadata": {},
   "outputs": [],
   "source": [
    "colormaps = matplotlib.colors.ListedColormap([\n",
    "    \"#A9A9A9\", \n",
    "    \"#780000\", \n",
    "    \"#cb334c\", \n",
    "    \"#f89981\", \n",
    "    \"#ffbd00\", \n",
    "    \"#02c39a\", \n",
    "    \"#429bb4\",  \n",
    "    \"#7851A9\",\n",
    "    \"#32174D\" ])\n",
    "colormaps"
   ]
  },
  {
   "cell_type": "code",
   "execution_count": null,
   "metadata": {},
   "outputs": [],
   "source": [
    "columns = [\"umap1\", \"umap2\", \"cluster\", \"ROI\"]\n",
    "df = pd.DataFrame(columns = columns)\n",
    "for i in range(n_ROI):\n",
    "    cluster = cluster_labels2[i]\n",
    "    df = pd.concat([df, pd.DataFrame([[presentable_embedding[i,0], presentable_embedding[i,1], cluster, idx_ROI[i]]], columns = columns)])\n",
    "df.reset_index(inplace = True, drop = True)\n",
    "\n",
    "fig, ax = plt.subplots()\n",
    "g =sns.scatterplot(x=\"umap1\", y=\"umap2\",\n",
    "                  hue=\"cluster\", \n",
    "                  palette=colormaps,\n",
    "                   legend = \"full\",\n",
    "                  data=df);\n",
    "annot = ax.annotate(\"\", xy=(0,0), xytext=(20,20),textcoords=\"offset points\",\n",
    "                    bbox=dict(boxstyle=\"round\", fc=\"w\"),\n",
    "                    arrowprops=dict(arrowstyle=\"->\"))\n",
    "annot.set_visible(False)\n",
    "plt.legend(loc = \"upper right\")\n",
    "fig.canvas.mpl_connect(\"motion_notify_event\", hover)\n",
    "plt.show()"
   ]
  },
  {
   "attachments": {},
   "cell_type": "markdown",
   "metadata": {},
   "source": [
    "Example ROI indices from each cluster. We present thesse ROIs in the manuscript.\n",
    "* cluster -1 (unassigned): 314, 146, 116, 278\n",
    "* cluster 0 : 163, 37, 251, 296\n",
    "* cluster 1: 58, 189, 164, 62\n",
    "* cluster 2: 23, 208, 222, 158\n",
    "* cluster 3: 71, 173, 225, 19\n",
    "* cluster 4: 6, 345, 328, 104\n",
    "* cluster 5: 75, 211, 114, 41\n",
    "* cluster 6: 125, 40, 176, 194\n",
    "* cluster 7:250, 52, 213, 56\n",
    "\n",
    "\n"
   ]
  },
  {
   "cell_type": "code",
   "execution_count": null,
   "metadata": {},
   "outputs": [],
   "source": [
    "# save embedding coordinates and cluster indices\n",
    "# np.savetxt(\"analysis/ECM/combined_UMAP_clusters/presentable_embedding.csv\", presentable_embedding, delimiter=\",\");\n",
    "# np.savetxt(\"analysis/ECM/combined_UMAP_clusters/cluster_labels_python.csv\", cluster_labels2, delimiter =\", \")\n",
    " "
   ]
  },
  {
   "attachments": {},
   "cell_type": "markdown",
   "metadata": {},
   "source": [
    "# 4. Save one file with presentable embedding, ROI, corresponding cluster"
   ]
  },
  {
   "cell_type": "code",
   "execution_count": null,
   "metadata": {},
   "outputs": [],
   "source": [
    "# load umap coordinates\n",
    "umap_coord = np.genfromtxt(\"analysis/ECM/combined_UMAP_clusters/presentable_embedding.csv\", delimiter = \",\")\n",
    "\n",
    "# load index_to_ROI\n",
    "idx_ROI = np.loadtxt(\"analysis/ECM/combined_UMAP_clusters/ECM_PI01_idx_ROI.csv\", delimiter = \",\", dtype = str)\n",
    "\n",
    "# cluster labels\n",
    "cluster_labels = np.loadtxt(\"analysis/ECM/combined_UMAP_clusters/cluster_labels_python.csv\", delimiter = \",\")\n",
    "\n",
    "d = {\"coord1\": umap_coord[:,0], \"coord2\": umap_coord[:,1], \"ROI\": idx_ROI, \"clusters\": cluster_labels}\n",
    "df = pd.DataFrame(data = d)\n",
    "\n",
    "#df.to_csv(\"analysis/ECM/combined_UMAP_clusters/UMAP/coords_ROI_clusters.csv\", index = False)"
   ]
  }
 ],
 "metadata": {
  "kernelspec": {
   "display_name": "Python 3 (ipykernel)",
   "language": "python",
   "name": "python3"
  },
  "language_info": {
   "codemirror_mode": {
    "name": "ipython",
    "version": 3
   },
   "file_extension": ".py",
   "mimetype": "text/x-python",
   "name": "python",
   "nbconvert_exporter": "python",
   "pygments_lexer": "ipython3",
   "version": "3.9.11"
  }
 },
 "nbformat": 4,
 "nbformat_minor": 2
}
