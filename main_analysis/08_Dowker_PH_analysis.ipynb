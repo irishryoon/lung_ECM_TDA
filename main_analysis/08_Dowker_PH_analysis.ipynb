{
 "cells": [
  {
   "cell_type": "markdown",
   "metadata": {},
   "source": [
    "# Dowker PH analysis\n",
    "* This notebook performs dimensionality-reduction and clustering analysis on Dowker PH features"
   ]
  },
  {
   "cell_type": "code",
   "execution_count": null,
   "metadata": {},
   "outputs": [],
   "source": [
    "include(\"../src/ECM_TDA.jl\")\n",
    "using .ECM_TDA\n",
    "\n",
    "using Eirene\n",
    "using Ripserer\n",
    "using CSV\n",
    "using TiffImages\n",
    "using Images\n",
    "using NPZ\n",
    "using Plots\n",
    "using PersistenceDiagrams\n",
    "using Measures\n",
    "using Distributions\n",
    "using MultivariateStats\n",
    "using LinearAlgebra\n",
    "using Random\n",
    "using StatsBase\n",
    "using JLD2\n",
    "using FileIO\n",
    "using PersistenceDiagrams\n",
    "using DelimitedFiles\n",
    "using Distances\n",
    "using UMAP\n"
   ]
  },
  {
   "cell_type": "code",
   "execution_count": null,
   "metadata": {},
   "outputs": [],
   "source": [
    "# color palettes\n",
    "\n",
    "c1 = \"#fd5184\" # pink\n",
    "c2 = \"#ffb602\" # yellow\n",
    "c3 = \"#3ec0c9\" # blue\n",
    "c4 = \"#d753ce\" # purple\n",
    "c5 = \"#49a849\"  # green\n",
    "c6 = \"#F28522\" # orange\n",
    "\n",
    "# cell colors\n",
    "c_ECM = \"#249EA0\" # teal\n",
    "c_cancer = \"#592693\" # purple\n",
    "c_leukocytes = \"#FAAB36\" # orange\n",
    "\n",
    "celltype_colors = Dict(\"cancer\" => c_cancer, \n",
    "                        \"leukocytes\"=> c_leukocytes);\n",
    "gr()\n"
   ]
  },
  {
   "cell_type": "code",
   "execution_count": null,
   "metadata": {},
   "outputs": [],
   "source": [
    "# ROIs with distinctive patterns\n",
    "ex1 = [\"LTX221_Da505_idx1\", \"LTX221_Da505_idx2\", \"LTX221_Da505_idx3\", \"LTX221_Da2892_idx1\"]\n",
    "ex2 = [\"LTX013_Da153_idx3\", \"LTX013_Da153_idx2\", \"LTX013_Da153_idx1\", \"LTX013_Da154_idx3\"]\n",
    "ex3 = [\"LTX092_Da252_idx3\", \"LTX092_Da379_idx4\", \"LTX092_Da378_idx4\", \"LTX092_Da440_idx1\"]\n",
    "ex4 = [\"LTX097_Da113_idx2\", \"LTX097_Da636_idx1\", \"LTX097_Da113_idx3\", \"LTX097_Da636_idx2\"]\n",
    "ex5 = [\"LTX124_Da104_idx2\", \"LTX124_Da104_idx1\", \"LTX079_Da108_idx1\", \"LTX079_Da108_idx2\"];"
   ]
  },
  {
   "attachments": {},
   "cell_type": "markdown",
   "metadata": {
    "heading_collapsed": true
   },
   "source": [
    "# Plot example"
   ]
  },
  {
   "cell_type": "code",
   "execution_count": null,
   "metadata": {
    "hidden": true
   },
   "outputs": [],
   "source": [
    "LTX = \"001\"\n",
    "Da = \"232\"\n",
    "idx = 1\n",
    "\n",
    "# load ECM image\n",
    "image_path = \"data/4000x4000/subregion_ECM/LTX\" * LTX * \"_Da\" * Da * \"_idx\" * string(idx) * \".tif\"\n",
    "img = Array(Images.load(image_path));\n",
    "\n",
    "# load sampled ECM\n",
    "ecm_points_path = \"data/4000x4000/ECM_sampled/points_CSV/LTX\" * LTX * \"_Da\" * Da * \"_idx\" * string(idx) * \".csv\" \n",
    "ECM_points = CSV.read(ecm_points_path)\n",
    "\n",
    "# load cells\n",
    "cell_path = \"data/4000x4000/subregion_cells/LTX\" * LTX * \"_Da\" * Da * \"_idx\" * string(idx) * \".csv\"\n",
    "cells = CSV.read(cell_path);"
   ]
  },
  {
   "cell_type": "code",
   "execution_count": null,
   "metadata": {
    "hidden": true
   },
   "outputs": [],
   "source": [
    "p1 = plot(Gray.(img), frame = :box, ticks = [], size = (300, 300), background_color=:transparent, foreground_color=:black)\n",
    "p2 = scatter(ECM_points[:,1], ECM_points[:,2], yflip = :true, c = c_ECM, label = \"\", frame = :box, ticks = [], markersize = 2, background_color=:transparent, foreground_color=:black)\n",
    "plot(p1, p2, size = (600, 300))"
   ]
  },
  {
   "cell_type": "code",
   "execution_count": null,
   "metadata": {
    "hidden": true,
    "scrolled": false
   },
   "outputs": [],
   "source": [
    "cell_types =[\"cancer\", \"leukocytes\", \"fibroblast\"]\n",
    "plot_array = Any[]\n",
    "for ct in cell_types\n",
    "    # get locations of cell type\n",
    "    cell_ct = cells[cells.class .== ct, :]\n",
    "    c = celltype_colors[ct]\n",
    "    p_ct = scatter(cell_ct.x, cell_ct.y,\n",
    "                 markersize = 2,\n",
    "                 yflip = true,\n",
    "                 label = ct,\n",
    "                 markerstrokewidth = 0.2,\n",
    "                 frame = :box,\n",
    "                 ticks = [],\n",
    "                 c = c) \n",
    "    push!(plot_array, p_ct)\n",
    "end\n",
    "\n",
    "plot(plot_array..., layout = grid(1,3), size = (900, 300))"
   ]
  },
  {
   "cell_type": "code",
   "execution_count": null,
   "metadata": {
    "hidden": true
   },
   "outputs": [],
   "source": [
    "# one example computation of dowker\n",
    "\n",
    "W_barcode0, W_barcode1, cells1, cells2, _ = compute_Dowker_cells(cells; celltype1 = \"leukocytes\", celltype2 = \"fibroblast\", subsample_size = 300)"
   ]
  },
  {
   "cell_type": "code",
   "execution_count": null,
   "metadata": {
    "hidden": true
   },
   "outputs": [],
   "source": [
    "\n",
    "# plot sampled cells\n",
    "p1 = scatter(cells1[:,1], cells1[:,2],\n",
    "            markersize = 2,\n",
    "            yflip = true,\n",
    "            label = \"\",\n",
    "            markerstrokewidth = 0.2,\n",
    "            frame = :box,\n",
    "            ticks = [],\n",
    "            c = c_leukocytes) \n",
    "scatter!(p1, cells2[:,1], cells2[:,2],\n",
    "            markersize = 2,\n",
    "            yflip = true,\n",
    "            label = \"\",\n",
    "            markerstrokewidth = 0.2,\n",
    "            frame = :box,\n",
    "            ticks = [],\n",
    "            c = c_fibroblast) "
   ]
  },
  {
   "attachments": {},
   "cell_type": "markdown",
   "metadata": {
    "hidden": true
   },
   "source": [
    "Get an idea of the number of cells of each type"
   ]
  },
  {
   "cell_type": "code",
   "execution_count": null,
   "metadata": {
    "hidden": true
   },
   "outputs": [],
   "source": [
    "n_cancer = []\n",
    "n_leukocytes = []\n",
    "n_fibroblast = []\n",
    "cell_types =[\"cancer\", \"leukocytes\", \"fibroblast\"]"
   ]
  },
  {
   "cell_type": "code",
   "execution_count": null,
   "metadata": {
    "hidden": true
   },
   "outputs": [],
   "source": [
    "for (idx, file) in enumerate(csv_files)\n",
    "    cells = CSV.read(dir * file)\n",
    "    for ct in cell_types\n",
    "        cell_ct = cells[cells.class .== ct, :]\n",
    "        if ct == \"cancer\"\n",
    "            append!(n_cancer, size(cell_ct, 1))\n",
    "        elseif ct == \"leukocytes\"\n",
    "            append!(n_leukocytes, size(cell_ct, 1))\n",
    "        elseif ct == \"fibroblast\"\n",
    "            append!(n_fibroblast, size(cell_ct, 1))\n",
    "        end\n",
    "    end\n",
    "end"
   ]
  },
  {
   "cell_type": "code",
   "execution_count": null,
   "metadata": {
    "hidden": true
   },
   "outputs": [],
   "source": [
    "# plot histogram of number of cells\n",
    "p1 = histogram(n_cancer, label = \"\", title = \"cancer\")\n",
    "p2 = histogram(n_leukocytes, label = \"\", title = \"leukocytes\")\n",
    "p3 = histogram(n_fibroblast, label = \"\", title = \"fibroblast\")\n",
    "plot(p1, p2, p3, layout = grid(1,3), size = (900, 300))"
   ]
  },
  {
   "attachments": {},
   "cell_type": "markdown",
   "metadata": {},
   "source": [
    "# cancer and leukocytes"
   ]
  },
  {
   "cell_type": "code",
   "execution_count": null,
   "metadata": {},
   "outputs": [],
   "source": [
    "# load data\n",
    "systems = \"cancer_leukocytes\"\n",
    "data = load(\"data/4000x4000_combined/Dowker/cancer_leukocytes/PD.jld2\")\n",
    "\n",
    "PD0 = data[\"PD0\"]\n",
    "PD1 = data[\"PD1\"]\n",
    "PI0 = compute_PI2(PD0)\n",
    "PI1 = compute_PI2(PD1)\n",
    "PD0_max = data[\"PD0_max\"]\n",
    "PD1_max = data[\"PD1_max\"];"
   ]
  },
  {
   "cell_type": "code",
   "execution_count": null,
   "metadata": {},
   "outputs": [],
   "source": [
    "# recompute PI \n",
    "# recompute coarser PI \n",
    "\n",
    "PH0_dict = Dict(k => ECM_TDA.array_to_ripsererPD(v) for (k,v) in PD0 if v != nothing);\n",
    "PH1_dict = Dict(k => ECM_TDA.array_to_ripsererPD(v) for (k,v) in PD1 if v != nothing);\n",
    "\n",
    "pi0 = PersistenceImage([PH0_dict[k] for k in keys(PH0_dict)], sigma=50, size = 20)\n",
    "pi1 = PersistenceImage([PH1_dict[k] for k in keys(PH1_dict)], sigma=50, size = 20)\n",
    "\n",
    "\n",
    "PI0 = Dict()\n",
    "for i in keys(PH0_dict)\n",
    "    PI0[i] = pi0(PH0_dict[i])\n",
    "end\n",
    "\n",
    "PI1 = Dict()\n",
    "for i in keys(PH1_dict)\n",
    "    PI1[i] = pi1(PH1_dict[i])\n",
    "end\n",
    "\n",
    "# save the min, max coordinates of PDs (useful for plotting)\n",
    "PI0_xmin = pi0.xs[1]\n",
    "PI0_xmax = pi0.xs[end]\n",
    "PI0_ymin = pi0.ys[1]\n",
    "PI0_ymax = pi0.ys[end]\n",
    "\n",
    "PI1_xmin = pi1.xs[1]\n",
    "PI1_xmax = pi1.xs[end]\n",
    "PI1_ymin = pi1.ys[1]\n",
    "PI1_ymax = pi1.ys[end]\n",
    "\n",
    "save(\"data/4000x4000_combined/Dowker/cancer_leukocytes/PI_ranges.jld2\",\n",
    "    \"PI0_xmin\", PI0_xmin,\n",
    "    \"PI0_xmax\", PI0_xmax,\n",
    "    \"PI0_ymin\", PI0_ymin,\n",
    "    \"PI0_ymax\", PI0_ymax,\n",
    "    \"PI1_xmin\", PI1_xmin,\n",
    "    \"PI1_xmax\", PI1_xmax,\n",
    "    \"PI1_ymin\", PI1_ymin,\n",
    "    \"PI1_ymax\", PI1_ymax)"
   ]
  },
  {
   "attachments": {},
   "cell_type": "markdown",
   "metadata": {},
   "source": [
    "## Analysis: dim 0"
   ]
  },
  {
   "attachments": {},
   "cell_type": "markdown",
   "metadata": {},
   "source": [
    "Create index"
   ]
  },
  {
   "cell_type": "code",
   "execution_count": null,
   "metadata": {},
   "outputs": [],
   "source": [
    "ROIs = collect(keys(PI0))\n",
    "idx_ROI = Dict(i => roi for (i, roi) in enumerate(ROIs))\n",
    "n = length(ROIs)\n",
    "\n",
    "# create new PI0 with integers as keys\n",
    "PI = Dict(i => PI0[ROIs[i]] for i=1:n);\n",
    "PD = Dict(i => PD0[ROIs[i]] for i = 1:n);\n",
    "\n",
    "#save(\"analysis/cancer_leukocytes/dim_0/data.jld2\",\n",
    "#    \"idx_ROI\", idx_ROI,\n",
    "#    \"PI\", PI,\n",
    "#    \"PD\", PD);\n"
   ]
  },
  {
   "cell_type": "code",
   "execution_count": null,
   "metadata": {},
   "outputs": [],
   "source": [
    "# load PI, index\n",
    "data = load(\"analysis/cancer_leukocytes/dim_0/data.jld2\")\n",
    "idx_ROI = data[\"idx_ROI\"]\n",
    "n = length(idx_ROI)\n",
    "PI = Dict(i => PI0[idx_ROI[i]] for i=1:n);\n",
    "PD = Dict(i => PD0[idx_ROI[i]] for i = 1:n);\n",
    "\n",
    "ROI_idx = Dict(v => k for (k,v) in idx_ROI);"
   ]
  },
  {
   "cell_type": "code",
   "execution_count": null,
   "metadata": {},
   "outputs": [],
   "source": [
    "# recompute PI to get xmin, xmax, ymin, ymax coordinates for PI plots\n",
    "PH_dict = Dict(k => ECM_TDA.array_to_ripsererPD(v) for (k,v) in PD if v != nothing);\n",
    "\n",
    "PIs = PersistenceImage([PH_dict[k] for k in keys(PH_dict)], sigma=50, size = 20)\n",
    "\n",
    "# get ranges of x and y (useful for plotting )\n",
    "xmin = PIs.xs[1]\n",
    "xmax = PIs.xs[end]\n",
    "\n",
    "ymin = PIs.ys[1]\n",
    "ymax = PIs.ys[end];"
   ]
  },
  {
   "attachments": {},
   "cell_type": "markdown",
   "metadata": {},
   "source": [
    "### UMAP"
   ]
  },
  {
   "cell_type": "code",
   "execution_count": null,
   "metadata": {},
   "outputs": [],
   "source": [
    "Random.seed!(10)\n",
    "PI_centered = center_PI(PI);\n",
    "embedding = umap(PI_centered, 2; n_neighbors = 5);"
   ]
  },
  {
   "cell_type": "code",
   "execution_count": null,
   "metadata": {},
   "outputs": [],
   "source": [
    "writedlm(\"analysis/cancer_leukocytes/dim_0/umap.csv\", embedding, \",\")\n",
    "y = embedding = readdlm(\"analysis/cancer_leukocytes/dim_0/umap.csv\", ',');"
   ]
  },
  {
   "cell_type": "code",
   "execution_count": null,
   "metadata": {},
   "outputs": [],
   "source": [
    "gr()\n",
    "n = size(embedding, 2)\n",
    "p = scatter(embedding[1,:], embedding[2,:], \n",
    "        markercolor = \"slategrey\",\n",
    "        markersize = 5, \n",
    "        label = \"\", \n",
    "        xticks = [], \n",
    "        yticks = [], \n",
    "        framestyle = :box,  \n",
    "        xlabel = \"UMAP-1\",\n",
    "        ylabel = \"UMAP-2\",\n",
    "        guidefontsize = 15,\n",
    "        leftmargin = 5mm,\n",
    "        size = (450, 350),\n",
    "        hover = 1:n,\n",
    "        legend = :topright)\n",
    "savefig(\"analysis/cancer_leukocytes/dim_0/umap.pdf\")\n",
    "plot(p)"
   ]
  },
  {
   "cell_type": "code",
   "execution_count": null,
   "metadata": {},
   "outputs": [],
   "source": [
    "U1 = [70, 155, 95]\n",
    "U2 = [392, 293, 398]\n",
    "U3 = [164, 371, 331]\n",
    "U4 = [340, 260, 318]"
   ]
  },
  {
   "cell_type": "code",
   "execution_count": null,
   "metadata": {},
   "outputs": [],
   "source": [
    "# plot with regions\n",
    "gr()\n",
    "\n",
    "# load PCA\n",
    "#y = readdlm(\"analysis/cancer_leukocytes/dim_0/umap.csv\", ',');\n",
    "y = embedding\n",
    "markersize = 3\n",
    "legendfontsize = 5\n",
    "n = size(y, 2)\n",
    "annotated = vcat(U1, U2, U3, U4)\n",
    "nonannotated = [i for i = 1:size(y, 2) if i ∉ annotated]\n",
    "p = scatter(y[1,nonannotated], y[2,nonannotated], \n",
    "        markercolor = \"lightgray\",\n",
    "        alpha = 0.6,\n",
    "        markersize = markersize, \n",
    "        markerstrokewidth = 3,\n",
    "        label = \"\", \n",
    "        xaxis = \"UMAP-1\",\n",
    "        yaxis = \"UMAP-2\",\n",
    "        #xtickfontsize = 15,\n",
    "        #ytickfontsize = 15,\n",
    "        #xrotation = 45,\n",
    "        ticks = [],\n",
    "        guidefontsize = 7,\n",
    "        framestyle = :box,\n",
    "        size = (200, 150),\n",
    "        #leftmargin = 2mm,\n",
    "        legend = :topright\n",
    "        #background_color=:transparent, foreground_color=:black,\n",
    "        )\n",
    "scatter!(y[1,U1], y[2,U1], markersize = markersize, markershape = :rect, markercolor = c1, labels = \"U1\", legendfontsize = legendfontsize)\n",
    "scatter!(y[1,U2], y[2,U2], markersize = markersize, markershape = :utriangle, markercolor = c2, labels = \"U2\")\n",
    "scatter!(y[1,U3], y[2,U3], markersize = markersize, markershape = :star, markercolor = c3, labels = \"U3\")\n",
    "scatter!(y[1,U4], y[2,U4], markersize = markersize, markershape = :diamond, markercolor = c4, labels = \"U4\")\n",
    "savefig(\"analysis/cancer_leukocytes/dim_0/umap.pdf\")\n",
    "plot(p)"
   ]
  },
  {
   "cell_type": "code",
   "execution_count": null,
   "metadata": {},
   "outputs": [],
   "source": [
    "# plot cancer, leukocytes, PSRH images\n",
    "regions = Dict(1 => U1, 2=> U2, 3=> U3, 4=> U4)\n",
    "gr()\n",
    "plot_array = []\n",
    "n = length(regions)\n",
    "for i=1:n\n",
    "    R = regions[i]\n",
    "    for idx in R\n",
    "        f = idx_ROI[idx]\n",
    "        \n",
    "        # cancer\n",
    "        df = CSV.read(\"data/4000x4000_combined/subregion_cells/\" * f * \".csv\")\n",
    "        df_cell = df[df.class .== \"cancer\", :]\n",
    "        p_C = scatter(df_cell.x, df_cell.y,\n",
    "                         markersize = 1.5,\n",
    "                         yflip = true,\n",
    "                         label = \"\",\n",
    "                         markerstrokewidth = 0.2,\n",
    "                         frame = :box,\n",
    "                         ticks = [],\n",
    "                        aspect_ratio = :equal,\n",
    "                        size = (150,150),\n",
    "                         c = c_cancer) \n",
    "        push!(plot_array, p_C)\n",
    "        \n",
    "        # leukocytes\n",
    "        df = CSV.read(\"data/4000x4000_combined/subregion_cells/\" * f * \".csv\")\n",
    "        df_cell = df[df.class .== \"leukocytes\", :]\n",
    "        p_L = scatter(df_cell.x, df_cell.y,\n",
    "                         markersize = 1.5,\n",
    "                         yflip = true,\n",
    "                         label = \"\",\n",
    "                         markerstrokewidth = 0.2,\n",
    "                         frame = :box,\n",
    "                         ticks = [],\n",
    "                        aspect_ratio = :equal,\n",
    "                        size = (150,150),\n",
    "                         c = c_leukocytes) \n",
    "        push!(plot_array, p_L)\n",
    "        \n",
    "        # PSRH\n",
    "        p_PSRH = Images.load(\"data/4000x4000_combined/PSRH/\" * f * \".tif\")\n",
    "        push!(plot_array, plot(p_PSRH, ticks = [], frame = :box, bottom_margin = -3mm))\n",
    "    end\n",
    "end\n",
    "\n",
    "p = plot(plot_array..., layout = grid(n, 3 * 3), size = (250 * 3 * 3, 250 * n))\n",
    "savefig(\"analysis/cancer_leukocytes/dim_0/UMAP_examples.png\")"
   ]
  },
  {
   "attachments": {},
   "cell_type": "markdown",
   "metadata": {},
   "source": [
    "Locations of exemplary images"
   ]
  },
  {
   "cell_type": "code",
   "execution_count": null,
   "metadata": {},
   "outputs": [],
   "source": [
    "# test \n",
    "ex1 = [ROI_idx[\"LTX221_Da505_idx1\"], ROI_idx[\"LTX221_Da505_idx2\"], ROI_idx[\"LTX221_Da505_idx3\"], ROI_idx[\"LTX221_Da2892_idx1\"]]\n",
    "ex2 = [ROI_idx[\"LTX013_Da153_idx3\"], ROI_idx[\"LTX013_Da153_idx2\"], ROI_idx[\"LTX013_Da153_idx1\"], ROI_idx[\"LTX013_Da154_idx3\"]]\n",
    "ex3 = [ROI_idx[\"LTX092_Da252_idx3\"], ROI_idx[\"LTX092_Da379_idx4\"], ROI_idx[\"LTX092_Da378_idx4\"], ROI_idx[\"LTX092_Da440_idx1\"]]\n",
    "ex4 = [ROI_idx[\"LTX097_Da113_idx2\"], ROI_idx[\"LTX097_Da636_idx1\"], ROI_idx[\"LTX097_Da113_idx3\"], ROI_idx[\"LTX097_Da636_idx2\"]]"
   ]
  },
  {
   "cell_type": "code",
   "execution_count": null,
   "metadata": {},
   "outputs": [],
   "source": [
    "y = embedding\n",
    "markersize = 3\n",
    "legendfontsize = 5\n",
    "n = size(y, 2)\n",
    "annotated = vcat(ex1, ex2, ex3, ex4)\n",
    "nonannotated = [i for i = 1:size(y, 2) if i ∉ annotated]\n",
    "p = scatter(y[1,nonannotated], y[2,nonannotated], \n",
    "        markercolor = \"lightgray\",\n",
    "        alpha = 0.6,\n",
    "        markersize = markersize, \n",
    "        markerstrokewidth = 3,\n",
    "        label = \"\", \n",
    "        xaxis = \"UMAP-1\",\n",
    "        yaxis = \"UMAP-2\",\n",
    "        #xtickfontsize = 15,\n",
    "        #ytickfontsize = 15,\n",
    "        #xrotation = 45,\n",
    "        ticks = [],\n",
    "        guidefontsize = 7,\n",
    "        framestyle = :box,\n",
    "        size = (200, 150),\n",
    "        #leftmargin = 2mm,\n",
    "        legend = :bottomright\n",
    "        #background_color=:transparent, foreground_color=:black,\n",
    "        )\n",
    "scatter!(y[1,ex1], y[2,ex1], markersize = markersize, markershape = :rect, markercolor = c1, labels = \"ex1\", legendfontsize = legendfontsize)\n",
    "scatter!(y[1,ex2], y[2,ex2], markersize = markersize, markershape = :utriangle, markercolor = c2, labels = \"ex2\")\n",
    "scatter!(y[1,ex3], y[2,ex3], markersize = markersize, markershape = :star, markercolor = c3, labels = \"ex3\")\n",
    "scatter!(y[1,ex4], y[2,ex4], markersize = markersize, markershape = :diamond, markercolor = c4, labels = \"ex4\")\n",
    "savefig(\"analysis/cancer_leukocytes/dim_0/umap_clean_examples.pdf\")\n",
    "plot(p)\n"
   ]
  },
  {
   "cell_type": "code",
   "execution_count": null,
   "metadata": {},
   "outputs": [],
   "source": [
    "# plot cancer, leukocytes, PSRH images\n",
    "regions = Dict(1 => ex1, 2=> ex2, 3=> ex3, 4 => ex4)\n",
    "gr()\n",
    "plot_array = []\n",
    "n = length(regions)\n",
    "for i=1:n\n",
    "    R = regions[i]\n",
    "    for idx in R\n",
    "        f = idx_ROI[idx]\n",
    "        \n",
    "        # cancer\n",
    "        df = CSV.read(\"data/4000x4000_combined/subregion_cells/\" * f * \".csv\")\n",
    "        df_cell = df[df.class .== \"cancer\", :]\n",
    "        p_C = scatter(df_cell.x, df_cell.y,\n",
    "                         markersize = 1.5,\n",
    "                         yflip = true,\n",
    "                         label = \"\",\n",
    "                         markerstrokewidth = 0.2,\n",
    "                         frame = :box,\n",
    "                         ticks = [],\n",
    "                        aspect_ratio = :equal,\n",
    "                        size = (150,150),\n",
    "                         c = c_cancer) \n",
    "        push!(plot_array, p_C)\n",
    "        \n",
    "        # leukocytes\n",
    "        df = CSV.read(\"data/4000x4000_combined/subregion_cells/\" * f * \".csv\")\n",
    "        df_cell = df[df.class .== \"leukocytes\", :]\n",
    "        p_L = scatter(df_cell.x, df_cell.y,\n",
    "                         markersize = 1.5,\n",
    "                         yflip = true,\n",
    "                         label = \"\",\n",
    "                         markerstrokewidth = 0.2,\n",
    "                         frame = :box,\n",
    "                         ticks = [],\n",
    "                        aspect_ratio = :equal,\n",
    "                        size = (150,150),\n",
    "                         c = c_leukocytes) \n",
    "        push!(plot_array, p_L)\n",
    "        \n",
    "        # PSRH\n",
    "        p_PSRH = Images.load(\"data/4000x4000_combined/PSRH/\" * f * \".tif\")\n",
    "        push!(plot_array, plot(p_PSRH, ticks = [], frame = :box, bottom_margin = -3mm))\n",
    "    end\n",
    "end\n",
    "\n",
    "p = plot(plot_array..., layout = grid(n, 3 * 4), size = (250 * 3 * 4, 250 * n))\n",
    "savefig(\"analysis/cancer_leukocytes/dim_0/clean_examples.png\")"
   ]
  },
  {
   "attachments": {},
   "cell_type": "markdown",
   "metadata": {
    "heading_collapsed": true
   },
   "source": [
    "### PCA"
   ]
  },
  {
   "cell_type": "code",
   "execution_count": null,
   "metadata": {
    "hidden": true
   },
   "outputs": [],
   "source": [
    "\n",
    "# compute PCA\n",
    "#transformed, eigenvectors, variance_1, variance_2, _ = PI_to_PCA2(PI; pratio = 0.99)\n",
    "\n",
    "\n",
    "# save(\"analysis/cancer_leukocytes/dim_0/PCA.jld2\",\n",
    "#     \"transformed\", transformed,\n",
    "#     \"eigenvectors\", eigenvectors,\n",
    "#     \"variance_1\", variance_1,\n",
    "#     \"variance_2\", variance_2)\n"
   ]
  },
  {
   "cell_type": "code",
   "execution_count": null,
   "metadata": {
    "hidden": true
   },
   "outputs": [],
   "source": [
    "# load\n",
    "data = load(\"analysis/cancer_leukocytes/dim_0/PCA.jld2\")\n",
    "transformed = data[\"transformed\"]\n",
    "eigenvectors = data[\"eigenvectors\"]\n",
    "variance_1 = data[\"variance_1\"]\n",
    "variance_2 = data[\"variance_2\"]\n",
    "\n",
    "println(\"number of components: \", length(eigenvectors))\n",
    "println(\"variance explained by 1 eigenvectors: \", variance_1)\n",
    "println(\"variance explained by 2 eigenvectors: \", variance_2)\n",
    "println(\"variance difference between 2 and 1:\", variance_2 - variance_1)"
   ]
  },
  {
   "cell_type": "code",
   "execution_count": null,
   "metadata": {},
   "outputs": [],
   "source": [
    "gr()\n",
    "p = scatter(transformed[1,:], transformed[2,:], \n",
    "        label = \"\", \n",
    "        hover = collect(1:size(transformed, 2)),\n",
    "        frame = :box,\n",
    "        c = :slategrey,\n",
    "        ticks = [])\n",
    "#savefig(\"analysis/\" * systems * \"/dim_0/pca.pdf\")\n",
    "plot(p)"
   ]
  },
  {
   "cell_type": "code",
   "execution_count": null,
   "metadata": {
    "hidden": true
   },
   "outputs": [],
   "source": [
    "# save index of example points\n",
    "# R1 = [295, 45, 352, 382]\n",
    "# R2 = [144, 168, 13, 389]\n",
    "# R3 = [316, 289, 128, 368]\n",
    "# R4 = [54, 227, 283, 138]\n",
    "\n",
    "R1 = [45, 382]\n",
    "R2 = [144, 168]\n",
    "R3 = [289, 316]\n",
    "R4 = [54, 227]"
   ]
  },
  {
   "cell_type": "code",
   "execution_count": null,
   "metadata": {
    "hidden": true
   },
   "outputs": [],
   "source": [
    "# plot with regions\n",
    "gr()\n",
    "\n",
    "# load PCA\n",
    "y = load(\"analysis/cancer_leukocytes/dim_0/PCA.jld2\")[\"transformed\"]\n",
    "\n",
    "\n",
    "markersize = 3\n",
    "legendfontsize = 5\n",
    "n = size(y, 2)\n",
    "annotated = vcat(R1, R2, R3, R4)\n",
    "nonannotated = [i for i = 1:size(y, 2) if i ∉ annotated]\n",
    "p = scatter(y[1,nonannotated], y[2,nonannotated], \n",
    "        markercolor = \"lightgray\",\n",
    "        alpha = 0.6,\n",
    "        markersize = markersize, \n",
    "        markerstrokewidth = 1,\n",
    "        label = \"\", \n",
    "        xaxis = \"PC1 (70%)\",\n",
    "        yaxis = \"PC2 (15%)\",\n",
    "        xticks = (0,0),\n",
    "        yticks = (0,0),\n",
    "        xlims = (-0.0004, 0.0004),\n",
    "        \n",
    "        guidefontsize = 7,\n",
    "        framestyle = :box,\n",
    "        size = (200, 150),\n",
    "        #leftmargin = 2mm,\n",
    "        legend = :bottomleft\n",
    "        #background_color=:transparent, foreground_color=:black,\n",
    "        )\n",
    "scatter!(y[1,R1], y[2,R1], label = \"\", markersize = markersize, markershape = :rect, markercolor = c1, labels = \"R1\", legendfontsize = legendfontsize)\n",
    "scatter!(y[1,R2], y[2,R2], label = \"\", markersize = markersize, markershape = :utriangle, markercolor = c2, labels = \"R2\")\n",
    "scatter!(y[1,R3], y[2,R3], label = \"\", markersize = markersize, markershape = :star, markercolor = c3, labels = \"R3\")\n",
    "scatter!(y[1,R4], y[2,R4], label = \"\", markersize = markersize, markershape = :diamond, markercolor = c4, labels = \"R4\")\n",
    "savefig(\"analysis/cancer_leukocytes/dim_0/pca_low_dim.svg\")\n",
    "plot(p)"
   ]
  },
  {
   "cell_type": "code",
   "execution_count": null,
   "metadata": {
    "hidden": true
   },
   "outputs": [],
   "source": [
    "# plot cancer, leukocytes, PSRH images\n",
    "regions = Dict(1 => R1, 2=> R2, 3=> R3, 4=> R4)\n",
    "gr()\n",
    "plot_array = []\n",
    "n = length(regions)\n",
    "for i=1:n\n",
    "    R = regions[i]\n",
    "    for idx in R\n",
    "        f = idx_ROI[idx]\n",
    "        \n",
    "        # cancer\n",
    "        df = CSV.read(\"data/4000x4000_combined/subregion_cells/\" * f * \".csv\")\n",
    "        df_cell = df[df.class .== \"cancer\", :]\n",
    "        p_C = scatter(df_cell.x, df_cell.y,\n",
    "                         markersize = 1.5,\n",
    "                         yflip = true,\n",
    "                         label = \"\",\n",
    "                         markerstrokewidth = 0.2,\n",
    "                         frame = :box,\n",
    "                         ticks = [],\n",
    "                        aspect_ratio = :equal,\n",
    "                        size = (150,150),\n",
    "                         c = c_cancer,\n",
    "                         right_margin = -4mm) \n",
    "        push!(plot_array, p_C)\n",
    "        \n",
    "        # leukocytes\n",
    "        df = CSV.read(\"data/4000x4000_combined/subregion_cells/\" * f * \".csv\")\n",
    "        df_cell = df[df.class .== \"leukocytes\", :]\n",
    "        p_L = scatter(df_cell.x, df_cell.y,\n",
    "                         markersize = 1.5,\n",
    "                         yflip = true,\n",
    "                         label = \"\",\n",
    "                         markerstrokewidth = 0.2,\n",
    "                         frame = :box,\n",
    "                         ticks = [],\n",
    "                        aspect_ratio = :equal,\n",
    "                        size = (150,150),\n",
    "                         c = c_leukocytes,\n",
    "                         right_margin = -4mm) \n",
    "        push!(plot_array, p_L)\n",
    "        \n",
    "        # PSRH\n",
    "        p_PSRH = Images.load(\"data/4000x4000_combined/PSRH/\" * f * \".tif\")\n",
    "        push!(plot_array, plot(p_PSRH, ticks = [], frame = :box, bottom_margin = -3mm))\n",
    "    end\n",
    "end\n",
    "\n",
    "p = plot(plot_array..., layout = grid(n, 3 * 4), size = (250 * 3 * 4, 250 * n))\n",
    "savefig(\"analysis/cancer_leukocytes/dim_0/PCA_examples.png\")"
   ]
  },
  {
   "attachments": {},
   "cell_type": "markdown",
   "metadata": {
    "hidden": true
   },
   "source": [
    "Plot for manuscript figures"
   ]
  },
  {
   "cell_type": "code",
   "execution_count": null,
   "metadata": {
    "hidden": true
   },
   "outputs": [],
   "source": [
    "# plot cancer, leukocytes, PSRH images\n",
    "regions = Dict(1 => R1, 2=> R2, 3=> R3, 4=> R4)\n",
    "gr()\n",
    "n = length(regions)\n",
    "for i=1:n\n",
    "    R = regions[i]\n",
    "    for idx in R\n",
    "        plot_array = []\n",
    "        f = idx_ROI[idx]\n",
    "        \n",
    "        # cancer\n",
    "        df = CSV.read(\"data/4000x4000_combined/subregion_cells/\" * f * \".csv\")\n",
    "        df_cell = df[df.class .== \"cancer\", :]\n",
    "        p_C = scatter(df_cell.x, df_cell.y,\n",
    "                         markersize = 1.5,\n",
    "                         yflip = true,\n",
    "                         label = \"\",\n",
    "                         markerstrokewidth = 0.2,\n",
    "                         frame = :box,\n",
    "                         ticks = [],\n",
    "                        aspect_ratio = :equal,\n",
    "                        size = (150,150),\n",
    "                         c = c_cancer,\n",
    "                         right_margin = -4mm) \n",
    "        push!(plot_array, p_C)\n",
    "        \n",
    "        # leukocytes\n",
    "        df = CSV.read(\"data/4000x4000_combined/subregion_cells/\" * f * \".csv\")\n",
    "        df_cell = df[df.class .== \"leukocytes\", :]\n",
    "        p_L = scatter(df_cell.x, df_cell.y,\n",
    "                         markersize = 1.5,\n",
    "                         yflip = true,\n",
    "                         label = \"\",\n",
    "                         markerstrokewidth = 0.2,\n",
    "                         frame = :box,\n",
    "                         ticks = [],\n",
    "                        aspect_ratio = :equal,\n",
    "                        size = (150,150),\n",
    "                         c = c_leukocytes,\n",
    "                         right_margin = -4mm) \n",
    "        push!(plot_array, p_L)\n",
    "        \n",
    "        # PSRH\n",
    "        p_PSRH = Images.load(\"data/4000x4000_combined/PSRH/\" * f * \".tif\")\n",
    "        push!(plot_array, plot(p_PSRH, ticks = [], frame = :box, bottom_margin = -3mm))\n",
    "        plot(plot_array..., layout = grid(1,3), size = (250 * 3, 250))\n",
    "        savefig(\"analysis/cancer_leukocytes/dim_0/PCA_examples_manuscript_figures/R\" * string(i) * \"_\" * string(f) *  \".png\")\n",
    "    end\n",
    "    \n",
    "end\n"
   ]
  },
  {
   "cell_type": "code",
   "execution_count": null,
   "metadata": {
    "hidden": true
   },
   "outputs": [],
   "source": [
    "# plot cancer, leukocytes, PSRH images\n",
    "regions = Dict(1 => R1, 2=> R2, 3=> R3, 4=> R4)\n",
    "gr()\n",
    "plot_array = []\n",
    "n = length(regions)\n",
    "for i=1:n\n",
    "    R = regions[i]\n",
    "    for idx in R\n",
    "        f = idx_ROI[idx]\n",
    "        \n",
    "        # cancer\n",
    "        df = CSV.read(\"data/4000x4000_combined/subregion_cells/\" * f * \".csv\")\n",
    "        df_cell = df[df.class .== \"cancer\", :]\n",
    "        p_C = scatter(df_cell.x, df_cell.y,\n",
    "                         markersize = 1.5,\n",
    "                         yflip = true,\n",
    "                         label = \"\",\n",
    "                         markerstrokewidth = 0.2,\n",
    "                         frame = :box,\n",
    "                         ticks = [],\n",
    "                        aspect_ratio = :equal,\n",
    "                        size = (150,150),\n",
    "                         c = c_cancer,\n",
    "                         right_margin = -4mm) \n",
    "        push!(plot_array, p_C)\n",
    "        \n",
    "        # cancer - subsampled\n",
    "        df_cell = CSV.read(\"data/4000x4000_combined/Dowker/cancer/\" * f * \".csv\")\n",
    "        p_C = scatter(df_cell[:,1], df_cell[:,2],\n",
    "                         markersize = 1.5,\n",
    "                         yflip = true,\n",
    "                         label = \"\",\n",
    "                         markerstrokewidth = 0.2,\n",
    "                         frame = :box,\n",
    "                         ticks = [],\n",
    "                        aspect_ratio = :equal,\n",
    "                        size = (150,150),\n",
    "                         c = c_cancer,\n",
    "                         right_margin = -4mm) \n",
    "        push!(plot_array, p_C)\n",
    "        \n",
    "        # leukocytes\n",
    "        df = CSV.read(\"data/4000x4000_combined/subregion_cells/\" * f * \".csv\")\n",
    "        df_cell = df[df.class .== \"leukocytes\", :]\n",
    "        p_L = scatter(df_cell.x, df_cell.y,\n",
    "                         markersize = 1.5,\n",
    "                         yflip = true,\n",
    "                         label = \"\",\n",
    "                         markerstrokewidth = 0.2,\n",
    "                         frame = :box,\n",
    "                         ticks = [],\n",
    "                        aspect_ratio = :equal,\n",
    "                        size = (150,150),\n",
    "                         c = c_leukocytes,\n",
    "                         right_margin = -4mm) \n",
    "        push!(plot_array, p_L)\n",
    "        \n",
    "        # leukocytes - subsampled\n",
    "        df_cell = CSV.read(\"data/4000x4000_combined/Dowker/leukocytes/\" * f * \".csv\")\n",
    "        p_L = scatter(df_cell[:,1], df_cell[:,2],\n",
    "                         markersize = 1.5,\n",
    "                         yflip = true,\n",
    "                         label = \"\",\n",
    "                         markerstrokewidth = 0.2,\n",
    "                         frame = :box,\n",
    "                         ticks = [],\n",
    "                        aspect_ratio = :equal,\n",
    "                        size = (150,150),\n",
    "                         c = c_leukocytes,\n",
    "                         right_margin = -4mm) \n",
    "        push!(plot_array, p_L)\n",
    "        \n",
    "        # PSRH\n",
    "        p_PSRH = Images.load(\"data/4000x4000_combined/PSRH/\" * f * \".tif\")\n",
    "        push!(plot_array, plot(p_PSRH, ticks = [], frame = :box, bottom_margin = -3mm))\n",
    "    end\n",
    "end\n"
   ]
  },
  {
   "cell_type": "code",
   "execution_count": null,
   "metadata": {
    "hidden": true
   },
   "outputs": [],
   "source": [
    "p = plot(plot_array..., layout = grid(n, 5 * 4), size = (250 * 5 * 4, 250 * n))\n",
    "savefig(\"analysis/cancer_leukocytes/dim_0/PCA_examples2.png\")"
   ]
  },
  {
   "attachments": {},
   "cell_type": "markdown",
   "metadata": {
    "hidden": true
   },
   "source": [
    "Plot more regions"
   ]
  },
  {
   "cell_type": "code",
   "execution_count": null,
   "metadata": {
    "hidden": true
   },
   "outputs": [],
   "source": [
    "R1 = [168, 260, 144, 158]\n",
    "R2 = [211, 350, 282, 395]\n",
    "R3 = [45, 26, 352, 182]\n",
    "R4 = [311, 264, 357, 160]\n",
    "\n",
    "# plot cancer, leukocytes, PSRH images\n",
    "regions = Dict(1 => R1, 2=> R2, 3=> R3, 4=> R4)\n",
    "gr()\n",
    "plot_array = []\n",
    "n = length(regions)\n",
    "for i=1:n\n",
    "    R = regions[i]\n",
    "    for idx in R\n",
    "        f = idx_ROI[idx]\n",
    "        \n",
    "        # cancer\n",
    "        df = CSV.read(\"data/4000x4000_combined/subregion_cells/\" * f * \".csv\")\n",
    "        df_cell = df[df.class .== \"cancer\", :]\n",
    "        p_C = scatter(df_cell.x, df_cell.y,\n",
    "                         markersize = 1.5,\n",
    "                         yflip = true,\n",
    "                         label = \"\",\n",
    "                         markerstrokewidth = 0.2,\n",
    "                         frame = :box,\n",
    "                         ticks = [],\n",
    "                        aspect_ratio = :equal,\n",
    "                        size = (150,150),\n",
    "                         c = c_cancer,\n",
    "                         right_margin = -4mm) \n",
    "        push!(plot_array, p_C)\n",
    "        \n",
    "        # leukocytes\n",
    "        df = CSV.read(\"data/4000x4000_combined/subregion_cells/\" * f * \".csv\")\n",
    "        df_cell = df[df.class .== \"leukocytes\", :]\n",
    "        p_L = scatter(df_cell.x, df_cell.y,\n",
    "                         markersize = 1.5,\n",
    "                         yflip = true,\n",
    "                         label = \"\",\n",
    "                         markerstrokewidth = 0.2,\n",
    "                         frame = :box,\n",
    "                         ticks = [],\n",
    "                        aspect_ratio = :equal,\n",
    "                        size = (150,150),\n",
    "                         c = c_leukocytes,\n",
    "                         right_margin = -4mm) \n",
    "        push!(plot_array, p_L)\n",
    "        \n",
    "        # PSRH\n",
    "        p_PSRH = Images.load(\"data/4000x4000_combined/PSRH/\" * f * \".tif\")\n",
    "        push!(plot_array, plot(p_PSRH, ticks = [], frame = :box, bottom_margin = -3mm))\n",
    "    end\n",
    "end\n",
    "\n",
    "p = plot(plot_array..., layout = grid(n, 3 * 4), size = (250 * 3 * 4, 250 * n))\n",
    "savefig(\"analysis/cancer_leukocytes/dim_0/PCA_examples_more_regions.png\")"
   ]
  },
  {
   "attachments": {},
   "cell_type": "markdown",
   "metadata": {
    "heading_collapsed": true
   },
   "source": [
    "### eigenvectors"
   ]
  },
  {
   "cell_type": "code",
   "execution_count": null,
   "metadata": {
    "hidden": true
   },
   "outputs": [],
   "source": [
    "# get min and max pixels of the first four eigenvectors\n",
    "eigenvector_min = minimum(minimum.(eigenvectors[i] for i = 1:4))\n",
    "eigenvector_max = maximum(maximum.(eigenvectors[i] for i = 1:4))\n",
    "\n",
    "println(\"min pixel: \", eigenvector_min)\n",
    "println(\"max pixel: \", eigenvector_max)"
   ]
  },
  {
   "cell_type": "code",
   "execution_count": null,
   "metadata": {
    "hidden": true
   },
   "outputs": [],
   "source": [
    "max1 = PD0_max"
   ]
  },
  {
   "cell_type": "code",
   "execution_count": null,
   "metadata": {},
   "outputs": [],
   "source": [
    "  # scale all min, max\n",
    "  x_min_scaled = x_min * plot_scale / 100\n",
    "  x_max_scaled = x_max * plot_scale / 100\n",
    "  y_min_scaled = y_min * plot_scale / 100\n",
    "  y_max_scaled = y_max * plot_scale / 100\n",
    "  \n",
    "  # locate \"0\"\n",
    "  x_loc0 = 0 - x_min\n",
    "  y_loc0 = 0 - y_min\n",
    "  \n",
    "  x_zero_tick = x_loc0/ (x_max - x_min) * n\n",
    "  y_zero_tick = y_loc0 / (y_max - y_min) * n\n",
    "  \n",
    "  # compute the number of ticks to draw\n",
    "  x_tick_loc = x_tick_interval/x_max_scaled * plot_scale \n",
    "  y_tick_loc = y_tick_interval/y_max_scaled * plot_scale \n",
    "\n",
    "  p = heatmap(PI[1:plot_scale, 1:plot_scale], \n",
    "      label = \"\",\n",
    "      title = \"\",\n",
    "      framestyle = :box,\n",
    "      xticks = (x_zero_tick:x_tick_loc:plot_scale, Int32.(round.(0:x_tick_interval:x_max_scaled))),  # (location of ticks, tick values)\n",
    "      yticks = (y_zero_tick:y_tick_loc:plot_scale, Int32.(round.(0:y_tick_interval:y_max_scaled)))\n",
    "      ;kwargs...)"
   ]
  },
  {
   "cell_type": "code",
   "execution_count": null,
   "metadata": {},
   "outputs": [],
   "source": [
    "  # scale all min, max\n",
    "  x_min_scaled = x_min * plot_scale / 100\n",
    "  x_max_scaled = x_max * plot_scale / 100\n",
    "  y_min_scaled = y_min * plot_scale / 100\n",
    "  y_max_scaled = y_max * plot_scale / 100\n",
    "  \n",
    "  # locate \"0\"\n",
    "  x_loc0 = 0 - x_min\n",
    "  y_loc0 = 0 - y_min\n",
    "  \n",
    "  x_zero_tick = x_loc0/ (x_max - x_min) * n\n",
    "  y_zero_tick = y_loc0 / (y_max - y_min) * n\n",
    "  \n",
    "  # compute the number of ticks to draw\n",
    "  x_tick_loc = x_tick_interval/x_max_scaled * plot_scale \n",
    "  y_tick_loc = y_tick_interval/y_max_scaled * plot_scale \n"
   ]
  },
  {
   "cell_type": "code",
   "execution_count": null,
   "metadata": {
    "hidden": true,
    "scrolled": true
   },
   "outputs": [],
   "source": [
    "# plot the first four eigenvectors\n",
    "gr()\n",
    "plot_scale = 20 # only show plot_scale% of persistence image\n",
    "ps = [plot_PI2(eigenvectors[i], xmin, xmax, ymin, ymax, \n",
    "            clims = (eigenvector_min, eigenvector_max), \n",
    "            xlabel = \"birth\",\n",
    "            ylabel = \"persistence\",\n",
    "            show_axis = false,\n",
    "            left_margin = 5mm,\n",
    "            bottom_margin = 7mm,\n",
    "            x_tick_interval = 400,\n",
    "            y_tick_interval = 400,\n",
    "            legend = :false # no colorbar \n",
    "            ) for i =1:4]\n",
    "\n",
    "l = @layout[grid(1,4) a{0.05w}] # Stack a layout that rightmost one is for color bar\n",
    "Plots.GridLayout(1, 2)\n",
    "\n",
    "n = 100 # length of colorbar (as a vector)\n",
    "cbar_interval = 0.2\n",
    "cbar_ticks = vcat(reverse(collect(0:cbar_interval: -eigenvector_min))[1:end-1] .* -1, collect(0:cbar_interval:eigenvector_max))\n",
    "cbar_loc = [cbar_tickvals_to_loc(eigenvector_min, eigenvector_max, n, val) for val in cbar_ticks]\n",
    "\n",
    "p = plot(ps..., \n",
    "         heatmap(collect(range(eigenvector_min, eigenvector_max, length = n)) .* ones(n,1), \n",
    "                legend=:none, \n",
    "                xticks=:none,\n",
    "                yticks=(cbar_loc, cbar_ticks)),\n",
    "         layout=l,\n",
    "         topmargin = 3mm,\n",
    "         size = (1000, 200))\n",
    "savefig(\"analysis/cancer_leukocytes/dim_0/eigenvectors.svg\")\n",
    "plot(p)"
   ]
  },
  {
   "cell_type": "code",
   "execution_count": null,
   "metadata": {
    "hidden": true
   },
   "outputs": [],
   "source": []
  },
  {
   "attachments": {},
   "cell_type": "markdown",
   "metadata": {
    "hidden": true
   },
   "source": [
    "<font color = \"red\">CAUTION</font>\n",
    "* PC2 seems to encode exclusion, but not just the global exclusion -- there can be global exclusion, or simply a lack of points in either system, which still constitutes exclusion\n",
    "* To distinguish such cases, I reckon that combining Dowker info with PD0 of each system would help\n",
    " - Include SI figure\n",
    "* PC2: colocalization. Again, multiple patterns\n",
    " "
   ]
  },
  {
   "attachments": {},
   "cell_type": "markdown",
   "metadata": {
    "heading_collapsed": true
   },
   "source": [
    "### PCA with exemplary regions"
   ]
  },
  {
   "cell_type": "code",
   "execution_count": null,
   "metadata": {
    "hidden": true
   },
   "outputs": [],
   "source": [
    "ROI_idx = Dict(v => k for (k,v) in idx_ROI);\n",
    "\n",
    "ex1_idx = [ROI_idx[i] for i in ex1]\n",
    "ex2_idx = [ROI_idx[i] for i in ex2]\n",
    "ex3_idx = [ROI_idx[i] for i in ex3]\n",
    "ex4_idx = [ROI_idx[i] for i in ex4]\n",
    "ex5_idx = [ROI_idx[i] for i in ex5]"
   ]
  },
  {
   "cell_type": "code",
   "execution_count": null,
   "metadata": {
    "hidden": true
   },
   "outputs": [],
   "source": [
    "# plot with regions\n",
    "gr()\n",
    "\n",
    "# load PCA\n",
    "y = load(\"analysis/cancer_leukocytes/dim_0/PCA.jld2\")[\"transformed\"]\n",
    "\n",
    "markersize = 3\n",
    "legendfontsize = 5\n",
    "n = size(y, 2)\n",
    "annotated = vcat(ex1_idx, ex2_idx, ex3_idx, ex4_idx, ex5_idx)\n",
    "nonannotated = [i for i = 1:size(y, 2) if i ∉ annotated]\n",
    "p = scatter(y[1,nonannotated], y[2,nonannotated], \n",
    "        markercolor = \"lightgray\",\n",
    "        alpha = 0.6,\n",
    "        markersize = markersize, \n",
    "        markerstrokewidth = 3,\n",
    "        label = \"\", \n",
    "        xaxis = \"PC1 (83%)\",\n",
    "        yaxis = \"PC2 (8%)\",\n",
    "        #xtickfontsize = 15,\n",
    "        #ytickfontsize = 15,\n",
    "        #xrotation = 45,\n",
    "        ticks = [],\n",
    "        guidefontsize = 7,\n",
    "        framestyle = :box,\n",
    "        size = (200, 150),\n",
    "        #leftmargin = 2mm,\n",
    "        legend = :bottomleft\n",
    "        #background_color=:transparent, foreground_color=:black,\n",
    "        )\n",
    "scatter!(y[1,ex1_idx], y[2,ex1_idx], label = \"\", markersize = markersize, markershape = :rect, markercolor = c1, labels = \"ex1\", legendfontsize = legendfontsize)\n",
    "scatter!(y[1,ex2_idx], y[2,ex2_idx], label = \"\", markersize = markersize, markershape = :utriangle, markercolor = c2, labels = \"ex2\")\n",
    "scatter!(y[1,ex3_idx], y[2,ex3_idx], label = \"\", markersize = markersize, markershape = :star, markercolor = c3, labels = \"ex3\")\n",
    "scatter!(y[1,ex4_idx], y[2,ex4_idx], label = \"\", markersize = markersize, markershape = :diamond, markercolor = c4, labels = \"ex4\")\n",
    "scatter!(y[1,ex5_idx], y[2,ex5_idx], label = \"\", markersize = markersize, markershape = :pentagon, markercolor = c5, labels = \"ex5\")\n",
    "savefig(\"analysis/cancer_leukocytes/dim_0/exemplary_regions_PCA.pdf\")\n",
    "plot(p)"
   ]
  },
  {
   "cell_type": "code",
   "execution_count": null,
   "metadata": {
    "hidden": true
   },
   "outputs": [],
   "source": [
    "# plot cancer, leukocytes, PSRH images\n",
    "regions = Dict(1 => ex1_idx, 2=> ex2_idx, 3=> ex3_idx, 4=> ex4_idx, 5 =>ex5_idx)\n",
    "gr()\n",
    "plot_array = []\n",
    "n = length(regions)\n",
    "for i=1:n\n",
    "    R = regions[i]\n",
    "    for idx in R\n",
    "        f = idx_ROI[idx]\n",
    "        \n",
    "        # cancer\n",
    "        df = CSV.read(\"data/4000x4000_combined/subregion_cells/\" * f * \".csv\")\n",
    "        df_cell = df[df.class .== \"cancer\", :]\n",
    "        p_C = scatter(df_cell.x, df_cell.y,\n",
    "                         markersize = 1.5,\n",
    "                         yflip = true,\n",
    "                         label = \"\",\n",
    "                         markerstrokewidth = 0.2,\n",
    "                         frame = :box,\n",
    "                         ticks = [],\n",
    "                        aspect_ratio = :equal,\n",
    "                        size = (150,150),\n",
    "                         c = c_cancer,\n",
    "                         right_margin = -4mm) \n",
    "        push!(plot_array, p_C)\n",
    "        \n",
    "        # leukocytes\n",
    "        df = CSV.read(\"data/4000x4000_combined/subregion_cells/\" * f * \".csv\")\n",
    "        df_cell = df[df.class .== \"leukocytes\", :]\n",
    "        p_L = scatter(df_cell.x, df_cell.y,\n",
    "                         markersize = 1.5,\n",
    "                         yflip = true,\n",
    "                         label = \"\",\n",
    "                         markerstrokewidth = 0.2,\n",
    "                         frame = :box,\n",
    "                         ticks = [],\n",
    "                        aspect_ratio = :equal,\n",
    "                        size = (150,150),\n",
    "                         c = c_leukocytes,\n",
    "                        right_margin = -4mm) \n",
    "        push!(plot_array, p_L)\n",
    "        \n",
    "        # PSRH\n",
    "        p_PSRH = Images.load(\"data/4000x4000_combined/PSRH/\" * f * \".tif\")\n",
    "        push!(plot_array, plot(p_PSRH, ticks = [], frame = :box, bottom_margin = -3mm))\n",
    "    end\n",
    "end\n",
    "\n",
    "p = plot(plot_array..., layout = grid(n, 3 * 4), size = (250 * 3 * 4, 250 * n))\n",
    "savefig(\"analysis/cancer_leukocytes/dim_0/exemplary_regions_images.png\")"
   ]
  },
  {
   "attachments": {},
   "cell_type": "markdown",
   "metadata": {
    "heading_collapsed": true
   },
   "source": [
    "### Dowker complexes on examples"
   ]
  },
  {
   "cell_type": "code",
   "execution_count": null,
   "metadata": {
    "hidden": true
   },
   "outputs": [],
   "source": [
    "# plotting parameters\n",
    "c_highlight = :deeppink2\n",
    "\n",
    "### for point cloud\n",
    "p_markersize = 5\n",
    "p_markerstrokewidth = 0.5\n",
    "p_imagesize = (300, 300)\n",
    "\n",
    "### for PD\n",
    "diagonal_lw = 2\n",
    "pd_markersize = 10\n",
    "tickfontsize = 20\n",
    "PD_size = (500, 500)\n",
    "inf_markerstrokewidth = 6"
   ]
  },
  {
   "cell_type": "code",
   "execution_count": null,
   "metadata": {
    "hidden": true
   },
   "outputs": [],
   "source": [
    "# specify example\n",
    "LTX = \"092\"\n",
    "Da = \"252\"\n",
    "idx = 3\n",
    "\n",
    "\n",
    "# load cells\n",
    "dir = \"data/4000x4000_combined/Dowker\"\n",
    "filename = \"LTX\" * LTX * \"_Da\" * Da * \"_idx\" * string(idx) * \".csv\" \n",
    "cells_cancer = readdlm(dir * \"/cancer/\" * filename, ',')\n",
    "cells_leukocytes = readdlm(dir * \"/leukocytes/\" * filename, ',');"
   ]
  },
  {
   "cell_type": "code",
   "execution_count": null,
   "metadata": {
    "hidden": true
   },
   "outputs": [],
   "source": [
    "# plot cancer and leukocytes\n",
    "p = scatter(cells_cancer[:,1], cells_cancer[:,2], \n",
    "            markersize = p_markersize,\n",
    "                 yflip = true,\n",
    "                 label = \"\",\n",
    "                 markerstrokewidth = p_markerstrokewidth,\n",
    "                 frame = :box,\n",
    "                 ticks = [],\n",
    "                 c = c_cancer)\n",
    "scatter!(p, cells_leukocytes[:,1], cells_leukocytes[:,2], \n",
    "            markersize = p_markersize,\n",
    "                 yflip = true,\n",
    "                 label = \"\",\n",
    "                markerstrokewidth = p_markerstrokewidth,\n",
    "                 frame = :box,\n",
    "                 ticks = [],\n",
    "                 c = c_leukocytes)\n",
    "plot(p, aspect = :equal, size = p_imagesize)\n",
    "\n",
    "plot(p)"
   ]
  },
  {
   "cell_type": "code",
   "execution_count": null,
   "metadata": {
    "hidden": true
   },
   "outputs": [],
   "source": [
    "gr()\n",
    "DPD0 = readdlm(\"data/4000x4000_combined/Dowker/cancer_leukocytes/PD0/LTX\" * LTX * \"_Da\" * Da * \"_idx\" * string(idx) * \".csv\", ',')\n",
    "p = plot_PD(DPD0;\n",
    "        pd_min = 0,\n",
    "        pd_max = 1050,\n",
    "        inf_coord = 1000,\n",
    "        diagonal_lw = diagonal_lw,\n",
    "        markersize = pd_markersize,\n",
    "        highlight = [3, 24],\n",
    "        tickfontsize = tickfontsize,\n",
    "        inf_markerstrokewidth = inf_markerstrokewidth,\n",
    "        size = PD_size,\n",
    "        right_margin = 3mm)\n",
    "plot(p)"
   ]
  },
  {
   "cell_type": "code",
   "execution_count": null,
   "metadata": {
    "hidden": true
   },
   "outputs": [],
   "source": [
    "P1 = cells_leukocytes\n",
    "P2 = cells_cancer\n",
    "\n",
    "# comute pairwise distances between P1 and P2\n",
    "d_leukocytes_cancer = Distances.pairwise(Euclidean(), P1, P2, dims = 1)\n",
    "d_cancer_leukocytes = Array(transpose(d_leukocytes_cancer));"
   ]
  },
  {
   "cell_type": "code",
   "execution_count": null,
   "metadata": {
    "hidden": true
   },
   "outputs": [],
   "source": [
    "# plot on cancer\n",
    "param = 500\n",
    "p = plot_Dowker_complex(d_cancer_leukocytes, param, cells_cancer; \n",
    "    show_2simplex = false, show_unborn_vertices = true, c = c_cancer)\n",
    "plot(p, yflip = true, size = (500, 500))"
   ]
  },
  {
   "cell_type": "code",
   "execution_count": null,
   "metadata": {
    "hidden": true
   },
   "outputs": [],
   "source": [
    "# plot on leukocytes\n",
    "param = 500\n",
    "p = plot_Dowker_complex(d_leukocytes_cancer, param, cells_leukocytes; \n",
    "    show_2simplex = false, show_unborn_vertices = true, c = c_leukocytes)\n",
    "plot(p, yflip = true, size = (500, 500))"
   ]
  },
  {
   "attachments": {},
   "cell_type": "markdown",
   "metadata": {
    "hidden": true
   },
   "source": [
    "<b> Example with more mixture </b>"
   ]
  },
  {
   "cell_type": "code",
   "execution_count": null,
   "metadata": {
    "hidden": true
   },
   "outputs": [],
   "source": [
    "# specify example\n",
    "LTX = \"124\"\n",
    "Da = \"104\"\n",
    "idx = 2\n",
    "\n",
    "# load cells\n",
    "dir = \"data/4000x4000_combined/Dowker\"\n",
    "filename = \"LTX\" * LTX * \"_Da\" * Da * \"_idx\" * string(idx) * \".csv\" \n",
    "cells_cancer = readdlm(dir * \"/cancer/\" * filename, ',')\n",
    "cells_leukocytes = readdlm(dir * \"/leukocytes/\" * filename, ',');"
   ]
  },
  {
   "cell_type": "code",
   "execution_count": null,
   "metadata": {
    "hidden": true
   },
   "outputs": [],
   "source": [
    "# plot cancer and leukocytes\n",
    "p = scatter(cells_cancer[:,1], cells_cancer[:,2], \n",
    "            markersize = p_markersize,\n",
    "                 yflip = true,\n",
    "                 label = \"\",\n",
    "                 markerstrokewidth = p_markerstrokewidth,\n",
    "                 frame = :box,\n",
    "                 ticks = [],\n",
    "                 c = c_cancer)\n",
    "scatter!(p, cells_leukocytes[:,1], cells_leukocytes[:,2], \n",
    "            markersize = p_markersize,\n",
    "                 yflip = true,\n",
    "                 label = \"\",\n",
    "                markerstrokewidth = p_markerstrokewidth,\n",
    "                 frame = :box,\n",
    "                 ticks = [],\n",
    "                 c = c_leukocytes)\n",
    "plot(p, aspect = :equal, size = p_imagesize)\n",
    "\n",
    "plot(p)"
   ]
  },
  {
   "cell_type": "code",
   "execution_count": null,
   "metadata": {
    "hidden": true
   },
   "outputs": [],
   "source": [
    "gr()\n",
    "DPD0 = readdlm(\"data/4000x4000_combined/Dowker/cancer_leukocytes/PD0/LTX\" * LTX * \"_Da\" * Da * \"_idx\" * string(idx) * \".csv\", ',')\n",
    "p = plot_PD(DPD0;\n",
    "        pd_min = 0,\n",
    "        pd_max = 1050,\n",
    "        inf_coord = 1000,\n",
    "        diagonal_lw = diagonal_lw,\n",
    "        markersize = pd_markersize,\n",
    "        #highlight = [3, 24],\n",
    "        tickfontsize = tickfontsize,\n",
    "        inf_markerstrokewidth = inf_markerstrokewidth,\n",
    "        size = PD_size,\n",
    "        right_margin = 3mm)\n",
    "plot(p)"
   ]
  },
  {
   "cell_type": "code",
   "execution_count": null,
   "metadata": {
    "hidden": true
   },
   "outputs": [],
   "source": []
  },
  {
   "attachments": {},
   "cell_type": "markdown",
   "metadata": {
    "heading_collapsed": true
   },
   "source": [
    "### SI for different types of exclusion"
   ]
  },
  {
   "cell_type": "code",
   "execution_count": null,
   "metadata": {
    "hidden": true
   },
   "outputs": [],
   "source": [
    "exclusion1 = ex2\n",
    "exclusion2 = ex3\n",
    "exclusion3 = ex4\n",
    "\n",
    "\n",
    "ROI_idx = Dict(v => k for (k,v) in idx_ROI);\n",
    "\n",
    "exclusion1_idx = [ROI_idx[i] for i in exclusion1]\n",
    "exclusion2_idx = [ROI_idx[i] for i in exclusion2]\n",
    "exclusion3_idx = [ROI_idx[i] for i in exclusion3];"
   ]
  },
  {
   "cell_type": "code",
   "execution_count": null,
   "metadata": {
    "hidden": true
   },
   "outputs": [],
   "source": [
    "# plot with regions\n",
    "gr()\n",
    "\n",
    "# load PCA\n",
    "y = load(\"analysis/cancer_leukocytes/dim_0/PCA.jld2\")[\"transformed\"]\n",
    "\n",
    "markersize = 3\n",
    "legendfontsize = 5\n",
    "n = size(y, 2)\n",
    "annotated = vcat(exclusion1_idx, exclusion2_idx, exclusion3_idx)\n",
    "nonannotated = [i for i = 1:size(y, 2) if i ∉ annotated]\n",
    "p = scatter(y[1,nonannotated], y[2,nonannotated], \n",
    "        markercolor = \"lightgray\",\n",
    "        alpha = 0.6,\n",
    "        markersize = markersize, \n",
    "        markerstrokewidth = 1,\n",
    "        label = \"\", \n",
    "        xaxis = \"PC1 (70%)\",\n",
    "        yaxis = \"PC2 (15%)\",\n",
    "        ticks = [],\n",
    "        guidefontsize = 7,\n",
    "        framestyle = :box,\n",
    "        size = (200, 150),\n",
    "        #leftmargin = 2mm,\n",
    "        legend = :bottomright\n",
    "        #background_color=:transparent, foreground_color=:black,\n",
    "        )\n",
    "scatter!(y[1,exclusion1_idx], y[2,exclusion1_idx], label = \"\", markersize = markersize, markershape = :rect, markercolor = c1, labels = \"exclusion 1\", legendfontsize = legendfontsize)\n",
    "scatter!(y[1,exclusion2_idx], y[2,exclusion2_idx], label = \"\", markersize = markersize, markershape = :utriangle, markercolor = c2, labels = \"exclusion 2\")\n",
    "scatter!(y[1,exclusion3_idx], y[2,exclusion3_idx], label = \"\", markersize = markersize, markershape = :star, markercolor = c3, labels = \"exclusion 3\")\n",
    "#savefig(\"analysis/cancer_leukocytes/dim_0/PCA_exclusions.svg\")\n",
    "plot(p)"
   ]
  },
  {
   "cell_type": "code",
   "execution_count": null,
   "metadata": {
    "hidden": true
   },
   "outputs": [],
   "source": [
    "# plot cancer, leukocytes, PSRH images\n",
    "regions = Dict(1 => exclusion1_idx, 2=> exclusion2_idx, 3=> exclusion3_idx)\n",
    "gr()\n",
    "plot_array = []\n",
    "n = length(regions)\n",
    "for i=1:n\n",
    "    R = regions[i]\n",
    "    for idx in R\n",
    "        f = idx_ROI[idx]\n",
    "        \n",
    "        # cancer\n",
    "        df = CSV.read(\"data/4000x4000_combined/subregion_cells/\" * f * \".csv\")\n",
    "        df_cell = df[df.class .== \"cancer\", :]\n",
    "        p_C = scatter(df_cell.x, df_cell.y,\n",
    "                         markersize = 1.5,\n",
    "                         yflip = true,\n",
    "                         label = \"\",\n",
    "                         markerstrokewidth = 0.2,\n",
    "                         frame = :box,\n",
    "                         ticks = [],\n",
    "                        aspect_ratio = :equal,\n",
    "                        size = (150,150),\n",
    "                         c = c_cancer,\n",
    "                         right_margin = -4mm) \n",
    "        push!(plot_array, p_C)\n",
    "        \n",
    "        # leukocytes\n",
    "        df = CSV.read(\"data/4000x4000_combined/subregion_cells/\" * f * \".csv\")\n",
    "        df_cell = df[df.class .== \"leukocytes\", :]\n",
    "        p_L = scatter(df_cell.x, df_cell.y,\n",
    "                         markersize = 1.5,\n",
    "                         yflip = true,\n",
    "                         label = \"\",\n",
    "                         markerstrokewidth = 0.2,\n",
    "                         frame = :box,\n",
    "                         ticks = [],\n",
    "                        aspect_ratio = :equal,\n",
    "                        size = (150,150),\n",
    "                         c = c_leukocytes,\n",
    "                         right_margin = -4mm) \n",
    "        push!(plot_array, p_L)\n",
    "        \n",
    "        # PSRH\n",
    "        p_PSRH = Images.load(\"data/4000x4000_combined/PSRH/\" * f * \".tif\")\n",
    "        push!(plot_array, plot(p_PSRH, ticks = [], frame = :box, bottom_margin = -3mm))\n",
    "    end\n",
    "end\n",
    "\n",
    "p = plot(plot_array..., layout = grid(n, 3 * 4), size = (250 * 3 * 4, 250 * n))\n",
    "savefig(\"analysis/cancer_leukocytes/dim_0/exclusion_patterns.png\")"
   ]
  },
  {
   "cell_type": "code",
   "execution_count": null,
   "metadata": {
    "hidden": true
   },
   "outputs": [],
   "source": []
  },
  {
   "attachments": {},
   "cell_type": "markdown",
   "metadata": {
    "heading_collapsed": true
   },
   "source": [
    "### plot example PD, PI, PCA coordinates"
   ]
  },
  {
   "cell_type": "code",
   "execution_count": null,
   "metadata": {
    "hidden": true
   },
   "outputs": [],
   "source": [
    "# save index of example points\n",
    "R1 = [144, 168, 13, 389]\n",
    "R2 = [295, 45, 352, 382]\n",
    "R3 = [316, 289, 128, 368]\n",
    "R4 = [54, 227, 283, 138];"
   ]
  },
  {
   "cell_type": "code",
   "execution_count": null,
   "metadata": {
    "hidden": true
   },
   "outputs": [],
   "source": [
    "regions = Dict(\"R1\" => R1, \"R2\"=> R2, \"R3\"=> R3, \"R4\"=> R4)\n",
    "examples = [R1[1], R2[1], R3[1], R4[1]]\n",
    "\n",
    "plot_array = []\n",
    "gr()\n",
    "\n",
    "# get maximum PI pixel value for the selected examples\n",
    "PI_pixel_max = maximum([maximum(PI[i]) for i in examples])\n",
    "for (R_string, R) in regions\n",
    "    for i in R\n",
    "        f = idx_ROI[i]\n",
    "\n",
    "        # plot cancer\n",
    "        df = CSV.read(\"data/4000x4000_combined/subregion_cells/\" * f * \".csv\")\n",
    "        df_cell = df[df.class .== \"cancer\", :]\n",
    "        p_C = scatter(df_cell.x, df_cell.y,\n",
    "                         markersize = 1.5,\n",
    "                         yflip = true,\n",
    "                         label = \"\",\n",
    "                         markerstrokewidth = 0.2,\n",
    "                         frame = :box,\n",
    "                         ticks = [],\n",
    "                        aspect_ratio = :equal,\n",
    "                        size = (150,150),\n",
    "                         c = c_cancer) \n",
    "        \n",
    "        savefig(\"analysis/cancer_leukocytes/dim_0/PCA_coordinates/\" * R_string * \"_\" * string(i) * \"_cancer.svg\")\n",
    "        push!(plot_array, plot(p_C, ticks = [], frame = :box))\n",
    "        \n",
    "        \n",
    "        # plot leukocytes\n",
    "        df = CSV.read(\"data/4000x4000_combined/subregion_cells/\" * f * \".csv\")\n",
    "        df_cell = df[df.class .== \"leukocytes\", :]\n",
    "        p_L = scatter(df_cell.x, df_cell.y,\n",
    "                         markersize = 1.5,\n",
    "                         yflip = true,\n",
    "                         label = \"\",\n",
    "                         markerstrokewidth = 0.2,\n",
    "                         frame = :box,\n",
    "                         ticks = [],\n",
    "                        aspect_ratio = :equal,\n",
    "                        size = (150,150),\n",
    "                         c = c_leukocytes) \n",
    "        \n",
    "        savefig(\"analysis/cancer_leukocytes/dim_0/PCA_coordinates/\" * R_string * \"_\" * string(i) * \"_leukocytes.pdf\")\n",
    "        push!(plot_array, plot(p_L, ticks = [], frame = :box))\n",
    "        \n",
    "        # plot PD\n",
    "        p_PD = plot_PD(PD[i], pd_min = 0, pd_max = PD0_max * plot_scale / 100, lw = 1, \n",
    "            tickfontsize = 9,\n",
    "            labelfontsize = 12,\n",
    "            markersize = 5,\n",
    "            inf_coord = PD0_max,\n",
    "            xlabel = \"birth\", ylabel = \"death\", size = (200,200), \n",
    "            )\n",
    "        savefig(\"analysis/cancer_leukocytes/dim_0/PCA_coordinates/\" * R_string * \"_\" * string(i) * \"_PD.svg\")\n",
    "        push!(plot_array, p_PD)\n",
    "        \n",
    "        \n",
    "        p_PI = plot_PI2(PI[i], xmin, xmax, ymin, ymax, \n",
    "            xlabel = \"birth\",\n",
    "            ylabel = \"persistence\",\n",
    "            x_tick_interval = 400,\n",
    "            y_tick_interval = 400,\n",
    "            show_axis = false,\n",
    "            size = (200, 185),\n",
    "            framestyle = :box,\n",
    "            aspect_ratio = :equal,\n",
    "            legend = :false # no colorbar \n",
    "            )\n",
    "        savefig(\"analysis/cancer_leukocytes/dim_0/PCA_coordinates/\" * R_string * \"_\" * string(i) * \"_PI.svg\")\n",
    "        push!(plot_array, p_PI)\n",
    "\n",
    "        p_coords = plot_scores(transformed[1:4,i]; xtickfontsize = 8, ytickfontsize = 8, coord_label = \"PC\")\n",
    "        p_coords = plot(p_coords, size = (200, 200))\n",
    "        savefig(\"analysis/cancer_leukocytes/dim_0/PCA_coordinates/\" * R_string * \"_\" * string(i) * \"_coords.svg\")\n",
    "        push!(plot_array, p_coords)\n",
    "    end\n",
    "end\n",
    "#p = plot(plot_array..., layout = grid(4,5, widths=[0.20 ,0.20, 0.20, 0.20, 0.20]), size = (1000, 900) )\n",
    "#savefig(\"analysis/cancer_leukocytes/dim_0/PCA_coordinates.png\")"
   ]
  },
  {
   "attachments": {},
   "cell_type": "markdown",
   "metadata": {
    "heading_collapsed": true
   },
   "source": [
    "### Plot: global exclusion vs local exclusion"
   ]
  },
  {
   "cell_type": "code",
   "execution_count": null,
   "metadata": {
    "hidden": true
   },
   "outputs": [],
   "source": [
    "global_idx = [144, 389]\n",
    "local_idx = [316, 289]\n",
    "\n",
    "# plot cancer, leukocytes, PSRH images\n",
    "gr()\n",
    "plot_array = []\n",
    "for idx in global_idx\n",
    "    f = idx_ROI[idx]\n",
    "    df = CSV.read(\"data/4000x4000_combined/subregion_cells/\" * f * \".csv\")\n",
    "\n",
    "    # cancer\n",
    "    df_C = df[df.class .== \"cancer\", :]\n",
    "    p_C = scatter(df_C.x, df_C.y,\n",
    "                     markersize = 1.5,\n",
    "                     yflip = true,\n",
    "                     label = \"\",\n",
    "                     markerstrokewidth = 0.2,\n",
    "                     frame = :box,\n",
    "                     ticks = [],\n",
    "                    aspect_ratio = :equal,\n",
    "                    size = (150,150),\n",
    "                     c = c_cancer,\n",
    "                    right_margin = -4mm) \n",
    "    push!(plot_array, p_C)\n",
    "\n",
    "    # leukocytes\n",
    "    df_L = df[df.class .== \"leukocytes\", :]\n",
    "    p_L = scatter(df_L.x, df_L.y,\n",
    "                     markersize = 1.5,\n",
    "                     yflip = true,\n",
    "                     label = \"\",\n",
    "                     markerstrokewidth = 0.2,\n",
    "                     frame = :box,\n",
    "                     ticks = [],\n",
    "                    aspect_ratio = :equal,\n",
    "                    size = (150,150),\n",
    "                     c = c_leukocytes,\n",
    "                     right_margin = -4mm) \n",
    "    push!(plot_array, p_L)\n",
    "\n",
    "    # plot cancer and leukocytes together\n",
    "    p_both = scatter(df_C.x, df_C.y,\n",
    "                     markersize = 1.5,\n",
    "                     yflip = true,\n",
    "                     label = \"\",\n",
    "                     markerstrokewidth = 0.2,\n",
    "                     frame = :box,\n",
    "                     ticks = [],\n",
    "                    aspect_ratio = :equal,\n",
    "                    size = (150,150),\n",
    "                     c = c_cancer) \n",
    "    scatter!(p_both, df_L.x, df_L.y,\n",
    "                     markersize = 1.5,\n",
    "                     yflip = true,\n",
    "                     label = \"\",\n",
    "                     markerstrokewidth = 0.2,\n",
    "                     frame = :box,\n",
    "                     ticks = [],\n",
    "                    aspect_ratio = :equal,\n",
    "                    size = (150,150),\n",
    "                     c = c_leukocytes)\n",
    "    push!(plot_array,p_both)\n",
    "end\n",
    "\n",
    "p = plot(plot_array..., layout = grid(2, 3), size = (250 * 3, 250 *2))\n",
    "savefig(\"analysis/cancer_leukocytes/dim_0/global_exclusions.png\")"
   ]
  },
  {
   "cell_type": "code",
   "execution_count": null,
   "metadata": {
    "hidden": true
   },
   "outputs": [],
   "source": [
    "global_idx = [144, 389]\n",
    "local_idx = [316, 289]\n",
    "\n",
    "# plot cancer, leukocytes, PSRH images\n",
    "gr()\n",
    "plot_array = []\n",
    "for idx in local_idx\n",
    "    f = idx_ROI[idx]\n",
    "    df = CSV.read(\"data/4000x4000_combined/subregion_cells/\" * f * \".csv\")\n",
    "\n",
    "    # cancer\n",
    "    df_C = df[df.class .== \"cancer\", :]\n",
    "    p_C = scatter(df_C.x, df_C.y,\n",
    "                     markersize = 1.5,\n",
    "                     yflip = true,\n",
    "                     label = \"\",\n",
    "                     markerstrokewidth = 0.2,\n",
    "                     frame = :box,\n",
    "                     ticks = [],\n",
    "                    aspect_ratio = :equal,\n",
    "                    size = (150,150),\n",
    "                     c = c_cancer,\n",
    "                    right_margin = -4mm) \n",
    "    push!(plot_array, p_C)\n",
    "\n",
    "    # leukocytes\n",
    "    df_L = df[df.class .== \"leukocytes\", :]\n",
    "    p_L = scatter(df_L.x, df_L.y,\n",
    "                     markersize = 1.5,\n",
    "                     yflip = true,\n",
    "                     label = \"\",\n",
    "                     markerstrokewidth = 0.2,\n",
    "                     frame = :box,\n",
    "                     ticks = [],\n",
    "                    aspect_ratio = :equal,\n",
    "                    size = (150,150),\n",
    "                     c = c_leukocytes,\n",
    "                     right_margin = -4mm) \n",
    "    push!(plot_array, p_L)\n",
    "\n",
    "    # plot cancer and leukocytes together\n",
    "    p_both = scatter(df_C.x, df_C.y,\n",
    "                     markersize = 1.5,\n",
    "                     yflip = true,\n",
    "                     label = \"\",\n",
    "                     markerstrokewidth = 0.2,\n",
    "                     frame = :box,\n",
    "                     ticks = [],\n",
    "                    aspect_ratio = :equal,\n",
    "                    size = (150,150),\n",
    "                     c = c_cancer) \n",
    "    scatter!(p_both, df_L.x, df_L.y,\n",
    "                     markersize = 1.5,\n",
    "                     yflip = true,\n",
    "                     label = \"\",\n",
    "                     markerstrokewidth = 0.2,\n",
    "                     frame = :box,\n",
    "                     ticks = [],\n",
    "                    aspect_ratio = :equal,\n",
    "                    size = (150,150),\n",
    "                     c = c_leukocytes)\n",
    "    push!(plot_array,p_both)\n",
    "end\n",
    "\n",
    "p = plot(plot_array..., layout = grid(2, 3), size = (250 * 3, 250 *2))\n",
    "savefig(\"analysis/cancer_leukocytes/dim_0/local_exclusions.png\")"
   ]
  },
  {
   "attachments": {},
   "cell_type": "markdown",
   "metadata": {
    "heading_collapsed": true
   },
   "source": [
    "### images with high and low PCs"
   ]
  },
  {
   "cell_type": "code",
   "execution_count": null,
   "metadata": {
    "hidden": true
   },
   "outputs": [],
   "source": [
    "for i = 1:4\n",
    "    min_indices, max_indices = get_coordinate_min_max_examples(transformed, i)\n",
    "    plot_low_high_PC_cancer_leukocytes_PSRH(min_indices, max_indices, idx_ROI, \"analysis/cancer_leukocytes/dim_0/PCA_coordinates/PC\" * string(i) * \"_examples.png\")\n",
    "end"
   ]
  },
  {
   "attachments": {},
   "cell_type": "markdown",
   "metadata": {
    "hidden": true
   },
   "source": [
    "Plot example ROIs with high and low PC with \"close to 0\" coordinates for other PC"
   ]
  },
  {
   "cell_type": "code",
   "execution_count": null,
   "metadata": {
    "hidden": true
   },
   "outputs": [],
   "source": [
    "plot_array = []\n",
    "for i = 1:4\n",
    "    p = histogram(transformed[i,:], label = \"\", title = \"PC \" * string(i))\n",
    "    push!(plot_array, p)\n",
    "end\n",
    "plot(plot_array..., layout = grid(2,2), size = (800, 500))"
   ]
  },
  {
   "cell_type": "code",
   "execution_count": null,
   "metadata": {
    "hidden": true
   },
   "outputs": [],
   "source": [
    "thresholds = [0.0005, 0.0002, 0.00005, 0.00008]\n",
    "small_1, large_1 = get_small_large_coordinate_examples(transformed, 1, thresholds; n_coordinates = 4 )\n",
    "small_2, large_2 = get_small_large_coordinate_examples(transformed, 2, thresholds; n_coordinates = 4 )\n",
    "small_3, large_3 = get_small_large_coordinate_examples(transformed, 3, thresholds; n_coordinates = 4 )\n",
    "small_4, large_4 = get_small_large_coordinate_examples(transformed, 4, thresholds; n_coordinates = 4 );"
   ]
  },
  {
   "cell_type": "code",
   "execution_count": null,
   "metadata": {
    "hidden": true
   },
   "outputs": [],
   "source": [
    "plot_low_high_PC_cancer_leukocytes_PSRH(small_1, large_1, idx_ROI, \"analysis/cancer_leukocytes/dim_0/PCA_coordinates/PC1_examples_controlled.png\")\n",
    "plot_low_high_PC_cancer_leukocytes_PSRH(small_2, large_2, idx_ROI, \"analysis/cancer_leukocytes/dim_0/PCA_coordinates/PC2_examples_controlled.png\")\n",
    "plot_low_high_PC_cancer_leukocytes_PSRH(small_3, large_3, idx_ROI, \"analysis/cancer_leukocytes/dim_0/PCA_coordinates/PC3_examples_controlled.png\")\n",
    "plot_low_high_PC_cancer_leukocytes_PSRH(small_4, large_4, idx_ROI, \"analysis/cancer_leukocytes/dim_0/PCA_coordinates/PC4_examples_controlled.png\")"
   ]
  },
  {
   "attachments": {},
   "cell_type": "markdown",
   "metadata": {},
   "source": [
    "### Persistence vector"
   ]
  },
  {
   "cell_type": "code",
   "execution_count": null,
   "metadata": {},
   "outputs": [],
   "source": [
    "PD0_new = Dict(i => PD0[idx_ROI[i]] for i = 1:length(idx_ROI));\n",
    "PD0_persistence = Dict(i => reverse(sort(PD0_new[i][:,2] - PD0_new[i][:,1])) for i in keys(PD0_new))\n",
    "\n",
    "l = minimum([length(PD0_persistence[i]) for i in keys(PD0_persistence)])\n",
    "PD0_persistence = Dict(i => PD0_persistence[i][2:l] for i in keys(PD0_persistence));"
   ]
  },
  {
   "cell_type": "code",
   "execution_count": null,
   "metadata": {},
   "outputs": [],
   "source": [
    "# subtract the mean\n",
    "n = length(PD0_persistence)\n",
    "PI_array = hcat([vec(PD0_persistence[i]) for i =1:n]...)\n",
    "PI_centered = PI_array .- mean(PI_array, dims = 2)\n",
    "embedding = umap(PI_centered, 2; n_neighbors = 5);"
   ]
  },
  {
   "cell_type": "code",
   "execution_count": null,
   "metadata": {},
   "outputs": [],
   "source": [
    "#writedlm(\"analysis/cancer_leukocytes/dim_0/persistence_vectors/umap.csv\", embedding, \",\")\n",
    "#y = embedding = readdlm(\"analysis/cancer_leukocytes/dim_0/persistence_vectors/umap.csv\", ',');"
   ]
  },
  {
   "cell_type": "code",
   "execution_count": null,
   "metadata": {},
   "outputs": [],
   "source": [
    "plotly()\n",
    "n = size(embedding, 2)\n",
    "p = scatter(embedding[1,:], embedding[2,:], \n",
    "        markercolor = \"slategrey\",\n",
    "        markersize = 5, \n",
    "        label = \"\", \n",
    "        xticks = [], \n",
    "        yticks = [], \n",
    "        framestyle = :box,  \n",
    "        xlabel = \"UMAP-1\",\n",
    "        ylabel = \"UMAP-2\",\n",
    "        guidefontsize = 15,\n",
    "        leftmargin = 5mm,\n",
    "        size = (450, 350),\n",
    "        hover = 1:n,\n",
    "        legend = :topright)"
   ]
  },
  {
   "cell_type": "code",
   "execution_count": null,
   "metadata": {},
   "outputs": [],
   "source": [
    "U1 = [187, 69, 210, 175]\n",
    "U2 = [353, 111, 341, 52]\n",
    "U3 = [254, 352, 236, 276]\n",
    "U4 = [334, 202, 177, 23]"
   ]
  },
  {
   "cell_type": "code",
   "execution_count": null,
   "metadata": {},
   "outputs": [],
   "source": [
    "# plot with regions\n",
    "gr()\n",
    "\n",
    "# load PCA\n",
    "y = embedding\n",
    "markersize = 3\n",
    "legendfontsize = 5\n",
    "n = size(y, 2)\n",
    "annotated = vcat(U1, U2, U3, U4)\n",
    "nonannotated = [i for i = 1:size(y, 2) if i ∉ annotated]\n",
    "p = scatter(y[1,nonannotated], y[2,nonannotated], \n",
    "        markercolor = \"lightgray\",\n",
    "        alpha = 0.6,\n",
    "        markersize = markersize, \n",
    "        markerstrokewidth = 3,\n",
    "        label = \"\", \n",
    "        xaxis = \"UMAP-1\",\n",
    "        yaxis = \"UMAP-2\",\n",
    "        #xtickfontsize = 15,\n",
    "        #ytickfontsize = 15,\n",
    "        #xrotation = 45,\n",
    "        ticks = [],\n",
    "        guidefontsize = 7,\n",
    "        framestyle = :box,\n",
    "        size = (200, 150),\n",
    "        #leftmargin = 2mm,\n",
    "        legend = :bottomright\n",
    "        #background_color=:transparent, foreground_color=:black,\n",
    "        )\n",
    "scatter!(y[1,U1], y[2,U1], markersize = markersize, markershape = :rect, markercolor = c1, labels = \"U1\", legendfontsize = legendfontsize)\n",
    "scatter!(y[1,U2], y[2,U2], markersize = markersize, markershape = :utriangle, markercolor = c2, labels = \"U2\")\n",
    "scatter!(y[1,U3], y[2,U3], markersize = markersize, markershape = :star, markercolor = c3, labels = \"U3\")\n",
    "scatter!(y[1,U4], y[2,U4], markersize = markersize, markershape = :diamond, markercolor = c4, labels = \"U4\")\n",
    "#savefig(\"analysis/cancer_leukocytes/dim_0/persistence_vectors/umap.pdf\")\n",
    "plot(p)"
   ]
  },
  {
   "cell_type": "code",
   "execution_count": null,
   "metadata": {},
   "outputs": [],
   "source": [
    "# plot cancer, leukocytes, PSRH images\n",
    "regions = Dict(1 => U1, 2=> U2, 3=> U3, 4=> U4)\n",
    "gr()\n",
    "plot_array = []\n",
    "n = length(regions)\n",
    "for i=1:n\n",
    "    R = regions[i]\n",
    "    for idx in R\n",
    "        f = idx_ROI[idx]\n",
    "        \n",
    "        # cancer\n",
    "        df = CSV.read(\"data/4000x4000_combined/subregion_cells/\" * f * \".csv\")\n",
    "        df_cell = df[df.class .== \"cancer\", :]\n",
    "        p_C = scatter(df_cell.x, df_cell.y,\n",
    "                         markersize = 1.5,\n",
    "                         yflip = true,\n",
    "                         label = \"\",\n",
    "                         markerstrokewidth = 0.2,\n",
    "                         frame = :box,\n",
    "                         ticks = [],\n",
    "                        aspect_ratio = :equal,\n",
    "                        size = (150,150),\n",
    "                         c = c_cancer) \n",
    "        push!(plot_array, p_C)\n",
    "        \n",
    "        # leukocytes\n",
    "        df = CSV.read(\"data/4000x4000_combined/subregion_cells/\" * f * \".csv\")\n",
    "        df_cell = df[df.class .== \"leukocytes\", :]\n",
    "        p_L = scatter(df_cell.x, df_cell.y,\n",
    "                         markersize = 1.5,\n",
    "                         yflip = true,\n",
    "                         label = \"\",\n",
    "                         markerstrokewidth = 0.2,\n",
    "                         frame = :box,\n",
    "                         ticks = [],\n",
    "                        aspect_ratio = :equal,\n",
    "                        size = (150,150),\n",
    "                         c = c_leukocytes) \n",
    "        push!(plot_array, p_L)\n",
    "        \n",
    "        # PSRH\n",
    "        p_PSRH = Images.load(\"data/4000x4000_combined/PSRH/\" * f * \".tif\")\n",
    "        push!(plot_array, plot(p_PSRH, ticks = [], frame = :box, bottom_margin = -3mm))\n",
    "    end\n",
    "end\n"
   ]
  },
  {
   "cell_type": "code",
   "execution_count": null,
   "metadata": {},
   "outputs": [],
   "source": [
    "\n",
    "p = plot(plot_array..., layout = grid(n, 4 * 3), size = (250 * 4 * 3, 250 * n))\n",
    "savefig(\"analysis/cancer_leukocytes/dim_0/persistence_vectors/UMAP_examples.png\")"
   ]
  },
  {
   "attachments": {},
   "cell_type": "markdown",
   "metadata": {},
   "source": [
    "#### PCA"
   ]
  },
  {
   "cell_type": "code",
   "execution_count": null,
   "metadata": {},
   "outputs": [],
   "source": [
    "# subtract the mean\n",
    "n = length(PD0_persistence)\n",
    "PI_array = hcat([vec(PD0_persistence[i]) for i =1:n]...)\n",
    "PI_centered = PI_array .- mean(PI_array, dims = 2);"
   ]
  },
  {
   "cell_type": "code",
   "execution_count": null,
   "metadata": {},
   "outputs": [],
   "source": [
    "# compute PCA\n",
    "pratio = 0.99\n",
    "# variance explained with 1 component\n",
    "M = fit(PCA, PI_centered, maxoutdim = 1)\n",
    "transformed = MultivariateStats.transform(M, PI_centered)\n",
    "variance_1 = principalratio(M)\n",
    "\n",
    "# variance explained with 2 components\n",
    "M = fit(PCA, PI_centered, maxoutdim = 2)\n",
    "transformed = MultivariateStats.transform(M, PI_centered)\n",
    "variance_2 = principalratio(M)\n",
    "\n",
    "# variance explained with 4 components\n",
    "M = fit(PCA, PI_centered, maxoutdim = 4)\n",
    "transformed = MultivariateStats.transform(M, PI_centered)\n",
    "variance_4 = principalratio(M)\n",
    "\n",
    "# perform PCA\n",
    "M = fit(PCA, PI_centered, pratio = pratio)\n",
    "transformed = MultivariateStats.transform(M, PI_centered)\n",
    "\n",
    "# get eigenvectors\n",
    "n_eigenvectors = size(transformed, 1)\n",
    "eigenvectors_array = projection(M)\n",
    "eigenvectors = Dict(i => eigenvectors_array[:,i] for i = 1:n_eigenvectors)\n",
    "\n",
    "save(\"analysis/cancer_leukocytes/dim_0/persistence_vectors/PCA.jld2\",\n",
    "    \"transformed\", transformed,\n",
    "    \"eigenvectors\", eigenvectors,\n",
    "    \"variance_1\", variance_1,\n",
    "    \"variance_2\", variance_2)\n",
    "\n",
    "println(\"number of components: \", length(eigenvectors))\n",
    "println(\"variance explained by 1 eigenvectors: \", variance_1)\n",
    "println(\"variance explained by 2 eigenvectors: \", variance_2)\n",
    "println(\"variance difference between 2 and 1:\", variance_2 - variance_1)"
   ]
  },
  {
   "cell_type": "code",
   "execution_count": null,
   "metadata": {},
   "outputs": [],
   "source": [
    "plotly()\n",
    "y = transformed\n",
    "n = size(y, 2)\n",
    "p = scatter(y[1,:], y[2,:], \n",
    "        markercolor = \"slategrey\",\n",
    "        markersize = 5, \n",
    "        label = \"\", \n",
    "        xticks = [], \n",
    "        yticks = [], \n",
    "        framestyle = :box,  \n",
    "        guidefontsize = 15,\n",
    "        leftmargin = 5mm,\n",
    "        size = (450, 350),\n",
    "        hover = 1:n,\n",
    "        legend = :topright)"
   ]
  },
  {
   "cell_type": "code",
   "execution_count": null,
   "metadata": {},
   "outputs": [],
   "source": [
    "R1 =  [129, 134, 24, 184]\n",
    "R2 = [178, 47, 26, 342]\n",
    "R3 = [109, 384, 96, 66]\n",
    "R4 = [350, 168, 266, 122];"
   ]
  },
  {
   "cell_type": "code",
   "execution_count": null,
   "metadata": {},
   "outputs": [],
   "source": [
    "# plot with regions\n",
    "gr()\n",
    "\n",
    "# load PCA\n",
    "y = load(\"analysis/cancer_leukocytes/dim_0/persistence_vectors/PCA.jld2\")[\"transformed\"]\n",
    "\n",
    "markersize = 3\n",
    "legendfontsize = 5\n",
    "n = size(y, 2)\n",
    "annotated = vcat(R1, R2, R3, R4)\n",
    "nonannotated = [i for i = 1:size(y, 2) if i ∉ annotated]\n",
    "p = scatter(y[1,nonannotated], y[2,nonannotated], \n",
    "        markercolor = \"lightgray\",\n",
    "        alpha = 0.6,\n",
    "        markersize = markersize, \n",
    "        markerstrokewidth = 3,\n",
    "        label = \"\", \n",
    "        xaxis = \"PC1 (58%)\",\n",
    "        yaxis = \"PC2 (24%)\",\n",
    "        #xtickfontsize = 15,\n",
    "        #ytickfontsize = 15,\n",
    "        #xrotation = 45,\n",
    "        xticks = (0, 0),\n",
    "        yticks = (0,0),\n",
    "        guidefontsize = 7,\n",
    "        framestyle = :box,\n",
    "        size = (200, 150),\n",
    "        #leftmargin = 2mm,\n",
    "        legend = :bottomleft\n",
    "        #background_color=:transparent, foreground_color=:black,\n",
    "        )\n",
    "scatter!(y[1,R1], y[2,R1], label = \"\", markersize = markersize, markershape = :rect, markercolor = c1, labels = \"R1\", legendfontsize = legendfontsize)\n",
    "scatter!(y[1,R2], y[2,R2], label = \"\", markersize = markersize, markershape = :utriangle, markercolor = c2, labels = \"R2\")\n",
    "scatter!(y[1,R3], y[2,R3], label = \"\", markersize = markersize, markershape = :star, markercolor = c3, labels = \"R3\")\n",
    "scatter!(y[1,R4], y[2,R4], label = \"\", markersize = markersize, markershape = :diamond, markercolor = c4, labels = \"R4\")\n",
    "savefig(\"analysis/cancer_leukocytes/dim_0/persistence_vectors/PCA.pdf\")\n",
    "plot(p)"
   ]
  },
  {
   "cell_type": "code",
   "execution_count": null,
   "metadata": {},
   "outputs": [],
   "source": [
    "# plot cancer, leukocytes, PSRH images\n",
    "regions = Dict(1 => R1, 2=> R2, 3=> R3, 4=> R4)\n",
    "gr()\n",
    "plot_array = []\n",
    "n = length(regions)\n",
    "for i=1:n\n",
    "    R = regions[i]\n",
    "    for idx in R\n",
    "        f = idx_ROI[idx]\n",
    "        \n",
    "        # cancer\n",
    "        df = CSV.read(\"data/4000x4000_combined/subregion_cells/\" * f * \".csv\")\n",
    "        df_cell = df[df.class .== \"cancer\", :]\n",
    "        p_C = scatter(df_cell.x, df_cell.y,\n",
    "                         markersize = 1.5,\n",
    "                         yflip = true,\n",
    "                         label = \"\",\n",
    "                         markerstrokewidth = 0.2,\n",
    "                         frame = :box,\n",
    "                         ticks = [],\n",
    "                        aspect_ratio = :equal,\n",
    "                        size = (150,150),\n",
    "                         c = c_cancer) \n",
    "        push!(plot_array, p_C)\n",
    "        \n",
    "        # leukocytes\n",
    "        df = CSV.read(\"data/4000x4000_combined/subregion_cells/\" * f * \".csv\")\n",
    "        df_cell = df[df.class .== \"leukocytes\", :]\n",
    "        p_L = scatter(df_cell.x, df_cell.y,\n",
    "                         markersize = 1.5,\n",
    "                         yflip = true,\n",
    "                         label = \"\",\n",
    "                         markerstrokewidth = 0.2,\n",
    "                         frame = :box,\n",
    "                         ticks = [],\n",
    "                        aspect_ratio = :equal,\n",
    "                        size = (150,150),\n",
    "                         c = c_leukocytes) \n",
    "        push!(plot_array, p_L)\n",
    "        \n",
    "        # PSRH\n",
    "        p_PSRH = Images.load(\"data/4000x4000_combined/PSRH/\" * f * \".tif\")\n",
    "        push!(plot_array, plot(p_PSRH, ticks = [], frame = :box, bottom_margin = -3mm))\n",
    "    end\n",
    "end\n"
   ]
  },
  {
   "cell_type": "code",
   "execution_count": null,
   "metadata": {},
   "outputs": [],
   "source": [
    "p = plot(plot_array..., layout = grid(n, 4 * 3), size = (250 * 4 * 3, 250 * n))\n",
    "savefig(\"analysis/cancer_leukocytes/dim_0/persistence_vectors/PCA_examples.png\")"
   ]
  },
  {
   "attachments": {},
   "cell_type": "markdown",
   "metadata": {
    "heading_collapsed": true
   },
   "source": [
    "## analysis: dim 1"
   ]
  },
  {
   "cell_type": "code",
   "execution_count": null,
   "metadata": {
    "hidden": true
   },
   "outputs": [],
   "source": [
    "ROIs = collect(keys(PI1))\n",
    "idx_ROI = Dict(i => roi for (i, roi) in enumerate(ROIs))\n",
    "n = length(ROIs)\n",
    "\n",
    "# create new PI1 with integers as keys\n",
    "PI = Dict(i => PI1[ROIs[i]] for i=1:n);\n",
    "PD = Dict(i => PD1[ROIs[i]] for i = 1:n);\n",
    "\n",
    "# save index\n",
    "\n",
    "# save(\"analysis/cancer_leukocytes/dim_1/data.jld2\",\n",
    "#    \"idx_ROI\", idx_ROI,\n",
    "#    \"PI\", PI,\n",
    "#    \"PD\", PD);\n"
   ]
  },
  {
   "cell_type": "code",
   "execution_count": null,
   "metadata": {},
   "outputs": [],
   "source": [
    "# load PI, index\n",
    "data = load(\"analysis/cancer_leukocytes/dim_1/data.jld2\")\n",
    "idx_ROI = data[\"idx_ROI\"]\n",
    "n = length(idx_ROI)\n",
    "PI = Dict(i => PI1[idx_ROI[i]] for i=1:n);\n",
    "PD = Dict(i => PD1[idx_ROI[i]] for i = 1:n);\n",
    "\n",
    "ROI_idx = Dict(v => k for (k,v) in idx_ROI);"
   ]
  },
  {
   "attachments": {},
   "cell_type": "markdown",
   "metadata": {
    "hidden": true
   },
   "source": [
    "### UMAP"
   ]
  },
  {
   "cell_type": "code",
   "execution_count": null,
   "metadata": {},
   "outputs": [],
   "source": [
    "Random.seed!(10)\n",
    "PI_centered = center_PI(PI);\n",
    "embedding = umap(PI_centered, 2; n_neighbors = 5);"
   ]
  },
  {
   "cell_type": "code",
   "execution_count": null,
   "metadata": {},
   "outputs": [],
   "source": [
    "#writedlm(\"analysis/cancer_leukocytes/dim_1/umap.csv\", embedding, \",\")\n",
    "y = embedding = readdlm(\"analysis/cancer_leukocytes/dim_1/umap.csv\", ',');"
   ]
  },
  {
   "cell_type": "code",
   "execution_count": null,
   "metadata": {},
   "outputs": [],
   "source": [
    "gr()\n",
    "n = size(embedding, 2)\n",
    "p = scatter(embedding[1,:], embedding[2,:], \n",
    "        markercolor = \"slategrey\",\n",
    "        markersize = 5, \n",
    "        label = \"\", \n",
    "        xticks = [], \n",
    "        yticks = [], \n",
    "        framestyle = :box,  \n",
    "        xlabel = \"UMAP-1\",\n",
    "        ylabel = \"UMAP-2\",\n",
    "        guidefontsize = 15,\n",
    "        leftmargin = 5mm,\n",
    "        size = (450, 350),\n",
    "        hover = 1:n,\n",
    "        legend = :topright)\n",
    "#savefig(\"analysis/cancer_leukocytes/dim_1/umap.pdf\")\n",
    "plot(p)"
   ]
  },
  {
   "attachments": {},
   "cell_type": "markdown",
   "metadata": {
    "hidden": true
   },
   "source": [
    "### PCA"
   ]
  },
  {
   "cell_type": "code",
   "execution_count": null,
   "metadata": {},
   "outputs": [],
   "source": [
    "# compute PCA\n",
    "transformed, eigenvectors, variance_1, variance_2, _ = PI_to_PCA2(PI; pratio = 0.99)\n",
    "\n",
    "# save(\"analysis/cancer_leukocytes/dim_1/PCA.jld2\",\n",
    "#     \"transformed\", transformed,\n",
    "#     \"eigenvectors\", eigenvectors,\n",
    "#     \"variance_1\", variance_1,\n",
    "#     \"variance_2\", variance_2)"
   ]
  },
  {
   "cell_type": "code",
   "execution_count": null,
   "metadata": {},
   "outputs": [],
   "source": [
    "# load\n",
    "data = load(\"analysis/cancer_leukocytes/dim_1/PCA.jld2\")\n",
    "transformed = data[\"transformed\"]\n",
    "eigenvectors = data[\"eigenvectors\"]\n",
    "variance_1 = data[\"variance_1\"]\n",
    "variance_2 = data[\"variance_2\"]\n",
    "\n",
    "println(\"number of components: \", length(eigenvectors))\n",
    "println(\"variance explained by 1 eigenvectors: \", variance_1)\n",
    "println(\"variance explained by 2 eigenvectors: \", variance_2)\n",
    "println(\"variance difference between 2 and 1:\", variance_2 - variance_1)"
   ]
  },
  {
   "cell_type": "code",
   "execution_count": null,
   "metadata": {},
   "outputs": [],
   "source": [
    "gr()\n",
    "p = scatter(transformed[1,:], transformed[2,:], \n",
    "        label = \"\", \n",
    "        hover = collect(1:size(transformed, 2)),\n",
    "        frame = :box,\n",
    "        c = :slategrey,\n",
    "        ticks = [])\n",
    "#savefig(\"analysis/cancer_leukocytes/dim_1/pca.pdf\")\n",
    "plot(p)"
   ]
  },
  {
   "cell_type": "code",
   "execution_count": null,
   "metadata": {
    "hidden": true,
    "scrolled": true
   },
   "outputs": [],
   "source": [
    "plotly()\n",
    "\n",
    "p = scatter(transformed[1,:], transformed[2,:], \n",
    "        label = \"\", \n",
    "        hover = collect(1:size(transformed, 2)),\n",
    "        frame = :box,\n",
    "        c = :slategrey,\n",
    "        ticks = [])\n",
    "#savefig(\"analysis/\" * systems * \"/dim_1/pca.svg\")\n",
    "plot(p)"
   ]
  },
  {
   "cell_type": "code",
   "execution_count": null,
   "metadata": {
    "hidden": true
   },
   "outputs": [],
   "source": [
    "# save index of example points\n",
    "R1 = [295, 182, 45, 26]\n",
    "R2 = [71, 148, 55, 132]\n",
    "R3 = [138, 31, 254, 335]\n",
    "R4 = [153, 226, 28, 19]\n"
   ]
  },
  {
   "cell_type": "code",
   "execution_count": null,
   "metadata": {
    "hidden": true
   },
   "outputs": [],
   "source": [
    "ROI_idx = Dict(v => k for (k,v) in idx_ROI)"
   ]
  },
  {
   "cell_type": "code",
   "execution_count": null,
   "metadata": {
    "hidden": true
   },
   "outputs": [],
   "source": [
    "ROI_"
   ]
  },
  {
   "cell_type": "code",
   "execution_count": null,
   "metadata": {
    "hidden": true
   },
   "outputs": [],
   "source": [
    "# test \n",
    "R1 = [ROI_idx[\"LTX221_Da505_idx1\"], ROI_idx[\"LTX221_Da505_idx2\"], ROI_idx[\"LTX221_Da505_idx3\"], ROI_idx[\"LTX221_Da2892_idx1\"]]\n",
    "R2 = [ROI_idx[\"LTX013_Da153_idx3\"], ROI_idx[\"LTX013_Da153_idx2\"], ROI_idx[\"LTX013_Da153_idx1\"], ROI_idx[\"LTX013_Da154_idx3\"]]\n",
    "R3 = []"
   ]
  },
  {
   "cell_type": "code",
   "execution_count": null,
   "metadata": {
    "hidden": true
   },
   "outputs": [],
   "source": [
    "# plot with regions\n",
    "gr()\n",
    "\n",
    "# load PCA\n",
    "#y = load(\"analysis/cancer_leukocytes/dim_1/PCA.jld2\")[\"transformed\"]\n",
    "y= transformed\n",
    "markersize = 3\n",
    "legendfontsize = 5\n",
    "n = size(y, 2)\n",
    "annotated = vcat(R1, R2, R3, R4)\n",
    "nonannotated = [i for i = 1:size(y, 2) if i ∉ annotated]\n",
    "p = scatter(y[1,nonannotated], y[2,nonannotated], \n",
    "        markercolor = \"lightgray\",\n",
    "        alpha = 0.6,\n",
    "        markersize = markersize, \n",
    "        markerstrokewidth = 3,\n",
    "        label = \"\", \n",
    "        xaxis = \"PC1 (83%)\",\n",
    "        yaxis = \"PC2 (8%)\",\n",
    "        #xtickfontsize = 15,\n",
    "        #ytickfontsize = 15,\n",
    "        #xrotation = 45,\n",
    "        ticks = [],\n",
    "        guidefontsize = 7,\n",
    "        framestyle = :box,\n",
    "        size = (200, 150),\n",
    "        #leftmargin = 2mm,\n",
    "        legend = :topright\n",
    "        #background_color=:transparent, foreground_color=:black,\n",
    "        )\n",
    "scatter!(y[1,R1], y[2,R1], label = \"\", markersize = markersize, markershape = :rect, markercolor = c1, labels = \"R1\", legendfontsize = legendfontsize)\n",
    "scatter!(y[1,R2], y[2,R2], label = \"\", markersize = markersize, markershape = :utriangle, markercolor = c2, labels = \"R2\")\n",
    "scatter!(y[1,R3], y[2,R3], label = \"\", markersize = markersize, markershape = :star, markercolor = c3, labels = \"R3\")\n",
    "scatter!(y[1,R4], y[2,R4], label = \"\", markersize = markersize, markershape = :diamond, markercolor = c4, labels = \"R4\")\n",
    "savefig(\"analysis/cancer_leukocytes/dim_1/pca.pdf\")\n",
    "plot(p)"
   ]
  },
  {
   "cell_type": "code",
   "execution_count": null,
   "metadata": {
    "hidden": true
   },
   "outputs": [],
   "source": [
    "# plot cancer, leukocytes, PSRH images\n",
    "regions = Dict(1 => R1, 2=> R2, 3=> R3, 4=> R4)\n",
    "gr()\n",
    "plot_array = []\n",
    "n = length(regions)\n",
    "for i=1:n\n",
    "    R = regions[i]\n",
    "    for idx in R\n",
    "        f = idx_ROI[idx]\n",
    "        \n",
    "        # cancer\n",
    "        df = CSV.read(\"data/4000x4000_combined/subregion_cells/\" * f * \".csv\")\n",
    "        df_cell = df[df.class .== \"cancer\", :]\n",
    "        p_C = scatter(df_cell.x, df_cell.y,\n",
    "                         markersize = 1.5,\n",
    "                         yflip = true,\n",
    "                         label = \"\",\n",
    "                         markerstrokewidth = 0.2,\n",
    "                         frame = :box,\n",
    "                         ticks = [],\n",
    "                        aspect_ratio = :equal,\n",
    "                        size = (150,150),\n",
    "                         c = c_cancer) \n",
    "        push!(plot_array, p_C)\n",
    "        \n",
    "        # leukocytes\n",
    "        df = CSV.read(\"data/4000x4000_combined/subregion_cells/\" * f * \".csv\")\n",
    "        df_cell = df[df.class .== \"leukocytes\", :]\n",
    "        p_L = scatter(df_cell.x, df_cell.y,\n",
    "                         markersize = 1.5,\n",
    "                         yflip = true,\n",
    "                         label = \"\",\n",
    "                         markerstrokewidth = 0.2,\n",
    "                         frame = :box,\n",
    "                         ticks = [],\n",
    "                        aspect_ratio = :equal,\n",
    "                        size = (150,150),\n",
    "                         c = c_leukocytes) \n",
    "        push!(plot_array, p_L)\n",
    "        \n",
    "        # PSRH\n",
    "        p_PSRH = Images.load(\"data/4000x4000_combined/PSRH/\" * f * \".tif\")\n",
    "        push!(plot_array, plot(p_PSRH, ticks = [], frame = :box, bottom_margin = -3mm))\n",
    "    end\n",
    "end\n",
    "\n",
    "p = plot(plot_array..., layout = grid(n, 3 * 4), size = (250 * 3 * 4, 250 * n))\n",
    "savefig(\"analysis/cancer_leukocytes/dim_1/PCA_examples.png\")"
   ]
  },
  {
   "cell_type": "code",
   "execution_count": null,
   "metadata": {
    "hidden": true,
    "scrolled": true
   },
   "outputs": [],
   "source": [
    "# plot with regions\n",
    "gr()\n",
    "\n",
    "y = transformed\n",
    "markersize = 10\n",
    "legendfontsize = 15\n",
    "example_idx = vcat([R1, R2, R3, R4]...)\n",
    "n = size(y, 2)\n",
    "non_example = [i for i = 1:n if i ∉ example_idx]\n",
    "p = scatter(y[1,non_example], y[2,non_example], \n",
    "        markercolor = \"slategrey\",\n",
    "        markersize = 5, \n",
    "       label = \"\", xticks = [], yticks = [], framestyle = :box,  \n",
    "        background_color=:transparent, foreground_color=:black)\n",
    "scatter!(y[1,R1], y[2,R1], label = \"\", markersize = markersize, markershape = :rect, markercolor = c1, labels = \"R1\", legendfontsize = legendfontsize)\n",
    "scatter!(y[1,R2], y[2,R2], label = \"\", markersize = 15, markershape = :utriangle, markercolor = c2, labels = \"R2\")\n",
    "scatter!(y[1,R3], y[2,R3], label = \"\", markersize = 15, markershape = :star, markercolor = c3, labels = \"R3\")\n",
    "scatter!(y[1,R4], y[2,R4], label = \"\", markersize = 15, markershape = :diamond, markercolor = c4, labels = \"R4\")\n",
    "#savefig(\"analysis/\" * systems * \"/dim_1/pca_annotated.svg\")\n",
    "plot(p)"
   ]
  },
  {
   "cell_type": "code",
   "execution_count": null,
   "metadata": {
    "hidden": true
   },
   "outputs": [],
   "source": [
    "# plot and save example regions\n",
    "for (R_key, R_val) in regions\n",
    "\n",
    "    plot_array = []\n",
    "    for idx in R_val\n",
    "        p1, p2, p3, p4, p5, p6 = plot_Dowker_profile_cells(nonempty_keys_to_original, idx_file, idx, PD1, PI1, PD1_max, \"cancer\", \"leukocytes\", c_cancer, c_leukocytes)\n",
    "        append!(plot_array, [p1, p2, p3, p4, p5, p6])\n",
    "    end\n",
    "    p = plot(plot_array..., layout = grid(4,6), size = (1200, 800))\n",
    "    savefig(\"analysis/\" * systems * \"/dim_1/example_\" * R_key * \".svg\")\n",
    "end"
   ]
  },
  {
   "cell_type": "code",
   "execution_count": null,
   "metadata": {
    "hidden": true
   },
   "outputs": [],
   "source": [
    "# plot eigenvectors\n",
    "\n",
    "gr()\n",
    "plot_array = []\n",
    "n_eigenvectors = 4\n",
    "\n",
    "for i =1:n_eigenvectors\n",
    "    p = plot(heatmap(eigenvectors[i]), title = \"eigenvector \"* string(i), label = \"\")\n",
    "    push!(plot_array, p)\n",
    "end\n",
    "p = plot(plot_array..., layout = (n_eigenvectors, 1), size = (300, 200 * n_eigenvectors), background_color=:transparent, foreground_color=:black)\n",
    "savefig(\"analysis/\" * systems * \"/dim_1/eigenvectors.svg\")\n"
   ]
  },
  {
   "cell_type": "code",
   "execution_count": null,
   "metadata": {
    "hidden": true
   },
   "outputs": [],
   "source": [
    "# plot histogram of the coordinates of the eigenvectors\n",
    "plot_array = []\n",
    "n_eigenvectors = 4\n",
    "for i = 1:n_eigenvectors\n",
    "    p = histogram(transformed[i,:], label = \"\")\n",
    "    push!(plot_array, p)\n",
    "end\n",
    "plot(plot_array..., size = (900, 200))\n"
   ]
  },
  {
   "cell_type": "code",
   "execution_count": null,
   "metadata": {
    "hidden": true
   },
   "outputs": [],
   "source": [
    "# decide on threshold for selecting example images with high and low coordinates\n",
    "\n",
    "thresholds = Dict()\n",
    "t = 0.5\n",
    "for i =1:n_eigenvectors\n",
    "   thresholds[i] = quantile!(transformed[i,:], t) \n",
    "end"
   ]
  },
  {
   "cell_type": "code",
   "execution_count": null,
   "metadata": {
    "hidden": true
   },
   "outputs": [],
   "source": [
    "# plot example profiles for high eigenvector coordinates \n",
    "for i =1:n_eigenvectors\n",
    "    selected = get_large_coordinate_examples(transformed, i, thresholds, n_coordinates = n_eigenvectors);\n",
    "    plot_array = []\n",
    "    for idx in selected[1:4]\n",
    "        p1, p2, p3, p4, p5, p6 = plot_Dowker_profile_cells(nonempty_keys_to_original, idx_file, idx, PD1, PI1, PD1_max, \"cancer\", \"leukocytes\", c_cancer, c_leukocytes)\n",
    "\n",
    "        # plot the eigenvector scores\n",
    "        p7 = plot_scores(transformed[:,idx], xtickfontsize = 9, ytickfontsize = 8, coord_label = \"\", n_coordinates = 4)\n",
    "        append!(plot_array, [p1, p2, p3, p4, p5, p6, p7])\n",
    "    end\n",
    "    p = plot(plot_array..., layout = grid(4,7), size = (1400, 800))\n",
    "    savefig(\"analysis/\" * systems * \"/dim_1/coordinate_\" * string(i) * \"_examples.svg\")    \n",
    "end"
   ]
  },
  {
   "cell_type": "code",
   "execution_count": null,
   "metadata": {
    "hidden": true
   },
   "outputs": [],
   "source": [
    "# subtract the mean\n",
    "PI_dict = PI1_nonempty\n",
    "n = length(PI_dict)\n",
    "PI_array = hcat([vec(PI_dict[i]) for i =1:n]...)\n",
    "PI_centered = PI_array .- mean(PI_array, dims = 2)\n",
    "embedding = umap(PI_centered, 2; n_neighbors = 5);"
   ]
  },
  {
   "cell_type": "code",
   "execution_count": null,
   "metadata": {
    "hidden": true
   },
   "outputs": [],
   "source": [
    "# non-linear dimensionality reduction\n",
    "plotly()\n",
    "p = scatter(embedding[1,:], embedding[2,:], \n",
    "        markercolor = \"slategrey\",\n",
    "        markersize = 5, \n",
    "        hover = collect(1:size(embedding, 2)),\n",
    "       label = \"\", xticks = [], yticks = [], framestyle = :box,  \n",
    "        background_color=:transparent, foreground_color=:black, legend = :topright)"
   ]
  },
  {
   "cell_type": "code",
   "execution_count": null,
   "metadata": {
    "hidden": true
   },
   "outputs": [],
   "source": [
    "R1 = [35, 254, 154, 53]\n",
    "R2 = [125, 49, 172, 238]\n",
    "R3 = [146, 151, 129, 138];"
   ]
  },
  {
   "cell_type": "code",
   "execution_count": null,
   "metadata": {
    "hidden": true
   },
   "outputs": [],
   "source": [
    "gr()\n",
    "markersize = 10\n",
    "legendfontsize = 15\n",
    "example_idx = vcat([R1, R2, R3]...)\n",
    "n = size(embedding, 2)\n",
    "non_example = [i for i = 1:n if i ∉ example_idx]\n",
    "p = scatter(embedding[1,non_example], embedding[2,non_example], \n",
    "        markercolor = \"slategrey\",\n",
    "        markersize = 5, \n",
    "       label = \"\", xticks = [], yticks = [], framestyle = :box,  \n",
    "        background_color=:transparent, foreground_color=:black, legend = :bottomleft)\n",
    "scatter!(embedding[1,R1], embedding[2,R1], label = \"\", markersize = markersize, markershape = :rect, markercolor = c1, labels = \"R1\", legendfontsize = legendfontsize)\n",
    "scatter!(embedding[1,R2], embedding[2,R2], label = \"\", markersize = 15, markershape = :utriangle, markercolor = c2, labels = \"R2\")\n",
    "scatter!(embedding[1,R3], embedding[2,R3], label = \"\", markersize = 15, markershape = :star, markercolor = c3, labels = \"R3\")\n",
    "savefig(\"analysis/\" * systems * \"/dim_1/umap_annotated.svg\")\n",
    "plot(p)"
   ]
  },
  {
   "cell_type": "code",
   "execution_count": null,
   "metadata": {
    "hidden": true
   },
   "outputs": [],
   "source": [
    "# save \n",
    "save(\"analysis/\" * systems * \"/dim_1/umap.jld2\", \n",
    "        \"n_neighbors\", 5, \n",
    "        \"embedding\", embedding,\n",
    "        \"R1\", R1,\n",
    "        \"R2\", R2,\n",
    "        \"R3\", R3,\n",
    "        )"
   ]
  },
  {
   "cell_type": "code",
   "execution_count": null,
   "metadata": {
    "hidden": true
   },
   "outputs": [],
   "source": [
    "# plot example regions\n",
    "regions = Dict()\n",
    "regions[\"R1\"] = R1\n",
    "regions[\"R2\"] = R2\n",
    "regions[\"R3\"] = R3\n",
    "for (R_key, R_val) in regions\n",
    "\n",
    "    plot_array = []\n",
    "    for idx in R_val\n",
    "        p1, p2, p3, p4, p5, p6 = plot_Dowker_profile_cells(nonempty_keys_to_original, idx_file, idx, PD1, PI1, PD1_max, \"cancer\", \"leukocytes\", c_cancer, c_leukocytes)\n",
    "        append!(plot_array, [p1, p2, p3, p4, p5, p6])\n",
    "    end\n",
    "    p = plot(plot_array..., layout = grid(4,6), size = (1200, 800))\n",
    "    savefig(\"analysis/\" * systems * \"/dim_1/umap_example_\" * R_key * \".svg\")\n",
    "    \n",
    "end"
   ]
  },
  {
   "attachments": {},
   "cell_type": "markdown",
   "metadata": {
    "heading_collapsed": true
   },
   "source": [
    "## Take 2 PC from Dowker features + density"
   ]
  },
  {
   "cell_type": "code",
   "execution_count": null,
   "metadata": {
    "hidden": true
   },
   "outputs": [],
   "source": [
    "# load\n",
    "data = load(\"analysis/cancer_leukocytes/dim_0/PCA.jld2\")\n",
    "transformed = data[\"transformed\"]\n",
    "eigenvectors = data[\"eigenvectors\"]\n",
    "variance_1 = data[\"variance_1\"]\n",
    "variance_2 = data[\"variance_2\"];\n",
    "\n",
    "# load PI, index\n",
    "data = load(\"analysis/cancer_leukocytes/dim_0/data.jld2\")\n",
    "idx_ROI = data[\"idx_ROI\"]\n",
    "PI = data[\"PI\"]\n",
    "PD = data[\"PD\"];\n",
    "\n",
    "ROI_idx = Dict(v => k for (k,v) in idx_ROI);"
   ]
  },
  {
   "cell_type": "code",
   "execution_count": null,
   "metadata": {
    "hidden": true
   },
   "outputs": [],
   "source": [
    "# distinct types of exclusion\n",
    "ex1 = [ROI_idx[\"LTX221_Da505_idx1\"], ROI_idx[\"LTX221_Da505_idx2\"], ROI_idx[\"LTX221_Da505_idx3\"], ROI_idx[\"LTX221_Da2892_idx1\"]]\n",
    "ex2 = [ROI_idx[\"LTX013_Da153_idx3\"], ROI_idx[\"LTX013_Da153_idx2\"], ROI_idx[\"LTX013_Da153_idx1\"], ROI_idx[\"LTX013_Da154_idx3\"]]\n",
    "ex3 = [ROI_idx[\"LTX092_Da252_idx3\"], ROI_idx[\"LTX092_Da379_idx4\"], ROI_idx[\"LTX092_Da378_idx4\"], ROI_idx[\"LTX092_Da440_idx1\"]]\n",
    "ex4 = [ROI_idx[\"LTX097_Da113_idx2\"], ROI_idx[\"LTX097_Da636_idx1\"], ROI_idx[\"LTX097_Da113_idx3\"], ROI_idx[\"LTX097_Da636_idx2\"]]\n",
    "\n",
    "\n",
    "exclusion1 = ex2\n",
    "exclusion2 = ex3\n",
    "exclusion3 = ex4"
   ]
  },
  {
   "cell_type": "code",
   "execution_count": null,
   "metadata": {
    "hidden": true
   },
   "outputs": [],
   "source": [
    "# get number of cancer cells and leukocytes\n",
    "cancer_count = Dict()\n",
    "leukocyte_count = Dict()\n",
    "n = length(PI)\n",
    "\n",
    "for i = 1:n\n",
    "    ROI = idx_ROI[i]\n",
    "     # load cells\n",
    "    cells = CSV.read(\"data/4000x4000_combined/subregion_cells/\" * ROI * \".csv\")\n",
    "    \n",
    "    cancer_count[i] = size(cells[cells[:class].==\"cancer\",:],1)\n",
    "    leukocyte_count[i] = size(cells[cells[:class].==\"leukocytes\",:],1)\n",
    "end\n",
    "\n",
    "# as lists\n",
    "cancer_count_list = [cancer_count[i] for i=1:n]\n",
    "leukocytes_count_list = [leukocyte_count[i] for i = 1:n];"
   ]
  },
  {
   "cell_type": "code",
   "execution_count": null,
   "metadata": {
    "hidden": true
   },
   "outputs": [],
   "source": [
    "plotlyjs()\n",
    "\n",
    "markersize = 2\n",
    "# set color scheme\n",
    "counts = [cancer_count[i] for i = 1:n]\n",
    "min_count = 0\n",
    "max_count = maximum(counts)\n",
    "z = counts ./ max_count\n",
    "z = [Int(round(item, digits = 3) * 1000) for item in z]\n",
    "\n",
    "# Create a discrete color gradient \n",
    "my_colors = [cgrad(:haline, [0, 1])[z] for z ∈ range(0.0, 1.0, length = 1000)]\n",
    "\n",
    "\n",
    "\n",
    "annotated = vcat(exclusion1, exclusion2, exclusion3)\n",
    "nonannotated = [i for i = 1:size(y, 2) if i ∉ annotated]\n",
    "plt3d= Plots.plot(transformed[1,nonannotated],transformed[2,nonannotated], cancer_count_list[nonannotated],\n",
    "         seriestype=:scatter, \n",
    "        markersize = 2, \n",
    "        markerstrokewidth = 0,\n",
    "        label =\"\",\n",
    "        color = \"lightgray\",\n",
    "        #alpha = 0.1,\n",
    "        #opacity = 0.9,\n",
    "        xlabel = \"PC1\",\n",
    "        ylabel = \"PC2\",\n",
    "        zlabel = \"cancer count\",\n",
    "        )\n",
    "\n",
    "\n",
    "scatter!(transformed[1,exclusion1], transformed[2,exclusion1], cancer_count_list[exclusion1], label = \"\", markersize = 3, markershape = :rect, markercolor = c1, labels = \"exclusion 1\", legendfontsize = legendfontsize)\n",
    "scatter!(transformed[1,exclusion2], transformed[2,exclusion2], cancer_count_list[exclusion2], label = \"\", markersize = 3, markershape = :diamond, markercolor = c2, labels = \"exclusion 2\")\n",
    "scatter!(transformed[1,exclusion3], transformed[2,exclusion3], cancer_count_list[exclusion3], label = \"\", markersize = 1.5, markershape = :xcross, markercolor = c3, labels = \"exclusion 3\")\n",
    "\n",
    "\n",
    "\n",
    "display(plt3d)\n"
   ]
  },
  {
   "cell_type": "code",
   "execution_count": null,
   "metadata": {
    "hidden": true
   },
   "outputs": [],
   "source": [
    "plotlyjs()\n",
    "\n",
    "markersize = 2\n",
    "# set color scheme\n",
    "counts = [cancer_count[i] for i = 1:n]\n",
    "min_count = 0\n",
    "max_count = maximum(counts)\n",
    "z = counts ./ max_count\n",
    "z = [Int(round(item, digits = 3) * 1000) for item in z]\n",
    "\n",
    "# Create a discrete color gradient \n",
    "my_colors = [cgrad(:plasma, [0, 1])[z] for z ∈ range(0.0, 1.0, length = 1000)]\n",
    "\n",
    "\n",
    "\n",
    "annotated = vcat(exclusion1, exclusion2, exclusion3)\n",
    "nonannotated = [i for i = 1:size(y, 2) if i ∉ annotated]\n",
    "plt3d= Plots.plot(transformed[1,nonannotated],transformed[2,nonannotated], leukocyte_count_list[nonannotated],\n",
    "         seriestype=:scatter, \n",
    "        markersize = 2, \n",
    "        markerstrokewidth = 0,\n",
    "        label =\"\",\n",
    "        color = \"lightgray\",\n",
    "        #alpha = 0.1,\n",
    "        #opacity = 0.9,\n",
    "        xlabel = \"PC1\",\n",
    "        ylabel = \"PC2\",\n",
    "        zlabel = \"leukocytes count\",\n",
    "        )\n",
    "\n",
    "\n",
    "scatter!(transformed[1,exclusion1], transformed[2,exclusion1], leukocyte_count_list[exclusion1], label = \"\", markersize = 3, markershape = :rect, markercolor = c1, labels = \"exclusion 1\", legendfontsize = legendfontsize)\n",
    "scatter!(transformed[1,exclusion2], transformed[2,exclusion2], leukocyte_count_list[exclusion2], label = \"\", markersize = 3, markershape = :diamond, markercolor = c2, labels = \"exclusion 2\")\n",
    "scatter!(transformed[1,exclusion3], transformed[2,exclusion3], leukocyte_count_list[exclusion3], label = \"\", markersize = 1.5, markershape = :xcross, markercolor = c3, labels = \"exclusion 3\")\n",
    "\n",
    "\n",
    "\n",
    "display(plt3d)"
   ]
  },
  {
   "cell_type": "code",
   "execution_count": null,
   "metadata": {
    "hidden": true
   },
   "outputs": [],
   "source": [
    "plotlyjs()\n",
    "scatter([0],[0], markershape = :rect, markercolor = c1, markersize = 6, ticks =[])\n",
    "scatter!([0],[0.5], markershape = :diamond, markercolor = c2, markersize = 6)\n",
    "scatter!([0],[1], markershape = :xcross, markercolor = c3, markersize = 6)\n",
    "Plots.savefig(\"analysis/cancer_leukocytes/dim_0/SI_exclusion_markers.pdf\")"
   ]
  },
  {
   "attachments": {},
   "cell_type": "markdown",
   "metadata": {},
   "source": [
    "## Cancer and leukocytes - combined dim 0 & 1 "
   ]
  },
  {
   "cell_type": "code",
   "execution_count": null,
   "metadata": {},
   "outputs": [],
   "source": [
    "# load data\n",
    "systems = \"cancer_leukocytes\"\n",
    "data = load(\"data/4000x4000_combined/Dowker/cancer_leukocytes/PD.jld2\")\n",
    "\n",
    "PD0 = data[\"PD0\"]\n",
    "PD1 = data[\"PD1\"]\n",
    "PI0 = compute_PI2(PD0)\n",
    "PI1 = compute_PI2(PD1)\n",
    "PD0_max = data[\"PD0_max\"]\n",
    "PD1_max = data[\"PD1_max\"];\n",
    "\n",
    "features = combine_PI0_PI1_dicts_Dowker(PI0, PI1);"
   ]
  },
  {
   "cell_type": "code",
   "execution_count": null,
   "metadata": {},
   "outputs": [],
   "source": [
    "#ROIs = collect(keys(features))\n",
    "#idx_ROI = Dict(i => roi for (i, roi) in enumerate(ROIs));\n",
    "\n",
    "#save(\"analysis/cancer_leukocytes/dim_01_combined/idx_ROI.jld2\", \"idx_ROI\", idx_ROI)\n",
    "idx_ROI = load(\"analysis/cancer_leukocytes/dim_01_combined/idx_ROI.jld2\")[\"idx_ROI\"];\n",
    "ROI_idx = Dict(v => k for (k,v) in idx_ROI);"
   ]
  },
  {
   "cell_type": "code",
   "execution_count": null,
   "metadata": {},
   "outputs": [],
   "source": [
    "# prepare features array\n",
    "n = length(idx_ROI)\n",
    "features_array = hcat([features[idx_ROI[i]] for i = 1:n]...)\n",
    "println(\"features array shape: \", size(features_array))\n",
    "\n",
    "features_centered = features_array .- mean(features_array, dims = 2);"
   ]
  },
  {
   "attachments": {},
   "cell_type": "markdown",
   "metadata": {},
   "source": [
    "### UMAP"
   ]
  },
  {
   "cell_type": "code",
   "execution_count": null,
   "metadata": {},
   "outputs": [],
   "source": [
    "embedding = umap(features_centered, 2; n_neighbors = 5);"
   ]
  },
  {
   "cell_type": "code",
   "execution_count": null,
   "metadata": {},
   "outputs": [],
   "source": [
    "writedlm(\"analysis/cancer_leukocytes/dim_01_combined/umap.csv\", embedding, \",\")\n",
    "#embedding = readdlm(\"analysis/cancer_leukocytes/dim_01_combined/umap.csv\", ',');"
   ]
  },
  {
   "cell_type": "code",
   "execution_count": null,
   "metadata": {},
   "outputs": [],
   "source": [
    "gr()\n",
    "n = size(embedding, 2)\n",
    "p = scatter(embedding[1,:], embedding[2,:], \n",
    "        markercolor = \"slategrey\",\n",
    "        markersize = 5, \n",
    "        label = \"\", \n",
    "        xticks = [], \n",
    "        yticks = [], \n",
    "        framestyle = :box,  \n",
    "        xlabel = \"UMAP-1\",\n",
    "        ylabel = \"UMAP-2\",\n",
    "        guidefontsize = 15,\n",
    "        leftmargin = 5mm,\n",
    "        size = (450, 350),\n",
    "        #hover = 1:n,\n",
    "        legend = :topright)\n",
    "savefig(\"analysis/cancer_leukocytes/dim_01_combined/umap.svg\")"
   ]
  },
  {
   "attachments": {},
   "cell_type": "markdown",
   "metadata": {},
   "source": [
    "### PCA"
   ]
  },
  {
   "cell_type": "code",
   "execution_count": null,
   "metadata": {},
   "outputs": [],
   "source": [
    "transformed, variance_1, variance_2, variance_4 = centered_features_to_PCA(features_centered)\n",
    "println(variance_1)\n",
    "println(variance_2)"
   ]
  },
  {
   "cell_type": "code",
   "execution_count": null,
   "metadata": {},
   "outputs": [],
   "source": [
    "writedlm(\"analysis/cancer_leukocytes/dim_01_combined/PCA.csv\", transformed, \",\")"
   ]
  },
  {
   "cell_type": "code",
   "execution_count": null,
   "metadata": {},
   "outputs": [],
   "source": [
    "p = scatter(transformed[1,:], transformed[2,:], \n",
    "        label = \"\", \n",
    "        hover = collect(1:size(transformed, 2)),\n",
    "        frame = :box,\n",
    "        xlabel = \"PCA1(65%)\",\n",
    "        ylabel = \"PCA2(80%)\",\n",
    "        c = :slategrey,\n",
    "        size = (500, 500),\n",
    "        ticks = [])\n",
    "savefig(\"analysis/cancer_leukocytes/dim_01_combined/PCA.svg\")\n",
    "plot(p)"
   ]
  },
  {
   "attachments": {},
   "cell_type": "markdown",
   "metadata": {},
   "source": [
    "# ECM & cancer"
   ]
  },
  {
   "cell_type": "markdown",
   "metadata": {},
   "source": [
    "## data preparation"
   ]
  },
  {
   "cell_type": "code",
   "execution_count": null,
   "metadata": {},
   "outputs": [],
   "source": [
    "# load data\n",
    "systems = \"ECM_cancer\"\n",
    "data = load(\"data/4000x4000_combined/Dowker/ECM_cancer/PD.jld2\")\n",
    "\n",
    "PD0 = data[\"PD0\"]\n",
    "PD1 = data[\"PD1\"]\n",
    "PI0 = compute_PI2(PD0)\n",
    "PI1 = compute_PI2(PD1)\n",
    "PD0_max = data[\"PD0_max\"]\n",
    "PD1_max = data[\"PD1_max\"];\n"
   ]
  },
  {
   "cell_type": "code",
   "execution_count": null,
   "metadata": {},
   "outputs": [],
   "source": [
    "# recompute PI \n",
    "# recompute coarser PI \n",
    "\n",
    "PH0_dict = Dict(k => ECM_TDA.array_to_ripsererPD(v) for (k,v) in PD0 if v != nothing);\n",
    "PH1_dict = Dict(k => ECM_TDA.array_to_ripsererPD(v) for (k,v) in PD1 if v != nothing);\n",
    "\n",
    "pi0 = PersistenceImage([PH0_dict[k] for k in keys(PH0_dict)], sigma=50, size = 20)\n",
    "pi1 = PersistenceImage([PH1_dict[k] for k in keys(PH1_dict)], sigma=50, size = 20)\n",
    "\n",
    "\n",
    "PI0 = Dict()\n",
    "for i in keys(PH0_dict)\n",
    "    PI0[i] = pi0(PH0_dict[i])\n",
    "end\n",
    "\n",
    "PI1 = Dict()\n",
    "for i in keys(PH1_dict)\n",
    "    PI1[i] = pi1(PH1_dict[i])\n",
    "end\n",
    "\n",
    "# save the min, max coordinates of PDs (useful for plotting)\n",
    "PI0_xmin = pi0.xs[1]\n",
    "PI0_xmax = pi0.xs[end]\n",
    "PI0_ymin = pi0.ys[1]\n",
    "PI0_ymax = pi0.ys[end]\n",
    "\n",
    "PI1_xmin = pi1.xs[1]\n",
    "PI1_xmax = pi1.xs[end]\n",
    "PI1_ymin = pi1.ys[1]\n",
    "PI1_ymax = pi1.ys[end]\n",
    "\n",
    "save(\"data/4000x4000_combined/Dowker/ECM_cancer/PI_ranges.jld2\",\n",
    "    \"PI0_xmin\", PI0_xmin,\n",
    "    \"PI0_xmax\", PI0_xmax,\n",
    "    \"PI0_ymin\", PI0_ymin,\n",
    "    \"PI0_ymax\", PI0_ymax,\n",
    "    \"PI1_xmin\", PI1_xmin,\n",
    "    \"PI1_xmax\", PI1_xmax,\n",
    "    \"PI1_ymin\", PI1_ymin,\n",
    "    \"PI1_ymax\", PI1_ymax)"
   ]
  },
  {
   "attachments": {},
   "cell_type": "markdown",
   "metadata": {},
   "source": [
    "## dim 0 "
   ]
  },
  {
   "cell_type": "code",
   "execution_count": null,
   "metadata": {},
   "outputs": [],
   "source": [
    "ROIs = collect(keys(PI0))\n",
    "idx_ROI = Dict(i => roi for (i, roi) in enumerate(ROIs))\n",
    "n = length(ROIs)\n",
    "\n",
    "# create new PI0 with integers as keys\n",
    "PI = Dict(i => PI0[ROIs[i]] for i=1:n);\n",
    "PD = Dict(i => PD0[ROIs[i]] for i = 1:n);\n",
    "\n",
    "# save(\"analysis/ECM_cancer/dim_0/data.jld2\",\n",
    "#     \"idx_ROI\", idx_ROI,\n",
    "#     \"PI\", PI,\n",
    "#     \"PD\", PD);\n"
   ]
  },
  {
   "cell_type": "code",
   "execution_count": null,
   "metadata": {},
   "outputs": [],
   "source": [
    "# load PI, index\n",
    "data = load(\"analysis/ECM_cancer/dim_0/data.jld2\")\n",
    "idx_ROI = data[\"idx_ROI\"]\n",
    "n = length(idx_ROI)\n",
    "PI = Dict(i => PI0[idx_ROI[i]] for i=1:n);\n",
    "PD = Dict(i => PD0[idx_ROI[i]] for i = 1:n);\n",
    "\n",
    "ROI_idx = Dict(v => k for (k,v) in idx_ROI);"
   ]
  },
  {
   "cell_type": "code",
   "execution_count": null,
   "metadata": {},
   "outputs": [],
   "source": [
    "# recompute PI to get xmin, xmax, ymin, ymax coordinates for PI plots\n",
    "PH_dict = Dict(k => ECM_TDA.array_to_ripsererPD(v) for (k,v) in PD if v != nothing);\n",
    "\n",
    "PIs = PersistenceImage([PH_dict[k] for k in keys(PH_dict)], sigma=50, size = 20)\n",
    "\n",
    "# get ranges of x and y (useful for plotting )\n",
    "xmin = PIs.xs[1]\n",
    "xmax = PIs.xs[end]\n",
    "\n",
    "ymin = PIs.ys[1]\n",
    "ymax = PIs.ys[end];"
   ]
  },
  {
   "attachments": {},
   "cell_type": "markdown",
   "metadata": {},
   "source": [
    "### UMAP"
   ]
  },
  {
   "cell_type": "code",
   "execution_count": null,
   "metadata": {},
   "outputs": [],
   "source": [
    "Random.seed!(10)\n",
    "PI_centered = center_PI(PI);\n",
    "embedding = umap(PI_centered, 2; n_neighbors = 5);"
   ]
  },
  {
   "cell_type": "code",
   "execution_count": null,
   "metadata": {},
   "outputs": [],
   "source": [
    "writedlm(\"analysis/ECM_cancer/dim_0/umap.csv\", embedding, \",\")\n",
    "y = embedding = readdlm(\"analysis/ECM_cancer/dim_0/umap.csv\", ',');"
   ]
  },
  {
   "cell_type": "code",
   "execution_count": null,
   "metadata": {},
   "outputs": [],
   "source": [
    "gr()\n",
    "n = size(embedding, 2)\n",
    "p = scatter(embedding[1,:], embedding[2,:], \n",
    "        markercolor = \"slategrey\",\n",
    "        markersize = 5, \n",
    "        label = \"\", \n",
    "        xticks = [], \n",
    "        yticks = [], \n",
    "        framestyle = :box,  \n",
    "        xlabel = \"UMAP-1\",\n",
    "        ylabel = \"UMAP-2\",\n",
    "        guidefontsize = 15,\n",
    "        leftmargin = 5mm,\n",
    "        size = (450, 350),\n",
    "        hover = 1:n,\n",
    "        legend = :topright)\n",
    "savefig(\"analysis/ECM_cancer/dim_0/umap.pdf\")\n",
    "plot(p)"
   ]
  },
  {
   "attachments": {},
   "cell_type": "markdown",
   "metadata": {},
   "source": [
    "### PCA"
   ]
  },
  {
   "cell_type": "code",
   "execution_count": null,
   "metadata": {},
   "outputs": [],
   "source": [
    "\n",
    "# compute PCA\n",
    "transformed, eigenvectors, variance_1, variance_2, _ = PI_to_PCA2(PI; pratio = 0.99)\n",
    "\n",
    "\n",
    "# save(\"analysis/ECM_cancer/dim_0/PCA.jld2\",\n",
    "#     \"transformed\", transformed,\n",
    "#     \"eigenvectors\", eigenvectors,\n",
    "#     \"variance_1\", variance_1,\n",
    "#     \"variance_2\", variance_2)\n"
   ]
  },
  {
   "cell_type": "code",
   "execution_count": null,
   "metadata": {},
   "outputs": [],
   "source": [
    "# load\n",
    "data = load(\"analysis/ECM_cancer/dim_0/PCA.jld2\")\n",
    "transformed = data[\"transformed\"]\n",
    "eigenvectors = data[\"eigenvectors\"]\n",
    "variance_1 = data[\"variance_1\"]\n",
    "variance_2 = data[\"variance_2\"]\n",
    "\n",
    "println(\"number of components: \", length(eigenvectors))\n",
    "println(\"variance explained by 1 eigenvectors: \", variance_1)\n",
    "println(\"variance explained by 2 eigenvectors: \", variance_2)\n",
    "println(\"variance difference between 2 and 1:\", variance_2 - variance_1)"
   ]
  },
  {
   "cell_type": "code",
   "execution_count": null,
   "metadata": {},
   "outputs": [],
   "source": [
    "gr()\n",
    "p = scatter(transformed[1,:], transformed[2,:], \n",
    "        label = \"\", \n",
    "        hover = collect(1:size(transformed, 2)),\n",
    "        frame = :box,\n",
    "        c = :slategrey,\n",
    "        ticks = [])\n",
    "#savefig(\"analysis/ECM_cancer/dim_0/pca.pdf\")\n",
    "plot(p)"
   ]
  },
  {
   "attachments": {},
   "cell_type": "markdown",
   "metadata": {},
   "source": [
    "## dim 1"
   ]
  },
  {
   "cell_type": "code",
   "execution_count": null,
   "metadata": {},
   "outputs": [],
   "source": [
    "ROIs = collect(keys(PI1))\n",
    "idx_ROI = Dict(i => roi for (i, roi) in enumerate(ROIs))\n",
    "n = length(ROIs)\n",
    "\n",
    "# create new PI with integers as keys\n",
    "PI = Dict(i => PI1[ROIs[i]] for i=1:n);\n",
    "PD = Dict(i => PD1[ROIs[i]] for i = 1:n);\n",
    "\n",
    "# save(\"analysis/ECM_cancer/dim_1/data.jld2\",\n",
    "#    \"idx_ROI\", idx_ROI,\n",
    "#    \"PI\", PI,\n",
    "#    \"PD\", PD);\n"
   ]
  },
  {
   "cell_type": "code",
   "execution_count": null,
   "metadata": {},
   "outputs": [],
   "source": [
    "# load PI, index\n",
    "data = load(\"analysis/ECM_cancer/dim_1/data.jld2\")\n",
    "idx_ROI = data[\"idx_ROI\"]\n",
    "n = length(idx_ROI)\n",
    "PI = Dict(i => PI1[idx_ROI[i]] for i=1:n);\n",
    "PD = Dict(i => PD1[idx_ROI[i]] for i = 1:n);\n",
    "\n",
    "ROI_idx = Dict(v => k for (k,v) in idx_ROI);"
   ]
  },
  {
   "cell_type": "code",
   "execution_count": null,
   "metadata": {},
   "outputs": [],
   "source": [
    "# recompute PI to get xmin, xmax, ymin, ymax coordinates for PI plots\n",
    "PH_dict = Dict(k => ECM_TDA.array_to_ripsererPD(v) for (k,v) in PD if v != nothing);\n",
    "\n",
    "PIs = PersistenceImage([PH_dict[k] for k in keys(PH_dict)], sigma=50, size = 20)\n",
    "\n",
    "# get ranges of x and y (useful for plotting )\n",
    "xmin = PIs.xs[1]\n",
    "xmax = PIs.xs[end]\n",
    "\n",
    "ymin = PIs.ys[1]\n",
    "ymax = PIs.ys[end];"
   ]
  },
  {
   "attachments": {},
   "cell_type": "markdown",
   "metadata": {},
   "source": [
    "### UMAP"
   ]
  },
  {
   "cell_type": "code",
   "execution_count": null,
   "metadata": {},
   "outputs": [],
   "source": [
    "Random.seed!(10)\n",
    "PI_centered = center_PI(PI);\n",
    "embedding = umap(PI_centered, 2; n_neighbors = 5);"
   ]
  },
  {
   "cell_type": "code",
   "execution_count": null,
   "metadata": {},
   "outputs": [],
   "source": [
    "writedlm(\"analysis/ECM_cancer/dim_1/umap.csv\", embedding, \",\")\n",
    "y = embedding = readdlm(\"analysis/ECM_cancer/dim_1/umap.csv\", ',');"
   ]
  },
  {
   "cell_type": "code",
   "execution_count": null,
   "metadata": {},
   "outputs": [],
   "source": [
    "gr()\n",
    "n = size(embedding, 2)\n",
    "p = scatter(embedding[1,:], embedding[2,:], \n",
    "        markercolor = \"slategrey\",\n",
    "        markersize = 5, \n",
    "        label = \"\", \n",
    "        xticks = [], \n",
    "        yticks = [], \n",
    "        framestyle = :box,  \n",
    "        xlabel = \"UMAP-1\",\n",
    "        ylabel = \"UMAP-2\",\n",
    "        guidefontsize = 15,\n",
    "        leftmargin = 5mm,\n",
    "        size = (450, 350),\n",
    "        hover = 1:n,\n",
    "        legend = :topright)\n",
    "savefig(\"analysis/ECM_cancer/dim_1/umap.pdf\")\n",
    "plot(p)"
   ]
  },
  {
   "attachments": {},
   "cell_type": "markdown",
   "metadata": {},
   "source": [
    "### PCA"
   ]
  },
  {
   "cell_type": "code",
   "execution_count": null,
   "metadata": {},
   "outputs": [],
   "source": [
    "# compute PCA\n",
    "transformed, eigenvectors, variance_1, variance_2, _ = PI_to_PCA2(PI; pratio = 0.99)\n",
    "\n",
    "# save(\"analysis/ECM_cancer/dim_1/PCA.jld2\",\n",
    "#     \"transformed\", transformed,\n",
    "#     \"eigenvectors\", eigenvectors,\n",
    "#     \"variance_1\", variance_1,\n",
    "#     \"variance_2\", variance_2)\n"
   ]
  },
  {
   "cell_type": "code",
   "execution_count": null,
   "metadata": {},
   "outputs": [],
   "source": [
    "# load\n",
    "data = load(\"analysis/ECM_cancer/dim_1/PCA.jld2\")\n",
    "transformed = data[\"transformed\"]\n",
    "eigenvectors = data[\"eigenvectors\"]\n",
    "variance_1 = data[\"variance_1\"]\n",
    "variance_2 = data[\"variance_2\"]\n",
    "\n",
    "println(\"number of components: \", length(eigenvectors))\n",
    "println(\"variance explained by 1 eigenvectors: \", variance_1)\n",
    "println(\"variance explained by 2 eigenvectors: \", variance_2)\n",
    "println(\"variance difference between 2 and 1:\", variance_2 - variance_1)"
   ]
  },
  {
   "cell_type": "code",
   "execution_count": null,
   "metadata": {},
   "outputs": [],
   "source": [
    "gr()\n",
    "p = scatter(transformed[1,:], transformed[2,:], \n",
    "        label = \"\", \n",
    "        hover = collect(1:size(transformed, 2)),\n",
    "        frame = :box,\n",
    "        c = :slategrey,\n",
    "        ticks = [])\n",
    "savefig(\"analysis/ECM_cancer/dim_1/pca.pdf\")\n",
    "plot(p)"
   ]
  },
  {
   "attachments": {},
   "cell_type": "markdown",
   "metadata": {},
   "source": [
    "## ECM - cancer Combined dim-0 and dim-1"
   ]
  },
  {
   "cell_type": "code",
   "execution_count": null,
   "metadata": {},
   "outputs": [],
   "source": [
    "# load data\n",
    "systems = \"ECM_cancer\"\n",
    "data = load(\"data/4000x4000_combined/Dowker/ECM_cancer/PD.jld2\")\n",
    "\n",
    "PD0 = data[\"PD0\"]\n",
    "PD1 = data[\"PD1\"]\n",
    "PI0 = compute_PI2(PD0)\n",
    "PI1 = compute_PI2(PD1)\n",
    "PD0_max = data[\"PD0_max\"]\n",
    "PD1_max = data[\"PD1_max\"];\n",
    "\n",
    "features = combine_PI0_PI1_dicts_Dowker(PI0, PI1);"
   ]
  },
  {
   "cell_type": "code",
   "execution_count": null,
   "metadata": {},
   "outputs": [],
   "source": [
    "#ROIs = collect(keys(features))\n",
    "#idx_ROI = Dict(i => roi for (i, roi) in enumerate(ROIs));\n",
    "\n",
    "#save(\"analysis/ECM_cancer/dim_01_combined/idx_ROI.jld2\", \"idx_ROI\", idx_ROI)\n",
    "idx_ROI = load(\"analysis/ECM_cancer/dim_01_combined/idx_ROI.jld2\")[\"idx_ROI\"];\n",
    "ROI_idx = Dict(v => k for (k,v) in idx_ROI);"
   ]
  },
  {
   "cell_type": "code",
   "execution_count": null,
   "metadata": {},
   "outputs": [],
   "source": [
    "# prepare features array\n",
    "n = length(idx_ROI)\n",
    "features_array = hcat([features[idx_ROI[i]] for i = 1:n]...)\n",
    "println(\"features array shape: \", size(features_array))\n",
    "\n",
    "features_centered = features_array .- mean(features_array, dims = 2);"
   ]
  },
  {
   "attachments": {},
   "cell_type": "markdown",
   "metadata": {},
   "source": [
    "#### UMAP"
   ]
  },
  {
   "cell_type": "code",
   "execution_count": null,
   "metadata": {},
   "outputs": [],
   "source": [
    "embedding = umap(features_centered, 2; n_neighbors = 5);"
   ]
  },
  {
   "cell_type": "code",
   "execution_count": null,
   "metadata": {},
   "outputs": [],
   "source": [
    "#writedlm(\"analysis/ECM_cancer/dim_01_combined/umap.csv\", embedding, \",\")\n",
    "#embedding = readdlm(\"analysis/ECM_cancer/dim_01_combined/umap.csv\", ',');"
   ]
  },
  {
   "cell_type": "code",
   "execution_count": null,
   "metadata": {},
   "outputs": [],
   "source": [
    "gr()\n",
    "n = size(embedding, 2)\n",
    "p = scatter(embedding[1,:], embedding[2,:], \n",
    "        markercolor = \"slategrey\",\n",
    "        markersize = 5, \n",
    "        label = \"\", \n",
    "        xticks = [], \n",
    "        yticks = [], \n",
    "        framestyle = :box,  \n",
    "        xlabel = \"UMAP-1\",\n",
    "        ylabel = \"UMAP-2\",\n",
    "        guidefontsize = 15,\n",
    "        leftmargin = 5mm,\n",
    "        size = (450, 350),\n",
    "        #hover = 1:n,\n",
    "        legend = :topright)\n",
    "savefig(\"analysis/ECM_cancer/dim_01_combined/umap.svg\")"
   ]
  },
  {
   "attachments": {},
   "cell_type": "markdown",
   "metadata": {},
   "source": [
    "#### PCA"
   ]
  },
  {
   "cell_type": "code",
   "execution_count": null,
   "metadata": {},
   "outputs": [],
   "source": [
    "transformed, variance_1, variance_2, variance_4 = centered_features_to_PCA(features_centered)\n",
    "println(variance_1)\n",
    "println(variance_2)"
   ]
  },
  {
   "cell_type": "code",
   "execution_count": null,
   "metadata": {},
   "outputs": [],
   "source": [
    "writedlm(\"analysis/ECM_cancer/dim_01_combined/PCA.csv\", transformed, \",\")"
   ]
  },
  {
   "cell_type": "code",
   "execution_count": null,
   "metadata": {},
   "outputs": [],
   "source": [
    "p = scatter(transformed[1,:], transformed[2,:], \n",
    "        label = \"\", \n",
    "        hover = collect(1:size(transformed, 2)),\n",
    "        frame = :box,\n",
    "        xlabel = \"PCA1(71%)\",\n",
    "        ylabel = \"PCA2(81%)\",\n",
    "        c = :slategrey,\n",
    "        size = (500, 500),\n",
    "        ticks = [])\n",
    "savefig(\"analysis/ECM_cancer/dim_01_combined/PCA.svg\")\n",
    "plot(p)"
   ]
  },
  {
   "attachments": {},
   "cell_type": "markdown",
   "metadata": {},
   "source": [
    "# ECM & leukocytes"
   ]
  },
  {
   "cell_type": "markdown",
   "metadata": {},
   "source": [
    "## Data preparation"
   ]
  },
  {
   "cell_type": "code",
   "execution_count": null,
   "metadata": {},
   "outputs": [],
   "source": [
    "# load data\n",
    "systems = \"ECM_leukocytes\"\n",
    "data = load(\"data/4000x4000_combined/Dowker/ECM_leukocytes/PD.jld2\")\n",
    "\n",
    "PD0 = data[\"PD0\"]\n",
    "PD1 = data[\"PD1\"]\n",
    "PI0 = compute_PI2(PD0)\n",
    "PI1 = compute_PI2(PD1)\n",
    "PD0_max = data[\"PD0_max\"]\n",
    "PD1_max = data[\"PD1_max\"];\n"
   ]
  },
  {
   "attachments": {},
   "cell_type": "markdown",
   "metadata": {},
   "source": [
    "## dim 0 "
   ]
  },
  {
   "cell_type": "code",
   "execution_count": null,
   "metadata": {},
   "outputs": [],
   "source": [
    "ROIs = collect(keys(PI0))\n",
    "idx_ROI = Dict(i => roi for (i, roi) in enumerate(ROIs))\n",
    "n = length(ROIs)\n",
    "\n",
    "# create new PI0 with integers as keys\n",
    "PI = Dict(i => PI0[ROIs[i]] for i=1:n);\n",
    "PD = Dict(i => PD0[ROIs[i]] for i = 1:n);\n",
    "\n",
    "# save(\"analysis/ECM_leukocytes/dim_0/data.jld2\",\n",
    "#     \"idx_ROI\", idx_ROI,\n",
    "#     \"PI\", PI,\n",
    "#     \"PD\", PD);\n"
   ]
  },
  {
   "cell_type": "code",
   "execution_count": null,
   "metadata": {},
   "outputs": [],
   "source": [
    "# load PI, index\n",
    "data = load(\"analysis/ECM_leukocytes/dim_0/data.jld2\")\n",
    "idx_ROI = data[\"idx_ROI\"]\n",
    "n = length(idx_ROI)\n",
    "PI = Dict(i => PI0[idx_ROI[i]] for i=1:n);\n",
    "PD = Dict(i => PD0[idx_ROI[i]] for i = 1:n);\n",
    "\n",
    "ROI_idx = Dict(v => k for (k,v) in idx_ROI);"
   ]
  },
  {
   "cell_type": "code",
   "execution_count": null,
   "metadata": {},
   "outputs": [],
   "source": [
    "# recompute PI to get xmin, xmax, ymin, ymax coordinates for PI plots\n",
    "PH_dict = Dict(k => ECM_TDA.array_to_ripsererPD(v) for (k,v) in PD if v != nothing);\n",
    "\n",
    "PIs = PersistenceImage([PH_dict[k] for k in keys(PH_dict)], sigma=50, size = 20)\n",
    "\n",
    "# get ranges of x and y (useful for plotting )\n",
    "xmin = PIs.xs[1]\n",
    "xmax = PIs.xs[end]\n",
    "\n",
    "ymin = PIs.ys[1]\n",
    "ymax = PIs.ys[end];"
   ]
  },
  {
   "attachments": {},
   "cell_type": "markdown",
   "metadata": {},
   "source": [
    "### umap "
   ]
  },
  {
   "cell_type": "code",
   "execution_count": null,
   "metadata": {},
   "outputs": [],
   "source": [
    "Random.seed!(10)\n",
    "PI_centered = center_PI(PI);\n",
    "embedding = umap(PI_centered, 2; n_neighbors = 5);"
   ]
  },
  {
   "cell_type": "code",
   "execution_count": null,
   "metadata": {},
   "outputs": [],
   "source": [
    "writedlm(\"analysis/ECM_leukocytes/dim_0/umap.csv\", embedding, \",\")\n",
    "y = embedding = readdlm(\"analysis/ECM_leukocytes/dim_0/umap.csv\", ',');"
   ]
  },
  {
   "cell_type": "code",
   "execution_count": null,
   "metadata": {},
   "outputs": [],
   "source": [
    "gr()\n",
    "n = size(embedding, 2)\n",
    "p = scatter(embedding[1,:], embedding[2,:], \n",
    "        markercolor = \"slategrey\",\n",
    "        markersize = 5, \n",
    "        label = \"\", \n",
    "        xticks = [], \n",
    "        yticks = [], \n",
    "        framestyle = :box,  \n",
    "        xlabel = \"UMAP-1\",\n",
    "        ylabel = \"UMAP-2\",\n",
    "        guidefontsize = 15,\n",
    "        leftmargin = 5mm,\n",
    "        size = (450, 350),\n",
    "        hover = 1:n,\n",
    "        legend = :topright)\n",
    "savefig(\"analysis/ECM_leukocytes/dim_0/umap.pdf\")\n",
    "plot(p)"
   ]
  },
  {
   "attachments": {},
   "cell_type": "markdown",
   "metadata": {},
   "source": [
    "### PCA"
   ]
  },
  {
   "cell_type": "code",
   "execution_count": null,
   "metadata": {},
   "outputs": [],
   "source": [
    "\n",
    "# compute PCA\n",
    "transformed, eigenvectors, variance_1, variance_2, _ = PI_to_PCA2(PI; pratio = 0.99)\n",
    "\n",
    "\n",
    "# save(\"analysis/ECM_leukocytes/dim_0/PCA.jld2\",\n",
    "#     \"transformed\", transformed,\n",
    "#     \"eigenvectors\", eigenvectors,\n",
    "#     \"variance_1\", variance_1,\n",
    "#     \"variance_2\", variance_2)\n"
   ]
  },
  {
   "cell_type": "code",
   "execution_count": null,
   "metadata": {},
   "outputs": [],
   "source": [
    "# load\n",
    "data = load(\"analysis/ECM_leukocytes/dim_0/PCA.jld2\")\n",
    "transformed = data[\"transformed\"]\n",
    "eigenvectors = data[\"eigenvectors\"]\n",
    "variance_1 = data[\"variance_1\"]\n",
    "variance_2 = data[\"variance_2\"]\n",
    "\n",
    "println(\"number of components: \", length(eigenvectors))\n",
    "println(\"variance explained by 1 eigenvectors: \", variance_1)\n",
    "println(\"variance explained by 2 eigenvectors: \", variance_2)\n",
    "println(\"variance difference between 2 and 1:\", variance_2 - variance_1)"
   ]
  },
  {
   "cell_type": "code",
   "execution_count": null,
   "metadata": {},
   "outputs": [],
   "source": [
    "plotly()\n",
    "p = scatter(transformed[1,:], transformed[2,:], \n",
    "        label = \"\", \n",
    "        hover = collect(1:size(transformed, 2)),\n",
    "        frame = :box,\n",
    "        c = :slategrey,\n",
    "        ticks = [])\n",
    "#savefig(\"analysis/ECM_leukocytes/dim_0/pca.pdf\")\n",
    "plot(p)"
   ]
  },
  {
   "cell_type": "code",
   "execution_count": null,
   "metadata": {},
   "outputs": [],
   "source": [
    "# save index of example points\n",
    "R1 = [43, 380, 245]\n",
    "R2 = [381, 237, 279]\n",
    "R3 = [73, 214, 113]\n",
    "R4 = [330, 205, 86]\n"
   ]
  },
  {
   "cell_type": "code",
   "execution_count": null,
   "metadata": {},
   "outputs": [],
   "source": [
    "# plot with regions\n",
    "gr()\n",
    "\n",
    "y = transformed\n",
    "markersize = 3\n",
    "legendfontsize = 5\n",
    "n = size(y, 2)\n",
    "annotated = vcat(R1, R2, R3, R4)\n",
    "nonannotated = [i for i = 1:size(y, 2) if i ∉ annotated]\n",
    "p = scatter(y[1,nonannotated], y[2,nonannotated], \n",
    "        markercolor = \"lightgray\",\n",
    "        alpha = 0.6,\n",
    "        markersize = markersize, \n",
    "        markerstrokewidth = 1,\n",
    "        label = \"\", \n",
    "        xaxis = \"PC1 (65%)\",\n",
    "        yaxis = \"PC2 (17%)\",\n",
    "        xticks = (0,0),\n",
    "        yticks = (0,0),\n",
    "        \n",
    "        guidefontsize = 7,\n",
    "        framestyle = :box,\n",
    "        size = (200, 150),\n",
    "        #leftmargin = 2mm,\n",
    "        legend = :topleft\n",
    "        #background_color=:transparent, foreground_color=:black,\n",
    "        )\n",
    "scatter!(y[1,R1], y[2,R1], label = \"\", markersize = markersize, markershape = :rect, markercolor = c1, labels = \"R1\", legendfontsize = legendfontsize)\n",
    "scatter!(y[1,R2], y[2,R2], label = \"\", markersize = markersize, markershape = :utriangle, markercolor = c2, labels = \"R2\")\n",
    "scatter!(y[1,R3], y[2,R3], label = \"\", markersize = markersize, markershape = :star, markercolor = c3, labels = \"R3\")\n",
    "scatter!(y[1,R4], y[2,R4], label = \"\", markersize = markersize, markershape = :diamond, markercolor = c4, labels = \"R4\")\n",
    "savefig(\"analysis/ECM_leukocytes/dim_0/pca.svg\")\n",
    "plot(p)"
   ]
  },
  {
   "cell_type": "code",
   "execution_count": null,
   "metadata": {},
   "outputs": [],
   "source": [
    "regions = Dict(1 => R1, 2=> R2, 3=> R3, 4=> R4)\n",
    "\n",
    "plot_array = []\n",
    "n = length(regions)\n",
    "for i=1:n\n",
    "    R = regions[i]\n",
    "    for idx in R\n",
    "        f = idx_ROI[idx]\n",
    "        df = CSV.read(\"data/4000x4000_combined/subregion_cells/\" * f * \".csv\")\n",
    "        \n",
    "        # plot ECM\n",
    "        p_ECM = Images.load(\"data/4000x4000_combined/subregion_ECM/\" * f * \".tif\" )\n",
    "        \n",
    "        # plot leukocytes\n",
    "        df_cell = df[df.class .== \"leukocytes\", :]\n",
    "        p_L = scatter(df_cell.x, df_cell.y,\n",
    "                         markersize = 1.5,\n",
    "                         yflip = true,\n",
    "                         label = \"\",\n",
    "                         markerstrokewidth = 0.2,\n",
    "                         frame = :box,\n",
    "                         ticks = [],\n",
    "                        aspect_ratio = :equal,\n",
    "                        size = (150,150),\n",
    "                        #background_color=:transparent, foreground_color=:black, \n",
    "                         c = c_leukocytes) \n",
    "        \n",
    "        # plot psrh\n",
    "        p_PSRH = Images.load(\"data/4000x4000_combined/PSRH/\" * f * \".tif\")\n",
    "        push!(plot_array, plot(p_ECM, ticks = [], frame = :box))\n",
    "        push!(plot_array, plot(p_L, ticks = [], frame = :box, left_margin = -5mm))\n",
    "        push!(plot_array, plot(p_PSRH, ticks = [], frame = :box, left_margin = -5mm, \n",
    "        right_margin = 5mm))\n",
    "    end\n",
    "end\n",
    "\n",
    "p = plot(plot_array..., layout = grid(n, 9), size = (250 * 9, 250 * n))\n",
    "savefig(\"analysis/ECM_leukocytes/dim_0/pca_regions.png\")"
   ]
  },
  {
   "cell_type": "code",
   "execution_count": null,
   "metadata": {},
   "outputs": [],
   "source": [
    "# plot the first four eigenvectors\n",
    "gr()\n",
    "\n",
    "# get min and max pixels of the first four eigenvectors\n",
    "eigenvector_min = minimum(minimum.(eigenvectors[i] for i = 1:4))\n",
    "eigenvector_max = maximum(maximum.(eigenvectors[i] for i = 1:4))\n",
    "\n",
    "println(\"min pixel: \", eigenvector_min)\n",
    "println(\"max pixel: \", eigenvector_max)\n",
    "\n",
    "plot_scale = 20 # only show plot_scale% of persistence image\n",
    "ps = [plot_PI2(eigenvectors[i], xmin, xmax, ymin, ymax, \n",
    "            clims = (eigenvector_min, eigenvector_max), \n",
    "            xlabel = \"birth\",\n",
    "            ylabel = \"persistence\",\n",
    "            show_axis = false,\n",
    "            left_margin = 5mm,\n",
    "            bottom_margin = 7mm,\n",
    "            x_tick_interval = 400,\n",
    "            y_tick_interval = 400,\n",
    "            legend = :false # no colorbar \n",
    "            ) for i =1:4]\n",
    "\n",
    "l = @layout[grid(1,4) a{0.05w}] # Stack a layout that rightmost one is for color bar\n",
    "Plots.GridLayout(1, 2)\n",
    "\n",
    "n = 100 # length of colorbar (as a vector)\n",
    "cbar_interval = 0.2\n",
    "cbar_ticks = vcat(reverse(collect(0:cbar_interval: -eigenvector_min))[1:end-1] .* -1, collect(0:cbar_interval:eigenvector_max))\n",
    "cbar_loc = [cbar_tickvals_to_loc(eigenvector_min, eigenvector_max, n, val) for val in cbar_ticks]\n",
    "\n",
    "p = plot(ps..., \n",
    "         heatmap(collect(range(eigenvector_min, eigenvector_max, length = n)) .* ones(n,1), \n",
    "                legend=:none, \n",
    "                xticks=:none,\n",
    "                yticks=(cbar_loc, cbar_ticks)),\n",
    "         layout=l,\n",
    "         topmargin = 3mm,\n",
    "         size = (1000, 200))\n",
    "savefig(\"analysis/ECM_leukocytes/dim_0/eigenvectors.svg\")\n",
    "plot(p)"
   ]
  },
  {
   "attachments": {},
   "cell_type": "markdown",
   "metadata": {},
   "source": [
    "## dim 1"
   ]
  },
  {
   "cell_type": "code",
   "execution_count": null,
   "metadata": {},
   "outputs": [],
   "source": [
    "ROIs = collect(keys(PI1))\n",
    "idx_ROI = Dict(i => roi for (i, roi) in enumerate(ROIs))\n",
    "n = length(ROIs)\n",
    "\n",
    "# create new PI with integers as keys\n",
    "PI = Dict(i => PI1[ROIs[i]] for i=1:n);\n",
    "PD = Dict(i => PD1[ROIs[i]] for i = 1:n);\n",
    "\n",
    "# save(\"analysis/ECM_leukocytes/dim_1/data.jld2\",\n",
    "#    \"idx_ROI\", idx_ROI,\n",
    "#    \"PI\", PI,\n",
    "#    \"PD\", PD);\n"
   ]
  },
  {
   "cell_type": "code",
   "execution_count": null,
   "metadata": {},
   "outputs": [],
   "source": [
    "# load PI, index\n",
    "data = load(\"analysis/ECM_leukocytes/dim_1/data.jld2\")\n",
    "idx_ROI = data[\"idx_ROI\"]\n",
    "n = length(idx_ROI)\n",
    "#PI = Dict(i => PI1[idx_ROI[i]] for i=1:n);\n",
    "#PD = Dict(i => PD1[idx_ROI[i]] for i = 1:n);\n",
    "\n",
    "ROI_idx = Dict(v => k for (k,v) in idx_ROI);"
   ]
  },
  {
   "cell_type": "code",
   "execution_count": null,
   "metadata": {},
   "outputs": [],
   "source": [
    "# recompute PI to get xmin, xmax, ymin, ymax coordinates for PI plots\n",
    "PH_dict = Dict(k => ECM_TDA.array_to_ripsererPD(v) for (k,v) in PD if v != nothing);\n",
    "\n",
    "PIs = PersistenceImage([PH_dict[k] for k in keys(PH_dict)], sigma=50, size = 20)\n",
    "\n",
    "# get ranges of x and y (useful for plotting )\n",
    "xmin = PIs.xs[1]\n",
    "xmax = PIs.xs[end]\n",
    "\n",
    "ymin = PIs.ys[1]\n",
    "ymax = PIs.ys[end];"
   ]
  },
  {
   "attachments": {},
   "cell_type": "markdown",
   "metadata": {},
   "source": [
    "### UMAP"
   ]
  },
  {
   "cell_type": "code",
   "execution_count": null,
   "metadata": {},
   "outputs": [],
   "source": [
    "Random.seed!(10)\n",
    "PI_centered = center_PI(PI);\n",
    "embedding = umap(PI_centered, 2; n_neighbors = 5);"
   ]
  },
  {
   "cell_type": "code",
   "execution_count": null,
   "metadata": {},
   "outputs": [],
   "source": [
    "writedlm(\"analysis/ECM_leukocytes/dim_1/umap.csv\", embedding, \",\")\n",
    "y = embedding = readdlm(\"analysis/ECM_leukocytes/dim_1/umap.csv\", ',');"
   ]
  },
  {
   "cell_type": "code",
   "execution_count": null,
   "metadata": {},
   "outputs": [],
   "source": [
    "gr()\n",
    "n = size(embedding, 2)\n",
    "p = scatter(embedding[1,:], embedding[2,:], \n",
    "        markercolor = \"slategrey\",\n",
    "        markersize = 5, \n",
    "        label = \"\", \n",
    "        xticks = [], \n",
    "        yticks = [], \n",
    "        framestyle = :box,  \n",
    "        xlabel = \"UMAP-1\",\n",
    "        ylabel = \"UMAP-2\",\n",
    "        guidefontsize = 15,\n",
    "        leftmargin = 5mm,\n",
    "        size = (450, 350),\n",
    "        hover = 1:n,\n",
    "        legend = :topright)\n",
    "#savefig(\"analysis/ECM_leukocytes/dim_1/umap.pdf\")\n",
    "plot(p)"
   ]
  },
  {
   "attachments": {},
   "cell_type": "markdown",
   "metadata": {},
   "source": [
    "### PCA"
   ]
  },
  {
   "cell_type": "code",
   "execution_count": null,
   "metadata": {},
   "outputs": [],
   "source": [
    "\n",
    "# compute PCA\n",
    "transformed, eigenvectors, variance_1, variance_2, _ = PI_to_PCA2(PI; pratio = 0.99)\n",
    "\n",
    "\n",
    "# save(\"analysis/ECM_leukocytes/dim_1/PCA.jld2\",\n",
    "#     \"transformed\", transformed,\n",
    "#     \"eigenvectors\", eigenvectors,\n",
    "#     \"variance_1\", variance_1,\n",
    "#     \"variance_2\", variance_2)\n"
   ]
  },
  {
   "cell_type": "code",
   "execution_count": null,
   "metadata": {},
   "outputs": [],
   "source": [
    "# load\n",
    "data = load(\"analysis/ECM_leukocytes/dim_1/PCA.jld2\")\n",
    "transformed = data[\"transformed\"]\n",
    "eigenvectors = data[\"eigenvectors\"]\n",
    "variance_1 = data[\"variance_1\"]\n",
    "variance_2 = data[\"variance_2\"]\n",
    "\n",
    "println(\"number of components: \", length(eigenvectors))\n",
    "println(\"variance explained by 1 eigenvectors: \", variance_1)\n",
    "println(\"variance explained by 2 eigenvectors: \", variance_2)\n",
    "println(\"variance difference between 2 and 1:\", variance_2 - variance_1)"
   ]
  },
  {
   "cell_type": "code",
   "execution_count": null,
   "metadata": {},
   "outputs": [],
   "source": [
    "plotly()\n",
    "p = scatter(transformed[1,:], transformed[2,:], \n",
    "        label = \"\", \n",
    "        hover = collect(1:size(transformed, 2)),\n",
    "        frame = :box,\n",
    "        c = :slategrey,\n",
    "        ticks = [])\n",
    "#savefig(\"analysis/ECM_leukocytes/dim_1/pca.svg\")\n",
    "plot(p)"
   ]
  },
  {
   "cell_type": "code",
   "execution_count": null,
   "metadata": {},
   "outputs": [],
   "source": [
    "# save index of example points\n",
    "R1 = [43, 380, 245]\n",
    "R2 = [381, 237, 279]\n",
    "R3 = [330, 205, 86]\n",
    "R4 = [73, 214, 113]\n"
   ]
  },
  {
   "cell_type": "code",
   "execution_count": null,
   "metadata": {},
   "outputs": [],
   "source": [
    "# plot with regions\n",
    "gr()\n",
    "\n",
    "y = transformed\n",
    "markersize = 3\n",
    "legendfontsize = 5\n",
    "n = size(y, 2)\n",
    "annotated = vcat(R1, R2, R3, R4)\n",
    "nonannotated = [i for i = 1:size(y, 2) if i ∉ annotated]\n",
    "p = scatter(y[1,nonannotated], y[2,nonannotated], \n",
    "        markercolor = \"lightgray\",\n",
    "        alpha = 0.6,\n",
    "        markersize = markersize, \n",
    "        markerstrokewidth = 1,\n",
    "        label = \"\", \n",
    "        xaxis = \"PC1 (46%)\",\n",
    "        yaxis = \"PC2 (19%)\",\n",
    "        xticks = (0,0),\n",
    "        yticks = (0,0),\n",
    "        \n",
    "        guidefontsize = 7,\n",
    "        framestyle = :box,\n",
    "        size = (200, 150),\n",
    "        #leftmargin = 2mm,\n",
    "        legend = :bottomleft\n",
    "        #background_color=:transparent, foreground_color=:black,\n",
    "        )\n",
    "scatter!(y[1,R1], y[2,R1], label = \"\", markersize = markersize, markershape = :rect, markercolor = c1, labels = \"R1\", legendfontsize = legendfontsize)\n",
    "scatter!(y[1,R2], y[2,R2], label = \"\", markersize = markersize, markershape = :utriangle, markercolor = c2, labels = \"R2\")\n",
    "scatter!(y[1,R3], y[2,R3], label = \"\", markersize = markersize, markershape = :star, markercolor = c3, labels = \"R3\")\n",
    "scatter!(y[1,R4], y[2,R4], label = \"\", markersize = markersize, markershape = :diamond, markercolor = c4, labels = \"R4\")\n",
    "savefig(\"analysis/ECM_leukocytes/dim_1/pca.svg\")\n",
    "plot(p)"
   ]
  },
  {
   "cell_type": "code",
   "execution_count": null,
   "metadata": {},
   "outputs": [],
   "source": [
    "regions = Dict(1 => R1, 2=> R2, 3=> R3, 4=> R4)\n",
    "\n",
    "plot_array = []\n",
    "n = length(regions)\n",
    "for i=1:n\n",
    "    R = regions[i]\n",
    "    for idx in R\n",
    "        f = idx_ROI[idx]\n",
    "        df = CSV.read(\"data/4000x4000_combined/subregion_cells/\" * f * \".csv\")\n",
    "        \n",
    "        # plot ECM\n",
    "        p_ECM = Images.load(\"data/4000x4000_combined/subregion_ECM/\" * f * \".tif\" )\n",
    "        \n",
    "        # plot leukocytes\n",
    "        df_cell = df[df.class .== \"leukocytes\", :]\n",
    "        p_L = scatter(df_cell.x, df_cell.y,\n",
    "                         markersize = 1.5,\n",
    "                         yflip = true,\n",
    "                         label = \"\",\n",
    "                         markerstrokewidth = 0.2,\n",
    "                         frame = :box,\n",
    "                         ticks = [],\n",
    "                        aspect_ratio = :equal,\n",
    "                        size = (150,150),\n",
    "                        #background_color=:transparent, foreground_color=:black, \n",
    "                         c = c_leukocytes) \n",
    "        \n",
    "        # plot psrh\n",
    "        p_PSRH = Images.load(\"data/4000x4000_combined/PSRH/\" * f * \".tif\")\n",
    "        push!(plot_array, plot(p_ECM, ticks = [], frame = :box))\n",
    "        push!(plot_array, plot(p_L, ticks = [], frame = :box, left_margin = -5mm))\n",
    "        push!(plot_array, plot(p_PSRH, ticks = [], frame = :box, left_margin = -5mm, \n",
    "        right_margin = 5mm))\n",
    "    end\n",
    "end\n",
    "\n",
    "p = plot(plot_array..., layout = grid(n, 9), size = (250 * 9, 250 * n))\n",
    "savefig(\"analysis/ECM_leukocytes/dim_1/pca_regions.png\")"
   ]
  },
  {
   "cell_type": "code",
   "execution_count": null,
   "metadata": {},
   "outputs": [],
   "source": [
    "# plot the first four eigenvectors\n",
    "gr()\n",
    "\n",
    "# get min and max pixels of the first four eigenvectors\n",
    "eigenvector_min = minimum(minimum.(eigenvectors[i] for i = 1:4))\n",
    "eigenvector_max = maximum(maximum.(eigenvectors[i] for i = 1:4))\n",
    "\n",
    "println(\"min pixel: \", eigenvector_min)\n",
    "println(\"max pixel: \", eigenvector_max)\n",
    "\n",
    "plot_scale = 20 # only show plot_scale% of persistence image\n",
    "ps = [plot_PI2(eigenvectors[i], xmin, xmax, ymin, ymax, \n",
    "            clims = (eigenvector_min, eigenvector_max), \n",
    "            xlabel = \"birth\",\n",
    "            ylabel = \"persistence\",\n",
    "            show_axis = false,\n",
    "            left_margin = 5mm,\n",
    "            bottom_margin = 7mm,\n",
    "            x_tick_interval = 600,\n",
    "            y_tick_interval = 400,\n",
    "            legend = :false # no colorbar \n",
    "            ) for i =1:4]\n",
    "\n",
    "l = @layout[grid(1,4) a{0.05w}] # Stack a layout that rightmost one is for color bar\n",
    "Plots.GridLayout(1, 2)\n",
    "\n",
    "n = 100 # length of colorbar (as a vector)\n",
    "cbar_interval = 0.2\n",
    "cbar_ticks = vcat(reverse(collect(0:cbar_interval: -eigenvector_min))[1:end-1] .* -1, collect(0:cbar_interval:eigenvector_max))\n",
    "cbar_loc = [cbar_tickvals_to_loc(eigenvector_min, eigenvector_max, n, val) for val in cbar_ticks]\n",
    "\n",
    "p = plot(ps..., \n",
    "         heatmap(collect(range(eigenvector_min, eigenvector_max, length = n)) .* ones(n,1), \n",
    "                legend=:none, \n",
    "                xticks=:none,\n",
    "                yticks=(cbar_loc, cbar_ticks)),\n",
    "         layout=l,\n",
    "         topmargin = 3mm,\n",
    "         size = (1000, 200))\n",
    "savefig(\"analysis/ECM_leukocytes/dim_1/eigenvectors.svg\")\n",
    "plot(p)"
   ]
  },
  {
   "cell_type": "markdown",
   "metadata": {},
   "source": [
    "## ECM leukocytes comdined dim 0 and dim 1"
   ]
  },
  {
   "cell_type": "code",
   "execution_count": null,
   "metadata": {},
   "outputs": [],
   "source": [
    "# load data\n",
    "systems = \"ECM_leukocytes\"\n",
    "data = load(\"data/4000x4000_combined/Dowker/ECM_leukocytes/PD.jld2\")\n",
    "\n",
    "PD0 = data[\"PD0\"]\n",
    "PD1 = data[\"PD1\"]\n",
    "PI0 = compute_PI2(PD0)\n",
    "PI1 = compute_PI2(PD1)\n",
    "PD0_max = data[\"PD0_max\"]\n",
    "PD1_max = data[\"PD1_max\"];\n",
    "\n",
    "features = combine_PI0_PI1_dicts_Dowker(PI0, PI1);"
   ]
  },
  {
   "cell_type": "code",
   "execution_count": null,
   "metadata": {},
   "outputs": [],
   "source": [
    "# recompute PI \n",
    "# recompute coarser PI \n",
    "\n",
    "PH0_dict = Dict(k => ECM_TDA.array_to_ripsererPD(v) for (k,v) in PD0 if v != nothing);\n",
    "PH1_dict = Dict(k => ECM_TDA.array_to_ripsererPD(v) for (k,v) in PD1 if v != nothing);\n",
    "\n",
    "pi0 = PersistenceImage([PH0_dict[k] for k in keys(PH0_dict)], sigma=50, size = 20)\n",
    "pi1 = PersistenceImage([PH1_dict[k] for k in keys(PH1_dict)], sigma=50, size = 20)\n",
    "\n",
    "\n",
    "PI0 = Dict()\n",
    "for i in keys(PH0_dict)\n",
    "    PI0[i] = pi0(PH0_dict[i])\n",
    "end\n",
    "\n",
    "PI1 = Dict()\n",
    "for i in keys(PH1_dict)\n",
    "    PI1[i] = pi1(PH1_dict[i])\n",
    "end\n",
    "\n",
    "# save the min, max coordinates of PDs (useful for plotting)\n",
    "PI0_xmin = pi0.xs[1]\n",
    "PI0_xmax = pi0.xs[end]\n",
    "PI0_ymin = pi0.ys[1]\n",
    "PI0_ymax = pi0.ys[end]\n",
    "\n",
    "PI1_xmin = pi1.xs[1]\n",
    "PI1_xmax = pi1.xs[end]\n",
    "PI1_ymin = pi1.ys[1]\n",
    "PI1_ymax = pi1.ys[end]\n",
    "\n",
    "# save(\"data/4000x4000_combined/Dowker/ECM_leukocytes/PI_ranges.jld2\",\n",
    "#     \"PI0_xmin\", PI0_xmin,\n",
    "#     \"PI0_xmax\", PI0_xmax,\n",
    "#     \"PI0_ymin\", PI0_ymin,\n",
    "#     \"PI0_ymax\", PI0_ymax,\n",
    "#     \"PI1_xmin\", PI1_xmin,\n",
    "#     \"PI1_xmax\", PI1_xmax,\n",
    "#     \"PI1_ymin\", PI1_ymin,\n",
    "#     \"PI1_ymax\", PI1_ymax)"
   ]
  },
  {
   "cell_type": "code",
   "execution_count": null,
   "metadata": {},
   "outputs": [],
   "source": [
    "#ROIs = collect(keys(features))\n",
    "#idx_ROI = Dict(i => roi for (i, roi) in enumerate(ROIs));\n",
    "\n",
    "#save(\"analysis/ECM_leukocytes/dim_01_combined/idx_ROI.jld2\", \"idx_ROI\", idx_ROI)\n",
    "idx_ROI = load(\"analysis/ECM_leukocytes/dim_01_combined/idx_ROI.jld2\")[\"idx_ROI\"];\n",
    "ROI_idx = Dict(v => k for (k,v) in idx_ROI);"
   ]
  },
  {
   "cell_type": "code",
   "execution_count": null,
   "metadata": {},
   "outputs": [],
   "source": [
    "# prepare features array\n",
    "n = length(idx_ROI)\n",
    "features_array = hcat([features[idx_ROI[i]] for i = 1:n]...)\n",
    "println(\"features array shape: \", size(features_array))\n",
    "\n",
    "features_centered = features_array .- mean(features_array, dims = 2);"
   ]
  },
  {
   "cell_type": "markdown",
   "metadata": {},
   "source": [
    "### UMAP"
   ]
  },
  {
   "cell_type": "code",
   "execution_count": null,
   "metadata": {},
   "outputs": [],
   "source": [
    "embedding = umap(features_centered, 2; n_neighbors = 5);"
   ]
  },
  {
   "cell_type": "code",
   "execution_count": null,
   "metadata": {},
   "outputs": [],
   "source": [
    "#writedlm(\"analysis/ECM_leukocytes/dim_01_combined/umap.csv\", embedding, \",\")\n",
    "#embedding = readdlm(\"analysis/ECM_leukocytes/dim_01_combined/umap.csv\", ',');"
   ]
  },
  {
   "cell_type": "code",
   "execution_count": null,
   "metadata": {},
   "outputs": [],
   "source": [
    "gr()\n",
    "n = size(embedding, 2)\n",
    "p = scatter(embedding[1,:], embedding[2,:], \n",
    "        markercolor = \"slategrey\",\n",
    "        markersize = 5, \n",
    "        label = \"\", \n",
    "        xticks = [], \n",
    "        yticks = [], \n",
    "        framestyle = :box,  \n",
    "        xlabel = \"UMAP-1\",\n",
    "        ylabel = \"UMAP-2\",\n",
    "        guidefontsize = 15,\n",
    "        leftmargin = 5mm,\n",
    "        size = (450, 350),\n",
    "        #hover = 1:n,\n",
    "        legend = :topright)\n",
    "#savefig(\"analysis/ECM_leukocytes/dim_01_combined/umap.svg\")"
   ]
  },
  {
   "cell_type": "markdown",
   "metadata": {},
   "source": [
    "### PCA"
   ]
  },
  {
   "cell_type": "code",
   "execution_count": null,
   "metadata": {},
   "outputs": [],
   "source": [
    "transformed, variance_1, variance_2, variance_4 = centered_features_to_PCA(features_centered)\n",
    "println(variance_1)\n",
    "println(variance_2)"
   ]
  },
  {
   "cell_type": "code",
   "execution_count": null,
   "metadata": {},
   "outputs": [],
   "source": [
    "writedlm(\"analysis/ECM_leukocytes/dim_01_combined/PCA.csv\", transformed, \",\")"
   ]
  },
  {
   "cell_type": "code",
   "execution_count": null,
   "metadata": {},
   "outputs": [],
   "source": [
    "p = scatter(transformed[1,:], transformed[2,:], \n",
    "        label = \"\", \n",
    "        hover = collect(1:size(transformed, 2)),\n",
    "        frame = :box,\n",
    "        xlabel = \"PCA1(58%)\",\n",
    "        ylabel = \"PCA2(75%)\",\n",
    "        c = :slategrey,\n",
    "        size = (500, 500),\n",
    "        ticks = [])\n",
    "savefig(\"analysis/ECM_leukocytes/dim_01_combined/PCA.svg\")\n",
    "plot(p)"
   ]
  }
 ],
 "metadata": {
  "@webio": {
   "lastCommId": null,
   "lastKernelId": null
  },
  "kernelspec": {
   "display_name": "Julia 1.6.3",
   "language": "julia",
   "name": "julia-1.6"
  },
  "language_info": {
   "file_extension": ".jl",
   "mimetype": "application/julia",
   "name": "julia",
   "version": "1.6.3"
  }
 },
 "nbformat": 4,
 "nbformat_minor": 4
}
