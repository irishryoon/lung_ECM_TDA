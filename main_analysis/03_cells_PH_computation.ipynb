{
 "cells": [
  {
   "cell_type": "code",
   "execution_count": null,
   "metadata": {},
   "outputs": [],
   "source": [
    "#include(\"src/helper.jl\")\n",
    "#using .helper\n",
    "using Eirene\n",
    "using Ripserer\n",
    "using CSV\n",
    "using TiffImages\n",
    "using Images\n",
    "using NPZ\n",
    "using Plots\n",
    "using PersistenceDiagrams\n",
    "using Measures\n",
    "using Distributions\n",
    "using MultivariateStats\n",
    "using LinearAlgebra\n",
    "using Random\n",
    "using StatsBase\n",
    "using JLD2\n",
    "using FileIO\n",
    "using PersistenceDiagrams\n",
    "using DelimitedFiles\n",
    "using UMAP\n"
   ]
  },
  {
   "cell_type": "code",
   "execution_count": null,
   "metadata": {},
   "outputs": [],
   "source": [
    "include(\"../src/ECM_TDA.jl\")\n",
    "using .ECM_TDA"
   ]
  },
  {
   "cell_type": "code",
   "execution_count": null,
   "metadata": {},
   "outputs": [],
   "source": [
    "# color palettes\n",
    "c1 = \"#E64B35FF\" # red\n",
    "c2 = \"#4DBBD5FF\" # blue\n",
    "c3 = \"#00A087FF\" # green\n",
    "c4 = \"#3C5488FF\" # dark blue\n",
    "c5 = \"#F39B7FFF\" # salmon\n",
    "c6 = \"#8491B4FF\""
   ]
  },
  {
   "cell_type": "code",
   "execution_count": null,
   "metadata": {},
   "outputs": [],
   "source": [
    "# assign colors to cell types\n",
    "c_cancer = \"#2EC4B6\" # light blue\n",
    "c_leukocytes = \"#CDCDCD\"  # grey\n",
    "c_fibroblast= \"#7209B7\" # purple\n",
    "c_ECM = \"#EF476F\" # pink\n",
    "#FFC300 : yellow\n",
    "\n",
    "celltype_colors = Dict(\"cancer\" => c_cancer, \n",
    "                        \"leukocytes\"=> c_leukocytes, \n",
    "                        \"fibroblast\"=> c_fibroblast);"
   ]
  },
  {
   "cell_type": "markdown",
   "metadata": {
    "heading_collapsed": true
   },
   "source": [
    "# 1. Plot example (check alignment)"
   ]
  },
  {
   "cell_type": "markdown",
   "metadata": {
    "hidden": true
   },
   "source": [
    "### original ROI"
   ]
  },
  {
   "cell_type": "code",
   "execution_count": null,
   "metadata": {
    "hidden": true
   },
   "outputs": [],
   "source": [
    "LTX = \"001\"\n",
    "Da = \"232\"\n",
    "idx = 1\n",
    "\n",
    "# load ECM image\n",
    "image_path = \"data/4000x4000/subregion_ECM/LTX\" * LTX * \"_Da\" * Da * \"_idx\" * string(idx) * \".tif\"\n",
    "img = Array(Images.load(image_path));\n",
    "\n",
    "# load sampled ECM\n",
    "ecm_points_path = \"data/4000x4000_combined/ECM_sampled/points_CSV/LTX\" * LTX * \"_Da\" * Da * \"_idx\" * string(idx) * \".csv\" \n",
    "ECM_points = CSV.read(ecm_points_path)\n",
    "\n",
    "# load cells\n",
    "cell_path = \"data/4000x4000_combined/subregion_cells/LTX\" * LTX * \"_Da\" * Da * \"_idx\" * string(idx) * \".csv\"\n",
    "cells = CSV.read(cell_path);"
   ]
  },
  {
   "cell_type": "code",
   "execution_count": null,
   "metadata": {
    "hidden": true
   },
   "outputs": [],
   "source": [
    "gr()\n",
    "p1 = plot(Gray.(img), frame = :box, ticks = [], size = (300, 300), background_color=:transparent, foreground_color=:black)\n",
    "p2 = scatter(ECM_points[:,1], ECM_points[:,2], yflip = :true, c = c_ECM, label = \"\", frame = :box, ticks = [], markersize = 2, background_color=:transparent, foreground_color=:black)\n",
    "plot(p1, p2, size = (600, 300))"
   ]
  },
  {
   "cell_type": "code",
   "execution_count": null,
   "metadata": {
    "hidden": true
   },
   "outputs": [],
   "source": [
    "cell_types =[\"cancer\", \"leukocytes\"]\n",
    "plot_array = Any[]\n",
    "for ct in cell_types\n",
    "    # get locations of cell type\n",
    "    cell_ct = cells[cells.class .== ct, :]\n",
    "    c = celltype_colors[ct]\n",
    "    p_ct = scatter(cell_ct.x, cell_ct.y,\n",
    "                 markersize = 2,\n",
    "                 yflip = true,\n",
    "                 label = ct,\n",
    "                 markerstrokewidth = 0.2,\n",
    "                 frame = :box,\n",
    "                 ticks = [],\n",
    "                 c = c) \n",
    "    push!(plot_array, p_ct)\n",
    "end\n",
    "\n",
    "plot(plot_array..., layout = grid(1,2), size = (800, 400))"
   ]
  },
  {
   "cell_type": "markdown",
   "metadata": {},
   "source": [
    "# 2. Compute PH for cancer cells and leukocytes"
   ]
  },
  {
   "cell_type": "code",
   "execution_count": null,
   "metadata": {},
   "outputs": [],
   "source": [
    "dir = \"data/4000x4000_combined/subregion_cells/\"\n",
    "csv_files = [item for item in walkdir(dir)][1][3:end][1];"
   ]
  },
  {
   "cell_type": "code",
   "execution_count": null,
   "metadata": {},
   "outputs": [],
   "source": [
    "PD0_cancer = Dict()\n",
    "PD0_leukocytes = Dict()\n",
    "PD1_cancer = Dict()\n",
    "PD1_leukocytes = Dict()\n",
    "\n",
    "for file in csv_files\n",
    "\n",
    "    cells = CSV.read(dir * file)\n",
    "    cancer_PD0, cancer_PD1 = run_PH_cell_type(cells; celltype = \"cancer\")\n",
    "    leukocytes_PD0, leukocytes_PD1 = run_PH_cell_type(cells; celltype = \"leukocytes\")\n",
    "    \n",
    "    # save\n",
    "    filename = split(file, \".\")[1]\n",
    "    writedlm(\"data/4000x4000_combined/cells_PD/cancer/PD0/\" * filename * \".csv\", cancer_PD0, \",\")\n",
    "    writedlm(\"data/4000x4000_combined/cells_PD/cancer/PD1/\" * filename * \".csv\", cancer_PD1, \",\")\n",
    "    writedlm(\"data/4000x4000_combined/cells_PD/leukocytes/PD0/\" * filename * \".csv\", leukocytes_PD0, \",\")\n",
    "    writedlm(\"data/4000x4000_combined/cells_PD/leukocytes/PD1/\" * filename * \".csv\", leukocytes_PD1, \",\")\n",
    "\n",
    "    \n",
    "    # combine to dictionary\n",
    "    PD0_cancer[filename] = cancer_PD0\n",
    "    PD1_cancer[filename] = cancer_PD1\n",
    "    PD0_leukocytes[filename] = leukocytes_PD0\n",
    "    PD1_leukocytes[filename] = leukocytes_PD1\n",
    "end"
   ]
  },
  {
   "cell_type": "code",
   "execution_count": null,
   "metadata": {},
   "outputs": [],
   "source": [
    "save(\"data/4000x4000_combined/cells_PD/PD.jld2\",\n",
    "    \"PD0_cancer\", PD0_cancer,\n",
    "    \"PD1_cancer\", PD1_cancer,\n",
    "    \"PD0_leukocytes\", PD0_leukocytes,\n",
    "    \"PD1_leukocytes\", PD1_leukocytes)"
   ]
  },
  {
   "cell_type": "markdown",
   "metadata": {},
   "source": [
    "Compute persistence image"
   ]
  },
  {
   "cell_type": "code",
   "execution_count": null,
   "metadata": {},
   "outputs": [],
   "source": [
    "PH0_cancer = Dict(k => ECM_TDA.array_to_ripsererPD(v) for (k,v) in PD0_cancer)\n",
    "PH1_cancer = Dict(k => ECM_TDA.array_to_ripsererPD(v) for (k,v) in PD1_cancer)\n",
    "PH0_leukocytes = Dict(k => ECM_TDA.array_to_ripsererPD(v) for (k,v) in PD0_leukocytes)\n",
    "PH1_leukocytes = Dict(k => ECM_TDA.array_to_ripsererPD(v) for (k,v) in PD1_leukocytes);\n"
   ]
  },
  {
   "cell_type": "code",
   "execution_count": null,
   "metadata": {},
   "outputs": [],
   "source": [
    "PI0_cancer= ECM_TDA.compute_PI(PH0_cancer)\n",
    "PI1_cancer = ECM_TDA.compute_PI(PH1_cancer)\n",
    "PI0_leukocytes = ECM_TDA.compute_PI(PH0_leukocytes)\n",
    "PI1_leukocytes = ECM_TDA.compute_PI(PH1_leukocytes)\n"
   ]
  },
  {
   "cell_type": "code",
   "execution_count": null,
   "metadata": {},
   "outputs": [],
   "source": [
    "save(\"data/4000x4000_combined/cells_PD/PI.jld2\",\n",
    "    \"PI0_cancer\", PI0_cancer,\n",
    "    \"PI1_cancer\", PI1_cancer,\n",
    "    \"PI0_leukocytes\", PI0_leukocytes,\n",
    "    \"PI1_leukocytes\", PI1_leukocytes)"
   ]
  },
  {
   "cell_type": "code",
   "execution_count": null,
   "metadata": {},
   "outputs": [],
   "source": [
    "cancer0_max = get_PD0_max(PD0_cancer)\n",
    "leukocytes0_max = get_PD0_max(PD0_leukocytes)\n",
    "\n",
    "cancer1_max = get_PD1_max(PD1_cancer)\n",
    "leukocytes1_max = get_PD1_max(PD1_leukocytes)"
   ]
  },
  {
   "cell_type": "code",
   "execution_count": null,
   "metadata": {},
   "outputs": [],
   "source": [
    "# save the max values\n",
    "\n",
    "save(\"data/4000x4000_combined/cells_PD/PD_max.jld2\", \n",
    "    \"cancer0_max\", cancer0_max,\n",
    "    \"cancer1_max\", cancer1_max,\n",
    "    \"leukocytes0_max\", leukocytes0_max,\n",
    "    \"leukocytes1_max\", leukocytes1_max)\n"
   ]
  },
  {
   "cell_type": "code",
   "execution_count": null,
   "metadata": {},
   "outputs": [],
   "source": []
  }
 ],
 "metadata": {
  "@webio": {
   "lastCommId": null,
   "lastKernelId": null
  },
  "kernelspec": {
   "display_name": "Julia 1.6.3",
   "language": "julia",
   "name": "julia-1.6"
  },
  "language_info": {
   "file_extension": ".jl",
   "mimetype": "application/julia",
   "name": "julia",
   "version": "1.6.3"
  }
 },
 "nbformat": 4,
 "nbformat_minor": 4
}
