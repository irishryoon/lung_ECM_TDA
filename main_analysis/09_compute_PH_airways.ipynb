{
 "cells": [
  {
   "attachments": {},
   "cell_type": "markdown",
   "metadata": {},
   "source": [
    "# Compute PH on \"all cells\": a combination of sampled ECM, cancer cells, and leukcoytes.\n",
    "Studying all cells can give insight into the shape and structure of airways.\n",
    " "
   ]
  },
  {
   "cell_type": "code",
   "execution_count": null,
   "metadata": {},
   "outputs": [],
   "source": [
    "\n",
    "include(\"../src/ECM_TDA.jl\")\n",
    "using .ECM_TDA\n",
    "\n",
    "\n",
    "using Eirene\n",
    "using Ripserer\n",
    "using CSV\n",
    "using TiffImages\n",
    "using Images\n",
    "using NPZ\n",
    "using Plots\n",
    "using PersistenceDiagrams\n",
    "using Measures\n",
    "using Distributions\n",
    "using MultivariateStats\n",
    "using LinearAlgebra\n",
    "using Random\n",
    "using StatsBase\n",
    "using JLD2\n",
    "using FileIO\n",
    "using PersistenceDiagrams\n",
    "using DelimitedFiles\n",
    "using Distances\n",
    "using UMAP\n"
   ]
  },
  {
   "cell_type": "code",
   "execution_count": null,
   "metadata": {},
   "outputs": [],
   "source": [
    "# color palettes\n",
    "c_ECM = \"#249EA0\" # teal\n",
    "c_cancer = \"#592693\" # purple\n",
    "c_leukocytes = \"#FAAB36\" # orange\n",
    "\n",
    "# color palettes\n",
    "\n",
    "c1 = \"#fd5184\" # pink\n",
    "c2 = \"#ffb602\" # orange\n",
    "c3 = \"#3ec0c9\" # blue / teal \n",
    "c4 = \"#d753ce\" # purple\n",
    "c5 = \"#49a849\"  # green\n",
    "c6 = \"#F28522\"\n",
    "c7 = \"#265BF5\"\n",
    "c8 = \"#AEF359\" # lime green\n",
    "\n",
    "# colors to 5 histological subtypes\n",
    "c_acinar = \"#fd5184\" # pink\n",
    "c_lepidic = \"#49a849\" #green\n",
    "c_solid = \"#d753ce\" # purple\n",
    "c_papillary = \"#3ec0c9\" # blue / teal\n",
    "c_im = \"#ffb602\" # orange \n",
    "c_stromal = \"#F28522\" # darker orange\n",
    "\n",
    "# markers to 5 histological subtypes\n",
    "m_acinar = :rect\n",
    "m_lepidic = :utriangle\n",
    "m_solid = :diamond\n",
    "m_papillary = :star\n",
    "m_im = :pentagon\n",
    "m_stromal = :dtriangle\n",
    "\n"
   ]
  },
  {
   "attachments": {},
   "cell_type": "markdown",
   "metadata": {},
   "source": [
    "# PH analysis on combined cells (cancer, leukocytes, ECM points) to study the airways"
   ]
  },
  {
   "attachments": {},
   "cell_type": "markdown",
   "metadata": {},
   "source": [
    "## run PH"
   ]
  },
  {
   "cell_type": "code",
   "execution_count": null,
   "metadata": {},
   "outputs": [],
   "source": [
    "dir = \"data/4000x4000_combined/subregion_cells/\"\n",
    "csv_files = [item for item in walkdir(dir)][1][3:end][1];\n",
    "\n",
    "# load subregions\n",
    "subregion_centers = load(\"data/4000x4000/subregion_centers.jld2\")[\"subregion_centers\"];\n",
    "subregion_centers_green = load(\"data/4000x4000_201222/subregion_centers_green.jld2\")[\"subregion_centers_green\"];\n",
    "subregion_centers_purple = load(\"data/4000x4000_201222/subregion_centers_purple.jld2\")[\"subregion_centers_purple\"];\n",
    "subregion_all = merge(subregion_centers, subregion_centers_green, subregion_centers_purple);\n",
    "\n",
    "all_PD0 = Dict()\n",
    "all_PD1 = Dict()\n",
    "\n",
    "for file in csv_files\n",
    "    LTX = split(file, \"_\")[1][4:end]\n",
    "    Da = split(file, \"_\")[2][3:end]\n",
    "    idx = parse(Int,string(split(file, \".\")[1][end]))\n",
    "    filename = file[1:end-4]\n",
    "    \n",
    "    # load cells\n",
    "    cells = CSV.read(\"data/4000x4000_combined/subregion_cells/\" * file);\n",
    "    all_cells = cells[2:3]\n",
    "    \n",
    "    # load ECM points\n",
    "    cells_ECM =  CSV.read(\"data/4000x4000_combined/ECM_sampled/points_CSV/\" * file);\n",
    "    \n",
    "    # adjust indices of \n",
    "    center_x, center_y = subregion_all[(LTX,Da)][idx]\n",
    "    subregion_size = 4000\n",
    "    xmin, xmax, ymin, ymax = get_subregion_boundaries(center_x, center_y, subregion_size)\n",
    "\n",
    "    # adjust index of cells\n",
    "    n = size(all_cells, 1)\n",
    "    all_cells_new = all_cells .- hcat(ones(n) * ymin, ones(n) * xmin);\n",
    "\n",
    "    # combine cell locations and ECM \n",
    "    all_points = vcat(all_cells_new, cells_ECM);\n",
    "    \n",
    "    # convert to Ripser\n",
    "    P = [tuple(all_points[i, :x], all_points[i, :y]) for i = 1:size(all_points,1)]\n",
    "\n",
    "    # Run ripser (cohomology)\n",
    "    PD = ripserer(P)\n",
    "    PD0 = RipsererPD_to_array(PD[1])\n",
    "    PD1 = RipsererPD_to_array(PD[2])\n",
    "    \n",
    "     # save\n",
    "    filename = split(file, \".\")[1]\n",
    "    writedlm(\"data/4000x4000_combined/all_cells_PD/PD0/\" * file, PD0, \",\")\n",
    "    writedlm(\"data/4000x4000_combined/all_cells_PD/PD1/\" * file, PD1, \",\")\n",
    "    \n",
    "    # combine to dictionary\n",
    "    all_PD0[filename] = PD0\n",
    "    all_PD1[filename] = PD1\n",
    "    \n",
    "end"
   ]
  },
  {
   "cell_type": "code",
   "execution_count": null,
   "metadata": {},
   "outputs": [],
   "source": [
    "# convert to Ripser PD\n",
    "# PH0 = Dict(k => ECM_TDA.array_to_ripsererPD(v) for (k,v) in all_PD0 if v != reshape(Array([0.0]), 1, 1))\n",
    "# PH1 = Dict(k => ECM_TDA.array_to_ripsererPD(v) for (k,v) in all_PD1 if v != reshape(Array([0.0]), 1, 1))\n",
    "\n",
    "# # compute PI\n",
    "# PI0 = ECM_TDA.compute_PI(PH0)\n",
    "# PI1 = ECM_TDA.compute_PI(PH1);\n",
    "\n",
    "# save(\"data/4000x4000_combined/all_cells_PD/PD.jld2\", \n",
    "#     \"PD0\", all_PD0, \n",
    "#     \"PD1\", all_PD1, \n",
    "#     \"PI0\", PI0, \n",
    "#     \"PI1\", PI1)"
   ]
  }
 ],
 "metadata": {
  "@webio": {
   "lastCommId": "cc56da654e5f4da39b5e70f38640b73f",
   "lastKernelId": "fb7cbae3-1cde-458c-a9b0-ed9e0ff7243e"
  },
  "kernelspec": {
   "display_name": "Julia 1.6.3",
   "language": "julia",
   "name": "julia-1.6"
  },
  "language_info": {
   "file_extension": ".jl",
   "mimetype": "application/julia",
   "name": "julia",
   "version": "1.6.3"
  }
 },
 "nbformat": 4,
 "nbformat_minor": 4
}
