{
 "cells": [
  {
   "attachments": {},
   "cell_type": "markdown",
   "metadata": {},
   "source": [
    "# sample points from ECM in each subregion.\n",
    "Sampling points from ECM is a three step process:  \n",
    "(i) For each pixel in the image with pixel value `p`, sample a point from Binomial(p^2).  \n",
    "(ii) Remove \"island\" points: points that have less than M points in its neighborhood.  \n",
    "(iii) Downsample"
   ]
  },
  {
   "cell_type": "code",
   "execution_count": null,
   "metadata": {
    "scrolled": true
   },
   "outputs": [],
   "source": [
    "include(\"src/ECM_TDA.jl\")\n",
    "using .ECM_TDA\n",
    "\n",
    "using Images\n",
    "using CSV\n",
    "using Plots\n",
    "using JLD2\n",
    "using Random\n",
    "using StatsBase\n",
    "using Distributions\n",
    "using DataFrames\n"
   ]
  },
  {
   "cell_type": "code",
   "execution_count": null,
   "metadata": {},
   "outputs": [],
   "source": [
    "gr()\n",
    "c_ECM = \"#259ea1\""
   ]
  },
  {
   "attachments": {},
   "cell_type": "markdown",
   "metadata": {},
   "source": [
    "# 1. Illustration of sampling process in example image"
   ]
  },
  {
   "attachments": {},
   "cell_type": "markdown",
   "metadata": {},
   "source": [
    "Load example sub-image"
   ]
  },
  {
   "cell_type": "code",
   "execution_count": null,
   "metadata": {},
   "outputs": [],
   "source": [
    "Examples = [(\"145\", \"211\", 3), (\"001\", \"374\", 2), (\"021\", \"110\", 1), (\"049\", \"134\", 1), (\"124\", \"104\", 1)]"
   ]
  },
  {
   "cell_type": "code",
   "execution_count": null,
   "metadata": {},
   "outputs": [],
   "source": [
    "# open image\n",
    "i = 1\n",
    "LTX = Examples[i][1]\n",
    "Da = Examples[i][2]\n",
    "idx = Examples[i][3]\n",
    "\n",
    "image_path = \"data/4000x4000/subregion_ECM/LTX\" * LTX * \"_Da\" * Da * \"_idx\" * string(idx) * \".tif\"\n",
    "\n",
    "img = Array(Images.load(image_path));"
   ]
  },
  {
   "cell_type": "code",
   "execution_count": null,
   "metadata": {
    "scrolled": true
   },
   "outputs": [],
   "source": [
    "resampled, points, sampled, island_idx = sample_ECM_points(img, vicinity = 100, n_points = 5)"
   ]
  },
  {
   "attachments": {},
   "cell_type": "markdown",
   "metadata": {},
   "source": [
    "Plot all steps of the sampling process"
   ]
  },
  {
   "cell_type": "code",
   "execution_count": null,
   "metadata": {
    "scrolled": false
   },
   "outputs": [],
   "source": [
    "gr()\n",
    "p1 = plot(Gray.(img), frame = :box, ticks = [])\n",
    "p2 = plot(Gray.(1 .- sampled), frame = :box, ticks = [])\n",
    "p3 = plot(Gray.(1 .- sampled), frame = :box, ticks = [])\n",
    "scatter!(p3, points[island_idx,1], points[island_idx,2], yflip = :true, c = \"#ff6b6b\", label = \"\", frame = :box, ticks = [], markershape = :xcross, markersize = 3, markerstrokewidth = 2)\n",
    "p4 = scatter(resampled[:,1], resampled[:,2], yflip = :true, c = c_ECM, label = \"\", frame = :box, ticks = [])\n",
    "p = plot(p1, p2, p3, p4, layout = grid(1,4), size = (1200, 300), background_color=:transparent, foreground_color=:black)\n",
    "plot(p)\n",
    "savefig(\"figures/sampling_process.svg\")"
   ]
  },
  {
   "attachments": {},
   "cell_type": "markdown",
   "metadata": {},
   "source": [
    "# 2. Sample points from all ECM images\n",
    "* Determine the number of points to sample from each ECM image  \n",
    "    * based on histogram of mean ECM pixel values\n",
    "* For each ECM subregion, sample points\n",
    "    * save the figure of the final points and removed islands (for reference)\n",
    "    * save locations of final points for analysis"
   ]
  },
  {
   "attachments": {},
   "cell_type": "markdown",
   "metadata": {},
   "source": [
    "## 2(a) Determine the number of points to sample from ECM image."
   ]
  },
  {
   "attachments": {},
   "cell_type": "markdown",
   "metadata": {},
   "source": [
    "Load all ECM images"
   ]
  },
  {
   "cell_type": "code",
   "execution_count": null,
   "metadata": {},
   "outputs": [],
   "source": [
    "function get_ECM_mean_pixels(directory)\n",
    "    files =  [item for item in walkdir(directory)][1][3]\n",
    "    ECM_mean_pixels = []\n",
    "    for filename in files\n",
    "        img = Array(Images.load(directory * filename))\n",
    "        push!(ECM_mean_pixels, mean(Float64.(img)))\n",
    "    end\n",
    "    return ECM_mean_pixels\n",
    "end"
   ]
  },
  {
   "cell_type": "code",
   "execution_count": null,
   "metadata": {},
   "outputs": [],
   "source": [
    "ECM_directory1 = \"data/4000x4000/subregion_ECM/\"\n",
    "ECM_directory2 = \"data/4000x4000_201222/subregion_ECM_green/\"\n",
    "ECM_directory3 = \"data/4000x4000_201222/subregion_ECM_purple/\"\n",
    "ECM_pixels1 = get_ECM_mean_pixels(ECM_directory1)\n",
    "ECM_pixels2 = get_ECM_mean_pixels(ECM_directory2)\n",
    "ECM_pixels3 = get_ECM_mean_pixels(ECM_directory3);"
   ]
  },
  {
   "cell_type": "code",
   "execution_count": null,
   "metadata": {},
   "outputs": [],
   "source": [
    "# invert ECM values so that mean pixel value close to 1 has high ECM content\n",
    "ECM_pixels = vcat(ECM_pixels1, ECM_pixels2, ECM_pixels3)\n",
    "ECM_mean_inv =  1 .- ECM_pixels\n",
    "low = percentile(ECM_mean_inv, 1)\n",
    "high = percentile(ECM_mean_inv, 99)\n",
    "\n",
    "println(\"Mean pixel value at 1%: \", low)\n",
    "println(\"Mean pixel value at 99%: \", high)"
   ]
  },
  {
   "cell_type": "code",
   "execution_count": null,
   "metadata": {},
   "outputs": [],
   "source": [
    "# plot histogram\n",
    "p = histogram(ECM_mean_inv, label = \"\", \n",
    "    xlabel = \"ECM mean pixel value\", ylabel = \"frequency\",\n",
    "    guidefontsize = 15, xtickfontsize = 12, ytickfontsize = 12, legendfontsize = 12,\n",
    "    color = \"grey77\",\n",
    "    size = (500, 350))\n",
    "vline!(p, [low, low], label = \"1%\", linewidth = 5, color = \"coral2\")\n",
    "vline!(p, [high, high], label = \"99%\", linewidth = 5, color = \"lightseagreen\")\n",
    "savefig(\"data/4000x4000_combined/ECM_pixel_histogram.pdf\")\n",
    "plot(p)"
   ]
  },
  {
   "cell_type": "code",
   "execution_count": null,
   "metadata": {},
   "outputs": [],
   "source": [
    "# plot the number of points to be sampled as a function of ECM mean pixel value\n",
    "min_sample = 100 \n",
    "max_sample = 5000\n",
    "\n",
    "x = range(0, 1, length = 100)\n",
    "y = n_ECM_samples.(x, low, high, min_sample, max_sample)\n",
    "p = plot(x, y, label = \"\", \n",
    "        xlabel = \"ECM mean pixel value\", ylabel =\"# samples from ECM\",\n",
    "        color = \"grey\",\n",
    "        linewidth = 5,\n",
    "        legend = :bottomright,\n",
    "        guidefontsize = 15, xtickfontsize = 12, ytickfontsize = 12, legendfontsize = 12,\n",
    "        size = (500, 350),\n",
    "        )\n",
    "vline!(p, [low, low], label = \"1%\", linewidth = 5, color = \"coral2\")\n",
    "vline!(p, [high, high], label = \"99%\", linewidth = 5, color = \"lightseagreen\")\n",
    "savefig(\"data/4000x4000_combined/n_ECM_function.pdf\")\n",
    "plot(p)"
   ]
  },
  {
   "attachments": {},
   "cell_type": "markdown",
   "metadata": {},
   "source": [
    "## 2(b) Sample points from all ECM images"
   ]
  },
  {
   "attachments": {},
   "cell_type": "markdown",
   "metadata": {},
   "source": [
    "Sample from original ROI"
   ]
  },
  {
   "cell_type": "code",
   "execution_count": null,
   "metadata": {},
   "outputs": [],
   "source": [
    "function sample_points_from_ECM_directory(ECM_directory, min_sample, max_sample, low, high, c_ECM;\n",
    "                                         sample_plot_directory = \"data/4000x4000_combined/ECM_sampled/sampled_points/\",\n",
    "                                         sample_CSV_directory = \"data/4000x4000_combined/ECM_sampled/points_CSV/\")\n",
    "    files = [item for item in walkdir(ECM_directory)][1][3]\n",
    "    for filename in files\n",
    "        img = Array(Images.load(ECM_directory * filename))\n",
    "        figure_file = split(filename,\".\")[1] * \".pdf\"\n",
    "\n",
    "        # compute (inverted) mean pixel value of image\n",
    "        img_mean_inv = 1- mean(Float64.(img))\n",
    "\n",
    "        # compute number of points to sample\n",
    "        n_sample = Int64(round(ECM_TDA.n_ECM_samples(img_mean_inv, low, high, min_sample, max_sample)))\n",
    "\n",
    "        # sample points\n",
    "        resampled, points, sampled, island_idx = sample_ECM_points(img, vicinity = 100, n_points = 5, n_samples = n_sample)\n",
    "\n",
    "        # plot the results \n",
    "        p = scatter(resampled[:,1], resampled[:,2], yflip = :true, c = c_ECM, label = \"\", frame = :box, ticks = [], size = (500, 500))\n",
    "        savefig(sample_plot_directory * figure_file)\n",
    "\n",
    "        # save sampled points to CSV\n",
    "        csv_file = split(filename, \".\")[1] * \".csv\"\n",
    "        df = DataFrame(resampled, [:x, :y])\n",
    "        CSV.write(sample_CSV_directory * csv_file, df)\n",
    "    end\n",
    "end\n",
    "\n"
   ]
  },
  {
   "cell_type": "code",
   "execution_count": null,
   "metadata": {},
   "outputs": [],
   "source": [
    "sample_points_from_ECM_directory(ECM_directory1, min_sample, max_sample, low, high, c_ECM)\n",
    "sample_points_from_ECM_directory(ECM_directory2, min_sample, max_sample, low, high, c_ECM)\n",
    "sample_points_from_ECM_directory(ECM_directory3, min_sample, max_sample, low, high, c_ECM)"
   ]
  },
  {
   "attachments": {},
   "cell_type": "markdown",
   "metadata": {},
   "source": [
    "# 3. Check alignment"
   ]
  },
  {
   "attachments": {},
   "cell_type": "markdown",
   "metadata": {},
   "source": [
    "Example image from original ROI"
   ]
  },
  {
   "cell_type": "code",
   "execution_count": null,
   "metadata": {
    "scrolled": true
   },
   "outputs": [],
   "source": [
    "LTX = \"001\"\n",
    "Da = \"232\"\n",
    "idx = 1\n",
    "\n",
    "# load ECM image\n",
    "image_path = \"data/4000x4000/subregion_ECM/LTX\" * LTX * \"_Da\" * Da * \"_idx\" * string(idx) * \".tif\"\n",
    "img = Array(Images.load(image_path));\n",
    "\n",
    "# load sampled ECM\n",
    "ecm_points_path = \"data/4000x4000_combined/ECM_sampled/points_CSV/LTX\" * LTX * \"_Da\" * Da * \"_idx\" * string(idx) * \".csv\" \n",
    "ECM_points = CSV.read(ecm_points_path);"
   ]
  },
  {
   "cell_type": "code",
   "execution_count": null,
   "metadata": {},
   "outputs": [],
   "source": [
    "# plot ECM and sampled ECM points\n",
    "p1 = plot(Gray.(img), frame = :box, ticks = [], size = (300, 300), background_color=:transparent, foreground_color=:black)\n",
    "p2 = scatter(ECM_points.x, ECM_points.y, yflip = :true, c = c_ECM, label = \"\", frame = :box, ticks = [], markersize = 2, background_color=:transparent, foreground_color=:black)\n",
    "plot(p1, p2, size = (600, 300))"
   ]
  },
  {
   "attachments": {},
   "cell_type": "markdown",
   "metadata": {},
   "source": [
    "Example image from new ROI"
   ]
  },
  {
   "cell_type": "code",
   "execution_count": null,
   "metadata": {},
   "outputs": [],
   "source": [
    "examples = [(\"092\", \"523\", 4), (\"049\", \"134\", 3), (\"097\", \"113\", 3)]"
   ]
  },
  {
   "cell_type": "code",
   "execution_count": null,
   "metadata": {
    "scrolled": true
   },
   "outputs": [],
   "source": [
    "LTX = \"092\"\n",
    "Da = \"523\"\n",
    "idx = 4\n",
    "\n",
    "# load ECM image\n",
    "image_path = \"data/4000x4000_combined/subregion_ECM/LTX\" * LTX * \"_Da\" * Da * \"_idx\" * string(idx) * \".tif\"\n",
    "img = Array(Images.load(image_path));\n",
    "\n",
    "# load sampled ECM\n",
    "ecm_points_path = \"data/4000x4000_combined/ECM_sampled/points_CSV/LTX\" * LTX * \"_Da\" * Da * \"_idx\" * string(idx) * \".csv\" \n",
    "ECM_points = CSV.read(ecm_points_path);"
   ]
  },
  {
   "cell_type": "code",
   "execution_count": null,
   "metadata": {},
   "outputs": [],
   "source": [
    "# plot ECM and sampled ECM points\n",
    "p1 = plot(Gray.(img), frame = :box, ticks = [], size = (300, 300), background_color=:transparent, foreground_color=:black)\n",
    "p2 = scatter(ECM_points.x, ECM_points.y, yflip = :true, c = c_ECM, label = \"\", frame = :box, ticks = [], markersize = 2, background_color=:transparent, foreground_color=:black)\n",
    "plot(p1, p2, size = (600, 300))"
   ]
  },
  {
   "attachments": {},
   "cell_type": "markdown",
   "metadata": {},
   "source": [
    "# 4. (for figure) save example images with low and high mean ECM pixel "
   ]
  },
  {
   "cell_type": "code",
   "execution_count": null,
   "metadata": {},
   "outputs": [],
   "source": [
    "# find image with mean pixel value close to \"low\"\n",
    "idx_low = index_closest_to_x(ECM_mean_inv, low)\n",
    "\n",
    "# find image with mean pixel value close to \"high\"\n",
    "high = percentile(ECM_mean_inv, 99.5)\n",
    "idx_high = index_closest_to_x(ECM_mean_inv, high)\n",
    "\n",
    "# find image with mean pixel value around median\n",
    "med = median(ECM_mean_inv)\n",
    "idx_median = index_closest_to_x(ECM_mean_inv, med);"
   ]
  },
  {
   "cell_type": "code",
   "execution_count": null,
   "metadata": {},
   "outputs": [],
   "source": [
    "println(\"low: \", files[idx_low])\n",
    "println(\"median: \", files[idx_median])\n",
    "println(\"high: \", files[idx_high])"
   ]
  },
  {
   "attachments": {},
   "cell_type": "markdown",
   "metadata": {},
   "source": [
    "Copy ECM image files for three examples"
   ]
  },
  {
   "cell_type": "code",
   "execution_count": null,
   "metadata": {},
   "outputs": [],
   "source": [
    "# plot low\n",
    "examples = [(\"092\", \"523\", 4), (\"049\", \"134\", 3), (\"097\", \"113\", 3)]\n",
    "for ex in examples\n",
    "    LTX = ex[1]\n",
    "    Da = ex[2]\n",
    "    idx = ex[3]\n",
    "\n",
    "    # load ECM image\n",
    "    image_path = \"data/4000x4000/subregion_ECM/LTX\" * LTX * \"_Da\" * Da * \"_idx\" * string(idx) * \".tif\"\n",
    "    img = Array(Images.load(image_path));\n",
    "\n",
    "    # save copy of ECM image (with reduced size)\n",
    "    filename = \"data/4000x4000/subregion_ECM/LTX\" * LTX * \"_Da\" * Da * \"_idx\" * string(idx) * \".tif\" \n",
    "    copied_filename = \"data/4000x4000/ECM_sampled/LTX\" * LTX * \"_Da\" * Da * \"_idx\" * string(idx) * \".tif\" \n",
    "    cp(filename, copied_filename, force = true)\n",
    "    # reduce size\n",
    "    run(`convert $copied_filename -resize 500x500 $copied_filename`)\n",
    "end"
   ]
  },
  {
   "cell_type": "code",
   "execution_count": null,
   "metadata": {},
   "outputs": [],
   "source": [
    "# print info\n",
    "println(\"low\")\n",
    "println(\"ECM pixel value (inverted): \", ECM_mean_inv[idx_low])\n",
    "println(\"number of points sampled: \", n_ECM_samples(ECM_mean_inv[idx_low], low, high, min_sample, max_sample))\n",
    "\n",
    "println(\"median\")\n",
    "println(\"ECM pixel value (inverted): \", ECM_mean_inv[idx_median])\n",
    "println(\"number of points sampled: \", n_ECM_samples(ECM_mean_inv[idx_median], low, high, min_sample, max_sample))\n",
    "\n",
    "println(\"high\")\n",
    "println(\"ECM pixel value (inverted): \", ECM_mean_inv[idx_high])\n",
    "println(\"number of points sampled: \", n_ECM_samples(ECM_mean_inv[idx_high], low, high, min_sample, max_sample))"
   ]
  },
  {
   "cell_type": "code",
   "execution_count": null,
   "metadata": {},
   "outputs": [],
   "source": []
  },
  {
   "cell_type": "code",
   "execution_count": null,
   "metadata": {},
   "outputs": [],
   "source": [
    "LTX = \"092\"\n",
    "Da = \"523\"\n",
    "idx = 4\n",
    "\n",
    "# load ECM image\n",
    "image_path = \"data/4000x4000_combined/subregion_ECM/LTX\" * LTX * \"_Da\" * Da * \"_idx\" * string(idx) * \".tif\"\n",
    "img = Array(Images.load(image_path));\n",
    "\n",
    "# load sampled ECM\n",
    "ecm_points_path = \"data/4000x4000_combined/ECM_sampled/points_CSV/LTX\" * LTX * \"_Da\" * Da * \"_idx\" * string(idx) * \".csv\" \n",
    "ECM_points = CSV.read(ecm_points_path);\n",
    "\n",
    "p = scatter(ECM_points.x, ECM_points.y, yflip = :true, c = c_ECM, label = \"\", frame = :box, ticks = [], markersize = 2, background_color=:transparent, foreground_color=:black, size = (300, 300))\n",
    "savefig(\"figures/ECM_sample1.svg\")"
   ]
  },
  {
   "cell_type": "code",
   "execution_count": null,
   "metadata": {},
   "outputs": [],
   "source": [
    "LTX = \"049\"\n",
    "Da = \"134\"\n",
    "idx = 3\n",
    "\n",
    "# load ECM image\n",
    "image_path = \"data/4000x4000_combined/subregion_ECM/LTX\" * LTX * \"_Da\" * Da * \"_idx\" * string(idx) * \".tif\"\n",
    "img = Array(Images.load(image_path));\n",
    "\n",
    "# load sampled ECM\n",
    "ecm_points_path = \"data/4000x4000_combined/ECM_sampled/points_CSV/LTX\" * LTX * \"_Da\" * Da * \"_idx\" * string(idx) * \".csv\" \n",
    "ECM_points = CSV.read(ecm_points_path);\n",
    "\n",
    "p = scatter(ECM_points.x, ECM_points.y, yflip = :true, c = c_ECM, label = \"\", frame = :box, ticks = [], markersize = 2, background_color=:transparent, foreground_color=:black, size = (300, 300))\n",
    "savefig(\"figures/ECM_sample2.svg\")"
   ]
  },
  {
   "cell_type": "code",
   "execution_count": null,
   "metadata": {},
   "outputs": [],
   "source": [
    "LTX = \"097\"\n",
    "Da = \"113\"\n",
    "idx = 3\n",
    "\n",
    "# load ECM image\n",
    "image_path = \"data/4000x4000_combined/subregion_ECM/LTX\" * LTX * \"_Da\" * Da * \"_idx\" * string(idx) * \".tif\"\n",
    "img = Array(Images.load(image_path));\n",
    "\n",
    "# load sampled ECM\n",
    "ecm_points_path = \"data/4000x4000_combined/ECM_sampled/points_CSV/LTX\" * LTX * \"_Da\" * Da * \"_idx\" * string(idx) * \".csv\" \n",
    "ECM_points = CSV.read(ecm_points_path);\n",
    "\n",
    "p = scatter(ECM_points.x, ECM_points.y, yflip = :true, c = c_ECM, label = \"\", frame = :box, ticks = [], markersize = 2, background_color=:transparent, foreground_color=:black, size = (300, 300))\n",
    "savefig(\"figures/ECM_sample3.svg\")"
   ]
  },
  {
   "cell_type": "code",
   "execution_count": null,
   "metadata": {},
   "outputs": [],
   "source": []
  }
 ],
 "metadata": {
  "@webio": {
   "lastCommId": "1abeafc136a546609d62530a5910da99",
   "lastKernelId": "056b477b-6403-4441-b519-a2ab21bf28ac"
  },
  "kernelspec": {
   "display_name": "Julia 1.6.3",
   "language": "julia",
   "name": "julia-1.6"
  },
  "language_info": {
   "file_extension": ".jl",
   "mimetype": "application/julia",
   "name": "julia",
   "version": "1.6.3"
  }
 },
 "nbformat": 4,
 "nbformat_minor": 4
}
