{
 "cells": [
  {
   "attachments": {},
   "cell_type": "markdown",
   "metadata": {},
   "source": [
    "# Dowker PH computation\n",
    "* This notebook computes Dowker PH features.\n"
   ]
  },
  {
   "cell_type": "code",
   "execution_count": null,
   "metadata": {},
   "outputs": [],
   "source": [
    "include(\"../src/ECM_TDA.jl\")\n",
    "using .ECM_TDA\n",
    "\n",
    "using Eirene\n",
    "using Ripserer\n",
    "using CSV\n",
    "using TiffImages\n",
    "using Images\n",
    "using NPZ\n",
    "using Plots\n",
    "using PersistenceDiagrams\n",
    "using Measures\n",
    "using Distributions\n",
    "using MultivariateStats\n",
    "using LinearAlgebra\n",
    "using Random\n",
    "using StatsBase\n",
    "using JLD2\n",
    "using FileIO\n",
    "using DelimitedFiles\n",
    "using Distances\n",
    "using UMAP\n"
   ]
  },
  {
   "cell_type": "code",
   "execution_count": null,
   "metadata": {},
   "outputs": [],
   "source": [
    "# assign colors to cell types\n",
    "c_ECM = \"#259ea1\"\n",
    "c_cancer = \"#582793\"\n",
    "c_leukocytes = \"#f0a53a\"\n",
    "\n",
    "celltype_colors = Dict(\"cancer\" => c_cancer, \n",
    "                        \"leukocytes\"=> c_leukocytes);"
   ]
  },
  {
   "attachments": {},
   "cell_type": "markdown",
   "metadata": {
    "heading_collapsed": true
   },
   "source": [
    "# Subsample points (Example)\n",
    "* Before we compute Dowker features, we need to subsample the points (due to speed issues)\n",
    "* Sampled cells are saved in `data/4000x4000/subregion_cells/cells_sampled`\n",
    "* If there are more than 400 points of a single cell type, then we downsample. \n",
    "* Two sampling methods are used\n",
    "    (a) sample uniformly \n",
    "    (b) sample using KDE"
   ]
  },
  {
   "attachments": {},
   "cell_type": "markdown",
   "metadata": {
    "hidden": true
   },
   "source": [
    "<b> load example </b>"
   ]
  },
  {
   "cell_type": "code",
   "execution_count": null,
   "metadata": {
    "hidden": true
   },
   "outputs": [],
   "source": [
    "LTX = \"145\"\n",
    "Da = \"318\"\n",
    "idx = 4\n",
    "\n",
    "# load ECM image\n",
    "image_path = \"data/4000x4000/subregion_ECM/LTX\" * LTX * \"_Da\" * Da * \"_idx\" * string(idx) * \".tif\"\n",
    "img = Array(Images.load(image_path));\n",
    "\n",
    "# load sampled ECM\n",
    "ecm_points_path = \"data/4000x4000/ECM_sampled/points_CSV/LTX\" * LTX * \"_Da\" * Da * \"_idx\" * string(idx) * \".csv\" \n",
    "ECM_points = CSV.read(ecm_points_path)\n",
    "\n",
    "# load cells\n",
    "cell_path = \"data/4000x4000/subregion_cells/LTX\" * LTX * \"_Da\" * Da * \"_idx\" * string(idx) * \".csv\"\n",
    "cells = CSV.read(cell_path);"
   ]
  },
  {
   "cell_type": "code",
   "execution_count": null,
   "metadata": {
    "hidden": true
   },
   "outputs": [],
   "source": [
    "gr()\n",
    "p1 = plot(Gray.(img), frame = :box, ticks = [], size = (300, 300), background_color=:transparent, foreground_color=:black)\n",
    "p2 = scatter(ECM_points[:,1], ECM_points[:,2], yflip = :true, c = c_ECM, label = \"\", frame = :box, ticks = [], markersize = 2, background_color=:transparent, foreground_color=:black)\n",
    "plot(p1, p2, size = (600, 300))"
   ]
  },
  {
   "cell_type": "code",
   "execution_count": null,
   "metadata": {
    "hidden": true,
    "scrolled": false
   },
   "outputs": [],
   "source": [
    "cell_types =[\"cancer\", \"leukocytes\", \"fibroblast\"]\n",
    "plot_array = Any[]\n",
    "for ct in cell_types\n",
    "    # get locations of cell type\n",
    "    cell_ct = cells[cells.class .== ct, :]\n",
    "    c = celltype_colors[ct]\n",
    "    p_ct = scatter(cell_ct.x, cell_ct.y,\n",
    "                 markersize = 2,\n",
    "                 yflip = true,\n",
    "                 label = ct,\n",
    "                 markerstrokewidth = 0.2,\n",
    "                 frame = :box,\n",
    "                 ticks = [],\n",
    "                 c = c) \n",
    "    push!(plot_array, p_ct)\n",
    "end\n",
    "\n",
    "plot(plot_array..., layout = grid(1,3), size = (900, 300))"
   ]
  },
  {
   "attachments": {},
   "cell_type": "markdown",
   "metadata": {
    "heading_collapsed": true,
    "hidden": true
   },
   "source": [
    "## (a) sample uniformly"
   ]
  },
  {
   "cell_type": "code",
   "execution_count": null,
   "metadata": {
    "hidden": true
   },
   "outputs": [],
   "source": [
    "plot_array = Any[]\n",
    "for ct in cell_types\n",
    "    # get specific cells\n",
    "    cell_df = cells[cells.class .== ct, :]\n",
    "    c = celltype_colors[ct]\n",
    "    \n",
    "    if ct == \"cancer\"\n",
    "        subsample_size = 1000\n",
    "    else\n",
    "        subsample_size = 400\n",
    "    end\n",
    "    sampled = sample_uniform(cell_df; subsample_size = subsample_size)\n",
    "    p_ct = scatter(sampled.x, sampled.y,\n",
    "                 markersize = 2,\n",
    "                 yflip = true,\n",
    "                 label = ct,\n",
    "                 markerstrokewidth = 0.2,\n",
    "                 frame = :box,\n",
    "                 ticks = [],\n",
    "                 c = c) \n",
    "    push!(plot_array, p_ct)\n",
    "    \n",
    "end\n",
    "plot(plot_array..., layout = grid(1,3), size = (900, 300))"
   ]
  },
  {
   "attachments": {},
   "cell_type": "markdown",
   "metadata": {
    "heading_collapsed": true,
    "hidden": true
   },
   "source": [
    "## (b) sample using KDE"
   ]
  },
  {
   "cell_type": "code",
   "execution_count": null,
   "metadata": {
    "hidden": true
   },
   "outputs": [],
   "source": [
    "plot_array = Any[]\n",
    "for ct in cell_types\n",
    "    # get specific cells\n",
    "    cell_df = cells[cells.class .== ct, :]\n",
    "    c = celltype_colors[ct]\n",
    "    if ct == \"cancer\"\n",
    "        subsample_size = 1000\n",
    "    else\n",
    "        subsample_size = 400\n",
    "    end\n",
    "    sampled, _ = sample_kde(cell_df; subsample_size = subsample_size)\n",
    "    p_ct = scatter(sampled.x, sampled.y,\n",
    "                 markersize = 2,\n",
    "                 yflip = true,\n",
    "                 label = ct,\n",
    "                 markerstrokewidth = 0.2,\n",
    "                 frame = :box,\n",
    "                 ticks = [],\n",
    "                 c = c) \n",
    "    push!(plot_array, p_ct)\n",
    "    \n",
    "end\n",
    "\n",
    "plot(plot_array..., layout = grid(1,3), size = (900, 300))"
   ]
  },
  {
   "cell_type": "code",
   "execution_count": null,
   "metadata": {
    "hidden": true
   },
   "outputs": [],
   "source": [
    "# example plot of KDE from cancer\n",
    "cell_df = cells[cells.class .== \"cancer\", :]\n",
    "sampled, kdf_cancer = sample_kde(cell_df; subsample_size = 1000);\n"
   ]
  },
  {
   "cell_type": "code",
   "execution_count": null,
   "metadata": {
    "hidden": true
   },
   "outputs": [],
   "source": [
    "plot(kdf_cancer, yflip = :true)"
   ]
  },
  {
   "attachments": {},
   "cell_type": "markdown",
   "metadata": {},
   "source": [
    "# Determine number of points to downsample\n",
    "* Examine hisotgram of cells\n",
    "* Determine the function from original number of cells to number of sampled points"
   ]
  },
  {
   "cell_type": "code",
   "execution_count": null,
   "metadata": {},
   "outputs": [],
   "source": [
    "# get csv files\n",
    "dir = \"data/4000x4000_combined/subregion_cells/\"\n",
    "csv_files = [item for item in walkdir(dir)][1][3:end][1]\n",
    "cell_types =[\"cancer\", \"leukocytes\"]\n",
    "\n",
    "# for each file, get number of cells\n",
    "n_cancer = []\n",
    "n_leukocytes = []\n",
    "for (idx, file) in enumerate(csv_files)\n",
    "\n",
    "    cells = CSV.read(dir * file)\n",
    "    filename = split(file, \".\")[1]\n",
    "    \n",
    "    for ct in cell_types\n",
    "        # get specific cells\n",
    "        cell_df = cells[cells.class .== ct, :]\n",
    "        n_cells = size(cell_df, 1)\n",
    "        if ct == \"cancer\"\n",
    "            append!(n_cancer, n_cells)\n",
    "        elseif ct == \"leukocytes\"\n",
    "            append!(n_leukocytes, n_cells)\n",
    "\n",
    "        end \n",
    "    end \n",
    "end"
   ]
  },
  {
   "cell_type": "code",
   "execution_count": null,
   "metadata": {},
   "outputs": [],
   "source": [
    "function n_samples(x, low, high, max_sample)\n",
    "    if x <= low\n",
    "        return x\n",
    "    elseif x <= high\n",
    "        slope = (max_sample - low) / (high - low)\n",
    "        return slope * (x - low) + low\n",
    "    else\n",
    "        return max_sample\n",
    "    end\n",
    "end"
   ]
  },
  {
   "attachments": {},
   "cell_type": "markdown",
   "metadata": {},
   "source": [
    "## (a) ECM"
   ]
  },
  {
   "cell_type": "code",
   "execution_count": null,
   "metadata": {},
   "outputs": [],
   "source": [
    "# get number of points in ECM\n",
    "dir = \"data/4000x4000_combined/ECM_sampled/points_CSV/\"\n",
    "csv_files = [item for item in walkdir(dir)][1][3:end][1]\n",
    "\n",
    "# for each file, get number of ECM points\n",
    "n_ECM = []\n",
    "for (idx, file) in enumerate(csv_files)\n",
    "\n",
    "    cells = CSV.read(dir * file)\n",
    "    filename = split(file, \".\")[1]\n",
    "    \n",
    "    n_cells = size(cells, 1)\n",
    "    append!(n_ECM, n_cells)\n",
    "end\n",
    "\n",
    "# get 1%, 50%, 99% values\n",
    "ECM_low = percentile(n_ECM, 1)\n",
    "ECM_med = percentile(n_ECM, 50)\n",
    "ECM_high = percentile(n_ECM, 99)\n",
    "println(\"ECM_low: \", ECM_low)\n",
    "println(\"ECM_med: \", ECM_med)\n",
    "println(\"ECM_high: \", ECM_high)"
   ]
  },
  {
   "cell_type": "code",
   "execution_count": null,
   "metadata": {},
   "outputs": [],
   "source": [
    "gr()"
   ]
  },
  {
   "cell_type": "code",
   "execution_count": null,
   "metadata": {},
   "outputs": [],
   "source": [
    "# get 1%, 50%, 99% values\n",
    "ECM_low = percentile(n_ECM, 1)\n",
    "ECM_med = percentile(n_ECM, 50)\n",
    "ECM_high = percentile(n_ECM, 99)\n",
    "\n",
    "# plot histogram\n",
    "p = histogram(n_ECM, label = \"\", \n",
    "    xlabel = \"# ECM points\", ylabel = \"frequency\",\n",
    "    guidefontsize = 15, xtickfontsize = 12, ytickfontsize = 12, legendfontsize = 12,\n",
    "    color = \"grey77\",\n",
    "    size = (500, 350))\n",
    "vline!(p, [ECM_low, ECM_low], label = \"1%\", linewidth = 5, color = \"coral2\")\n",
    "vline!(p, [ECM_high, ECM_high], label = \"99%\", linewidth = 5, color = \"lightseagreen\")\n",
    "savefig(\"data/4000x4000_combined/Dowker/ECM_histogram.svg\")\n",
    "plot(p)"
   ]
  },
  {
   "cell_type": "code",
   "execution_count": null,
   "metadata": {},
   "outputs": [],
   "source": [
    "max_sample = 3000\n",
    "\n",
    "x = range(0, 6000, length = 10000)\n",
    "y = n_samples.(x, ECM_low, ECM_high, max_sample)\n",
    "p = plot(x, y, label = \"\", \n",
    "        xlabel = \"# ECM points\", ylabel =\"downsampled # ECM points\",\n",
    "        color = \"grey\",\n",
    "        linewidth = 5,\n",
    "        topmargin = 4mm,\n",
    "        legend = :bottomright,\n",
    "        guidefontsize = 15, xtickfontsize = 12, ytickfontsize = 12, legendfontsize = 12,\n",
    "        size = (500, 350),\n",
    "        )\n",
    "vline!(p, [ECM_low, ECM_low], label = \"1%\", linewidth = 5, color = \"coral2\")\n",
    "vline!(p, [ECM_high, ECM_high], label = \"99%\", linewidth = 5, color = \"lightseagreen\")\n",
    "savefig(\"data/4000x4000_combined/Dowker/n_ECM_function.svg\")\n",
    "plot(p)"
   ]
  },
  {
   "attachments": {},
   "cell_type": "markdown",
   "metadata": {
    "heading_collapsed": true
   },
   "source": [
    "## (b) Cancer cells"
   ]
  },
  {
   "cell_type": "code",
   "execution_count": null,
   "metadata": {},
   "outputs": [],
   "source": [
    "# get 1%, 50%, 99% values\n",
    "cancer_low = percentile(n_cancer, 1)\n",
    "cancer_med = percentile(n_cancer, 50)\n",
    "cancer_high = percentile(n_cancer, 99)\n",
    "\n",
    "println(\"cancer_low: \", cancer_low)\n",
    "println(\"cancer_med: \", cancer_med)\n",
    "println(\"cancer_high: \", cancer_high)"
   ]
  },
  {
   "cell_type": "code",
   "execution_count": null,
   "metadata": {
    "hidden": true
   },
   "outputs": [],
   "source": [
    "# get 1%, 50%, 99% values\n",
    "cancer_low = percentile(n_cancer, 1)\n",
    "cancer_med = percentile(n_cancer, 50)\n",
    "cancer_high = percentile(n_cancer, 99)\n",
    "\n",
    "# plot histogram\n",
    "p = histogram(n_cancer, label = \"\", \n",
    "    xlabel = \"# cancer cells\", ylabel = \"frequency\",\n",
    "    guidefontsize = 15, xtickfontsize = 12, ytickfontsize = 12, legendfontsize = 12,\n",
    "    color = \"grey77\",\n",
    "    size = (500, 350))\n",
    "vline!(p, [cancer_low, cancer_low], label = \"1%\", linewidth = 5, color = \"coral2\")\n",
    "vline!(p, [cancer_high, cancer_high], label = \"99%\", linewidth = 5, color = \"lightseagreen\")\n",
    "savefig(\"data/4000x4000_combined/Dowker/cancer_histogram.svg\")\n",
    "plot(p)"
   ]
  },
  {
   "cell_type": "code",
   "execution_count": null,
   "metadata": {
    "hidden": true
   },
   "outputs": [],
   "source": [
    "max_sample = 1000\n",
    "\n",
    "x = range(0, 6000, length = 10000)\n",
    "y = n_samples.(x, cancer_low, cancer_high, max_sample)\n",
    "p = plot(x, y, label = \"\", \n",
    "        xlabel = \"# cancer cells\", ylabel =\"downsampled # cancer cells\",\n",
    "        color = \"grey\",\n",
    "        linewidth = 5,\n",
    "        legend = :bottomright,\n",
    "        topmargin = 4mm,\n",
    "        guidefontsize = 15, xtickfontsize = 12, ytickfontsize = 12, legendfontsize = 12,\n",
    "        size = (500, 350),\n",
    "        )\n",
    "vline!(p, [cancer_low, cancer_low], label = \"1%\", linewidth = 5, color = \"coral2\")\n",
    "vline!(p, [cancer_high, cancer_high], label = \"99%\", linewidth = 5, color = \"lightseagreen\")\n",
    "savefig(\"data/4000x4000_combined/Dowker/n_cancer_function.svg\")\n",
    "plot(p)"
   ]
  },
  {
   "attachments": {},
   "cell_type": "markdown",
   "metadata": {
    "heading_collapsed": true
   },
   "source": [
    "## (c) Leukocytes"
   ]
  },
  {
   "cell_type": "code",
   "execution_count": null,
   "metadata": {},
   "outputs": [],
   "source": [
    "# get 1%, 50%, 99% values\n",
    "L_low = percentile(n_leukocytes, 1)\n",
    "L_med = percentile(n_leukocytes, 50)\n",
    "L_high = percentile(n_leukocytes, 99)\n",
    "\n",
    "\n",
    "println(\"L_low: \", L_low)\n",
    "println(\"L_med: \", L_med)\n",
    "println(\"L_high: \", L_high)"
   ]
  },
  {
   "cell_type": "code",
   "execution_count": null,
   "metadata": {
    "hidden": true
   },
   "outputs": [],
   "source": [
    "# get 1%, 50%, 99% values\n",
    "L_low = percentile(n_leukocytes, 1)\n",
    "L_med = percentile(n_leukocytes, 50)\n",
    "L_high = percentile(n_leukocytes, 99)\n",
    "\n",
    "# plot histogram\n",
    "p = histogram(n_leukocytes, label = \"\", \n",
    "    xlabel = \"# leukocytes\", ylabel = \"frequency\",\n",
    "    guidefontsize = 15, xtickfontsize = 12, ytickfontsize = 12, legendfontsize = 12,\n",
    "    color = \"grey77\",\n",
    "    size = (500, 350))\n",
    "vline!(p, [L_low, L_low], label = \"1%\", linewidth = 5, color = \"coral2\")\n",
    "vline!(p, [L_high, L_high], label = \"99%\", linewidth = 5, color = \"lightseagreen\")\n",
    "savefig(\"data/4000x4000_combined/Dowker/leukocytes_histogram.svg\")\n",
    "plot(p)"
   ]
  },
  {
   "cell_type": "code",
   "execution_count": null,
   "metadata": {
    "hidden": true,
    "scrolled": false
   },
   "outputs": [],
   "source": [
    "max_sample = 500\n",
    "\n",
    "x = range(0, 5500, length = 10000)\n",
    "y = n_samples.(x, L_low, L_high, max_sample)\n",
    "p = plot(x, y, label = \"\", \n",
    "        xlabel = \"# leukocytes\", ylabel =\"downsampled # leukocytes\",\n",
    "        color = \"grey\",\n",
    "        linewidth = 5,\n",
    "        legend = :bottomright,\n",
    "        topmargin = 4mm,\n",
    "        guidefontsize = 15, xtickfontsize = 12, ytickfontsize = 12, legendfontsize = 12,\n",
    "        size = (500, 350),\n",
    "        )\n",
    "vline!(p, [L_low, L_low], label = \"1%\", linewidth = 5, color = \"coral2\")\n",
    "vline!(p, [L_high, L_high], label = \"99%\", linewidth = 5, color = \"lightseagreen\")\n",
    "savefig(\"data/4000x4000_combined/Dowker/n_leukocyte_function.svg\")\n",
    "plot(p)"
   ]
  },
  {
   "attachments": {},
   "cell_type": "markdown",
   "metadata": {},
   "source": [
    "# Subsample points from ECM, cancer cells, luekocytes"
   ]
  },
  {
   "attachments": {},
   "cell_type": "markdown",
   "metadata": {
    "heading_collapsed": true
   },
   "source": [
    "## (a) Subsample ECM points"
   ]
  },
  {
   "cell_type": "code",
   "execution_count": null,
   "metadata": {
    "hidden": true
   },
   "outputs": [],
   "source": [
    "# get number of points in ECM\n",
    "dir = \"data/4000x4000_combined/ECM_sampled/points_CSV/\"\n",
    "csv_files = [item for item in walkdir(dir)][1][3:end][1]\n",
    "ECM_max_sample = 3000\n",
    "\n",
    "# for each file, sample cells\n",
    "# for each file, sample cells\n",
    "for file in csv_files\n",
    "\n",
    "    cells = CSV.read(dir * file)\n",
    "    filename = split(file, \".\")[1]\n",
    "    \n",
    "    n = size(cells, 1)\n",
    "\n",
    "    subsample_size = Int64(round(n_samples(n, ECM_low, ECM_high, ECM_max_sample )))\n",
    "    # sample points\n",
    "    sampled, _ = sample_kde(cells; subsample_size = subsample_size)\n",
    "\n",
    "    # save\n",
    "    writedlm(\"data/4000x4000_combined/Dowker/ECM/\" * filename * \".csv\", Array(sampled[:, [:x, :y]]), \",\")\n",
    "\n",
    "end"
   ]
  },
  {
   "attachments": {},
   "cell_type": "markdown",
   "metadata": {
    "heading_collapsed": true
   },
   "source": [
    "## (b) Subsample cancer, luekocytes"
   ]
  },
  {
   "cell_type": "code",
   "execution_count": null,
   "metadata": {
    "hidden": true
   },
   "outputs": [],
   "source": [
    "# get csv files\n",
    "dir = \"data/4000x4000_combined/subregion_cells/\"\n",
    "csv_files = [item for item in walkdir(dir)][1][3:end][1]\n",
    "cell_types = [\"cancer\", \"leukocytes\"]\n",
    "C_max_sample = 1000\n",
    "L_max_sample = 500\n",
    "\n",
    "# for each file, sample cells\n",
    "for (idx, file) in enumerate(csv_files)\n",
    "\n",
    "    cells = CSV.read(dir * file)\n",
    "    filename = split(file, \".\")[1]\n",
    "    \n",
    "    for ct in cell_types\n",
    "        # get specific cells\n",
    "        cell_df = cells[cells.class .== ct, :]\n",
    "        \n",
    "        # get number of cells to sample\n",
    "        n = size(cell_df, 1)\n",
    "        if ct == \"cancer\"\n",
    "            subsample_size = Int64(round(n_samples(n, cancer_low, cancer_high, C_max_sample)))\n",
    "        elseif ct == \"leukocytes\"\n",
    "            subsample_size = Int64(round(n_samples(n, L_low, L_high, L_max_sample)))\n",
    "        end\n",
    "        # sample points\n",
    "        sampled, _ = sample_kde(cell_df; subsample_size = subsample_size)\n",
    "        \n",
    "        # save\n",
    "        writedlm(\"data/4000x4000_combined/Dowker/\" * ct * \"/\" * filename * \".csv\", Array(sampled[:, [:x, :y]]), \",\")\n",
    "    end \n",
    "end"
   ]
  },
  {
   "attachments": {},
   "cell_type": "markdown",
   "metadata": {},
   "source": [
    "## (c) Plot example images before and after sampling"
   ]
  },
  {
   "attachments": {},
   "cell_type": "markdown",
   "metadata": {
    "heading_collapsed": true
   },
   "source": [
    "### ECM"
   ]
  },
  {
   "cell_type": "code",
   "execution_count": null,
   "metadata": {
    "hidden": true
   },
   "outputs": [],
   "source": [
    "# get number of points in ECM\n",
    "dir = \"data/4000x4000_combined/ECM_sampled/points_CSV/\"\n",
    "csv_files = [item for item in walkdir(dir)][1][3:end][1]\n",
    "\n",
    "# for each file, get number of ECM points\n",
    "n_ECM = []\n",
    "for (idx, file) in enumerate(csv_files)\n",
    "\n",
    "    cells = CSV.read(dir * file)\n",
    "    filename = split(file, \".\")[1]\n",
    "    \n",
    "    n_cells = size(cells, 1)\n",
    "    append!(n_ECM, n_cells)\n",
    "end\n",
    "\n",
    "# get 1%, 50%, 99% values\n",
    "ECM_low = percentile(n_ECM, 1.5)\n",
    "ECM_med = percentile(n_ECM, 50)\n",
    "ECM_high = percentile(n_ECM, 99)\n",
    "\n",
    "\n",
    "# find image with mean pixel value close to \"low\"\n",
    "idx_low = index_closest_to_x(n_ECM, ECM_low)\n",
    "\n",
    "# find image with mean pixel value close to \"high\"\n",
    "high = percentile(n_cancer, 99.5)\n",
    "idx_high = index_closest_to_x(n_ECM, ECM_high)\n",
    "\n",
    "# find image with mean pixel value around median\n",
    "idx_median = index_closest_to_x(n_ECM, ECM_med);"
   ]
  },
  {
   "cell_type": "code",
   "execution_count": null,
   "metadata": {
    "hidden": true
   },
   "outputs": [],
   "source": [
    "println(\"low: \", csv_files[idx_low])\n",
    "println(\"median: \", csv_files[idx_median])\n",
    "println(\"high: \", csv_files[idx_high])\n",
    "\n",
    "# print info\n",
    "println(\"low\")\n",
    "println(\"original number of points: \", n_ECM[idx_low])\n",
    "println(\"number of points sampled: \", Int64(round(n_samples(n_ECM[idx_low], ECM_low, ECM_high, ECM_max_sample))))\n",
    "\n",
    "println(\"median\")\n",
    "println(\"original number of points: \", n_ECM[idx_median])\n",
    "println(\"number of points sampled: \", Int64(round(n_samples(n_ECM[idx_median], ECM_low, ECM_high, ECM_max_sample))))\n",
    "\n",
    "println(\"high\")\n",
    "println(\"original number of points: \", n_ECM[idx_high])\n",
    "println(\"number of points sampled: \", Int64(round(n_samples(n_ECM[idx_high], ECM_low, ECM_high, ECM_max_sample))))"
   ]
  },
  {
   "cell_type": "code",
   "execution_count": null,
   "metadata": {
    "hidden": true,
    "scrolled": true
   },
   "outputs": [],
   "source": [
    "# plot original ECM points and downsampled points\n",
    "gr()\n",
    "examples = [(\"092\", \"523\", 4), (\"021\", \"565\", 2), (\"097\", \"113\", 1)]\n",
    "plot_array = []\n",
    "# original\n",
    "for ex in examples\n",
    "    LTX = ex[1]\n",
    "    Da = ex[2]\n",
    "    idx = ex[3]\n",
    "    \n",
    "    # load cells\n",
    "    cell_path = \"data/4000x4000_combined/ECM_sampled/points_CSV/LTX\" * LTX * \"_Da\" * Da * \"_idx\" * string(idx) * \".csv\"\n",
    "    cells = CSV.read(cell_path)\n",
    "\n",
    "    # get locations of cell type\n",
    "    p1 = scatter(cells.x, cells.y,\n",
    "                 markersize = 2,\n",
    "                 yflip = true,\n",
    "                 label = \"\",\n",
    "                 markerstrokewidth = 0.2,\n",
    "                 frame = :box,\n",
    "                 ticks = [],\n",
    "                 size = (300, 300),\n",
    "                 c = c_ECM) \n",
    "    \n",
    "    \n",
    "    # load cells\n",
    "    cell_path = \"data/4000x4000_combined/Dowker/ECM/LTX\" * LTX * \"_Da\" * Da * \"_idx\" * string(idx) * \".csv\"\n",
    "    cell = CSV.read(cell_path, header = false)\n",
    "    # get locations of cell type\n",
    "    p2 = scatter(cell[:,1], cell[:,2],\n",
    "                 markersize = 2,\n",
    "                 yflip = true,\n",
    "                 label = \"\",\n",
    "                 markerstrokewidth = 0.2,\n",
    "                 frame = :box,\n",
    "                 ticks = [],\n",
    "                 size = (300, 300),\n",
    "                 c = c_ECM) \n",
    "    push!(plot_array, p1)\n",
    "    push!(plot_array, p2)   \n",
    "end\n",
    "\n",
    "p = plot(plot_array..., layout = grid(3,2), size = (600, 900))\n",
    "savefig(\"data/4000x4000_combined/Dowker/downsample_ECM.svg\")\n",
    "plot(p)"
   ]
  },
  {
   "attachments": {},
   "cell_type": "markdown",
   "metadata": {
    "heading_collapsed": true
   },
   "source": [
    "### Cancer"
   ]
  },
  {
   "cell_type": "code",
   "execution_count": null,
   "metadata": {
    "hidden": true
   },
   "outputs": [],
   "source": [
    "# find image with mean pixel value close to \"low\"\n",
    "idx_low = index_closest_to_x(n_cancer, cancer_low)\n",
    "\n",
    "# find image with mean pixel value close to \"high\"\n",
    "high = percentile(n_cancer, 99.5)\n",
    "idx_high = index_closest_to_x(n_cancer, cancer_high)\n",
    "\n",
    "# find image with mean pixel value around median\n",
    "med = median(n_cancer)\n",
    "idx_median = index_closest_to_x(n_cancer, cancer_med);"
   ]
  },
  {
   "cell_type": "code",
   "execution_count": null,
   "metadata": {
    "hidden": true
   },
   "outputs": [],
   "source": [
    "println(\"low: \", csv_files[idx_low])\n",
    "println(\"median: \", csv_files[idx_median])\n",
    "println(\"high: \", csv_files[idx_high])\n",
    "\n",
    "# print info\n",
    "println(\"low\")\n",
    "println(\"original number of points: \", n_cancer[idx_low])\n",
    "println(\"number of points sampled: \", Int64(round(n_samples(n_cancer[idx_low], cancer_low, cancer_high, C_max_sample))))\n",
    "\n",
    "println(\"median\")\n",
    "println(\"original number of points: \", n_cancer[idx_median])\n",
    "println(\"number of points sampled: \", Int64(round(n_samples(n_cancer[idx_median], cancer_low, cancer_high, C_max_sample))))\n",
    "\n",
    "println(\"high\")\n",
    "println(\"original number of points: \", n_cancer[idx_high])\n",
    "println(\"number of points sampled: \", Int64(round(n_samples(n_cancer[idx_high], cancer_low, cancer_high, C_max_sample))))"
   ]
  },
  {
   "cell_type": "code",
   "execution_count": null,
   "metadata": {
    "hidden": true,
    "scrolled": true
   },
   "outputs": [],
   "source": [
    "# plot original cancer\n",
    "gr()\n",
    "examples = [(\"079\", \"108\", 2), (\"082\", \"161\", 3), (\"210\", \"691\", 3)]\n",
    "plot_array = []\n",
    "# original\n",
    "for ex in examples\n",
    "    LTX = ex[1]\n",
    "    Da = ex[2]\n",
    "    idx = ex[3]\n",
    "    \n",
    "    # load cells\n",
    "    cell_path = \"data/4000x4000_combined/subregion_cells/LTX\" * LTX * \"_Da\" * Da * \"_idx\" * string(idx) * \".csv\"\n",
    "    cells = CSV.read(cell_path);\n",
    "\n",
    "    # get locations of cell type\n",
    "    cell_ct = cells[cells.class .== \"cancer\", :]\n",
    "    c = celltype_colors[\"cancer\"]\n",
    "    p1 = scatter(cell_ct.x, cell_ct.y,\n",
    "                 markersize = 2,\n",
    "                 yflip = true,\n",
    "                 label = \"\",\n",
    "                 markerstrokewidth = 0.2,\n",
    "                 frame = :box,\n",
    "                 ticks = [],\n",
    "                 size = (300, 300),\n",
    "                 c = c) \n",
    "    \n",
    "    \n",
    "    # load cells\n",
    "    cell_path = \"data/4000x4000_combined/Dowker/cancer/LTX\" * LTX * \"_Da\" * Da * \"_idx\" * string(idx) * \".csv\"\n",
    "    cell_ct = CSV.read(cell_path, header = false)\n",
    "    # get locations of cell type\n",
    "    c = celltype_colors[\"cancer\"]\n",
    "    p2 = scatter(cell_ct[:,1], cell_ct[:,2],\n",
    "                 markersize = 2,\n",
    "                 yflip = true,\n",
    "                 label = \"\",\n",
    "                 markerstrokewidth = 0.2,\n",
    "                 frame = :box,\n",
    "                 ticks = [],\n",
    "                 size = (300, 300),\n",
    "                 c = c) \n",
    "    push!(plot_array, p1)\n",
    "    push!(plot_array, p2)   \n",
    "end\n",
    "\n",
    "p = plot(plot_array..., layout = grid(3,2), size = (600, 900))\n",
    "savefig(\"data/4000x4000_combined/Dowker/downsample_cancer.svg\")\n",
    "plot(p)"
   ]
  },
  {
   "attachments": {},
   "cell_type": "markdown",
   "metadata": {
    "heading_collapsed": true
   },
   "source": [
    "### Leukocytes"
   ]
  },
  {
   "cell_type": "code",
   "execution_count": null,
   "metadata": {
    "hidden": true
   },
   "outputs": [],
   "source": [
    "# find image with mean pixel value close to \"low\"\n",
    "idx_low = index_closest_to_x(n_leukocytes, L_low)\n",
    "\n",
    "# find image with mean pixel value close to \"high\"\n",
    "high = percentile(n_leukocytes, 99.5)\n",
    "idx_high = index_closest_to_x(n_leukocytes, L_high)\n",
    "\n",
    "# find image with mean pixel value around median\n",
    "med = median(n_leukocytes)\n",
    "idx_median = index_closest_to_x(n_leukocytes, L_med);\n",
    "\n",
    "println(\"low: \", csv_files[idx_low])\n",
    "println(\"median: \", csv_files[idx_median])\n",
    "println(\"high: \", csv_files[idx_high])\n",
    "\n",
    "# print info\n",
    "println(\"low\")\n",
    "println(\"original number of points: \", n_leukocytes[idx_low])\n",
    "println(\"number of points sampled: \", Int64(round(n_samples(n_leukocytes[idx_low], L_low, L_high, L_max_sample))))\n",
    "\n",
    "println(\"median\")\n",
    "println(\"original number of points: \", n_leukocytes[idx_median])\n",
    "println(\"number of points sampled: \", Int64(round(n_samples(n_leukocytes[idx_median], L_low, L_high, L_max_sample))))\n",
    "\n",
    "println(\"high\")\n",
    "println(\"original number of points: \", n_leukocytes[idx_high])\n",
    "println(\"number of points sampled: \", Int64(round(n_samples(n_leukocytes[idx_high], L_low, L_high, L_max_sample))))"
   ]
  },
  {
   "cell_type": "code",
   "execution_count": null,
   "metadata": {
    "hidden": true
   },
   "outputs": [],
   "source": [
    "# plot original cancer\n",
    "examples = [(\"156\", \"195\", 2), (\"115\", \"164\", 2), (\"092\", \"378\", 1)]\n",
    "\n",
    "gr()\n",
    "plot_array = []\n",
    "# original\n",
    "for ex in examples\n",
    "    LTX = ex[1]\n",
    "    Da = ex[2]\n",
    "    idx = ex[3]\n",
    "    \n",
    "    # load cells\n",
    "    cell_path = \"data/4000x4000/subregion_cells/LTX\" * LTX * \"_Da\" * Da * \"_idx\" * string(idx) * \".csv\"\n",
    "    cells = CSV.read(cell_path);\n",
    "\n",
    "    # get locations of cell type\n",
    "    cell_ct = cells[cells.class .== \"leukocytes\", :]\n",
    "    c = celltype_colors[\"leukocytes\"]\n",
    "    p1 = scatter(cell_ct.x, cell_ct.y,\n",
    "                 markersize = 2,\n",
    "                 yflip = true,\n",
    "                 label = \"\",\n",
    "                 markerstrokewidth = 0.2,\n",
    "                 frame = :box,\n",
    "                 ticks = [],\n",
    "                 size = (300, 300),\n",
    "                 c = c) \n",
    "    \n",
    "    \n",
    "    # load cells\n",
    "    cell_path = \"data/4000x4000/cells_sampled/leukocytes/LTX\" * LTX * \"_Da\" * Da * \"_idx\" * string(idx) * \".csv\"\n",
    "    cell_ct = CSV.read(cell_path, header = false)\n",
    "    # get locations of cell type\n",
    "    c = celltype_colors[\"leukocytes\"]\n",
    "    p2 = scatter(cell_ct[:,1], cell_ct[:,2],\n",
    "                 markersize = 2,\n",
    "                 yflip = true,\n",
    "                 label = \"\",\n",
    "                 markerstrokewidth = 0.2,\n",
    "                 frame = :box,\n",
    "                 ticks = [],\n",
    "                 size = (300, 300),\n",
    "                 c = c) \n",
    "    push!(plot_array, p1)\n",
    "    push!(plot_array, p2)\n",
    "end\n",
    "p = plot(plot_array..., layout = grid(3,2), size = (600, 900))\n",
    "savefig(\"data/4000x4000_combined/Dowker/downsample_leukocytes.svg\")\n",
    "plot(p)\n"
   ]
  },
  {
   "attachments": {},
   "cell_type": "markdown",
   "metadata": {},
   "source": [
    "# Example Dowker persistence diagram computation"
   ]
  },
  {
   "attachments": {},
   "cell_type": "markdown",
   "metadata": {},
   "source": [
    "## (a) among cells"
   ]
  },
  {
   "cell_type": "code",
   "execution_count": null,
   "metadata": {},
   "outputs": [],
   "source": [
    "# specify example\n",
    "LTX = \"145\"\n",
    "Da = \"318\"\n",
    "idx = 4\n",
    "\n",
    "# load cells\n",
    "dir = \"data/4000x4000_combined/Dowker\"\n",
    "filename = \"LTX\" * LTX * \"_Da\" * Da * \"_idx\" * string(idx) * \".csv\" \n",
    "cells_cancer = readdlm(dir * \"/cancer/\" * filename, ',')\n",
    "cells_leukocytes = readdlm(dir * \"/leukocytes/\" * filename, ',');"
   ]
  },
  {
   "cell_type": "code",
   "execution_count": null,
   "metadata": {},
   "outputs": [],
   "source": [
    "# plot\n",
    "p1 = scatter(cells_cancer[:,1], cells_cancer[:,2], markersize = 2,\n",
    "                 yflip = true,\n",
    "                 label = \"\",\n",
    "                 markerstrokewidth = 0.2,\n",
    "                 frame = :box,\n",
    "                 ticks = [],\n",
    "                 c = c_cancer)\n",
    "p2 = scatter(cells_leukocytes[:,1], cells_leukocytes[:,2], markersize = 2,\n",
    "                 yflip = true,\n",
    "                 label = \"\",\n",
    "                 markerstrokewidth = 0.2,\n",
    "                 frame = :box,\n",
    "                 ticks = [],\n",
    "                 c = c_leukocytes)\n",
    "p3 = scatter(cells_cancer[:,1], cells_cancer[:,2], markersize = 2,\n",
    "                 yflip = true,\n",
    "                 label = \"\",\n",
    "                 markerstrokewidth = 0.2,\n",
    "                 frame = :box,\n",
    "                 ticks = [],\n",
    "                 c = c_cancer)\n",
    "scatter!(p3, cells_leukocytes[:,1], cells_leukocytes[:,2], markersize = 2,\n",
    "                 yflip = true,\n",
    "                 label = \"\",\n",
    "                 markerstrokewidth = 0.2,\n",
    "                 frame = :box,\n",
    "                 ticks = [],\n",
    "                 c = c_leukocytes)\n",
    "\n",
    "plot(p1, p2,p3,  layout = grid(1,3), size = (900, 300))"
   ]
  },
  {
   "cell_type": "code",
   "execution_count": null,
   "metadata": {},
   "outputs": [],
   "source": [
    "W_barcode0, W_barcode1, d = compute_Dowker(cells_leukocytes, cells_cancer)"
   ]
  },
  {
   "attachments": {},
   "cell_type": "markdown",
   "metadata": {
    "heading_collapsed": true
   },
   "source": [
    "## (b) Between ECM and cell"
   ]
  },
  {
   "cell_type": "code",
   "execution_count": null,
   "metadata": {
    "hidden": true
   },
   "outputs": [],
   "source": [
    "# specify example\n",
    "LTX = \"160\"\n",
    "Da = \"328\"\n",
    "idx = 2\n",
    "\n",
    "# load cells\n",
    "dir = \"data/4000x4000_combined/Dowker/\"\n",
    "filename = \"LTX\" * LTX * \"_Da\" * Da * \"_idx\" * string(idx) * \".csv\" \n",
    "cells_cancer = readdlm(dir * \"/cancer/\" * filename, ',')\n",
    "cells_leukocytes = readdlm(dir * \"/leukocytes/\" * filename, ',')\n",
    "cells_ECM = readdlm(\"data/4000x4000_combined/Dowker/ECM/\" * filename, ',');\n",
    "\n",
    "# load subregions\n",
    "subregion_centers = load(\"data/4000x4000/subregion_centers.jld2\")[\"subregion_centers\"];\n",
    "subregion_centers_green = load(\"data/4000x4000_201222/subregion_centers_green.jld2\")[\"subregion_centers_green\"];\n",
    "subregion_centers_purple = load(\"data/4000x4000_201222/subregion_centers_purple.jld2\")[\"subregion_centers_purple\"];\n",
    "subregion_all = merge(subregion_centers, subregion_centers_green, subregion_centers_purple);"
   ]
  },
  {
   "cell_type": "code",
   "execution_count": null,
   "metadata": {
    "hidden": true
   },
   "outputs": [],
   "source": [
    "center_x, center_y = subregion_all[(LTX,Da)][idx]\n",
    "subregion_size = 4000\n",
    "xmin, xmax, ymin, ymax = get_subregion_boundaries(center_x, center_y, subregion_size)\n",
    "n = size(cells_cancer, 1)\n",
    "cells_cancer_new = cells_cancer .- hcat(ones(n) * ymin, ones(n) * xmin);"
   ]
  },
  {
   "cell_type": "code",
   "execution_count": null,
   "metadata": {
    "hidden": true,
    "scrolled": false
   },
   "outputs": [],
   "source": [
    "gr()\n",
    "p1 = scatter(cells_cancer_new[:,1], cells_cancer_new[:,2], markersize = 2,\n",
    "                 yflip = true,\n",
    "                 label = \"\",\n",
    "                 markerstrokewidth = 0.2,\n",
    "                 frame = :box,\n",
    "                 ticks = [],\n",
    "                 c = c_cancer)\n",
    "\n",
    "p2 = scatter(cells_ECM[:,1], cells_ECM[:,2], yflip = :true, c = c_ECM, label = \"\", frame = :box, ticks = [], markersize = 2, background_color=:transparent, foreground_color=:black)\n",
    "p3 = scatter(cells_cancer_new[:,1], cells_cancer_new[:,2], markersize = 2,\n",
    "                 yflip = true,\n",
    "                 label = \"\",\n",
    "                 markerstrokewidth = 0.2,\n",
    "                 frame = :box,\n",
    "                 ticks = [],\n",
    "                 c = c_cancer)\n",
    "scatter!(p3, cells_ECM[:,1], cells_ECM[:,2], yflip = :true, c = c_ECM, label = \"\", frame = :box, ticks = [], markersize = 2, background_color=:transparent, foreground_color=:black)\n",
    "plot(p1, p2, p3, layout = grid(1,3), size = (900, 300))"
   ]
  },
  {
   "attachments": {},
   "cell_type": "markdown",
   "metadata": {
    "heading_collapsed": true
   },
   "source": [
    "## (c) Between ECM and leukocytes"
   ]
  },
  {
   "cell_type": "code",
   "execution_count": null,
   "metadata": {
    "hidden": true
   },
   "outputs": [],
   "source": [
    "# specify example\n",
    "LTX = \"145\"\n",
    "Da = \"2441\"\n",
    "idx = 2\n",
    "\n",
    "# load cells\n",
    "dir = \"data/4000x4000_combined/Dowker/\"\n",
    "filename = \"LTX\" * LTX * \"_Da\" * Da * \"_idx\" * string(idx) * \".csv\" \n",
    "cells_cancer = readdlm(dir * \"/cancer/\" * filename, ',')\n",
    "cells_leukocytes = readdlm(dir * \"/leukocytes/\" * filename, ',')\n",
    "cells_ECM = readdlm(\"data/4000x4000_combined/Dowker/ECM/\" * filename, ',');\n",
    "\n",
    "# load subregions\n",
    "subregion_centers = load(\"data/4000x4000/subregion_centers.jld2\")[\"subregion_centers\"];\n",
    "subregion_centers_green = load(\"data/4000x4000_201222/subregion_centers_green.jld2\")[\"subregion_centers_green\"];\n",
    "subregion_centers_purple = load(\"data/4000x4000_201222/subregion_centers_purple.jld2\")[\"subregion_centers_purple\"];\n",
    "subregion_all = merge(subregion_centers, subregion_centers_green, subregion_centers_purple);"
   ]
  },
  {
   "cell_type": "code",
   "execution_count": null,
   "metadata": {
    "hidden": true
   },
   "outputs": [],
   "source": [
    "center_x, center_y = subregion_all[(LTX,Da)][idx]\n",
    "subregion_size = 4000\n",
    "xmin, xmax, ymin, ymax = get_subregion_boundaries(center_x, center_y, subregion_size)\n",
    "n = size(cells_leukocytes, 1)\n",
    "cells_leukocytes_new = cells_leukocytes .- hcat(ones(n) * ymin, ones(n) * xmin);"
   ]
  },
  {
   "cell_type": "code",
   "execution_count": null,
   "metadata": {
    "hidden": true,
    "scrolled": true
   },
   "outputs": [],
   "source": [
    "gr()\n",
    "p1 = scatter(cells_leukocytes_new[:,1], cells_leukocytes_new[:,2], markersize = 2,\n",
    "                 yflip = true,\n",
    "                 label = \"\",\n",
    "                 markerstrokewidth = 0.2,\n",
    "                 frame = :box,\n",
    "                 ticks = [],\n",
    "                 c = c_leukocytes)\n",
    "\n",
    "p2 = scatter(cells_ECM[:,1], cells_ECM[:,2], yflip = :true, c = c_ECM, label = \"\", frame = :box, ticks = [], markersize = 2, background_color=:transparent, foreground_color=:black)\n",
    "p3 = scatter(cells_leukocytes_new[:,1], cells_leukocytes_new[:,2], markersize = 2,\n",
    "                 yflip = true,\n",
    "                 label = \"\",\n",
    "                 markerstrokewidth = 0.2,\n",
    "                 frame = :box,\n",
    "                 ticks = [],\n",
    "                 c = c_leukocytes)\n",
    "scatter!(p3, cells_ECM[:,1], cells_ECM[:,2], yflip = :true, c = c_ECM, label = \"\", frame = :box, ticks = [], markersize = 2, background_color=:transparent, foreground_color=:black)\n",
    "plot(p1, p2, p3, layout = grid(1,3), size = (900, 300))"
   ]
  },
  {
   "attachments": {},
   "cell_type": "markdown",
   "metadata": {
    "heading_collapsed": true
   },
   "source": [
    "# Compute Dowker persistence diagrams for all pairs among: ECM, cancer cells, leukocytes"
   ]
  },
  {
   "attachments": {},
   "cell_type": "markdown",
   "metadata": {
    "hidden": true
   },
   "source": [
    "## Between cancer and leukocytes"
   ]
  },
  {
   "cell_type": "code",
   "execution_count": null,
   "metadata": {
    "hidden": true
   },
   "outputs": [],
   "source": [
    "cell_dir = \"data/4000x4000_combined/Dowker/\"\n",
    "csv_files = [item for item in walkdir(cell_dir * \"cancer/\")][1][3:end][1]\n",
    "for (idx, file) in enumerate(csv_files)\n",
    "\n",
    "    # load sampled cells\n",
    "    cells_leukocytes = readdlm(cell_dir * \"leukocytes/\" * file, ',')\n",
    "    cells_cancer = readdlm(cell_dir * \"cancer/\" * file, ',')\n",
    "\n",
    "    W_barcode0, W_barcode1, _ = compute_Dowker(cells_cancer, cells_leukocytes)\n",
    "   \n",
    "    # save\n",
    "    if W_barcode0 == nothing\n",
    "        writedlm(\"data/4000x4000_combined/Dowker/cancer_leukocytes/PD0/\" * file, zeros(), \",\")    \n",
    "    else\n",
    "        writedlm(\"data/4000x4000_combined/Dowker/cancer_leukocytes/PD0/\" * file, W_barcode0, \",\")    \n",
    "    end\n",
    "    \n",
    "    if W_barcode1 == nothing\n",
    "        writedlm(\"data/4000x4000_combined/Dowker/cancer_leukocytes/PD1/\" * file, zeros(), \",\")\n",
    "    else\n",
    "        writedlm(\"data/4000x4000_combined/Dowker/cancer_leukocytes/PD1/\" * file, W_barcode1, \",\")\n",
    "    end\n",
    "end"
   ]
  },
  {
   "attachments": {},
   "cell_type": "markdown",
   "metadata": {
    "hidden": true
   },
   "source": [
    "## Between ECM and leukocytes"
   ]
  },
  {
   "cell_type": "code",
   "execution_count": null,
   "metadata": {
    "hidden": true
   },
   "outputs": [],
   "source": [
    "idx = 255\n",
    "file = csv_files[idx]\n",
    "LTX = split(file, \"_\")[1][4:end]\n",
    "Da = split(file, \"_\")[2][3:end]\n",
    "idx = parse(Int64, split(split(file,\"_\")[3], \".\")[1][4:end])\n",
    "\n",
    "# load sampled cells\n",
    "cells_leukocytes = readdlm(cell_dir  * file, ',')\n",
    "try\n",
    "    cells_ECM = readdlm(ECM_dir * file, ',')\n",
    "#cells_ECM = Float64.(cells_ECM[2:end,:])\n",
    "catch e\n",
    "end\n",
    "\n",
    "# adjust the coordinates of cells to align with ECM\n",
    "\"\"\"\n",
    "center_x, center_y = subregion_all[(LTX,Da)][idx]\n",
    "xmin, xmax, ymin, ymax = get_subregion_boundaries(center_x, center_y, subregion_size)\n",
    "n = size(cells_leukocytes, 1)\n",
    "cells_leukocytes_new = cells_leukocytes .- hcat(ones(n) * ymin, ones(n) * xmin);\n",
    "W_barcode0, W_barcode1, _ = compute_Dowker(cells_ECM, cells_leukocytes_new)\n",
    "\"\"\""
   ]
  },
  {
   "cell_type": "code",
   "execution_count": null,
   "metadata": {
    "hidden": true
   },
   "outputs": [],
   "source": [
    "cell_dir = \"data/4000x4000_combined/Dowker/leukocytes/\"\n",
    "ECM_dir = \"data/4000x4000_combined/Dowker/ECM/\"\n",
    "csv_files = [item for item in walkdir(ECM_dir)][1][3:end][1]\n",
    "\n",
    "# load subregions\n",
    "subregion_centers = load(\"data/4000x4000/subregion_centers.jld2\")[\"subregion_centers\"];\n",
    "subregion_centers_green = load(\"data/4000x4000_201222/subregion_centers_green.jld2\")[\"subregion_centers_green\"];\n",
    "subregion_centers_purple = load(\"data/4000x4000_201222/subregion_centers_purple.jld2\")[\"subregion_centers_purple\"];\n",
    "subregion_all = merge(subregion_centers, subregion_centers_green, subregion_centers_purple);\n",
    "subregion_size = 4000\n",
    "\n",
    "for idx = 255:length(csv_files)\n",
    "#for (idx, file) in enumerate(csv_files)\n",
    "#    println(idx, file)\n",
    "    file = csv_files[idx]\n",
    "    # get LTX, Da, idx\n",
    "    LTX = split(file, \"_\")[1][4:end]\n",
    "    Da = split(file, \"_\")[2][3:end]\n",
    "    idx = parse(Int64, split(split(file,\"_\")[3], \".\")[1][4:end])\n",
    "\n",
    "    # load sampled cells\n",
    "    cells_leukocytes = readdlm(cell_dir  * file, ',')\n",
    "    try\n",
    "        cells_ECM = readdlm(ECM_dir * file, ',')\n",
    "        #cells_ECM = Float64.(cells_ECM[2:end,:])\n",
    "\n",
    "        # adjust the coordinates of cells to align with ECM\n",
    "        center_x, center_y = subregion_all[(LTX,Da)][idx]\n",
    "        xmin, xmax, ymin, ymax = get_subregion_boundaries(center_x, center_y, subregion_size)\n",
    "        n = size(cells_leukocytes, 1)\n",
    "        cells_leukocytes_new = cells_leukocytes .- hcat(ones(n) * ymin, ones(n) * xmin);\n",
    "        W_barcode0, W_barcode1, _ = compute_Dowker(cells_ECM, cells_leukocytes_new)\n",
    "\n",
    "        # save\n",
    "        if W_barcode0 == nothing\n",
    "            writedlm(\"data/4000x4000_combined/Dowker/ECM_leukocytes/PD0/\" * file, zeros(), \",\")\n",
    "        else\n",
    "            writedlm(\"data/4000x4000_combined/Dowker/ECM_leukocytes/PD0/\" * file, W_barcode0, \",\")\n",
    "        end\n",
    "\n",
    "        if W_barcode1 == nothing\n",
    "            writedlm(\"data/4000x4000_combined/Dowker/ECM_leukocytes/PD1/\" * file, zeros(), \",\")\n",
    "        else\n",
    "            writedlm(\"data/4000x4000_combined/Dowker/ECM_leukocytes/PD1/\" * file, W_barcode1, \",\")\n",
    "        end\n",
    "    catch e\n",
    "    end\n",
    "end"
   ]
  },
  {
   "attachments": {},
   "cell_type": "markdown",
   "metadata": {
    "hidden": true
   },
   "source": [
    "## Between ECM and cancer \n",
    "be careful to scale the coordinates"
   ]
  },
  {
   "cell_type": "code",
   "execution_count": null,
   "metadata": {
    "hidden": true
   },
   "outputs": [],
   "source": [
    "cell_dir = \"data/4000x4000_combined/Dowker/cancer/\"\n",
    "ECM_dir = \"data/4000x4000_combined/Dowker/ECM/\"\n",
    "csv_files = [item for item in walkdir(ECM_dir)][1][3:end][1]\n",
    "\n",
    "# load subregions\n",
    "subregion_centers = load(\"data/4000x4000/subregion_centers.jld2\")[\"subregion_centers\"];\n",
    "subregion_centers_green = load(\"data/4000x4000_201222/subregion_centers_green.jld2\")[\"subregion_centers_green\"];\n",
    "subregion_centers_purple = load(\"data/4000x4000_201222/subregion_centers_purple.jld2\")[\"subregion_centers_purple\"];\n",
    "subregion_all = merge(subregion_centers, subregion_centers_green, subregion_centers_purple);\n",
    "\n",
    "subregion_size = 4000\n",
    "\n",
    "for (idx, file) in enumerate(csv_files)\n",
    "    file = csv_files[idx]\n",
    "    # get LTX, Da, idx\n",
    "    LTX = split(file, \"_\")[1][4:end]\n",
    "    Da = split(file, \"_\")[2][3:end]\n",
    "    idx = parse(Int64, split(split(file,\"_\")[3], \".\")[1][4:end])\n",
    "\n",
    "    # load sampled cells\n",
    "    cells_cancer = readdlm(cell_dir  * file, ',')\n",
    "    try\n",
    "        cells_ECM = readdlm(ECM_dir * file, ',')\n",
    "\n",
    "        # adjust the coordinates of cancer cells to align with ECM\n",
    "        center_x, center_y = subregion_all[(LTX,Da)][idx]\n",
    "        xmin, xmax, ymin, ymax = get_subregion_boundaries(center_x, center_y, subregion_size)\n",
    "        n = size(cells_cancer, 1)\n",
    "        cells_cancer_new = cells_cancer .- hcat(ones(n) * ymin, ones(n) * xmin);\n",
    "\n",
    "        W_barcode0, W_barcode1, _ = compute_Dowker(cells_ECM, cells_cancer_new)\n",
    "\n",
    "        # save\n",
    "        if W_barcode0 == nothing\n",
    "            writedlm(\"data/4000x4000_combined/Dowker/ECM_cancer/PD0/\" * file, zeros(), \",\")\n",
    "            writedlm(\"data/4000x4000_combined/Dowker/ECM_cancer/PD1/\" * file, zeros(), \",\")\n",
    "\n",
    "        else\n",
    "            writedlm(\"data/4000x4000_combined/Dowker/ECM_cancer/PD0/\" * file, W_barcode0, \",\")\n",
    "            writedlm(\"data/4000x4000_combined/Dowker/ECM_cancer/PD1/\" * file, W_barcode1, \",\")\n",
    "\n",
    "        end\n",
    "    catch e\n",
    "    end\n",
    "end"
   ]
  },
  {
   "cell_type": "code",
   "execution_count": null,
   "metadata": {
    "hidden": true
   },
   "outputs": [],
   "source": [
    "length(csv_files)"
   ]
  },
  {
   "attachments": {},
   "cell_type": "markdown",
   "metadata": {
    "heading_collapsed": true
   },
   "source": [
    "# Compute persistence image features from Dowker persistence diagrams"
   ]
  },
  {
   "cell_type": "code",
   "execution_count": null,
   "metadata": {
    "hidden": true,
    "scrolled": true
   },
   "outputs": [],
   "source": [
    "get_PD0_max2(PD_dict) = maximum([sort(hcat(PD_dict[i]...), dims = 1)[end-1] for (i,v) in PD_dict if v != reshape(Array([0.0]), 1, 1) ])"
   ]
  },
  {
   "cell_type": "code",
   "execution_count": null,
   "metadata": {
    "hidden": true
   },
   "outputs": [],
   "source": [
    "s = \"ECM_cancer\" # choose one of the following: \"cancer_leukocytes\", \"ECM_cancer\", \"ECM_leukocytes\"\n",
    "dir = \"data/4000x4000_combined/Dowker/\" * s * \"/PD0/\"\n",
    "csv_files = [item for item in walkdir(dir)][1][3:end][1]\n",
    "\n",
    "# load PD\n",
    "PD0 = Dict()\n",
    "PD1 = Dict()\n",
    "for (idx, file) in enumerate(csv_files)\n",
    "    ROI = file[1:end-4]\n",
    "    PD0[ROI] = readdlm(\"data/4000x4000_combined/Dowker/\" * s * \"/PD0/\" * file, ',')\n",
    "    \n",
    "    # check if the W1 is empty\n",
    "    if filesize(\"data/4000x4000_combined/Dowker/\" * s * \"/PD1/\" * file) == 0\n",
    "        PD1[ROI] = reshape(Array([0.0]), 1, 1)\n",
    "    else\n",
    "        PD1[ROI] = readdlm(\"data/4000x4000_combined/Dowker/\" * s * \"/PD1/\" * file, ',')\n",
    "    end\n",
    "end\n",
    "\n",
    "# convert to Ripser PD\n",
    "PH0 = Dict(k => ECM_TDA.array_to_ripsererPD(v) for (k,v) in PD0 if v != reshape(Array([0.0]), 1, 1))\n",
    "PH1 = Dict(k => ECM_TDA.array_to_ripsererPD(v) for (k,v) in PD1 if v != reshape(Array([0.0]), 1, 1))\n",
    "\n",
    "# compute PI\n",
    "PI0 = ECM_TDA.compute_PI(PH0)\n",
    "PI1 = ECM_TDA.compute_PI(PH1);\n",
    "\n",
    "# compute maximum PD values (for plotting)\n",
    "PD0_max = get_PD0_max2(PD0) # not a typo. This is because Dowker PD0 doesn't just end with one connected component\n",
    "PD1_max = get_PD1_max(PD1);\n",
    "\n",
    "\n",
    "# save(\"data/4000x4000_combined/Dowker/\" * s * \"/PD.jld2\", \n",
    "#     \"PD0\", PD0, \n",
    "#     \"PD1\", PD1, \n",
    "#     \"PI0\", PI0, \n",
    "#     \"PI1\", PI1,\n",
    "#     \"PD0_max\", PD0_max,\n",
    "#     \"PD1_max\", PD1_max)"
   ]
  }
 ],
 "metadata": {
  "@webio": {
   "lastCommId": "20313c67f843479d8b38c21b9c60f10b",
   "lastKernelId": "0cd43bda-830b-4a7a-97ea-18f4aee42538"
  },
  "kernelspec": {
   "display_name": "Julia 1.6.3",
   "language": "julia",
   "name": "julia-1.6"
  },
  "language_info": {
   "file_extension": ".jl",
   "mimetype": "application/julia",
   "name": "julia",
   "version": "1.6.3"
  }
 },
 "nbformat": 4,
 "nbformat_minor": 4
}
