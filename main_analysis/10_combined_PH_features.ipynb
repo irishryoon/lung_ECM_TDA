{
 "cells": [
  {
   "attachments": {},
   "cell_type": "markdown",
   "metadata": {},
   "source": [
    "# Combined analysis \n",
    "Analysis on combinations of all PH and Dowker PH features"
   ]
  },
  {
   "cell_type": "code",
   "execution_count": null,
   "metadata": {},
   "outputs": [],
   "source": [
    "\n",
    "include(\"../src/ECM_TDA.jl\")\n",
    "using .ECM_TDA\n",
    "\n",
    "using Eirene\n",
    "using Ripserer\n",
    "using CSV\n",
    "using TiffImages\n",
    "using Images\n",
    "using NPZ\n",
    "using Plots\n",
    "using PersistenceDiagrams\n",
    "using Measures\n",
    "using Distributions\n",
    "using MultivariateStats\n",
    "using LinearAlgebra\n",
    "using Random\n",
    "using StatsBase\n",
    "using JLD2\n",
    "using FileIO\n",
    "using PersistenceDiagrams\n",
    "using DelimitedFiles\n",
    "using Distances\n",
    "using UMAP\n",
    "using Clustering\n"
   ]
  },
  {
   "cell_type": "code",
   "execution_count": null,
   "metadata": {},
   "outputs": [],
   "source": [
    "# color palettes\n",
    "c_ECM = \"#249EA0\" # teal\n",
    "c_cancer = \"#592693\" # purple\n",
    "c_leukocytes = \"#FAAB36\" # orange\n",
    "\n",
    "# color palettes\n",
    "\n",
    "c1 = \"#fd5184\" # pink\n",
    "c2 = \"#ffb602\" # orange\n",
    "c3 = \"#3ec0c9\" # blue / teal \n",
    "c4 = \"#d753ce\" # purple\n",
    "c5 = \"#49a849\"  # green\n",
    "c6 = \"#F28522\"\n",
    "c7 = \"#265BF5\"\n",
    "c8 = \"#AEF359\" # lime green\n",
    "\n"
   ]
  },
  {
   "attachments": {},
   "cell_type": "markdown",
   "metadata": {},
   "source": [
    "## Create a combined feature from all PH and Dowker PH features"
   ]
  },
  {
   "cell_type": "code",
   "execution_count": null,
   "metadata": {},
   "outputs": [],
   "source": [
    "### load all persistence diagrams\n",
    "# load ECM features\n",
    "ECM_PD0 = load(\"data/4000x4000_combined/ECM_PD/PD.jld2\")[\"PD0_ECM\"]\n",
    "ECM_PD1 = load(\"data/4000x4000_combined/ECM_PD/PD.jld2\")[\"PD1_ECM\"]\n",
    "\n",
    "# load cancer & leukocyte features\n",
    "PD = load(\"data/4000x4000_combined/cells_PD/PD.jld2\")\n",
    "cancer_PD0 = PD[\"PD0_cancer\"]\n",
    "cancer_PD1 = PD[\"PD1_cancer\"]\n",
    "leukocytes_PD0 = PD[\"PD0_leukocytes\"]\n",
    "leukocytes_PD1 = PD[\"PD1_leukocytes\"]\n",
    "\n",
    "# load Dowker: (cancer, leukocytes) features\n",
    "data = load(\"data/4000x4000_combined/Dowker/cancer_leukocytes/PD.jld2\")\n",
    "CL_PD0 = data[\"PD0\"]\n",
    "CL_PD1 = data[\"PD1\"];\n",
    "\n",
    "# load Dowker: (ECM, cancer) features\n",
    "data = load(\"data/4000x4000_combined/Dowker/ECM_cancer/PD.jld2\")\n",
    "ECM_C_PD0 = data[\"PD0\"]\n",
    "ECM_C_PD1 = data[\"PD1\"];\n",
    "\n",
    "# load Dowker: (ECM, leukocytes) features\n",
    "data = load(\"data/4000x4000_combined/Dowker/ECM_leukocytes/PD.jld2\")\n",
    "ECM_L_PD0 = data[\"PD0\"]\n",
    "ECM_L_PD1 = data[\"PD1\"];\n",
    "\n",
    "# load all cell analysis\n",
    "data = load(\"data/4000x4000_combined/all_cells_PD/PD.jld2\")\n",
    "all_cells_PD0 = data[\"PD0\"]\n",
    "all_cells_PD1 = data[\"PD1\"];"
   ]
  },
  {
   "cell_type": "code",
   "execution_count": null,
   "metadata": {},
   "outputs": [],
   "source": [
    "# define new get_PD\n",
    "\n",
    "get_PD0_max2(PD_dict) = maximum([maximum(PD_dict[i][1:end-1,:]) for (i,v) in PD_dict if (v != reshape(Array([0.0]), 1, 1)) & (v != nothing) ])\n",
    "get_PD1_max3(PD_dict) = maximum([maximum(PD_dict[i]) for (i,v) in PD_dict if (v != reshape(Array([0.0]), 1, 1)) & (v != nothing) ])"
   ]
  },
  {
   "cell_type": "code",
   "execution_count": null,
   "metadata": {},
   "outputs": [],
   "source": [
    "println(get_PD1_max3(ECM_PD1))\n",
    "println(get_PD1_max3(leukocytes_PD1))\n",
    "println(get_PD1_max3(cancer_PD1))\n",
    "println(get_PD1_max3(CL_PD1))\n",
    "println(get_PD1_max3(ECM_C_PD1))\n",
    "println(get_PD1_max3(ECM_L_PD1))\n",
    "println(get_PD1_max3(all_cells_PD1))"
   ]
  },
  {
   "cell_type": "code",
   "execution_count": null,
   "metadata": {},
   "outputs": [],
   "source": [
    "# compute PIs\n",
    "ECM_PI0 = compute_PI2(ECM_PD0)\n",
    "ECM_PI1 = compute_PI2(ECM_PD1)\n",
    "\n",
    "cancer_PI0 = compute_PI2(cancer_PD0)\n",
    "cancer_PI1 = compute_PI2(cancer_PD1)\n",
    "\n",
    "leukocytes_PI0 = compute_PI2(leukocytes_PD0)\n",
    "leukocytes_PI1 = compute_PI2(leukocytes_PD1)\n",
    "\n",
    "CL_PI0 = compute_PI2(CL_PD0)\n",
    "CL_PI1 = compute_PI2(CL_PD1)\n",
    "\n",
    "ECM_C_PI0 = compute_PI2(ECM_C_PD0)\n",
    "ECM_C_PI1 = compute_PI2(ECM_C_PD1)\n",
    "\n",
    "ECM_L_PI0 = compute_PI2(ECM_L_PD0)\n",
    "ECM_L_PI1 = compute_PI2(ECM_L_PD1)\n",
    "\n",
    "all_cells_PI0 = compute_PI2(all_cells_PD0)\n",
    "all_cells_PI1 = compute_PI2(all_cells_PD1);"
   ]
  },
  {
   "cell_type": "code",
   "execution_count": null,
   "metadata": {},
   "outputs": [],
   "source": [
    "# select dictionaries\n",
    "dicts = [ECM_PI0, \n",
    "         ECM_PI1,\n",
    "        cancer_PI0,\n",
    "        cancer_PI1,\n",
    "        leukocytes_PI0,\n",
    "        leukocytes_PI1,\n",
    "        CL_PI0,\n",
    "        CL_PI1,\n",
    "        ECM_C_PI0,\n",
    "        ECM_C_PI1,\n",
    "        ECM_L_PI0,\n",
    "        ECM_L_PI1,\n",
    "        all_cells_PI0,\n",
    "        all_cells_PI1\n",
    "        ];\n",
    "\n",
    "# get keys that are present in all dictionaries\n",
    "all_keys = []\n",
    "for k in keys(dicts[1])\n",
    "    present = 0\n",
    "    for j = 2:length(dicts)\n",
    "        if k in keys(dicts[j])\n",
    "            present += 1\n",
    "        end\n",
    "    end\n",
    "\n",
    "    if present == length(dicts) - 1\n",
    "        push!(all_keys, k)\n",
    "    end\n",
    "end\n",
    "\n",
    "# combine all features\n",
    "features = Dict()\n",
    "for f in all_keys\n",
    "     combined = vcat(ECM_PI0[f], \n",
    "                    cancer_PI0[f], \n",
    "                    leukocytes_PI0[f], \n",
    "                    vec(ECM_PI1[f]),\n",
    "                    vec(cancer_PI1[f]),\n",
    "                    vec(leukocytes_PI1[f]),\n",
    "                    vec(CL_PI0[f]),\n",
    "                    vec(CL_PI1[f]),\n",
    "                    vec(ECM_C_PI0[f]),\n",
    "                    vec(ECM_C_PI1[f]),\n",
    "                    vec(ECM_L_PI0[f]),\n",
    "                    vec(ECM_L_PI1[f]),\n",
    "                    vec(all_cells_PI0[f]),\n",
    "                    vec(all_cells_PI1[f])\n",
    "                    )\n",
    "     features[f] = combined\n",
    "    \n",
    "end"
   ]
  },
  {
   "cell_type": "code",
   "execution_count": null,
   "metadata": {},
   "outputs": [],
   "source": [
    "ROIs = collect(keys(features))\n",
    "idx_ROI = Dict(i => roi for (i, roi) in enumerate(ROIs));"
   ]
  },
  {
   "cell_type": "code",
   "execution_count": null,
   "metadata": {},
   "outputs": [],
   "source": [
    "#save(\"analysis/combined/idx_ROI.jld2\", \"idx_ROI\", idx_ROI)\n",
    "idx_files = load(\"analysis/combined/idx_ROI.jld2\")[\"idx_ROI\"];\n",
    "file_idx = Dict(v => k for (k,v) in idx_files);"
   ]
  },
  {
   "cell_type": "code",
   "execution_count": null,
   "metadata": {},
   "outputs": [],
   "source": [
    "# prepare features array\n",
    "n = length(ROIs)\n",
    "features_array = hcat([features[idx_files[i]] for i = 1:n]...)\n",
    "println(\"features array shape: \", size(features_array))\n",
    "\n",
    "features_centered = features_array .- mean(features_array, dims = 2);"
   ]
  },
  {
   "cell_type": "code",
   "execution_count": null,
   "metadata": {},
   "outputs": [],
   "source": [
    "#save(\"analysis/combined/features.jld2\", \"features\", features_array)"
   ]
  },
  {
   "attachments": {},
   "cell_type": "markdown",
   "metadata": {},
   "source": [
    "## UMAP on combined feature"
   ]
  },
  {
   "cell_type": "code",
   "execution_count": null,
   "metadata": {},
   "outputs": [],
   "source": [
    "idx_files = load(\"analysis/combined/idx_ROI.jld2\")[\"idx_ROI\"];\n",
    "file_idx = Dict(v => k for (k,v) in idx_files);\n",
    "\n",
    "features_array = load(\"analysis/combined/features.jld2\")[\"features\"]\n",
    "features_centered = features_array .- mean(features_array, dims = 2);"
   ]
  },
  {
   "cell_type": "code",
   "execution_count": null,
   "metadata": {},
   "outputs": [],
   "source": [
    "# compute UMAP & save\n",
    "#embedding = umap(features_centered, 2; n_neighbors = 5);\n",
    "#writedlm(\"analysis/combined/umap.csv\", embedding, \",\")"
   ]
  },
  {
   "cell_type": "code",
   "execution_count": null,
   "metadata": {},
   "outputs": [],
   "source": [
    "\n",
    "embedding = Array(CSV.read(\"analysis/combined/umap.csv\", header = false))"
   ]
  },
  {
   "attachments": {},
   "cell_type": "markdown",
   "metadata": {},
   "source": [
    "## hierarchical clustering"
   ]
  },
  {
   "cell_type": "code",
   "execution_count": null,
   "metadata": {},
   "outputs": [],
   "source": [
    "function print_cluster_sizes(hc_clusters)\n",
    "    clusters = unique(hc_clusters)\n",
    "    for i in clusters\n",
    "       println(\"size of cluster \" * string(i) * \": \", count(x -> x == i, hc_clusters)) \n",
    "    end\n",
    "end"
   ]
  },
  {
   "cell_type": "code",
   "execution_count": null,
   "metadata": {},
   "outputs": [],
   "source": [
    "# prepare features array\n",
    "\n",
    "dimred_embedding = umap(features_centered, 2; n_neighbors = 5, min_dist = 0.00001);\n",
    "println(\"size of reduced dimension embedding: \", size(dimred_embedding))\n",
    "\n",
    "d = Distances.pairwise(Euclidean(), dimred_embedding, dims = 2)\n",
    "println(\"distance matrix shape: \", size(d))\n",
    "\n",
    "hc = hclust(d);"
   ]
  },
  {
   "cell_type": "code",
   "execution_count": null,
   "metadata": {},
   "outputs": [],
   "source": [
    "plot(hc)"
   ]
  },
  {
   "cell_type": "code",
   "execution_count": null,
   "metadata": {},
   "outputs": [],
   "source": [
    "h_clusters = cutree(hc, k = 9);\n",
    "print_cluster_sizes(h_clusters)"
   ]
  },
  {
   "cell_type": "code",
   "execution_count": null,
   "metadata": {},
   "outputs": [],
   "source": [
    "cluster_indices = Dict(i => findall(x -> x == i, h_clusters) for i in unique(h_clusters));"
   ]
  },
  {
   "cell_type": "code",
   "execution_count": null,
   "metadata": {},
   "outputs": [],
   "source": [
    "gr()\n",
    "cluster_indices = load(\"analysis/combined/cluster_indices.jld2\")[\"cluster_indices\"]\n",
    "p = plot_dim_red2(embedding, cluster_indices; \n",
    "                    dim_red = \"UMAP\", \n",
    "                    xaxis = \"UMAP-1\", \n",
    "                    yaxis = \"UMAP-2\",\n",
    "                    xlims = (-9, 18)\n",
    "                    )\n",
    "#savefig(\"analysis/combined/umap.svg\")"
   ]
  },
  {
   "cell_type": "code",
   "execution_count": null,
   "metadata": {},
   "outputs": [],
   "source": [
    "# reorder clusters\n",
    "# c_reordered = Dict(1 => cluster_indices[4],\n",
    "#                      2 => cluster_indices[9],\n",
    "#                      3 => cluster_indices[2],\n",
    "#                      4 => cluster_indices[7],\n",
    "#                      5 => cluster_indices[8],\n",
    "#                      6 => cluster_indices[3],\n",
    "#                      7 => cluster_indices[5],\n",
    "#                      8 => cluster_indices[1],\n",
    "#                       9 => cluster_indices[6])\n",
    "# cluster_indices = c_reordered;"
   ]
  },
  {
   "cell_type": "code",
   "execution_count": null,
   "metadata": {},
   "outputs": [],
   "source": [
    "plotly()\n",
    "n = size(embedding, 2)\n",
    "p = scatter(embedding[1,:], embedding[2,:], \n",
    "        markercolor = \"slategrey\",\n",
    "        markersize = 5, \n",
    "        label = \"\", \n",
    "        xticks = [], \n",
    "        yticks = [], \n",
    "        framestyle = :box,  \n",
    "        xlabel = \"UMAP-1\",\n",
    "        ylabel = \"UMAP-2\",\n",
    "        guidefontsize = 15,\n",
    "        leftmargin = 5mm,\n",
    "        size = (450, 350),\n",
    "        hover = 1:n,\n",
    "        legend = :topright)"
   ]
  },
  {
   "cell_type": "code",
   "execution_count": null,
   "metadata": {},
   "outputs": [],
   "source": [
    "examples = Dict(\n",
    "1 => [55, 142, 396, 276],\n",
    "2 => [65, 313, 287, 122],\n",
    "3 => [30, 334, 80, 30],\n",
    "4 => [73, 333, 388, 228],\n",
    "5 => [245, 50, 243, 395],\n",
    "6 => [116, 26, 148, 129,],\n",
    "7 => [286, 183, 157, 44],\n",
    "8 => [47, 259, 392, 62],\n",
    "9 => [70, 68,244, 193],\n",
    ")"
   ]
  },
  {
   "cell_type": "code",
   "execution_count": null,
   "metadata": {},
   "outputs": [],
   "source": [
    "gr()\n",
    "figname = \"analysis/combined/hierarchical_clusters_representatives_selected_highres.png\"\n",
    "size_unit = 800\n",
    "size = (4 * size_unit, 10 * size_unit)\n",
    "plot_PSRH(examples, idx_files, figname; size = size, bottom_margin = 50mm )"
   ]
  },
  {
   "attachments": {},
   "cell_type": "markdown",
   "metadata": {},
   "source": [
    "Select from example clusters & save"
   ]
  },
  {
   "cell_type": "code",
   "execution_count": null,
   "metadata": {},
   "outputs": [],
   "source": [
    "# plot selected examples\n",
    "# select four random examples\n",
    "cluster_4 = Dict(i => sample(cluster_indices[i], 4, replace = :false) for i in keys(cluster_indices))\n",
    "\n",
    "save(\"analysis/combined/cluster_examples_2.jld2\", \"cluster_examples\", cluster_4)\n",
    "\n",
    "figname = \"analysis/combined/hierarchical_clusters_representatives_random_2.png\"\n",
    "plot_PSRH(cluster_4, idx_files, figname)"
   ]
  },
  {
   "cell_type": "code",
   "execution_count": null,
   "metadata": {},
   "outputs": [],
   "source": [
    "# save \n",
    "#save(\"analysis/combined/cluster_indices.jld2\", \"cluster_indices\", cluster_indices)"
   ]
  },
  {
   "attachments": {},
   "cell_type": "markdown",
   "metadata": {},
   "source": [
    "## UMAP from dimension-0 and dimension-1 features separately"
   ]
  },
  {
   "attachments": {},
   "cell_type": "markdown",
   "metadata": {},
   "source": [
    "### dimension 0"
   ]
  },
  {
   "cell_type": "code",
   "execution_count": null,
   "metadata": {},
   "outputs": [],
   "source": [
    "ECM_PI0 = compute_PI2(ECM_PD0)\n",
    "cancer_PI0 = compute_PI2(cancer_PD0)\n",
    "leukocytes_PI0 = compute_PI2(leukocytes_PD0)\n",
    "CL_PI0 = compute_PI2(CL_PD0)\n",
    "ECM_C_PI0 = compute_PI2(ECM_C_PD0)\n",
    "ECM_L_PI0 = compute_PI2(ECM_L_PD0)\n",
    "all_cells_PI0 = compute_PI2(all_cells_PD0);\n"
   ]
  },
  {
   "cell_type": "code",
   "execution_count": null,
   "metadata": {},
   "outputs": [],
   "source": [
    "# select dictionaries\n",
    "dicts = [ECM_PI0, \n",
    "         cancer_PI0,\n",
    "        leukocytes_PI0,\n",
    "        CL_PI0,\n",
    "        ECM_C_PI0,\n",
    "        ECM_L_PI0,\n",
    "        all_cells_PI0,\n",
    "        ];\n",
    "\n",
    "# get keys that are present in all dictionaries\n",
    "all_keys = []\n",
    "for k in keys(dicts[1])\n",
    "    present = 0\n",
    "    for j = 2:length(dicts)\n",
    "        if k in keys(dicts[j])\n",
    "            present += 1\n",
    "        end\n",
    "    end\n",
    "\n",
    "    if present == length(dicts) - 1\n",
    "        push!(all_keys, k)\n",
    "    end\n",
    "end\n",
    "\n",
    "# combine all features\n",
    "features = Dict()\n",
    "for f in all_keys\n",
    "     combined = vcat(ECM_PI0[f], \n",
    "                    cancer_PI0[f], \n",
    "                    leukocytes_PI0[f], \n",
    "                    vec(CL_PI0[f]),\n",
    "                    vec(ECM_C_PI0[f]),\n",
    "                    vec(ECM_L_PI0[f]),\n",
    "                    vec(all_cells_PI0[f]),\n",
    "                    )\n",
    "     features[f] = combined\n",
    "    \n",
    "end"
   ]
  },
  {
   "cell_type": "code",
   "execution_count": null,
   "metadata": {},
   "outputs": [],
   "source": [
    "idx_files = load(\"analysis/combined/idx_ROI.jld2\")[\"idx_ROI\"];\n",
    "file_idx = Dict(v => k for (k,v) in idx_files);"
   ]
  },
  {
   "cell_type": "code",
   "execution_count": null,
   "metadata": {},
   "outputs": [],
   "source": [
    "# prepare features array\n",
    "n = length(idx_files)\n",
    "features_array = hcat([features[idx_files[i]] for i = 1:n]...)\n",
    "println(\"features array shape: \", size(features_array))\n",
    "\n",
    "features_centered = features_array .- mean(features_array, dims = 2);"
   ]
  },
  {
   "cell_type": "code",
   "execution_count": null,
   "metadata": {},
   "outputs": [],
   "source": [
    "#save(\"analysis/combined/dim_0/features.jld2\", \"features\", features_array)"
   ]
  },
  {
   "cell_type": "code",
   "execution_count": null,
   "metadata": {},
   "outputs": [],
   "source": [
    "Random.seed!(10)\n",
    "embedding = umap(features_centered, 2; n_neighbors = 5)\n",
    "#writedlm(\"analysis/combined/dim_0/umap.csv\", embedding, \",\")\n"
   ]
  },
  {
   "cell_type": "code",
   "execution_count": null,
   "metadata": {},
   "outputs": [],
   "source": [
    "# load\n",
    "embedding = Array(CSV.read(\"analysis/combined/dim_0/umap.csv\", header = false))\n",
    "gr()\n",
    "n = size(embedding, 2)\n",
    "p = scatter(embedding[1,:], embedding[2,:], \n",
    "        markercolor = \"slategrey\",\n",
    "        markersize = 5, \n",
    "        label = \"\", \n",
    "        xticks = [], \n",
    "        yticks = [], \n",
    "        framestyle = :box,  \n",
    "        xlabel = \"UMAP-1\",\n",
    "        ylabel = \"UMAP-2\",\n",
    "        guidefontsize = 15,\n",
    "        leftmargin = 5mm,\n",
    "        size = (450, 350),\n",
    "        legend = :topright)\n",
    "savefig(\"analysis/combined/dim_0/umap.pdf\")\n",
    "plot(p)"
   ]
  },
  {
   "attachments": {},
   "cell_type": "markdown",
   "metadata": {},
   "source": [
    "### dimension 1"
   ]
  },
  {
   "cell_type": "code",
   "execution_count": null,
   "metadata": {},
   "outputs": [],
   "source": [
    "ECM_PI1 = compute_PI2(ECM_PD1)\n",
    "cancer_PI1 = compute_PI2(cancer_PD1)\n",
    "leukocytes_PI1 = compute_PI2(leukocytes_PD1)\n",
    "CL_PI1 = compute_PI2(CL_PD1)\n",
    "ECM_C_PI1 = compute_PI2(ECM_C_PD1)\n",
    "ECM_L_PI1 = compute_PI2(ECM_L_PD1)\n",
    "all_cells_PI1 = compute_PI2(all_cells_PD1);"
   ]
  },
  {
   "cell_type": "code",
   "execution_count": null,
   "metadata": {},
   "outputs": [],
   "source": [
    "# select dictionaries\n",
    "dicts = [\n",
    "         ECM_PI1,\n",
    "        cancer_PI1,\n",
    "        leukocytes_PI1,\n",
    "        CL_PI1,\n",
    "        ECM_C_PI1,\n",
    "        ECM_L_PI1,\n",
    "        all_cells_PI1\n",
    "        ];\n",
    "\n",
    "# get keys that are present in all dictionaries\n",
    "all_keys = []\n",
    "for k in keys(dicts[1])\n",
    "    present = 0\n",
    "    for j = 2:length(dicts)\n",
    "        if k in keys(dicts[j])\n",
    "            present += 1\n",
    "        end\n",
    "    end\n",
    "\n",
    "    if present == length(dicts) - 1\n",
    "        push!(all_keys, k)\n",
    "    end\n",
    "end\n",
    "\n",
    "# combine all features\n",
    "features = Dict()\n",
    "for f in all_keys\n",
    "     combined = vcat(\n",
    "                    vec(ECM_PI1[f]),\n",
    "                    vec(cancer_PI1[f]),\n",
    "                    vec(leukocytes_PI1[f]),\n",
    "                    vec(CL_PI1[f]),\n",
    "                    vec(ECM_C_PI1[f]),\n",
    "                    vec(ECM_L_PI1[f]),\n",
    "                    vec(all_cells_PI1[f])\n",
    "                    )\n",
    "     features[f] = combined\n",
    "    \n",
    "end"
   ]
  },
  {
   "cell_type": "code",
   "execution_count": null,
   "metadata": {},
   "outputs": [],
   "source": [
    "idx_files = load(\"analysis/combined/idx_ROI.jld2\")[\"idx_ROI\"];\n",
    "file_idx = Dict(v => k for (k,v) in idx_files);"
   ]
  },
  {
   "cell_type": "code",
   "execution_count": null,
   "metadata": {},
   "outputs": [],
   "source": [
    "# prepare features array\n",
    "n = length(idx_files)\n",
    "features_array = hcat([features[idx_files[i]] for i = 1:n]...)\n",
    "println(\"features array shape: \", size(features_array))\n",
    "\n",
    "features_centered = features_array .- mean(features_array, dims = 2);"
   ]
  },
  {
   "cell_type": "code",
   "execution_count": null,
   "metadata": {},
   "outputs": [],
   "source": [
    "#save(\"analysis/combined/dim_1/features.jld2\", \"features\", features_array)"
   ]
  },
  {
   "cell_type": "code",
   "execution_count": null,
   "metadata": {},
   "outputs": [],
   "source": [
    "Random.seed!(10)\n",
    "embedding = umap(features_centered, 2; n_neighbors = 5)\n",
    "#writedlm(\"analysis/combined/dim_1/umap.csv\", embedding, \",\")\n"
   ]
  },
  {
   "cell_type": "code",
   "execution_count": null,
   "metadata": {},
   "outputs": [],
   "source": [
    "# load\n",
    "embedding = Array(CSV.read(\"analysis/combined/dim_1/umap.csv\", header = false))\n",
    "gr()\n",
    "n = size(embedding, 2)\n",
    "p = scatter(embedding[1,:], embedding[2,:], \n",
    "        markercolor = \"slategrey\",\n",
    "        markersize = 5, \n",
    "        label = \"\", \n",
    "        xticks = [], \n",
    "        yticks = [], \n",
    "        framestyle = :box,  \n",
    "        xlabel = \"UMAP-1\",\n",
    "        ylabel = \"UMAP-2\",\n",
    "        guidefontsize = 15,\n",
    "        leftmargin = 5mm,\n",
    "        size = (450, 350),\n",
    "        legend = :topright)\n",
    "savefig(\"analysis/combined/dim_1/umap.pdf\")\n",
    "plot(p)"
   ]
  }
 ],
 "metadata": {
  "@webio": {
   "lastCommId": "cc56da654e5f4da39b5e70f38640b73f",
   "lastKernelId": "fb7cbae3-1cde-458c-a9b0-ed9e0ff7243e"
  },
  "kernelspec": {
   "display_name": "Julia 1.6.3",
   "language": "julia",
   "name": "julia-1.6"
  },
  "language_info": {
   "file_extension": ".jl",
   "mimetype": "application/julia",
   "name": "julia",
   "version": "1.6.3"
  }
 },
 "nbformat": 4,
 "nbformat_minor": 4
}
