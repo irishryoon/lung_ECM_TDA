{
 "cells": [
  {
   "cell_type": "code",
   "execution_count": null,
   "metadata": {},
   "outputs": [],
   "source": [
    "include(\"../src/ECM_TDA.jl\")\n",
    "using .ECM_TDA\n",
    "using Eirene\n",
    "using Ripserer\n",
    "using CSV\n",
    "using TiffImages\n",
    "using Images\n",
    "using NPZ\n",
    "using Plots\n",
    "using Distances\n",
    "using Clustering\n",
    "using PersistenceDiagrams\n",
    "using Measures\n",
    "using Distributions\n",
    "using MultivariateStats\n",
    "using LinearAlgebra\n",
    "using Random\n",
    "using StatsBase\n",
    "using JLD2\n",
    "using FileIO\n",
    "using PersistenceDiagrams\n",
    "using DelimitedFiles\n",
    "using UMAP\n",
    "using DataFrames"
   ]
  },
  {
   "cell_type": "code",
   "execution_count": null,
   "metadata": {},
   "outputs": [],
   "source": [
    "function PI_to_PCA2(PI_dict; pratio = 0.99)\n",
    "    \n",
    "    # subtract the mean\n",
    "    n = length(PI_dict)\n",
    "    PI_array = hcat([vec(PI_dict[i]) for i =1:n]...)\n",
    "    PI_centered = PI_array .- mean(PI_array, dims = 2)\n",
    "    \n",
    "    # variance explained with 1 component\n",
    "    M = fit(PCA, PI_centered, maxoutdim = 1)\n",
    "    transformed = MultivariateStats.transform(M, PI_centered)\n",
    "    variance_1 = principalratio(M)\n",
    "    \n",
    "    # variance explained with 2 components\n",
    "    M = fit(PCA, PI_centered, maxoutdim = 2)\n",
    "    transformed = MultivariateStats.transform(M, PI_centered)\n",
    "    variance_2 = principalratio(M)\n",
    "\n",
    "    # variance explained with 4 components\n",
    "    M = fit(PCA, PI_centered, maxoutdim = 4)\n",
    "    transformed = MultivariateStats.transform(M, PI_centered)\n",
    "    variance_4 = principalratio(M)\n",
    "    \n",
    "    # perform PCA\n",
    "    M = fit(PCA, PI_centered, pratio = pratio)\n",
    "    transformed = MultivariateStats.transform(M, PI_centered)\n",
    "    \n",
    "    # get eigenvectors\n",
    "    n_eigenvectors = size(transformed, 1)\n",
    "    eigenvectors_array = projection(M)\n",
    "    eigenvectors = Dict(i => reshape(eigenvectors_array[:,i], 20,20) for i = 1:n_eigenvectors)\n",
    "    \n",
    "    return transformed, eigenvectors, variance_1, variance_2, variance_4\n",
    "end"
   ]
  },
  {
   "cell_type": "code",
   "execution_count": null,
   "metadata": {},
   "outputs": [],
   "source": [
    "# color palettes\n",
    "\n",
    "c1 = \"#fd5184\" # pink\n",
    "c2 = \"#ffb602\" # yellow\n",
    "c3 = \"#3ec0c9\" # blue / teal \n",
    "c4 = \"#926EAE\" # light purple\n",
    "c5 = \"#49a849\" # green\n",
    "c6 = \"#F28522\" # orange\n",
    "c7 = \"#265BF5\" # dark blue \n",
    "c8 = \"#AEF359\" # lime green\n",
    "c9 = \"#FF1DCE\" # purple \n",
    "\n",
    "\n",
    "# assign colors to cell types\n",
    "c_cancer = \"#2EC4B6\" # light blue\n",
    "c_leukocytes = \"#919090\" # grey \n",
    "c_ECM = \"#EF476F\" # pink\n",
    "gr()"
   ]
  },
  {
   "cell_type": "code",
   "execution_count": null,
   "metadata": {},
   "outputs": [],
   "source": [
    "function plot_ECM_PSRH(group_selected,\n",
    "    idx_files,\n",
    "    save_name;\n",
    "    ECM_dir = \"data/4000x4000_combined/subregion_ECM/\",\n",
    "    PSRH_dir = \"data/4000x4000_combined/PSRH/\",\n",
    "    grid_layout = nothing,\n",
    "    size = nothing,\n",
    "    right_margin = 4mm,\n",
    "    left_margin = -7mm,\n",
    "    bottom_margin = 0mm)\n",
    "    plot_array = []\n",
    "    n_group = length(group_selected)\n",
    "    n_ROI = length(group_selected[1])\n",
    "    for i=1:n_group\n",
    "        R = group_selected[i]\n",
    "        for idx in R\n",
    "            f = idx_files[idx]\n",
    "\n",
    "            p_ECM = Images.load(ECM_dir * f * \".tif\" )\n",
    "            p_PSRH = Images.load(PSRH_dir * f * \".tif\")\n",
    "            push!(plot_array, plot(p_ECM, ticks = [], frame = :box))\n",
    "            push!(plot_array, plot(p_PSRH, ticks = [], frame = :box, left_margin = left_margin, right_margin = right_margin, bottom_margin = bottom_margin))\n",
    "        end\n",
    "    end\n",
    "\n",
    "    if grid_layout == nothing\n",
    "        grid_layout = grid(n_group, n_ROI * 2)\n",
    "    end\n",
    "\n",
    "    if size == nothing\n",
    "        size = (250 * n_ROI * 2, 250 * n_group)\n",
    "    end\n",
    "    p = plot(plot_array..., layout = grid_layout, size = size)\n",
    "    savefig(save_name)\n",
    "end\n",
    "# get indices with large and small i-th coordinates\n",
    "function get_coordinate_min_max_examples(transformed, i; n =4)\n",
    "\n",
    "    sorted = sortperm(transformed[i,:])\n",
    "    min_indices = sorted[1:n]\n",
    "    max_indices = sorted[end-n+1:end]\n",
    "    return min_indices, max_indices\n",
    "end\n",
    "\n",
    "function print_cluster_sizes(hc_clusters)\n",
    "    clusters = unique(hc_clusters)\n",
    "    for i in clusters\n",
    "       println(\"size of cluster \" * string(i) * \": \", count(x -> x == i, hc_clusters)) \n",
    "    end\n",
    "end\n"
   ]
  },
  {
   "attachments": {},
   "cell_type": "markdown",
   "metadata": {
    "heading_collapsed": true
   },
   "source": [
    "# Create PH feature vectors"
   ]
  },
  {
   "cell_type": "code",
   "execution_count": null,
   "metadata": {
    "hidden": true
   },
   "outputs": [],
   "source": [
    "# load PD\n",
    "PD = load(\"data/4000x4000_combined/ECM_PD/PD.jld2\")\n",
    "PD0 = PD[\"PD0_ECM\"]\n",
    "PD1 = PD[\"PD1_ECM\"]\n",
    "\n",
    "# all subregion centers\n",
    "subregion_centers = load(\"data/4000x4000/subregion_centers.jld2\")[\"subregion_centers\"];\n",
    "subregion_centers_green = load(\"data/4000x4000_201222/subregion_centers_green.jld2\")[\"subregion_centers_green\"]\n",
    "subregion_centers_purple = load(\"data/4000x4000_201222/subregion_centers_purple.jld2\")[\"subregion_centers_purple\"]\n",
    "subregion_all = merge(subregion_centers, subregion_centers_green, subregion_centers_purple);"
   ]
  },
  {
   "cell_type": "code",
   "execution_count": null,
   "metadata": {
    "hidden": true
   },
   "outputs": [],
   "source": [
    "# recompute coarser PI\n",
    "PH0_dict = Dict(k => ECM_TDA.array_to_ripsererPD(v) for (k,v) in PD0 if v != nothing);\n",
    "PH1_dict = Dict(k => ECM_TDA.array_to_ripsererPD(v) for (k,v) in PD1 if v != nothing);\n",
    "\n",
    "PI0 = PersistenceImage([PH0_dict[k] for k in keys(PH0_dict)], sigma=50, size = 20)\n",
    "PI1 = PersistenceImage([PH1_dict[k] for k in keys(PH1_dict)], sigma=50, size = 20)\n",
    "\n",
    "\n",
    "ECM_PI0 = Dict()\n",
    "for i in keys(PH0_dict)\n",
    "    ECM_PI0[i] = PI0(PH0_dict[i])\n",
    "end\n",
    "\n",
    "ECM_PI1 = Dict()\n",
    "for i in keys(PH1_dict)\n",
    "    ECM_PI1[i] = PI1(PH1_dict[i])\n",
    "end\n"
   ]
  },
  {
   "cell_type": "code",
   "execution_count": null,
   "metadata": {},
   "outputs": [],
   "source": [
    "# save the min, max coordinates of PDs (useful for plotting)\n",
    "PI0_xmin = PI0.xs[1]\n",
    "PI0_xmax = PI0.xs[end]\n",
    "PI0_ymin = PI0.ys[1]\n",
    "PI0_ymax = PI0.ys[end]\n",
    "\n",
    "PI1_xmin = PI1.xs[1]\n",
    "PI1_xmax = PI1.xs[end]\n",
    "PI1_ymin = PI1.ys[1]\n",
    "PI1_ymax = PI1.ys[end]"
   ]
  },
  {
   "cell_type": "code",
   "execution_count": null,
   "metadata": {},
   "outputs": [],
   "source": [
    "# save(\"data/4000x4000_combined/ECM_PD/PI_ranges.jld2\",\n",
    "#     \"PI0_xmin\", PI0_xmin,\n",
    "#     \"PI0_xmax\", PI0_xmax,\n",
    "#     \"PI0_ymin\", PI0_ymin,\n",
    "#     \"PI0_ymax\", PI0_ymax,\n",
    "#     \"PI1_xmin\", PI1_xmin,\n",
    "#     \"PI1_xmax\", PI1_xmax,\n",
    "#     \"PI1_ymin\", PI1_ymin,\n",
    "#     \"PI1_ymax\", PI1_ymax)"
   ]
  },
  {
   "cell_type": "code",
   "execution_count": null,
   "metadata": {},
   "outputs": [],
   "source": [
    "idx_ROI = load(\"data/4000x4000_combined/ECM_PI01_idx_files.jld2\")[\"idx_files\"];"
   ]
  },
  {
   "cell_type": "code",
   "execution_count": null,
   "metadata": {},
   "outputs": [],
   "source": [
    "# plot example PI\n",
    "\n",
    "i = 252\n",
    "k = idx_ROI[i]\n",
    "p1 = plot_PD(PD1[k])\n",
    "p2 = heatmap(ECM_PI1[k])\n",
    "plot(p1, p2, size = (500, 200))"
   ]
  },
  {
   "attachments": {},
   "cell_type": "markdown",
   "metadata": {
    "heading_collapsed": true
   },
   "source": [
    "# ECM analysis - using combined dim-0 and dim-1 PH features\n",
    "* The code in this notebook shows the initial versions of UMAP & clustering.\n",
    "* see notebook \"6b_ECM_UMAP_clustering.ipynb\" for the final version."
   ]
  },
  {
   "cell_type": "code",
   "execution_count": null,
   "metadata": {
    "hidden": true
   },
   "outputs": [],
   "source": [
    "# combine features\n",
    "features = Dict()\n",
    "for f in keys(ECM_PI0)\n",
    "    # check that f is a key in all dictionaries\n",
    "    if f in keys(ECM_PI1)\n",
    "        combined = vcat(ECM_PI0[f], vec(ECM_PI1[f]))\n",
    "        features[f] = combined\n",
    "    end\n",
    "end"
   ]
  },
  {
   "attachments": {},
   "cell_type": "markdown",
   "metadata": {},
   "source": []
  },
  {
   "cell_type": "code",
   "execution_count": null,
   "metadata": {
    "hidden": true
   },
   "outputs": [],
   "source": [
    "# index and ROIs \n",
    "#ROIs = collect(keys(features))\n",
    "#idx_ROI = Dict(i => roi for (i, roi) in enumerate(ROIs));\n",
    "\n",
    "#save(\"data/4000x4000_combined/ECM_PI01_idx_files.jld2\", \"idx_files\", idx_ROI)\n",
    "idx_ROI = load(\"data/4000x4000_combined/ECM_PI01_idx_files.jld2\")[\"idx_files\"];"
   ]
  },
  {
   "cell_type": "code",
   "execution_count": null,
   "metadata": {
    "hidden": true
   },
   "outputs": [],
   "source": [
    "# prepare features array\n",
    "n = length(idx_ROI)\n",
    "features_array = hcat([features[idx_ROI[i]] for i = 1:n]...)\n",
    "println(\"features array shape: \", size(features_array))\n",
    "\n",
    "features_centered = features_array .- mean(features_array, dims = 2);"
   ]
  },
  {
   "cell_type": "code",
   "execution_count": null,
   "metadata": {},
   "outputs": [],
   "source": [
    "#save(\"analysis/ECM/combined/features.jld2\", \"features\", features_array)"
   ]
  },
  {
   "attachments": {},
   "cell_type": "markdown",
   "metadata": {
    "hidden": true
   },
   "source": [
    "### Umap"
   ]
  },
  {
   "cell_type": "code",
   "execution_count": null,
   "metadata": {
    "hidden": true
   },
   "outputs": [],
   "source": [
    "# compute UMAP & save\n",
    "#embedding = umap(features_centered, 2; n_neighbors = 5);\n",
    "#writedlm(\"analysis/ECM/combined/umap.csv\", embedding, \",\")\n",
    "\n",
    "# load\n",
    "embedding = Array(CSV.read(\"analysis/ECM/combined/umap.csv\", header = false))"
   ]
  },
  {
   "cell_type": "code",
   "execution_count": null,
   "metadata": {
    "hidden": true
   },
   "outputs": [],
   "source": [
    "gr()\n",
    "n = size(embedding, 2)\n",
    "p = scatter(embedding[1,:], embedding[2,:], \n",
    "        markercolor = \"slategrey\",\n",
    "        markersize = 5, \n",
    "        label = \"\", \n",
    "        xticks = [], \n",
    "        yticks = [], \n",
    "        framestyle = :box,  \n",
    "        xlabel = \"UMAP-1\",\n",
    "        ylabel = \"UMAP-2\",\n",
    "        guidefontsize = 15,\n",
    "        leftmargin = 5mm,\n",
    "        size = (450, 350),\n",
    "        hover = 1:n,\n",
    "        legend = :topright)"
   ]
  },
  {
   "attachments": {},
   "cell_type": "markdown",
   "metadata": {},
   "source": [
    "# Clustering - hierarchical "
   ]
  },
  {
   "cell_type": "code",
   "execution_count": null,
   "metadata": {},
   "outputs": [],
   "source": [
    "# prepare features array\n",
    "n = length(idx_ROI)\n",
    "features_array = hcat([features[idx_ROI[i]] for i = 1:n]...)\n",
    "println(\"features array shape: \", size(features_array))\n",
    "\n",
    "features_centered = features_array .- mean(features_array, dims = 2);\n",
    "dimred_embedding = umap(features_centered, 2; n_neighbors = 10, min_dist = 0.00001);\n",
    "println(\"size of reduced dimension embedding: \", size(dimred_embedding))\n",
    "\n",
    "d = Distances.pairwise(Euclidean(), dimred_embedding, dims = 2)\n",
    "println(\"distance matrix shape: \", size(d))\n",
    "\n",
    "hc = hclust(d);"
   ]
  },
  {
   "cell_type": "code",
   "execution_count": null,
   "metadata": {},
   "outputs": [],
   "source": [
    "plot(hc)"
   ]
  },
  {
   "cell_type": "code",
   "execution_count": null,
   "metadata": {},
   "outputs": [],
   "source": [
    "h_clusters = cutree(hc, k =9);\n",
    "print_cluster_sizes(h_clusters)"
   ]
  },
  {
   "cell_type": "code",
   "execution_count": null,
   "metadata": {},
   "outputs": [],
   "source": [
    "cluster_indices = Dict(i => findall(x -> x == i, h_clusters) for i in unique(h_clusters));"
   ]
  },
  {
   "cell_type": "code",
   "execution_count": null,
   "metadata": {},
   "outputs": [],
   "source": [
    "# reorder clusters\n",
    "c_reordered = Dict(1 => cluster_indices[1],\n",
    "                   2 => cluster_indices[7],\n",
    "                   3 => cluster_indices[2],\n",
    "                   4 => cluster_indices[5],\n",
    "                   5 => cluster_indices[8],\n",
    "                   6 => cluster_indices[6],\n",
    "                   7 => cluster_indices[3],\n",
    "                   8 => cluster_indices[4],\n",
    "                   9 => cluster_indices[9],)\n",
    "cluster_indices = c_reordered;"
   ]
  },
  {
   "cell_type": "code",
   "execution_count": null,
   "metadata": {},
   "outputs": [],
   "source": [
    "function plot_dim_red2(y, groups; \n",
    "    dim_red = \"UMAP\", \n",
    "    xaxis = \"UMAP-1\", \n",
    "    yaxis = \"UMAP-2\", \n",
    "    kwargs...)\n",
    "    \"\"\"\n",
    "    groups: Dictionary of form (i => [indices])\n",
    "    \"\"\"\n",
    "\n",
    "    ### specify colors ###\n",
    "    c = Dict(\n",
    "    0 => :grey,\n",
    "    1 => \"#fd5184\", # pink\n",
    "    2=> \"#F28522\", # orange\n",
    "    3 => \"#ffb602\", # yellow\n",
    "    4 => \"#AEF359\", # lime green\n",
    "    5 => \"#49a849\", # green\n",
    "    6 => \"#3ec0c9\", # blue / teal \n",
    "    7 => \"#265BF5\", # dark blue \n",
    "    8 => \"#8B008B\", # purple \n",
    "    9 => \"#215467\", # ocean\n",
    "    )\n",
    "\n",
    "    ### marker shapes ###\n",
    "    markershapes = Dict(1 => :rect,\n",
    "            2 => :utriangle,\n",
    "            3 => :star,\n",
    "            4 => :pentagon,\n",
    "            5 => :diamond,\n",
    "            6 => :dtriangle,\n",
    "            7 => :star8,\n",
    "            8 => :octagon,\n",
    "            9 => :star4,\n",
    "            10 => :pentagon\n",
    "            )\n",
    "    ### label\n",
    "    if dim_red == \"UMAP\"\n",
    "        label_prefix = \"U\"\n",
    "    else\n",
    "        label_prefix = \"R\"\n",
    "    end\n",
    "\n",
    "    # other figure parameters\n",
    "    markersize = 3\n",
    "    legendfontsize = 5\n",
    "    markerstrokewidth = 1\n",
    "\n",
    "    n = size(y, 2)\n",
    "    n_groups = length(groups)\n",
    "\n",
    "    annotated = vcat([val for (key, val) in groups]...)\n",
    "    nonannotated = [i for i = 1:size(y, 2) if i ∉ annotated]\n",
    "    p = scatter(y[1,nonannotated], y[2,nonannotated];\n",
    "                markercolor = \"lightgray\",\n",
    "                alpha = 0.6,\n",
    "                markersize = markersize, \n",
    "                markerstrokewidth = markerstrokewidth,\n",
    "                label = \"\", \n",
    "                xaxis = xaxis,\n",
    "                yaxis = yaxis,\n",
    "                ticks = [],\n",
    "                guidefontsize = 7,\n",
    "                framestyle = :box,\n",
    "                size = (200, 150),\n",
    "                background_color=:transparent, foreground_color=:black,\n",
    "                kwargs...\n",
    "    )\n",
    "\n",
    "\n",
    "    for k = 1:n_groups\n",
    "        v = groups[k]\n",
    "        scatter!(y[1,v], y[2,v], \n",
    "                markersize = markersize,\n",
    "                markerstrokewidth = markerstrokewidth,\n",
    "                markershape = markershapes[k],\n",
    "                c = c[k],\n",
    "                labels = label_prefix * string(k),\n",
    "                legendfontsize = legendfontsize\n",
    "                )     \n",
    "    end\n",
    "    return p\n",
    "\n",
    "end"
   ]
  },
  {
   "cell_type": "code",
   "execution_count": null,
   "metadata": {},
   "outputs": [],
   "source": [
    "p = plot_dim_red2(embedding, cluster_indices; \n",
    "                    dim_red = \"UMAP\", \n",
    "                    xaxis = \"UMAP-1\", \n",
    "                    yaxis = \"UMAP-2\",\n",
    "                    xlims = (-9, 20)\n",
    "                    )\n",
    "savefig(\"analysis/ECM/combined/hierarchical_clustering_UMAP.svg\")"
   ]
  },
  {
   "cell_type": "code",
   "execution_count": null,
   "metadata": {},
   "outputs": [],
   "source": [
    "# plot selected examples\n",
    "# select four random examples\n",
    "cluster_4 = Dict(i => sample(cluster_indices[i], 4, replace = :false) for i in keys(cluster_indices))\n",
    "\n",
    "#save(\"analysis/ECM/combined/hierarchical_cluster_examples.jld2\", Dict(string(k) => v for (k,v) in cluster_4))\n",
    "cluster_4 = load(\"analysis/ECM/combined/hierarchical_cluster_examples.jld2\")\n",
    "cluster_4 = Dict(parse(Int32, k) => v for (k,v) in cluster_4)\n",
    "\n",
    "figname = \"analysis/ECM/combined/hierarchical_clusters_representatives.png\"\n",
    "plot_ECM_PSRH(cluster_4, idx_ROI, figname)"
   ]
  },
  {
   "cell_type": "code",
   "execution_count": null,
   "metadata": {},
   "outputs": [],
   "source": [
    "#save(\"analysis/ECM/combined/hierarchical_clustering.jld2\", \"cluster_indices\", cluster_indices)"
   ]
  },
  {
   "cell_type": "code",
   "execution_count": null,
   "metadata": {},
   "outputs": [],
   "source": [
    "cluster_indices = load(\"analysis/ECM/combined/hierarchical_clustering.jld2\", \"cluster_indices\")"
   ]
  },
  {
   "cell_type": "code",
   "execution_count": null,
   "metadata": {},
   "outputs": [],
   "source": [
    "p = plot_dim_red(embedding, cluster_indices; \n",
    "                    dim_red = \"UMAP\", \n",
    "                    xaxis = \"UMAP-1\", \n",
    "                    yaxis = \"UMAP-2\",\n",
    "                    xlims = (-12, 20)\n",
    "                    )"
   ]
  },
  {
   "attachments": {},
   "cell_type": "markdown",
   "metadata": {},
   "source": [
    "# Plots for figures (using hierarchical clustering)"
   ]
  },
  {
   "cell_type": "code",
   "execution_count": null,
   "metadata": {},
   "outputs": [],
   "source": [
    "# load clusters\n",
    "cluster_indices = load(\"analysis/ECM/combined/hierarchical_clustering.jld2\")[\"cluster_indices\"]\n",
    "\n",
    "# plot clusters in 2 dimensions\n",
    "embedding = Array(CSV.read(\"analysis/ECM/combined/umap.csv\", header = false))\n",
    "p = plot_dim_red(embedding, cluster_indices; \n",
    "                    dim_red = \"UMAP\", \n",
    "                    xaxis = \"UMAP-1\", \n",
    "                    yaxis = \"UMAP-2\",\n",
    "                    xlims = (-10, 14)\n",
    "                    )\n",
    "#savefig(\"analysis/ECM/combined/umap_clusters.svg\")"
   ]
  },
  {
   "cell_type": "code",
   "execution_count": null,
   "metadata": {},
   "outputs": [],
   "source": [
    "# plot one representative sample in each cluster\n",
    "# load clusters\n",
    "cluster_4 = load(\"analysis/ECM/combined/hierarchical_cluster_examples.jld2\")\n",
    "cluster_4 = Dict(parse(Int32, k) => v for (k,v) in cluster_4)"
   ]
  },
  {
   "cell_type": "code",
   "execution_count": null,
   "metadata": {},
   "outputs": [],
   "source": [
    "cluster_rep = Dict(1 => [372],\n",
    "    2 => [121],\n",
    "    3 => [371],\n",
    "    4 => [304],\n",
    "    5 => [171],\n",
    "    6 => [276],\n",
    "    7 => [238],\n",
    "    8 => [288],\n",
    "    9 => [147]\n",
    ")"
   ]
  },
  {
   "cell_type": "code",
   "execution_count": null,
   "metadata": {},
   "outputs": [],
   "source": [
    "figname = \"analysis/ECM/combined/umap_clusters_representatives_figure_highres.png\"\n",
    "plot_ECM_PSRH(cluster_rep, idx_ROI, figname; grid_layout = grid(3,6), size = (6000, 4200), bottom_margin = 8mm, right_margin = 40mm)"
   ]
  },
  {
   "attachments": {},
   "cell_type": "markdown",
   "metadata": {},
   "source": [
    "# Compute distances between clusters "
   ]
  },
  {
   "cell_type": "code",
   "execution_count": null,
   "metadata": {},
   "outputs": [],
   "source": [
    "# load the cluster index (new clusters)\n",
    "df = DataFrame(CSV.read(\"analysis/ECM/combined/cluster_labels_python.csv\", header = false ))\n",
    "clusters_original = Dict(-1 => [], 0 => [], 1 => [], 2 => [], 3 => [], 4 => [], 5 =>[], 6 => [], 7 => [])\n",
    "for i = 1:size(df,1)\n",
    "    cluster = Int(df[i, :Column1])\n",
    "    push!(clusters_original[cluster], i)\n",
    "end\n",
    "\n",
    "# load features array\n",
    "features_array = load(\"analysis/ECM/combined/features.jld2\")[\"features\"];"
   ]
  },
  {
   "cell_type": "code",
   "execution_count": null,
   "metadata": {},
   "outputs": [],
   "source": [
    "n_clusters = length(clusters_original)\n",
    "cluster_distances = zeros((n_clusters, n_clusters))\n",
    "mean_features = Dict(i => mean(features_array[:, clusters_original[i]], dims = 2) for i = -1:n_clusters - 2)\n"
   ]
  },
  {
   "cell_type": "code",
   "execution_count": null,
   "metadata": {},
   "outputs": [],
   "source": [
    "for i =1:n_clusters\n",
    "    for j =1:n_clusters\n",
    "        cluster_distances[i,j] = cluster_distances[j,i] = Euclidean()(mean_features[i-2], mean_features[j-2])\n",
    "    end\n",
    "end"
   ]
  },
  {
   "cell_type": "code",
   "execution_count": null,
   "metadata": {},
   "outputs": [],
   "source": [
    "heatmap(cluster_distances)"
   ]
  },
  {
   "cell_type": "code",
   "execution_count": null,
   "metadata": {},
   "outputs": [],
   "source": [
    "cluster_distances"
   ]
  },
  {
   "cell_type": "code",
   "execution_count": null,
   "metadata": {},
   "outputs": [],
   "source": [
    "writedlm(\"analysis/ECM/combined/cluster_TDA_distances_from_mean_features.csv\",  cluster_distances, ',')"
   ]
  },
  {
   "cell_type": "code",
   "execution_count": null,
   "metadata": {},
   "outputs": [],
   "source": [
    "heatmap(cluster_distances, yflip = :true, ticks = [], aspect_ratio = :equal, logscale = true, size = (600, 500), axis = false)\n",
    "savefig(\"analysis/ECM/combined/UMAP_cluster_distances.svg\")"
   ]
  },
  {
   "attachments": {},
   "cell_type": "markdown",
   "metadata": {},
   "source": [
    "Compute distances by average distance between pairs belonging to those clsuters\n"
   ]
  },
  {
   "cell_type": "code",
   "execution_count": null,
   "metadata": {},
   "outputs": [],
   "source": [
    "for i =-1:n_clusters-2\n",
    "    for j =-1:n_clusters-2\n",
    "        all_distances = []\n",
    "        for ROI_i in clusters_original[i]\n",
    "            for ROI_j in clusters_original[j]\n",
    "                d = Euclidean()(features_array[:,ROI_i], features_array[:, ROI_j])\n",
    "                push!(all_distances, d)\n",
    "            end\n",
    "        end\n",
    "        cluster_distances[i+2,j+2] = cluster_distances[j+2,i+2] = mean(all_distances)\n",
    "    end\n",
    "end"
   ]
  },
  {
   "cell_type": "code",
   "execution_count": null,
   "metadata": {},
   "outputs": [],
   "source": [
    "heatmap(cluster_distances)"
   ]
  },
  {
   "cell_type": "code",
   "execution_count": null,
   "metadata": {},
   "outputs": [],
   "source": [
    "cluster_distances"
   ]
  },
  {
   "cell_type": "code",
   "execution_count": null,
   "metadata": {},
   "outputs": [],
   "source": [
    "heatmap(cluster_distances, yflip = :true, ticks = [], aspect_ratio = :equal, logscale = true, size = (600, 500), axis = false)\n",
    "savefig(\"analysis/ECM/combined/UMAP_cluster_distances_from_mean_of_pairwise_distances.svg\")"
   ]
  },
  {
   "cell_type": "code",
   "execution_count": null,
   "metadata": {},
   "outputs": [],
   "source": [
    "writedlm(\"analysis/ECM/combined/cluster_TDA_distances_from_pairwise_distances.csv\",  cluster_distances, ',')"
   ]
  },
  {
   "attachments": {},
   "cell_type": "markdown",
   "metadata": {},
   "source": [
    "# UMAP - dimension 0"
   ]
  },
  {
   "cell_type": "code",
   "execution_count": null,
   "metadata": {},
   "outputs": [],
   "source": [
    "# get ranges of x and y (useful for plotting )\n",
    "xmin = PI0.xs[1]\n",
    "xmax = PI0.xs[end]\n",
    "\n",
    "ymin = PI0.ys[1]\n",
    "ymax = PI0.ys[end];"
   ]
  },
  {
   "cell_type": "code",
   "execution_count": null,
   "metadata": {},
   "outputs": [],
   "source": [
    "# index and ROIs \n",
    "#ROIs = collect(keys(ECM_PI0))\n",
    "#idx_ROI = Dict(i => roi for (i, roi) in enumerate(ROIs));\n",
    "\n",
    "#save(\"analysis/ECM/dim_0/idx_ROI.jld2\", \"idx_ROI\", idx_ROI)\n",
    "idx_ROI = load(\"analysis/ECM/dim_0/idx_ROI.jld2\")[\"idx_ROI\"];"
   ]
  },
  {
   "cell_type": "code",
   "execution_count": null,
   "metadata": {},
   "outputs": [],
   "source": [
    "function create_features_array_dim0(PI_dict, idx_ROI)\n",
    "    n = length(idx_ROI)\n",
    "    features_array = hcat([PI_dict[idx_ROI[i]] for i = 1:n]...)\n",
    "    println(\"features array shape: \", size(features_array))\n",
    "\n",
    "    features_centered = features_array .- mean(features_array, dims = 2);\n",
    "    return features_array, features_centered\n",
    "end\n",
    "\n",
    "function create_features_array_dim1(PI_dict, idx_ROI)\n",
    "    n = length(idx_ROI)\n",
    "    features_array = hcat([vec(PI_dict[idx_ROI[i]]) for i = 1:n]...)\n",
    "    println(\"features array shape: \", size(features_array))\n",
    "\n",
    "    features_centered = features_array .- mean(features_array, dims = 2);\n",
    "    return features_array, features_centered\n",
    "end\n"
   ]
  },
  {
   "cell_type": "code",
   "execution_count": null,
   "metadata": {},
   "outputs": [],
   "source": [
    "features_array, features_centered = create_features_array_dim0(ECM_PI0, idx_ROI);"
   ]
  },
  {
   "cell_type": "code",
   "execution_count": null,
   "metadata": {},
   "outputs": [],
   "source": [
    "#save(\"analysis/ECM/dim_0/features.jld2\", \"features\", features_centered)"
   ]
  },
  {
   "cell_type": "code",
   "execution_count": null,
   "metadata": {},
   "outputs": [],
   "source": [
    "Random.seed!(10)\n",
    "embedding = umap(features_centered, 2; n_neighbors = 5)\n",
    "#writedlm(\"analysis/ECM/dim_0/umap.csv\", embedding, \",\")\n"
   ]
  },
  {
   "cell_type": "code",
   "execution_count": null,
   "metadata": {},
   "outputs": [],
   "source": [
    "# load\n",
    "embedding = Array(CSV.read(\"analysis/ECM/dim_0/umap.csv\", header = false))\n",
    "gr()\n",
    "n = size(embedding, 2)\n",
    "p = scatter(embedding[1,:], embedding[2,:], \n",
    "        markercolor = \"slategrey\",\n",
    "        markersize = 5, \n",
    "        label = \"\", \n",
    "        xticks = [], \n",
    "        yticks = [], \n",
    "        framestyle = :box,  \n",
    "        xlabel = \"UMAP-1\",\n",
    "        ylabel = \"UMAP-2\",\n",
    "        guidefontsize = 15,\n",
    "        leftmargin = 5mm,\n",
    "        size = (450, 350),\n",
    "        hover = 1:n,\n",
    "        legend = :topright)\n",
    "savefig(\"analysis/ECM/dim_0/umap.pdf\")\n",
    "plot(p)"
   ]
  },
  {
   "attachments": {},
   "cell_type": "markdown",
   "metadata": {},
   "source": [
    "# UMAP - dimension 1"
   ]
  },
  {
   "cell_type": "code",
   "execution_count": null,
   "metadata": {},
   "outputs": [],
   "source": [
    "# index and ROIs \n",
    "#ROIs = collect(keys(ECM_PI1))\n",
    "#idx_ROI = Dict(i => roi for (i, roi) in enumerate(ROIs));\n",
    "\n",
    "#save(\"analysis/ECM/dim_1/idx_ROI.jld2\", \"idx_ROI\", idx_ROI)\n",
    "idx_ROI = load(\"analysis/ECM/dim_1/idx_ROI.jld2\")[\"idx_ROI\"];"
   ]
  },
  {
   "cell_type": "code",
   "execution_count": null,
   "metadata": {},
   "outputs": [],
   "source": [
    "features_array, features_centered = create_features_array_dim1(ECM_PI1, idx_ROI);"
   ]
  },
  {
   "cell_type": "code",
   "execution_count": null,
   "metadata": {},
   "outputs": [],
   "source": [
    "save(\"analysis/ECM/dim_1/features.jld2\", \"features\", features_array)"
   ]
  },
  {
   "cell_type": "code",
   "execution_count": null,
   "metadata": {},
   "outputs": [],
   "source": [
    "Random.seed!(10)\n",
    "embedding = umap(features_centered, 2; n_neighbors = 5)\n",
    "#writedlm(\"analysis/ECM/dim_1/umap.csv\", embedding, \",\")\n"
   ]
  },
  {
   "cell_type": "code",
   "execution_count": null,
   "metadata": {},
   "outputs": [],
   "source": [
    "# load\n",
    "embedding = Array(CSV.read(\"analysis/ECM/dim_1/umap.csv\", header = false))\n",
    "gr()\n",
    "n = size(embedding, 2)\n",
    "p = scatter(embedding[1,:], embedding[2,:], \n",
    "        markercolor = \"slategrey\",\n",
    "        markersize = 5, \n",
    "        label = \"\", \n",
    "        xticks = [], \n",
    "        yticks = [], \n",
    "        framestyle = :box,  \n",
    "        xlabel = \"UMAP-1\",\n",
    "        ylabel = \"UMAP-2\",\n",
    "        guidefontsize = 15,\n",
    "        leftmargin = 5mm,\n",
    "        size = (450, 350),\n",
    "        hover = 1:n,\n",
    "        legend = :topright)\n",
    "savefig(\"analysis/ECM/dim_1/umap.pdf\")\n",
    "plot(p)"
   ]
  },
  {
   "attachments": {},
   "cell_type": "markdown",
   "metadata": {},
   "source": [
    "# PCA dimension 1"
   ]
  },
  {
   "cell_type": "code",
   "execution_count": null,
   "metadata": {},
   "outputs": [],
   "source": [
    "idx_ROI = load(\"analysis/ECM/dim_1/idx_ROI.jld2\")[\"idx_ROI\"];\n",
    "PI1_new = Dict(i => ECM_PI1[idx_ROI[i]] for i = 1:length(idx_ROI));"
   ]
  },
  {
   "cell_type": "code",
   "execution_count": null,
   "metadata": {},
   "outputs": [],
   "source": [
    "# compute PCA\n",
    "transformed, eigenvectors, variance_1, variance_2, _ = PI_to_PCA2(PI1_new; pratio = 0.99)\n",
    "\n",
    "#save(\"analysis/ECM/dim_1/PCA.jld2\",\n",
    "#    \"transformed\", transformed,\n",
    "#    \"eigenvectors\", eigenvectors,\n",
    "#    \"variance_1\", variance_1,\n",
    "#    \"variance_2\", variance_2)\n",
    "\n",
    "println(\"number of components: \", length(eigenvectors))\n",
    "println(\"variance explained by 1 eigenvectors: \", variance_1)\n",
    "println(\"variance explained by 2 eigenvectors: \", variance_2)\n",
    "println(\"variance difference between 2 and 1:\", variance_2 - variance_1)"
   ]
  },
  {
   "cell_type": "code",
   "execution_count": null,
   "metadata": {},
   "outputs": [],
   "source": [
    "df_pca1 = convert(DataFrame, Array(Transpose(transformed)))\n",
    "col_names = [\"pca_coord_\" * string(i) for i = 1:17];\n",
    "idx_ROI_list = [idx_ROI[i] for i = 1:396];\n",
    "rename!(df_pca1, col_names)\n",
    "df_pca1[:, :idx_ROI] = idx_ROI_list;\n",
    "#CSV.write(\"analysis/ECM/dim_1/PCA_coord.csv\", df_pca1)"
   ]
  },
  {
   "cell_type": "code",
   "execution_count": null,
   "metadata": {},
   "outputs": [],
   "source": [
    "# plot with regions\n",
    "gr()\n",
    "\n",
    "y = transformed\n",
    "markersize = 3\n",
    "legendfontsize = 5\n",
    "n = size(y, 2)\n",
    "p = scatter(y[1,:], y[2,:], \n",
    "        markercolor = \"lightgray\",\n",
    "        alpha = 0.6,\n",
    "        markersize = markersize, \n",
    "        markerstrokewidth = 3,\n",
    "        label = \"\", \n",
    "        xaxis = \"PC1 (88%)\",\n",
    "        yaxis = \"PC2 (7%)\",\n",
    "        #xtickfontsize = 15,\n",
    "        #ytickfontsize = 15,\n",
    "        #xrotation = 45,     \n",
    "        xticks = (0, 0),\n",
    "        yticks = (0,0),\n",
    "        guidefontsize = 7,\n",
    "        framestyle = :box,\n",
    "        size = (200, 150),\n",
    "        #leftmargin = 2mm,\n",
    "        legend = :bottomleft\n",
    "        #background_color=:transparent, foreground_color=:black,\n",
    "        )\n",
    "#scatter!(y[1,R1], y[2,R1], label = \"\", markersize = markersize, markershape = :rect, markercolor = c1, labels = \"R1\", legendfontsize = legendfontsize)\n",
    "#scatter!(y[1,R2], y[2,R2], label = \"\", markersize = markersize, markershape = :utriangle, markercolor = c2, labels = \"R2\")\n",
    "#scatter!(y[1,R3], y[2,R3], label = \"\", markersize = markersize, markershape = :star, markercolor = c3, labels = \"R3\")\n",
    "#scatter!(y[1,R4], y[2,R4], label = \"\", markersize = markersize, markershape = :diamond, markercolor = c4, labels = \"R4\")\n",
    "#savefig(\"analysis/ECM/dim_1/pca.pdf\")\n",
    "plot(p)"
   ]
  },
  {
   "cell_type": "code",
   "execution_count": null,
   "metadata": {},
   "outputs": [],
   "source": [
    "# plot with regions\n",
    "#R1 =  [290, 152, 54]\n",
    "#R2 = [117, 279, 237]\n",
    "#R3 = [176, 139, 159]\n",
    "#R4 = [162, 111,105];\n",
    "\n",
    "R1 =  [290]\n",
    "R2 = [117]\n",
    "R3 = [176]\n",
    "R4 = [162];\n",
    "\n",
    "gr()\n",
    "\n",
    "markersize = 3\n",
    "legendfontsize = 5\n",
    "n = size(y, 2)\n",
    "annotated = vcat(R1, R2, R3, R4)\n",
    "nonannotated = [i for i = 1:size(y, 2) if i ∉ annotated]\n",
    "p = scatter(y[1,nonannotated], y[2,nonannotated], \n",
    "        markercolor = \"lightgray\",\n",
    "        alpha = 0.6,\n",
    "        markersize = markersize, \n",
    "        markerstrokewidth = 3,\n",
    "        label = \"\", \n",
    "        xaxis = \"PC1 (83%)\",\n",
    "        yaxis = \"PC2 (8%)\",\n",
    "        #xtickfontsize = 15,\n",
    "        #ytickfontsize = 15,\n",
    "        #xrotation = 45,     \n",
    "        xticks = (0, 0),\n",
    "        yticks = (0,0),\n",
    "        guidefontsize = 7,\n",
    "        framestyle = :box,\n",
    "        size = (200, 150),\n",
    "        #leftmargin = 2mm,\n",
    "        legend = :topleft\n",
    "        #background_color=:transparent, foreground_color=:black,\n",
    "        )\n",
    "scatter!(y[1,R1], y[2,R1], label = \"\", markersize = markersize, markershape = :rect, markercolor = c1, labels = \"R1\", legendfontsize = legendfontsize)\n",
    "scatter!(y[1,R2], y[2,R2], label = \"\", markersize = markersize, markershape = :utriangle, markercolor = c2, labels = \"R2\")\n",
    "scatter!(y[1,R3], y[2,R3], label = \"\", markersize = markersize, markershape = :star, markercolor = c3, labels = \"R3\")\n",
    "scatter!(y[1,R4], y[2,R4], label = \"\", markersize = markersize, markershape = :diamond, markercolor = c4, labels = \"R4\")\n",
    "savefig(\"analysis/ECM/dim_1/pca.pdf\")\n",
    "plot(p)"
   ]
  },
  {
   "cell_type": "code",
   "execution_count": null,
   "metadata": {},
   "outputs": [],
   "source": [
    "# get min and max pixels of the first four eigenvectors\n",
    "eigenvector_min = minimum(minimum.(eigenvectors[i] for i = 1:4))\n",
    "eigenvector_max = maximum(maximum.(eigenvectors[i] for i = 1:4))\n",
    "\n",
    "println(\"min pixel: \", eigenvector_min)\n",
    "println(\"max pixel: \", eigenvector_max)"
   ]
  },
  {
   "cell_type": "code",
   "execution_count": null,
   "metadata": {},
   "outputs": [],
   "source": [
    "function plot_PI2(PI, x_min, x_max, y_min, y_max; \n",
    "    kwargs...) \n",
    "\n",
    "    n = size(PI,1)\n",
    "    xinterval = (x_max - x_min)/4\n",
    "    yinterval = (y_max - y_min)/4\n",
    "    p = heatmap(PI, \n",
    "    label = \"\",\n",
    "    title = \"\",\n",
    "    framestyle = :box,\n",
    "    xticks = (5:5:20, Int32.(round.(x_min+xinterval:xinterval:x_max))),\n",
    "    yticks = (5:5:20, Int32.(round.(y_min+yinterval:yinterval:y_max))),\n",
    "    ;kwargs...)\n",
    "\n",
    "    return p\n",
    "end"
   ]
  },
  {
   "cell_type": "code",
   "execution_count": null,
   "metadata": {},
   "outputs": [],
   "source": [
    "# plot the first four eigenvectors\n",
    "plot_scale = 20 # only show plot_scale% of persistence image\n",
    "ps = [plot_PI2(eigenvectors[i], PI1_xmin, PI1_xmax, PI1_ymin, PI1_ymax, \n",
    "            clims = (eigenvector_min, eigenvector_max), \n",
    "            xlabel = \"birth\",\n",
    "            ylabel = \"persistence\",\n",
    "            show_axis = false,\n",
    "            left_margin = 5mm,\n",
    "            bottom_margin = 5mm,\n",
    "            xrotation = 45,\n",
    "            #framestyle = :box,\n",
    "            #title = \"eigenvector \" * string(i), \n",
    "            legend = :false # no colorbar \n",
    "            ) for i =1:2]\n",
    "\n",
    "l = @layout[grid(1,2) a{0.05w}] # Stack a layout that rightmost one is for color bar\n",
    "Plots.GridLayout(1, 2)\n",
    "\n",
    "n = 100 # length of colorbar (as a vector)\n",
    "cbar_interval = 0.2\n",
    "cbar_ticks = vcat(reverse(collect(0:cbar_interval: -eigenvector_min))[1:end-1] .* -1, collect(0:cbar_interval:eigenvector_max))\n",
    "cbar_loc = [cbar_tickvals_to_loc(eigenvector_min, eigenvector_max, n, val) for val in cbar_ticks]\n",
    "\n",
    "p = plot(ps..., \n",
    "         heatmap(collect(range(eigenvector_min, eigenvector_max, length = n)) .* ones(n,1), \n",
    "                legend=:none, \n",
    "                xticks=:none,\n",
    "                yticks=(cbar_loc, cbar_ticks)),\n",
    "         layout=l,\n",
    "         topmargin = 3mm,\n",
    "         size = (500, 200))\n",
    "#savefig(\"analysis/ECM/dim_1/eigenvectors.svg\")\n",
    "plot(p)"
   ]
  },
  {
   "cell_type": "code",
   "execution_count": null,
   "metadata": {},
   "outputs": [],
   "source": [
    "# load PD_max\n",
    "PD_max = load(\"data/4000x4000_combined/ECM_PD/PD_max.jld2\")\n",
    "max0 = PD_max[\"max0\"]\n",
    "max1 = PD_max[\"max1\"];"
   ]
  },
  {
   "cell_type": "code",
   "execution_count": null,
   "metadata": {},
   "outputs": [],
   "source": [
    "regions = Dict(\"R1\" => R1[1], \"R2\"=> R2[1], \"R3\"=> R3[1], \"R4\"=> R4[1])\n",
    "\n",
    "plot_array = []\n",
    "\n",
    "# get maximum PI pixel value for the selected examples\n",
    "PI_pixel_max = maximum([maximum(ECM_PI1[idx_ROI[i]]) for i in values(regions)])\n",
    "for j = 1: 4\n",
    "    R_string = \"R\" * string(j)\n",
    "    R = regions[R_string]\n",
    "    for i in R\n",
    "        f = idx_ROI[i]\n",
    "\n",
    "        # plot ECM\n",
    "        p_ECM = Images.load(\"data/4000x4000_combined/subregion_ECM/\" * f * \".tif\" )\n",
    "        plot(p_ECM, ticks = [], frame = :box, size = (200,200))\n",
    "        savefig(\"analysis/ECM/dim_1/PCA_coordinates_\" * R_string * \"_\" * string(i) * \"_ECM.png\")\n",
    "        push!(plot_array, plot(p_ECM, ticks = [], frame = :box))\n",
    "\n",
    "        p_PD = plot_PD(PD1[f], pd_min = 0, pd_max = 1600, lw = 1, \n",
    "            tickfontsize = 9,\n",
    "            labelfontsize = 12,\n",
    "            markersize = 3,\n",
    "            ticks = [0, 400, 800, 1200, 1600],\n",
    "            xlabel = \"birth\", ylabel = \"death\", \n",
    "            size = (200,200), \n",
    "            xrotation = 45,\n",
    "            leftmargin = -3mm, \n",
    "            bottommargin = -5mm\n",
    "            )\n",
    "        savefig(\"analysis/ECM/dim_1/PCA_coordinates_\" * R_string * \"_\" * string(i) * \"_PD.svg\")\n",
    "        push!(plot_array, p_PD)\n",
    "\n",
    "        p_PI = plot_PI2(ECM_PI1[f], PI1_xmin, PI1_xmax, PI1_ymin, PI1_ymax; \n",
    "                xlabel = \"birth\",\n",
    "                ylabel = \"persistence\",\n",
    "                xrotation = 45,\n",
    "                show_axis = false,\n",
    "                left_margin = -1mm,\n",
    "                bottom_margin = 0mm,\n",
    "                legend = :none,\n",
    "            tickfontsize = 10,\n",
    "            size = (200,200))\n",
    "        savefig(\"analysis/ECM/dim_1/PCA_coordinates_\" * R_string * \"_\" * string(i) * \"_PI.svg\")\n",
    "        push!(plot_array, p_PI)\n",
    "\n",
    "        p_coords = plot_scores(transformed[1:4,i]; xtickfontsize = 8, ytickfontsize = 8, coord_label = \"PC\")\n",
    "        p_coords = plot(p_coords, size = (200, 200))\n",
    "        savefig(\"analysis/ECM/dim_1/PCA_coordinates_\" * R_string * \"_\" * string(i) * \"_coords.svg\")\n",
    "        push!(plot_array, p_coords)\n",
    "    end\n",
    "end\n",
    "p = plot(plot_array..., layout = grid(4,4, widths=[0.21 ,0.21, 0.37, 0.21]), size = (1000, 900) )\n",
    "savefig(\"analysis/ECM/dim_1/PCA_coordinates.png\")"
   ]
  },
  {
   "cell_type": "code",
   "execution_count": null,
   "metadata": {},
   "outputs": [],
   "source": []
  }
 ],
 "metadata": {
  "@webio": {
   "lastCommId": "1d362e12bd91431b96e35b9c1bbfb68c",
   "lastKernelId": "ba33b6ca-70f8-4c7e-bb1a-b278f8749db4"
  },
  "kernelspec": {
   "display_name": "Julia 1.6.3",
   "language": "julia",
   "name": "julia-1.6"
  },
  "language_info": {
   "file_extension": ".jl",
   "mimetype": "application/julia",
   "name": "julia",
   "version": "1.6.3"
  }
 },
 "nbformat": 4,
 "nbformat_minor": 4
}
