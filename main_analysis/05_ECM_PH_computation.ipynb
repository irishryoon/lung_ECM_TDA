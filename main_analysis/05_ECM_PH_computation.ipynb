{
 "cells": [
  {
   "cell_type": "code",
   "execution_count": 1,
   "metadata": {},
   "outputs": [
    {
     "data": {
      "application/vnd.webio.node+json": {
       "children": [],
       "instanceArgs": {
        "namespace": "html",
        "tag": "div"
       },
       "nodeType": "DOM",
       "props": {},
       "type": "node"
      },
      "text/html": [
       "<div style=\"padding: 1em; background-color: #f8d6da; border: 1px solid #f5c6cb; font-weight: bold;\">\n",
       "<p>The WebIO Jupyter extension was not detected. See the\n",
       "<a href=\"https://juliagizmos.github.io/WebIO.jl/latest/providers/ijulia/\" target=\"_blank\">\n",
       "    WebIO Jupyter integration documentation\n",
       "</a>\n",
       "for more information.\n",
       "</div>\n"
      ],
      "text/plain": [
       "WebIO._IJuliaInit()"
      ]
     },
     "metadata": {
      "application/vnd.webio.node+json": {
       "kernelId": "c19225e6-312c-4024-bfd0-e277c0a1b6a4"
      }
     },
     "output_type": "display_data"
    },
    {
     "name": "stderr",
     "output_type": "stream",
     "text": [
      "WARNING: could not import HDF5.Group into _hdf5_implementation\n",
      "WARNING: could not import HDF5.Dataset into _hdf5_implementation\n",
      "┌ Warning: Error requiring `HDF5` from `Plots`\n",
      "│   exception = (LoadError(\"/Users/irisyoon/.julia/packages/Plots/yJrrq/src/backends/hdf5.jl\", 36, UndefVarError(:Group)), Union{Ptr{Nothing}, Base.InterpreterIP}[Ptr{Nothing} @0x000000010e83c2cf, Ptr{Nothing} @0x000000010e8d1206, Ptr{Nothing} @0x000000010e8d223b, Ptr{Nothing} @0x000000010e8d0b94, Ptr{Nothing} @0x000000010e8d0f0c, Base.InterpreterIP in top-level CodeInfo for Plots._hdf5_implementation at statement 4, Ptr{Nothing} @0x000000010e8eb844, Ptr{Nothing} @0x000000010e8eaf65, Ptr{Nothing} @0x000000010e8eb604, Ptr{Nothing} @0x000000010e8eb604, Ptr{Nothing} @0x000000010e8ec134, Ptr{Nothing} @0x00000001231a64e7, Ptr{Nothing} @0x000000010e8bafbf, Ptr{Nothing} @0x00000001231f7312, Ptr{Nothing} @0x0000000122e2da65, Ptr{Nothing} @0x000000010e8bafbf, Ptr{Nothing} @0x000000010e8c7839, Ptr{Nothing} @0x000000010fe164ae, Ptr{Nothing} @0x000000010e8bafbf, Ptr{Nothing} @0x000000010e8d225f, Ptr{Nothing} @0x000000010e8d0b94, Ptr{Nothing} @0x000000010e8d0f0c, Base.InterpreterIP in top-level CodeInfo for Plots at statement 10, Ptr{Nothing} @0x000000010e8eb844, Ptr{Nothing} @0x000000010e8ec134, Ptr{Nothing} @0x000000010fe163d6, Ptr{Nothing} @0x000000010fe1640d, Ptr{Nothing} @0x000000010e8bafbf, Ptr{Nothing} @0x000000010e8d225f, Ptr{Nothing} @0x000000010e8d0913, Ptr{Nothing} @0x000000010e8d0dbe, Ptr{Nothing} @0x000000010e8d062c, Base.InterpreterIP in MethodInstance for err(::Any, ::Module, ::String, ::String, ::Any) at statement 8, Ptr{Nothing} @0x000000010fe16305, Ptr{Nothing} @0x000000010fe1632d, Ptr{Nothing} @0x000000010e8bafbf, Ptr{Nothing} @0x000000010e8d225f, Ptr{Nothing} @0x000000010e8d0913, Ptr{Nothing} @0x000000010e8d0dbe, Ptr{Nothing} @0x000000010e8d062c, Base.InterpreterIP in MethodInstance for withpath(::Any, ::String) at statement 10, Ptr{Nothing} @0x000000010fe16182, Ptr{Nothing} @0x000000010fe1624d, Ptr{Nothing} @0x000000010e8bafbf, Ptr{Nothing} @0x000000010e8d225f, Ptr{Nothing} @0x000000010e8d0b94, Ptr{Nothing} @0x000000010e8d062c, Base.InterpreterIP in MethodInstance for listenpkg(::Any, ::Base.PkgId) at statement 3, Ptr{Nothing} @0x000000010fe08ebb, Ptr{Nothing} @0x000000010fe0a04d, Ptr{Nothing} @0x000000010e8bafbf, Ptr{Nothing} @0x000000010e8e9ae3, Ptr{Nothing} @0x000000010e8db697, Ptr{Nothing} @0x000000010fdc2c9b, Ptr{Nothing} @0x000000010fdc4012, Ptr{Nothing} @0x000000010fdc675e, Ptr{Nothing} @0x000000010fdc8eaa, Ptr{Nothing} @0x000000010fde7a13, Ptr{Nothing} @0x000000010e8bafbf, Ptr{Nothing} @0x000000010e8ebf0c, Ptr{Nothing} @0x000000010e8eacd3, Ptr{Nothing} @0x000000010e8eb604, Ptr{Nothing} @0x000000010e8ec134, Ptr{Nothing} @0x000000010fd77a7c, Ptr{Nothing} @0x000000010fd77ed9, Ptr{Nothing} @0x000000010e8bafbf, Ptr{Nothing} @0x000000010fd740ac, Ptr{Nothing} @0x000000010e8bafbf, Ptr{Nothing} @0x000000010e8c7839, Ptr{Nothing} @0x000000010fd6d452, Ptr{Nothing} @0x000000010fd6d7c4, Ptr{Nothing} @0x000000010fd6d7dc, Ptr{Nothing} @0x000000010e8bafbf, Ptr{Nothing} @0x000000010e8d659d])\n",
      "└ @ Requires /Users/irisyoon/.julia/packages/Requires/Z8rfN/src/require.jl:51\n"
     ]
    }
   ],
   "source": [
    "using Eirene\n",
    "using Ripserer\n",
    "using CSV\n",
    "using TiffImages\n",
    "using Images\n",
    "using NPZ\n",
    "using Plots\n",
    "using PersistenceDiagrams\n",
    "using Measures\n",
    "using Distributions\n",
    "using MultivariateStats\n",
    "using LinearAlgebra\n",
    "using Random\n",
    "using StatsBase\n",
    "using JLD2\n",
    "using FileIO\n",
    "using PersistenceDiagrams\n",
    "using DelimitedFiles\n",
    "using UMAP\n"
   ]
  },
  {
   "cell_type": "code",
   "execution_count": 2,
   "metadata": {},
   "outputs": [
    {
     "name": "stderr",
     "output_type": "stream",
     "text": [
      "┌ Info: For saving to png with the Plotly backend PlotlyBase has to be installed.\n",
      "└ @ Plots /Users/irisyoon/.julia/packages/Plots/yJrrq/src/backends.jl:317\n"
     ]
    }
   ],
   "source": [
    "include(\"src/ECM_TDA.jl\")\n",
    "using .ECM_TDA"
   ]
  },
  {
   "cell_type": "code",
   "execution_count": 3,
   "metadata": {},
   "outputs": [],
   "source": [
    "# color palettes\n",
    "c1 = \"#E64B35FF\" # red\n",
    "c2 = \"#4DBBD5FF\" # blue\n",
    "c3 = \"#00A087FF\" # green\n",
    "c4 = \"#3C5488FF\" # dark blue\n",
    "c5 = \"#F39B7FFF\" # salmon\n",
    "c6 = \"#8491B4FF\"\n",
    "\n",
    "# assign colors to cell types\n",
    "c_cancer = \"#2EC4B6\" # light blue\n",
    "c_leukocytes = \"#CDCDCD\" # grey \n",
    "c_fibroblast= \"#7209B7\" # purple\n",
    "c_ECM = \"#EF476F\" # pink\n",
    "#FFC300 : yellow\n",
    "\n",
    "celltype_colors = Dict(\"cancer\" => c_cancer, \n",
    "                        \"leukocytes\"=> c_leukocytes, \n",
    "                        \"fibroblast\"=> c_fibroblast);"
   ]
  },
  {
   "cell_type": "code",
   "execution_count": 4,
   "metadata": {},
   "outputs": [
    {
     "data": {
      "text/plain": [
       "Plots.GRBackend()"
      ]
     },
     "execution_count": 4,
     "metadata": {},
     "output_type": "execute_result"
    }
   ],
   "source": [
    "gr()"
   ]
  },
  {
   "cell_type": "markdown",
   "metadata": {},
   "source": [
    "# 1. Plot example "
   ]
  },
  {
   "cell_type": "code",
   "execution_count": 7,
   "metadata": {},
   "outputs": [],
   "source": [
    "LTX = \"001\"\n",
    "Da = \"232\"\n",
    "idx = 1\n",
    "\n",
    "# load ECM image\n",
    "image_path = \"data/4000x4000/subregion_ECM/LTX\" * LTX * \"_Da\" * Da * \"_idx\" * string(idx) * \".tif\"\n",
    "img = Array(Images.load(image_path));\n",
    "\n",
    "# load sampled ECM\n",
    "ecm_points_path = \"data/4000x4000_combined/ECM_sampled/points_CSV/LTX\" * LTX * \"_Da\" * Da * \"_idx\" * string(idx) * \".csv\" \n",
    "ECM_points = CSV.read(ecm_points_path)\n",
    "\n",
    "# load cells\n",
    "cell_path = \"data/4000x4000_combined/subregion_cells/LTX\" * LTX * \"_Da\" * Da * \"_idx\" * string(idx) * \".csv\"\n",
    "cells = CSV.read(cell_path);"
   ]
  },
  {
   "cell_type": "code",
   "execution_count": null,
   "metadata": {},
   "outputs": [],
   "source": [
    "p1 = plot(Gray.(img), frame = :box, ticks = [], size = (300, 300), background_color=:transparent, foreground_color=:black)\n",
    "p2 = scatter(ECM_points[:,1], ECM_points[:,2], yflip = :true, c = c_ECM, label = \"\", frame = :box, ticks = [], markersize = 2, background_color=:transparent, foreground_color=:black)\n",
    "plot(p1, p2, size = (600, 300))"
   ]
  },
  {
   "cell_type": "code",
   "execution_count": null,
   "metadata": {},
   "outputs": [],
   "source": [
    "cell_types =[\"cancer\", \"leukocytes\"]\n",
    "plot_array = Any[]\n",
    "for ct in cell_types\n",
    "    # get locations of cell type\n",
    "    cell_ct = cells[cells.class .== ct, :]\n",
    "    c = celltype_colors[ct]\n",
    "    p_ct = scatter(cell_ct.x, cell_ct.y,\n",
    "                 markersize = 2,\n",
    "                 yflip = true,\n",
    "                 label = ct,\n",
    "                 markerstrokewidth = 0.2,\n",
    "                 frame = :box,\n",
    "                 ticks = [],\n",
    "                 c = c) \n",
    "    push!(plot_array, p_ct)\n",
    "end\n",
    "\n",
    "plot(plot_array..., layout = grid(1,2), size = (800, 400))"
   ]
  },
  {
   "cell_type": "markdown",
   "metadata": {},
   "source": [
    "# 2. Compute PH for ECM"
   ]
  },
  {
   "cell_type": "code",
   "execution_count": 6,
   "metadata": {},
   "outputs": [],
   "source": [
    "dir = \"data/4000x4000_combined/ECM_sampled/points_CSV/\"\n",
    "csv_files = [item for item in walkdir(dir)][1][3:end][1];\n",
    "\n",
    "PD0_ECM = Dict()\n",
    "PD1_ECM = Dict()\n",
    "\n",
    "for file in csv_files\n",
    "    filename = split(file, \".\")[1]\n",
    "\n",
    "    df = CSV.read(dir * file)\n",
    "    if size(df,1) != 0\n",
    "        PD0, PD1 = run_PH(df)\n",
    "    \n",
    "        # save\n",
    "        writedlm(\"data/4000x4000_combined/ECM_PD/PD0/\" * filename * \".csv\", PD0, \",\")\n",
    "        writedlm(\"data/4000x4000_combined/ECM_PD/PD1/\" * filename * \".csv\", PD1, \",\")\n",
    "        \n",
    "        # combine to dictionary\n",
    "        PD0_ECM[filename] = PD0\n",
    "        PD1_ECM[filename] = PD1\n",
    "    else\n",
    "        PD0 = nothing\n",
    "        PD1 = nothing\n",
    "        \n",
    "        writedlm(\"data/4000x4000_combined/ECM_PD/PD0/\" * filename * \".csv\", zeros(), \",\")\n",
    "        writedlm(\"data/4000x4000_combined/ECM_PD/PD1/\" * filename * \".csv\", zeros(), \",\")\n",
    "        # combine to dictionary\n",
    "        PD0_ECM[filename] = PD0\n",
    "        PD1_ECM[filename] = PD1\n",
    "    end\n",
    "\n",
    "end"
   ]
  },
  {
   "cell_type": "code",
   "execution_count": 7,
   "metadata": {},
   "outputs": [],
   "source": [
    "save(\"data/4000x4000_combined/ECM_PD/PD.jld2\", \n",
    "    \"PD0_ECM\", PD0_ECM,\n",
    "    \"PD1_ECM\", PD1_ECM)"
   ]
  },
  {
   "cell_type": "markdown",
   "metadata": {},
   "source": [
    "# 3. Compute persistence image"
   ]
  },
  {
   "cell_type": "code",
   "execution_count": 8,
   "metadata": {},
   "outputs": [],
   "source": [
    "# convert array to Ripserer PD\n",
    "PH0 = Dict(k => ECM_TDA.array_to_ripsererPD(v) for (k,v) in PD0_ECM if v != nothing)\n",
    "PH1 = Dict(k => ECM_TDA.array_to_ripsererPD(v) for (k,v) in PD1_ECM if v != nothing)\n",
    "\n",
    "# compute PI\n",
    "PI0 = ECM_TDA.compute_PI(PH0);\n",
    "PI1 = ECM_TDA.compute_PI(PH1);"
   ]
  },
  {
   "cell_type": "code",
   "execution_count": 23,
   "metadata": {},
   "outputs": [
    {
     "data": {
      "text/plain": [
       "2824.7095425901757"
      ]
     },
     "execution_count": 23,
     "metadata": {},
     "output_type": "execute_result"
    }
   ],
   "source": [
    "# get maximum values (for plotting purposes)\n",
    "PD0_ECM = Dict(k =>v for (k,v) in PD0_ECM if v != nothing)\n",
    "PD1_ECM = Dict(k => v for (k,v) in PD1_ECM if v != nothing)\n",
    "max0 = get_PD0_max(PD0_ECM)\n",
    "max1 = get_PD1_max(PD1_ECM)"
   ]
  },
  {
   "cell_type": "code",
   "execution_count": 24,
   "metadata": {},
   "outputs": [],
   "source": [
    "# save the max values\n",
    "save(\"data/4000x4000_combined/ECM_PD/PD_max.jld2\", \n",
    "    \"max0\", max0,\n",
    "    \"max1\", max1)"
   ]
  },
  {
   "cell_type": "code",
   "execution_count": 9,
   "metadata": {},
   "outputs": [],
   "source": [
    "# save PI\n",
    "save(\"data/4000x4000_combined/ECM_PD/PI.jld2\", \n",
    "    \"PI0\", PI0,\n",
    "    \"PI1\", PI1)"
   ]
  },
  {
   "cell_type": "markdown",
   "metadata": {},
   "source": [
    "save figures of persistence diagrams and persistence images"
   ]
  },
  {
   "cell_type": "code",
   "execution_count": 33,
   "metadata": {},
   "outputs": [],
   "source": [
    "### save persistence diagrams\n",
    "\"\"\"\n",
    "# dim 0\n",
    "for k in keys(PD0_ECM)\n",
    "    p = histogram(PD0_ECM[k][:,2], xlims = (0, max0), label = \"\")\n",
    "    filename = split(idx_file[k], \".\")[1]\n",
    "    savefig(output_dir * \"/PD0_figures/\" * filename * \".png\")\n",
    "end\n",
    "\n",
    "# dim 1\n",
    "for k in keys(PD1_ECM)\n",
    "    p = ECM_TDA.plot_PD(PD1_ECM[k], pd_min = 0, pd_max = max1, frame = :box)\n",
    "    filename = split(idx_file[k], \".\")[1]\n",
    "    savefig(output_dir * \"/PD1_figures/\" * filename * \".png\")\n",
    "end\n",
    "\n",
    "### save persistence images\n",
    "# dim 0\n",
    "for k in keys(PI0)\n",
    "    filename = split(idx_file[k], \".\")[1]\n",
    "    p = heatmap(PI0[k])\n",
    "    savefig(output_dir * \"/PI0_figures/\" * filename * \".png\")\n",
    "end\n",
    "\n",
    "# dim 1\n",
    "for k in keys(PI1)\n",
    "    filename = split(idx_file[k], \".\")[1]\n",
    "    p = heatmap(PI1[k])\n",
    "    savefig(output_dir * \"/PI1_figures/\" * filename * \".png\")\n",
    "end\n",
    "\"\"\""
   ]
  }
 ],
 "metadata": {
  "@webio": {
   "lastCommId": "c78b3a09112143ba87ca0331689b7693",
   "lastKernelId": "c19225e6-312c-4024-bfd0-e277c0a1b6a4"
  },
  "kernelspec": {
   "display_name": "Julia 1.6.3",
   "language": "julia",
   "name": "julia-1.6"
  },
  "language_info": {
   "file_extension": ".jl",
   "mimetype": "application/julia",
   "name": "julia",
   "version": "1.6.3"
  }
 },
 "nbformat": 4,
 "nbformat_minor": 4
}
